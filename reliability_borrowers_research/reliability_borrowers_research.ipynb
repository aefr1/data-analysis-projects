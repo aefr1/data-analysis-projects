{
 "cells": [
  {
   "attachments": {},
   "cell_type": "markdown",
   "metadata": {},
   "source": [
    "# Исследование надёжности заёмщиков\n",
    "\n",
    "# Описание проекта\n",
    "\n",
    "Заказчик — кредитный отдел банка. Нужно разобраться, влияет ли семейное положение и количество детей клиента, а также, уровень дохода и цели кредита на факт погашения задолженности в срок. Входные данные от банка — статистика о платёжеспособности клиентов.\n",
    "\n",
    "Результаты исследования будут учтены при построении модели **кредитного скоринга** — специальной системы, которая оценивает способность потенциального заёмщика вернуть кредит банку.\n",
    "\n",
    "# Цель исследования\n",
    "\n",
    "*Получить ответы на поставленные вопросы:*\n",
    "1. Есть ли зависимость между наличием детей и возвратом кредита в срок?\n",
    "2. Есть ли зависимость между семейным положением и возвратом кредита в срок?\n",
    "3. Есть ли зависимость между уровнем дохода и возвратом кредита в срок?\n",
    "4. Как разные цели кредита влияют на его возврат в срок?\n",
    "\n",
    "\n",
    "# Описание данных:\n",
    "\n",
    "*Датасет data.csv*\n",
    "\n",
    "**children** — количество детей в семье  \n",
    "**days_employed** — общий трудовой стаж в днях  \n",
    "**dob_years** — возраст клиента в годах  \n",
    "**education** — уровень образования клиента  \n",
    "**education_id** — идентификатор уровня образования  \n",
    "**family_status** — семейное положение  \n",
    "**family_status_id** — идентификатор семейного положения  \n",
    "**gender** — пол клиента  \n",
    "**income_type** — тип занятости  \n",
    "**debt** — имел ли задолженность по возврату кредитов  \n",
    "**total_income** — ежемесячный доход  \n",
    "**purpose** — цель получения кредита\n",
    "\n",
    "# Содержание:\n",
    "\n",
    "1 Обзор данных  \n",
    "2 Предобработка данных  \n",
    "2.1 Обработка пропусков  \n",
    "2.2 Замена типа данных  \n",
    "2.3 Обработка дубликатов  \n",
    "2.4 Лемматизация  \n",
    "2.5 Категоризация данных  \n",
    "3 Ответы на поставленные вопросы  \n",
    "3.1 Есть ли зависимость между наличием детей и возвратом кредита в срок?  \n",
    "3.2 Есть ли зависимость между семейным положением и возвратом кредита в срок?  \n",
    "3.3 Есть ли зависимость между уровнем дохода и возвратом кредита в срок?  \n",
    "3.4 Как разные цели кредита влияют на его возврат в срок?  \n",
    "4 Общий вывод  \n",
    "  \n",
    "  \n",
    "  "
   ]
  },
  {
   "cell_type": "markdown",
   "metadata": {},
   "source": [
    "## 1 Обзор данных"
   ]
  },
  {
   "cell_type": "markdown",
   "metadata": {},
   "source": [
    "Для начала загрузим библиотеки, которые понадобятся для работы над проектом."
   ]
  },
  {
   "cell_type": "code",
   "execution_count": 1,
   "metadata": {},
   "outputs": [],
   "source": [
    "import pandas as pd\n",
    "\n",
    "from pymystem3 import Mystem\n",
    "m = Mystem()\n",
    "\n",
    "from collections import Counter"
   ]
  },
  {
   "attachments": {},
   "cell_type": "markdown",
   "metadata": {},
   "source": [
    "Теперь прочитаем файл с данными и сохраним его для дальнейшей работы в отдельной переменной `df`"
   ]
  },
  {
   "cell_type": "code",
   "execution_count": 2,
   "metadata": {},
   "outputs": [],
   "source": [
    "df = pd.read_csv('/datasets/data.csv')"
   ]
  },
  {
   "attachments": {},
   "cell_type": "markdown",
   "metadata": {},
   "source": [
    "Для ознакомления с данными, выведем последние 15 строк датафрейма, общую информацию о нем, а также воспользуемся методом `describe()` для знакомства с числовыми значениями. "
   ]
  },
  {
   "cell_type": "code",
   "execution_count": 3,
   "metadata": {},
   "outputs": [
    {
     "data": {
      "text/html": [
       "<div>\n",
       "<style scoped>\n",
       "    .dataframe tbody tr th:only-of-type {\n",
       "        vertical-align: middle;\n",
       "    }\n",
       "\n",
       "    .dataframe tbody tr th {\n",
       "        vertical-align: top;\n",
       "    }\n",
       "\n",
       "    .dataframe thead th {\n",
       "        text-align: right;\n",
       "    }\n",
       "</style>\n",
       "<table border=\"1\" class=\"dataframe\">\n",
       "  <thead>\n",
       "    <tr style=\"text-align: right;\">\n",
       "      <th></th>\n",
       "      <th>children</th>\n",
       "      <th>days_employed</th>\n",
       "      <th>dob_years</th>\n",
       "      <th>education</th>\n",
       "      <th>education_id</th>\n",
       "      <th>family_status</th>\n",
       "      <th>family_status_id</th>\n",
       "      <th>gender</th>\n",
       "      <th>income_type</th>\n",
       "      <th>debt</th>\n",
       "      <th>total_income</th>\n",
       "      <th>purpose</th>\n",
       "    </tr>\n",
       "  </thead>\n",
       "  <tbody>\n",
       "    <tr>\n",
       "      <th>21510</th>\n",
       "      <td>2</td>\n",
       "      <td>NaN</td>\n",
       "      <td>28</td>\n",
       "      <td>среднее</td>\n",
       "      <td>1</td>\n",
       "      <td>женат / замужем</td>\n",
       "      <td>0</td>\n",
       "      <td>F</td>\n",
       "      <td>сотрудник</td>\n",
       "      <td>0</td>\n",
       "      <td>NaN</td>\n",
       "      <td>приобретение автомобиля</td>\n",
       "    </tr>\n",
       "    <tr>\n",
       "      <th>21511</th>\n",
       "      <td>0</td>\n",
       "      <td>-612.569129</td>\n",
       "      <td>29</td>\n",
       "      <td>высшее</td>\n",
       "      <td>0</td>\n",
       "      <td>гражданский брак</td>\n",
       "      <td>1</td>\n",
       "      <td>F</td>\n",
       "      <td>сотрудник</td>\n",
       "      <td>1</td>\n",
       "      <td>140068.472941</td>\n",
       "      <td>покупка жилья для сдачи</td>\n",
       "    </tr>\n",
       "    <tr>\n",
       "      <th>21512</th>\n",
       "      <td>0</td>\n",
       "      <td>-165.377752</td>\n",
       "      <td>26</td>\n",
       "      <td>высшее</td>\n",
       "      <td>0</td>\n",
       "      <td>Не женат / не замужем</td>\n",
       "      <td>4</td>\n",
       "      <td>M</td>\n",
       "      <td>компаньон</td>\n",
       "      <td>0</td>\n",
       "      <td>147301.457769</td>\n",
       "      <td>получение дополнительного образования</td>\n",
       "    </tr>\n",
       "    <tr>\n",
       "      <th>21513</th>\n",
       "      <td>0</td>\n",
       "      <td>-1166.216789</td>\n",
       "      <td>35</td>\n",
       "      <td>среднее</td>\n",
       "      <td>1</td>\n",
       "      <td>женат / замужем</td>\n",
       "      <td>0</td>\n",
       "      <td>F</td>\n",
       "      <td>сотрудник</td>\n",
       "      <td>0</td>\n",
       "      <td>250986.142309</td>\n",
       "      <td>покупка жилья</td>\n",
       "    </tr>\n",
       "    <tr>\n",
       "      <th>21514</th>\n",
       "      <td>0</td>\n",
       "      <td>-280.469996</td>\n",
       "      <td>27</td>\n",
       "      <td>неоконченное высшее</td>\n",
       "      <td>2</td>\n",
       "      <td>Не женат / не замужем</td>\n",
       "      <td>4</td>\n",
       "      <td>M</td>\n",
       "      <td>компаньон</td>\n",
       "      <td>0</td>\n",
       "      <td>355988.407188</td>\n",
       "      <td>строительство недвижимости</td>\n",
       "    </tr>\n",
       "    <tr>\n",
       "      <th>21515</th>\n",
       "      <td>1</td>\n",
       "      <td>-467.685130</td>\n",
       "      <td>28</td>\n",
       "      <td>среднее</td>\n",
       "      <td>1</td>\n",
       "      <td>женат / замужем</td>\n",
       "      <td>0</td>\n",
       "      <td>F</td>\n",
       "      <td>сотрудник</td>\n",
       "      <td>1</td>\n",
       "      <td>109486.327999</td>\n",
       "      <td>заняться образованием</td>\n",
       "    </tr>\n",
       "    <tr>\n",
       "      <th>21516</th>\n",
       "      <td>0</td>\n",
       "      <td>-914.391429</td>\n",
       "      <td>42</td>\n",
       "      <td>высшее</td>\n",
       "      <td>0</td>\n",
       "      <td>женат / замужем</td>\n",
       "      <td>0</td>\n",
       "      <td>F</td>\n",
       "      <td>компаньон</td>\n",
       "      <td>0</td>\n",
       "      <td>322807.776603</td>\n",
       "      <td>покупка своего жилья</td>\n",
       "    </tr>\n",
       "    <tr>\n",
       "      <th>21517</th>\n",
       "      <td>0</td>\n",
       "      <td>-404.679034</td>\n",
       "      <td>42</td>\n",
       "      <td>высшее</td>\n",
       "      <td>0</td>\n",
       "      <td>гражданский брак</td>\n",
       "      <td>1</td>\n",
       "      <td>F</td>\n",
       "      <td>компаньон</td>\n",
       "      <td>0</td>\n",
       "      <td>178059.553491</td>\n",
       "      <td>на покупку своего автомобиля</td>\n",
       "    </tr>\n",
       "    <tr>\n",
       "      <th>21518</th>\n",
       "      <td>0</td>\n",
       "      <td>373995.710838</td>\n",
       "      <td>59</td>\n",
       "      <td>СРЕДНЕЕ</td>\n",
       "      <td>1</td>\n",
       "      <td>женат / замужем</td>\n",
       "      <td>0</td>\n",
       "      <td>F</td>\n",
       "      <td>пенсионер</td>\n",
       "      <td>0</td>\n",
       "      <td>153864.650328</td>\n",
       "      <td>сделка с автомобилем</td>\n",
       "    </tr>\n",
       "    <tr>\n",
       "      <th>21519</th>\n",
       "      <td>1</td>\n",
       "      <td>-2351.431934</td>\n",
       "      <td>37</td>\n",
       "      <td>ученая степень</td>\n",
       "      <td>4</td>\n",
       "      <td>в разводе</td>\n",
       "      <td>3</td>\n",
       "      <td>M</td>\n",
       "      <td>сотрудник</td>\n",
       "      <td>0</td>\n",
       "      <td>115949.039788</td>\n",
       "      <td>покупка коммерческой недвижимости</td>\n",
       "    </tr>\n",
       "    <tr>\n",
       "      <th>21520</th>\n",
       "      <td>1</td>\n",
       "      <td>-4529.316663</td>\n",
       "      <td>43</td>\n",
       "      <td>среднее</td>\n",
       "      <td>1</td>\n",
       "      <td>гражданский брак</td>\n",
       "      <td>1</td>\n",
       "      <td>F</td>\n",
       "      <td>компаньон</td>\n",
       "      <td>0</td>\n",
       "      <td>224791.862382</td>\n",
       "      <td>операции с жильем</td>\n",
       "    </tr>\n",
       "    <tr>\n",
       "      <th>21521</th>\n",
       "      <td>0</td>\n",
       "      <td>343937.404131</td>\n",
       "      <td>67</td>\n",
       "      <td>среднее</td>\n",
       "      <td>1</td>\n",
       "      <td>женат / замужем</td>\n",
       "      <td>0</td>\n",
       "      <td>F</td>\n",
       "      <td>пенсионер</td>\n",
       "      <td>0</td>\n",
       "      <td>155999.806512</td>\n",
       "      <td>сделка с автомобилем</td>\n",
       "    </tr>\n",
       "    <tr>\n",
       "      <th>21522</th>\n",
       "      <td>1</td>\n",
       "      <td>-2113.346888</td>\n",
       "      <td>38</td>\n",
       "      <td>среднее</td>\n",
       "      <td>1</td>\n",
       "      <td>гражданский брак</td>\n",
       "      <td>1</td>\n",
       "      <td>M</td>\n",
       "      <td>сотрудник</td>\n",
       "      <td>1</td>\n",
       "      <td>89672.561153</td>\n",
       "      <td>недвижимость</td>\n",
       "    </tr>\n",
       "    <tr>\n",
       "      <th>21523</th>\n",
       "      <td>3</td>\n",
       "      <td>-3112.481705</td>\n",
       "      <td>38</td>\n",
       "      <td>среднее</td>\n",
       "      <td>1</td>\n",
       "      <td>женат / замужем</td>\n",
       "      <td>0</td>\n",
       "      <td>M</td>\n",
       "      <td>сотрудник</td>\n",
       "      <td>1</td>\n",
       "      <td>244093.050500</td>\n",
       "      <td>на покупку своего автомобиля</td>\n",
       "    </tr>\n",
       "    <tr>\n",
       "      <th>21524</th>\n",
       "      <td>2</td>\n",
       "      <td>-1984.507589</td>\n",
       "      <td>40</td>\n",
       "      <td>среднее</td>\n",
       "      <td>1</td>\n",
       "      <td>женат / замужем</td>\n",
       "      <td>0</td>\n",
       "      <td>F</td>\n",
       "      <td>сотрудник</td>\n",
       "      <td>0</td>\n",
       "      <td>82047.418899</td>\n",
       "      <td>на покупку автомобиля</td>\n",
       "    </tr>\n",
       "  </tbody>\n",
       "</table>\n",
       "</div>"
      ],
      "text/plain": [
       "       children  days_employed  dob_years            education  education_id  \\\n",
       "21510         2            NaN         28              среднее             1   \n",
       "21511         0    -612.569129         29               высшее             0   \n",
       "21512         0    -165.377752         26               высшее             0   \n",
       "21513         0   -1166.216789         35              среднее             1   \n",
       "21514         0    -280.469996         27  неоконченное высшее             2   \n",
       "21515         1    -467.685130         28              среднее             1   \n",
       "21516         0    -914.391429         42               высшее             0   \n",
       "21517         0    -404.679034         42               высшее             0   \n",
       "21518         0  373995.710838         59              СРЕДНЕЕ             1   \n",
       "21519         1   -2351.431934         37       ученая степень             4   \n",
       "21520         1   -4529.316663         43              среднее             1   \n",
       "21521         0  343937.404131         67              среднее             1   \n",
       "21522         1   -2113.346888         38              среднее             1   \n",
       "21523         3   -3112.481705         38              среднее             1   \n",
       "21524         2   -1984.507589         40              среднее             1   \n",
       "\n",
       "               family_status  family_status_id gender income_type  debt  \\\n",
       "21510        женат / замужем                 0      F   сотрудник     0   \n",
       "21511       гражданский брак                 1      F   сотрудник     1   \n",
       "21512  Не женат / не замужем                 4      M   компаньон     0   \n",
       "21513        женат / замужем                 0      F   сотрудник     0   \n",
       "21514  Не женат / не замужем                 4      M   компаньон     0   \n",
       "21515        женат / замужем                 0      F   сотрудник     1   \n",
       "21516        женат / замужем                 0      F   компаньон     0   \n",
       "21517       гражданский брак                 1      F   компаньон     0   \n",
       "21518        женат / замужем                 0      F   пенсионер     0   \n",
       "21519              в разводе                 3      M   сотрудник     0   \n",
       "21520       гражданский брак                 1      F   компаньон     0   \n",
       "21521        женат / замужем                 0      F   пенсионер     0   \n",
       "21522       гражданский брак                 1      M   сотрудник     1   \n",
       "21523        женат / замужем                 0      M   сотрудник     1   \n",
       "21524        женат / замужем                 0      F   сотрудник     0   \n",
       "\n",
       "        total_income                                purpose  \n",
       "21510            NaN                приобретение автомобиля  \n",
       "21511  140068.472941                покупка жилья для сдачи  \n",
       "21512  147301.457769  получение дополнительного образования  \n",
       "21513  250986.142309                          покупка жилья  \n",
       "21514  355988.407188             строительство недвижимости  \n",
       "21515  109486.327999                  заняться образованием  \n",
       "21516  322807.776603                   покупка своего жилья  \n",
       "21517  178059.553491           на покупку своего автомобиля  \n",
       "21518  153864.650328                   сделка с автомобилем  \n",
       "21519  115949.039788      покупка коммерческой недвижимости  \n",
       "21520  224791.862382                      операции с жильем  \n",
       "21521  155999.806512                   сделка с автомобилем  \n",
       "21522   89672.561153                           недвижимость  \n",
       "21523  244093.050500           на покупку своего автомобиля  \n",
       "21524   82047.418899                  на покупку автомобиля  "
      ]
     },
     "metadata": {},
     "output_type": "display_data"
    },
    {
     "name": "stdout",
     "output_type": "stream",
     "text": [
      "<class 'pandas.core.frame.DataFrame'>\n",
      "RangeIndex: 21525 entries, 0 to 21524\n",
      "Data columns (total 12 columns):\n",
      " #   Column            Non-Null Count  Dtype  \n",
      "---  ------            --------------  -----  \n",
      " 0   children          21525 non-null  int64  \n",
      " 1   days_employed     19351 non-null  float64\n",
      " 2   dob_years         21525 non-null  int64  \n",
      " 3   education         21525 non-null  object \n",
      " 4   education_id      21525 non-null  int64  \n",
      " 5   family_status     21525 non-null  object \n",
      " 6   family_status_id  21525 non-null  int64  \n",
      " 7   gender            21525 non-null  object \n",
      " 8   income_type       21525 non-null  object \n",
      " 9   debt              21525 non-null  int64  \n",
      " 10  total_income      19351 non-null  float64\n",
      " 11  purpose           21525 non-null  object \n",
      "dtypes: float64(2), int64(5), object(5)\n",
      "memory usage: 2.0+ MB\n"
     ]
    },
    {
     "data": {
      "text/html": [
       "<div>\n",
       "<style scoped>\n",
       "    .dataframe tbody tr th:only-of-type {\n",
       "        vertical-align: middle;\n",
       "    }\n",
       "\n",
       "    .dataframe tbody tr th {\n",
       "        vertical-align: top;\n",
       "    }\n",
       "\n",
       "    .dataframe thead th {\n",
       "        text-align: right;\n",
       "    }\n",
       "</style>\n",
       "<table border=\"1\" class=\"dataframe\">\n",
       "  <thead>\n",
       "    <tr style=\"text-align: right;\">\n",
       "      <th></th>\n",
       "      <th>children</th>\n",
       "      <th>days_employed</th>\n",
       "      <th>dob_years</th>\n",
       "      <th>education_id</th>\n",
       "      <th>family_status_id</th>\n",
       "      <th>debt</th>\n",
       "      <th>total_income</th>\n",
       "    </tr>\n",
       "  </thead>\n",
       "  <tbody>\n",
       "    <tr>\n",
       "      <th>count</th>\n",
       "      <td>21525.000000</td>\n",
       "      <td>19351.000000</td>\n",
       "      <td>21525.000000</td>\n",
       "      <td>21525.000000</td>\n",
       "      <td>21525.000000</td>\n",
       "      <td>21525.000000</td>\n",
       "      <td>1.935100e+04</td>\n",
       "    </tr>\n",
       "    <tr>\n",
       "      <th>mean</th>\n",
       "      <td>0.538908</td>\n",
       "      <td>63046.497661</td>\n",
       "      <td>43.293380</td>\n",
       "      <td>0.817236</td>\n",
       "      <td>0.972544</td>\n",
       "      <td>0.080883</td>\n",
       "      <td>1.674223e+05</td>\n",
       "    </tr>\n",
       "    <tr>\n",
       "      <th>std</th>\n",
       "      <td>1.381587</td>\n",
       "      <td>140827.311974</td>\n",
       "      <td>12.574584</td>\n",
       "      <td>0.548138</td>\n",
       "      <td>1.420324</td>\n",
       "      <td>0.272661</td>\n",
       "      <td>1.029716e+05</td>\n",
       "    </tr>\n",
       "    <tr>\n",
       "      <th>min</th>\n",
       "      <td>-1.000000</td>\n",
       "      <td>-18388.949901</td>\n",
       "      <td>0.000000</td>\n",
       "      <td>0.000000</td>\n",
       "      <td>0.000000</td>\n",
       "      <td>0.000000</td>\n",
       "      <td>2.066726e+04</td>\n",
       "    </tr>\n",
       "    <tr>\n",
       "      <th>25%</th>\n",
       "      <td>0.000000</td>\n",
       "      <td>-2747.423625</td>\n",
       "      <td>33.000000</td>\n",
       "      <td>1.000000</td>\n",
       "      <td>0.000000</td>\n",
       "      <td>0.000000</td>\n",
       "      <td>1.030532e+05</td>\n",
       "    </tr>\n",
       "    <tr>\n",
       "      <th>50%</th>\n",
       "      <td>0.000000</td>\n",
       "      <td>-1203.369529</td>\n",
       "      <td>42.000000</td>\n",
       "      <td>1.000000</td>\n",
       "      <td>0.000000</td>\n",
       "      <td>0.000000</td>\n",
       "      <td>1.450179e+05</td>\n",
       "    </tr>\n",
       "    <tr>\n",
       "      <th>75%</th>\n",
       "      <td>1.000000</td>\n",
       "      <td>-291.095954</td>\n",
       "      <td>53.000000</td>\n",
       "      <td>1.000000</td>\n",
       "      <td>1.000000</td>\n",
       "      <td>0.000000</td>\n",
       "      <td>2.034351e+05</td>\n",
       "    </tr>\n",
       "    <tr>\n",
       "      <th>max</th>\n",
       "      <td>20.000000</td>\n",
       "      <td>401755.400475</td>\n",
       "      <td>75.000000</td>\n",
       "      <td>4.000000</td>\n",
       "      <td>4.000000</td>\n",
       "      <td>1.000000</td>\n",
       "      <td>2.265604e+06</td>\n",
       "    </tr>\n",
       "  </tbody>\n",
       "</table>\n",
       "</div>"
      ],
      "text/plain": [
       "           children  days_employed     dob_years  education_id  \\\n",
       "count  21525.000000   19351.000000  21525.000000  21525.000000   \n",
       "mean       0.538908   63046.497661     43.293380      0.817236   \n",
       "std        1.381587  140827.311974     12.574584      0.548138   \n",
       "min       -1.000000  -18388.949901      0.000000      0.000000   \n",
       "25%        0.000000   -2747.423625     33.000000      1.000000   \n",
       "50%        0.000000   -1203.369529     42.000000      1.000000   \n",
       "75%        1.000000    -291.095954     53.000000      1.000000   \n",
       "max       20.000000  401755.400475     75.000000      4.000000   \n",
       "\n",
       "       family_status_id          debt  total_income  \n",
       "count      21525.000000  21525.000000  1.935100e+04  \n",
       "mean           0.972544      0.080883  1.674223e+05  \n",
       "std            1.420324      0.272661  1.029716e+05  \n",
       "min            0.000000      0.000000  2.066726e+04  \n",
       "25%            0.000000      0.000000  1.030532e+05  \n",
       "50%            0.000000      0.000000  1.450179e+05  \n",
       "75%            1.000000      0.000000  2.034351e+05  \n",
       "max            4.000000      1.000000  2.265604e+06  "
      ]
     },
     "execution_count": 3,
     "metadata": {},
     "output_type": "execute_result"
    }
   ],
   "source": [
    "display(df.tail(15))\n",
    "df.info()\n",
    "df.describe()"
   ]
  },
  {
   "attachments": {},
   "cell_type": "markdown",
   "metadata": {},
   "source": [
    "**На этапе обзора данных обнаружены некорректные значения:**\n",
    "1. В столбце `children` есть отрицательное значение (похоже на ошибку), максимальное значение 20 также похоже на ошибку.\n",
    "2. Данные по трудовому стажу в столбце `days_employed` содержат пропуски, отрицательные значения, а также аномально высокие положительные значения, что говорит о возможном использовании двух разных источников для наполнения датасета.  Также, в столбце используются вещественные числа, которые для удобства можно заменить на целочисленные значения.\n",
    "3. В столбце `dob_years` минимальное значение 0, хотя возраст заемщика должен быть не менее 18 лет.\n",
    "3. При заполнении  столбца `education` использованы разные регистры букв, есть дубликаты.\n",
    "4. В столбце `total_income` есть пропуски, данные представлены в виде вещественных чисел, которые для удобства восприятия можно перевести в целочисленные значения.\n",
    "5. В столбце `purpose` слишком много вариаций целей получения кредита, многие из которых имеют сходные смысловые значения."
   ]
  },
  {
   "cell_type": "markdown",
   "metadata": {},
   "source": [
    "**Вывод:**\n",
    "Для дальнейшей работы над проектом необходимо устранить проблемы в данных."
   ]
  },
  {
   "cell_type": "markdown",
   "metadata": {},
   "source": [
    "## 2 Предобработка данных"
   ]
  },
  {
   "attachments": {},
   "cell_type": "markdown",
   "metadata": {},
   "source": [
    "### 2.1 Обработка пропусков"
   ]
  },
  {
   "cell_type": "markdown",
   "metadata": {},
   "source": [
    "Для начала проверим количество строк с некорректными значениями в столбце cnildren:"
   ]
  },
  {
   "cell_type": "code",
   "execution_count": 4,
   "metadata": {},
   "outputs": [
    {
     "name": "stdout",
     "output_type": "stream",
     "text": [
      "Количество строк с отрицательным значением (-1): 47\n",
      "Количество строк с аномально высоким значением (20): 76\n"
     ]
    }
   ],
   "source": [
    "print('Количество строк с отрицательным значением (-1):', df[df['children'] == -1].count()[0])\n",
    "print('Количество строк с аномально высоким значением (20):', df[df['children'] == 20].count()[0])"
   ]
  },
  {
   "cell_type": "markdown",
   "metadata": {},
   "source": [
    "Относительно общего количества строк эти данные составляют менее 0.5%, поэтому их можно исправить на основе предположения:\n",
    "Данные могли быть сформированы из разных источников, где -1 могло означать статус отсутствия детей, поэтому исправляем на 0, а 20 больше соответствует 2, поэтому исправляем на 2. На статистику изменения сильно не повлияют, но данные теперь будут более правдоподобные."
   ]
  },
  {
   "cell_type": "code",
   "execution_count": 5,
   "metadata": {},
   "outputs": [],
   "source": [
    "df['children'] = df['children'].replace(-1, 0)  # производим замену данных\n",
    "df['children'] = df['children'].replace(20, 2)"
   ]
  },
  {
   "cell_type": "code",
   "execution_count": 6,
   "metadata": {},
   "outputs": [
    {
     "name": "stdout",
     "output_type": "stream",
     "text": [
      "[1 0 3 2 4 5]\n"
     ]
    }
   ],
   "source": [
    "print(df['children'].unique())  # контролируем результат"
   ]
  },
  {
   "attachments": {},
   "cell_type": "markdown",
   "metadata": {},
   "source": [
    "Следующим шагом, проверим количество строк c нулевым значением в столбце `dob_years`, проведем замену средним арифмитическим значением (с округлением до целочисленного значения) и проверим результат, а также наличие других некорректных значений (меньше 18 лет):"
   ]
  },
  {
   "cell_type": "code",
   "execution_count": 7,
   "metadata": {},
   "outputs": [
    {
     "name": "stdout",
     "output_type": "stream",
     "text": [
      "Количество строк с нулевым значением: 101\n"
     ]
    }
   ],
   "source": [
    "print('Количество строк с нулевым значением:', df[df['dob_years'] == 0].count()[0])  # выводим строки с нулевым значением"
   ]
  },
  {
   "cell_type": "code",
   "execution_count": 8,
   "metadata": {},
   "outputs": [],
   "source": [
    "df.loc[df['dob_years'] == 0, 'dob_years'] = int(df['dob_years'].mean())  # проводим замену средним арифметическим значением"
   ]
  },
  {
   "cell_type": "code",
   "execution_count": 9,
   "metadata": {},
   "outputs": [
    {
     "name": "stdout",
     "output_type": "stream",
     "text": [
      "Количество строк с возрастом < 18 лет: 0\n"
     ]
    }
   ],
   "source": [
    "print('Количество строк с возрастом < 18 лет:', df[df['dob_years'] < 18].count()[0])  # контролируем результат"
   ]
  },
  {
   "attachments": {},
   "cell_type": "markdown",
   "metadata": {},
   "source": [
    "Теперь переходим к корректировке данных столбца `days_employed`. Судя по отрицательным и положительным значением, а также наличием аномально высоких значений, столбец `days_employed` вероятно был сформирован из двух различных баз данных, в одной из которых указывалось значение в днях и с отрицательным значением (возможно знак тире принял значение минуса), а в другой (с аномально высокими значениями) - фиксировались значения в часах.  С учетом данных выводов, принимаем максимальное значение в стажа в днях  в количестве 30_000 и исправляем значения, используя следующий код:"
   ]
  },
  {
   "cell_type": "code",
   "execution_count": 10,
   "metadata": {},
   "outputs": [],
   "source": [
    "df['days_employed'] = df['days_employed'].apply(abs)  # приводим отрицательные значения к положительным\n",
    "df.loc[df['days_employed'] >30000, 'days_employed'] = df.loc[df['days_employed'] >30000, 'days_employed'] / 24  # переводим часы в дни"
   ]
  },
  {
   "attachments": {},
   "cell_type": "markdown",
   "metadata": {},
   "source": [
    "Заполняем пропуски в данных по стажу в столбце `days_employed` медианными значениями по возрастным группам:"
   ]
  },
  {
   "cell_type": "code",
   "execution_count": 11,
   "metadata": {},
   "outputs": [
    {
     "name": "stdout",
     "output_type": "stream",
     "text": [
      "Пропуски до: 2174\n"
     ]
    }
   ],
   "source": [
    "print('Пропуски до:', df['days_employed'].isna().sum())  # выводим количество пропусков"
   ]
  },
  {
   "cell_type": "code",
   "execution_count": 12,
   "metadata": {},
   "outputs": [],
   "source": [
    "df['days_employed'] = df['days_employed'].fillna(df.groupby('dob_years')['days_employed'].transform('median'))  # заполняем пропуски"
   ]
  },
  {
   "cell_type": "code",
   "execution_count": 13,
   "metadata": {},
   "outputs": [
    {
     "name": "stdout",
     "output_type": "stream",
     "text": [
      "Пропуски после: 0\n"
     ]
    }
   ],
   "source": [
    "print('Пропуски после:', df['days_employed'].isna().sum())  # контролируем результат"
   ]
  },
  {
   "attachments": {},
   "cell_type": "markdown",
   "metadata": {},
   "source": [
    "Теперь переходим к столбцу `total_income`, заполняем и проверяем пропуски в данных медиаными значениями в соответствии с типом занятости:"
   ]
  },
  {
   "cell_type": "code",
   "execution_count": 14,
   "metadata": {},
   "outputs": [
    {
     "name": "stdout",
     "output_type": "stream",
     "text": [
      "Пропуски до: 2174\n"
     ]
    }
   ],
   "source": [
    "print('Пропуски до:', df['total_income'].isna().sum())  # выводим количество пропусков"
   ]
  },
  {
   "cell_type": "code",
   "execution_count": 15,
   "metadata": {},
   "outputs": [],
   "source": [
    "df['total_income'] = df['total_income'].fillna(df.groupby('income_type')['total_income'].transform('median'))  # заменяем пропуски"
   ]
  },
  {
   "cell_type": "code",
   "execution_count": 16,
   "metadata": {},
   "outputs": [
    {
     "name": "stdout",
     "output_type": "stream",
     "text": [
      "Пропуски после: 0\n"
     ]
    }
   ],
   "source": [
    "print('Пропуски после:', df['total_income'].isna().sum())  # контролируем результат"
   ]
  },
  {
   "cell_type": "markdown",
   "metadata": {},
   "source": [
    "**Вывод** "
   ]
  },
  {
   "attachments": {},
   "cell_type": "markdown",
   "metadata": {},
   "source": [
    "Пропуски и ошибки данных в столбцах `children`, `days_employed`, `dob_years` и `total_income` исправлены, теперь они однородны и готовы к дальнейшей работе над проектом."
   ]
  },
  {
   "attachments": {},
   "cell_type": "markdown",
   "metadata": {},
   "source": [
    "### 2.2 Замена типа данных"
   ]
  },
  {
   "attachments": {},
   "cell_type": "markdown",
   "metadata": {},
   "source": [
    "Заменим вещественные числа (float) в столбцах `days_employed` и `total_income` на целочисленные значения (int). Поскольку работа с заменой пропусков уже проведена, можно использовать метод `astype()`, он сработает в данном случае без ошибок и без применения конструкции try - except."
   ]
  },
  {
   "cell_type": "code",
   "execution_count": 17,
   "metadata": {},
   "outputs": [],
   "source": [
    "df['days_employed'] = df['days_employed'].astype('int')\n",
    "df['total_income'] = df['total_income'].astype('int')"
   ]
  },
  {
   "cell_type": "code",
   "execution_count": 18,
   "metadata": {},
   "outputs": [
    {
     "data": {
      "text/html": [
       "<div>\n",
       "<style scoped>\n",
       "    .dataframe tbody tr th:only-of-type {\n",
       "        vertical-align: middle;\n",
       "    }\n",
       "\n",
       "    .dataframe tbody tr th {\n",
       "        vertical-align: top;\n",
       "    }\n",
       "\n",
       "    .dataframe thead th {\n",
       "        text-align: right;\n",
       "    }\n",
       "</style>\n",
       "<table border=\"1\" class=\"dataframe\">\n",
       "  <thead>\n",
       "    <tr style=\"text-align: right;\">\n",
       "      <th></th>\n",
       "      <th>children</th>\n",
       "      <th>days_employed</th>\n",
       "      <th>dob_years</th>\n",
       "      <th>education</th>\n",
       "      <th>education_id</th>\n",
       "      <th>family_status</th>\n",
       "      <th>family_status_id</th>\n",
       "      <th>gender</th>\n",
       "      <th>income_type</th>\n",
       "      <th>debt</th>\n",
       "      <th>total_income</th>\n",
       "      <th>purpose</th>\n",
       "    </tr>\n",
       "  </thead>\n",
       "  <tbody>\n",
       "    <tr>\n",
       "      <th>0</th>\n",
       "      <td>1</td>\n",
       "      <td>8437</td>\n",
       "      <td>42</td>\n",
       "      <td>высшее</td>\n",
       "      <td>0</td>\n",
       "      <td>женат / замужем</td>\n",
       "      <td>0</td>\n",
       "      <td>F</td>\n",
       "      <td>сотрудник</td>\n",
       "      <td>0</td>\n",
       "      <td>253875</td>\n",
       "      <td>покупка жилья</td>\n",
       "    </tr>\n",
       "    <tr>\n",
       "      <th>1</th>\n",
       "      <td>1</td>\n",
       "      <td>4024</td>\n",
       "      <td>36</td>\n",
       "      <td>среднее</td>\n",
       "      <td>1</td>\n",
       "      <td>женат / замужем</td>\n",
       "      <td>0</td>\n",
       "      <td>F</td>\n",
       "      <td>сотрудник</td>\n",
       "      <td>0</td>\n",
       "      <td>112080</td>\n",
       "      <td>приобретение автомобиля</td>\n",
       "    </tr>\n",
       "    <tr>\n",
       "      <th>2</th>\n",
       "      <td>0</td>\n",
       "      <td>5623</td>\n",
       "      <td>33</td>\n",
       "      <td>Среднее</td>\n",
       "      <td>1</td>\n",
       "      <td>женат / замужем</td>\n",
       "      <td>0</td>\n",
       "      <td>M</td>\n",
       "      <td>сотрудник</td>\n",
       "      <td>0</td>\n",
       "      <td>145885</td>\n",
       "      <td>покупка жилья</td>\n",
       "    </tr>\n",
       "    <tr>\n",
       "      <th>3</th>\n",
       "      <td>3</td>\n",
       "      <td>4124</td>\n",
       "      <td>32</td>\n",
       "      <td>среднее</td>\n",
       "      <td>1</td>\n",
       "      <td>женат / замужем</td>\n",
       "      <td>0</td>\n",
       "      <td>M</td>\n",
       "      <td>сотрудник</td>\n",
       "      <td>0</td>\n",
       "      <td>267628</td>\n",
       "      <td>дополнительное образование</td>\n",
       "    </tr>\n",
       "    <tr>\n",
       "      <th>4</th>\n",
       "      <td>0</td>\n",
       "      <td>14177</td>\n",
       "      <td>53</td>\n",
       "      <td>среднее</td>\n",
       "      <td>1</td>\n",
       "      <td>гражданский брак</td>\n",
       "      <td>1</td>\n",
       "      <td>F</td>\n",
       "      <td>пенсионер</td>\n",
       "      <td>0</td>\n",
       "      <td>158616</td>\n",
       "      <td>сыграть свадьбу</td>\n",
       "    </tr>\n",
       "  </tbody>\n",
       "</table>\n",
       "</div>"
      ],
      "text/plain": [
       "   children  days_employed  dob_years education  education_id  \\\n",
       "0         1           8437         42    высшее             0   \n",
       "1         1           4024         36   среднее             1   \n",
       "2         0           5623         33   Среднее             1   \n",
       "3         3           4124         32   среднее             1   \n",
       "4         0          14177         53   среднее             1   \n",
       "\n",
       "      family_status  family_status_id gender income_type  debt  total_income  \\\n",
       "0   женат / замужем                 0      F   сотрудник     0        253875   \n",
       "1   женат / замужем                 0      F   сотрудник     0        112080   \n",
       "2   женат / замужем                 0      M   сотрудник     0        145885   \n",
       "3   женат / замужем                 0      M   сотрудник     0        267628   \n",
       "4  гражданский брак                 1      F   пенсионер     0        158616   \n",
       "\n",
       "                      purpose  \n",
       "0               покупка жилья  \n",
       "1     приобретение автомобиля  \n",
       "2               покупка жилья  \n",
       "3  дополнительное образование  \n",
       "4             сыграть свадьбу  "
      ]
     },
     "metadata": {},
     "output_type": "display_data"
    }
   ],
   "source": [
    "df.head()  # выводим результат"
   ]
  },
  {
   "cell_type": "markdown",
   "metadata": {},
   "source": [
    "**Вывод**"
   ]
  },
  {
   "cell_type": "markdown",
   "metadata": {},
   "source": [
    "Все числовые данные теперь имют тип int и стали удобнее для восприятия."
   ]
  },
  {
   "attachments": {},
   "cell_type": "markdown",
   "metadata": {},
   "source": [
    "### 2.3 Обработка дубликатов"
   ]
  },
  {
   "cell_type": "markdown",
   "metadata": {},
   "source": [
    "Для начала приведем все значения в столбце education к одному регистру и проверим результат:"
   ]
  },
  {
   "cell_type": "code",
   "execution_count": 19,
   "metadata": {},
   "outputs": [
    {
     "name": "stdout",
     "output_type": "stream",
     "text": [
      "До обработки: \n",
      " среднее                13750\n",
      "высшее                  4718\n",
      "СРЕДНЕЕ                  772\n",
      "Среднее                  711\n",
      "неоконченное высшее      668\n",
      "ВЫСШЕЕ                   274\n",
      "Высшее                   268\n",
      "начальное                250\n",
      "Неоконченное высшее       47\n",
      "НЕОКОНЧЕННОЕ ВЫСШЕЕ       29\n",
      "НАЧАЛЬНОЕ                 17\n",
      "Начальное                 15\n",
      "ученая степень             4\n",
      "УЧЕНАЯ СТЕПЕНЬ             1\n",
      "Ученая степень             1\n",
      "Name: education, dtype: int64\n"
     ]
    }
   ],
   "source": [
    "print('До обработки:', '\\n', df['education'].value_counts())  # выводим список значений до обработки"
   ]
  },
  {
   "cell_type": "code",
   "execution_count": 20,
   "metadata": {},
   "outputs": [],
   "source": [
    "df['education'] = df['education'].str.lower()  # приводим значения к одному регистру"
   ]
  },
  {
   "cell_type": "code",
   "execution_count": 21,
   "metadata": {},
   "outputs": [
    {
     "name": "stdout",
     "output_type": "stream",
     "text": [
      "После обработки: \n",
      " среднее                15233\n",
      "высшее                  5260\n",
      "неоконченное высшее      744\n",
      "начальное                282\n",
      "ученая степень             6\n",
      "Name: education, dtype: int64\n"
     ]
    }
   ],
   "source": [
    "print('После обработки:', '\\n', df['education'].value_counts())  # контролируем результат"
   ]
  },
  {
   "cell_type": "markdown",
   "metadata": {},
   "source": [
    "Теперь избавимся от дубликатов и проверим результат:"
   ]
  },
  {
   "cell_type": "code",
   "execution_count": 22,
   "metadata": {},
   "outputs": [
    {
     "name": "stdout",
     "output_type": "stream",
     "text": [
      "Кол-во дубликатов до обработки: 71\n"
     ]
    }
   ],
   "source": [
    "print('Кол-во дубликатов до обработки:', df.duplicated().sum())  # проверяем кол-во дубликатов до обработки"
   ]
  },
  {
   "cell_type": "code",
   "execution_count": 23,
   "metadata": {},
   "outputs": [],
   "source": [
    "df = df.drop_duplicates().reset_index(drop=True)  # удаляем дубликаты"
   ]
  },
  {
   "cell_type": "code",
   "execution_count": 24,
   "metadata": {},
   "outputs": [
    {
     "name": "stdout",
     "output_type": "stream",
     "text": [
      "Кол-во дубликатов после обработки: 0\n"
     ]
    }
   ],
   "source": [
    "print('Кол-во дубликатов после обработки:', df.duplicated().sum())  # контролируем результат"
   ]
  },
  {
   "cell_type": "markdown",
   "metadata": {},
   "source": [
    "**Вывод**"
   ]
  },
  {
   "cell_type": "markdown",
   "metadata": {},
   "source": [
    "Дубликаты могли появиться в результате ошибок и сбоев при формировании датафрейма. Теперь они устранены."
   ]
  },
  {
   "attachments": {},
   "cell_type": "markdown",
   "metadata": {},
   "source": [
    "### 2.4 Лемматизация"
   ]
  },
  {
   "attachments": {},
   "cell_type": "markdown",
   "metadata": {},
   "source": [
    "Для начала выведем список уникальных значений столбца `purpose`"
   ]
  },
  {
   "cell_type": "code",
   "execution_count": 25,
   "metadata": {},
   "outputs": [
    {
     "data": {
      "text/plain": [
       "свадьба                                   791\n",
       "на проведение свадьбы                     768\n",
       "сыграть свадьбу                           765\n",
       "операции с недвижимостью                  675\n",
       "покупка коммерческой недвижимости         661\n",
       "операции с жильем                         652\n",
       "покупка жилья для сдачи                   651\n",
       "операции с коммерческой недвижимостью     650\n",
       "жилье                                     646\n",
       "покупка жилья                             646\n",
       "покупка жилья для семьи                   638\n",
       "строительство собственной недвижимости    635\n",
       "недвижимость                              633\n",
       "операции со своей недвижимостью           627\n",
       "строительство жилой недвижимости          624\n",
       "покупка недвижимости                      621\n",
       "покупка своего жилья                      620\n",
       "строительство недвижимости                619\n",
       "ремонт жилью                              607\n",
       "покупка жилой недвижимости                606\n",
       "на покупку своего автомобиля              505\n",
       "заняться высшим образованием              496\n",
       "автомобиль                                494\n",
       "сделка с подержанным автомобилем          486\n",
       "свой автомобиль                           478\n",
       "на покупку подержанного автомобиля        478\n",
       "автомобили                                478\n",
       "на покупку автомобиля                     471\n",
       "приобретение автомобиля                   461\n",
       "дополнительное образование                460\n",
       "сделка с автомобилем                      455\n",
       "высшее образование                        452\n",
       "образование                               447\n",
       "получение дополнительного образования     446\n",
       "получение образования                     442\n",
       "профильное образование                    436\n",
       "получение высшего образования             426\n",
       "заняться образованием                     408\n",
       "Name: purpose, dtype: int64"
      ]
     },
     "execution_count": 25,
     "metadata": {},
     "output_type": "execute_result"
    }
   ],
   "source": [
    "df['purpose'].value_counts()"
   ]
  },
  {
   "attachments": {},
   "cell_type": "markdown",
   "metadata": {},
   "source": [
    "Вариантов целей со сходными смысловыми значениями действительно много, поэтому необходимо лемматизировать данные столбца purpose, выбрать основные цели получения кредита, создать новый столбец `purpose_categorized` с обобщенными категориями целей и заполнить его данными с помощью функции."
   ]
  },
  {
   "cell_type": "code",
   "execution_count": 26,
   "metadata": {},
   "outputs": [],
   "source": [
    "lemmas_list = []\n",
    "for element in df['purpose']:\n",
    "    lemma = m.lemmatize(element)\n",
    "    lemmas_list.extend(lemma)"
   ]
  },
  {
   "cell_type": "markdown",
   "metadata": {},
   "source": [
    "Теперь создадим список лемм с подсчетом уникальных значений и отсортируем по количеству в порядке убывания:"
   ]
  },
  {
   "cell_type": "code",
   "execution_count": 27,
   "metadata": {},
   "outputs": [
    {
     "data": {
      "text/plain": [
       "[(' ', 33570),\n",
       " ('\\n', 21454),\n",
       " ('недвижимость', 6351),\n",
       " ('покупка', 5897),\n",
       " ('жилье', 4460),\n",
       " ('автомобиль', 4306),\n",
       " ('образование', 4013),\n",
       " ('с', 2918),\n",
       " ('операция', 2604),\n",
       " ('свадьба', 2324),\n",
       " ('свой', 2230),\n",
       " ('на', 2222),\n",
       " ('строительство', 1878),\n",
       " ('высокий', 1374),\n",
       " ('получение', 1314),\n",
       " ('коммерческий', 1311),\n",
       " ('для', 1289),\n",
       " ('жилой', 1230),\n",
       " ('сделка', 941),\n",
       " ('дополнительный', 906),\n",
       " ('заниматься', 904),\n",
       " ('проведение', 768),\n",
       " ('сыграть', 765),\n",
       " ('сдача', 651),\n",
       " ('семья', 638),\n",
       " ('собственный', 635),\n",
       " ('со', 627),\n",
       " ('ремонт', 607),\n",
       " ('подержанный', 486),\n",
       " ('подержать', 478),\n",
       " ('приобретение', 461),\n",
       " ('профильный', 436)]"
      ]
     },
     "execution_count": 27,
     "metadata": {},
     "output_type": "execute_result"
    }
   ],
   "source": [
    "unique_lemmas = Counter(lemmas_list)\n",
    "sorted(unique_lemmas.items(), key = lambda pair: pair[1], reverse=True)"
   ]
  },
  {
   "attachments": {},
   "cell_type": "markdown",
   "metadata": {},
   "source": [
    "На основе представленных данных, видно, что здесь можно выделить четыре основные категории: недвижимость (жилье относим сюда же), автомобиль, образование и свадьба. Остается написать функцию для категоризации. Пропишем условия if для лемм 'автомобиль', 'образование' и 'свадьба', остальное отнесем к самой многочисленной категории - 'недвижимость'."
   ]
  },
  {
   "cell_type": "code",
   "execution_count": 28,
   "metadata": {},
   "outputs": [],
   "source": [
    "def new_category(row):\n",
    "    lemmas = m.lemmatize(row)\n",
    "    if 'автомобиль' in lemmas:\n",
    "        return 'автомобиль'\n",
    "    if 'образование' in lemmas:\n",
    "        return 'образование'\n",
    "    if 'свадьба' in lemmas:\n",
    "        return 'свадьба'\n",
    "    return 'недвижимость'\n",
    "df['purpose_categorized'] = df['purpose'].apply(new_category)"
   ]
  },
  {
   "cell_type": "markdown",
   "metadata": {},
   "source": [
    "Для проверки результат выведем на экран первые 5 строк таблицы"
   ]
  },
  {
   "cell_type": "code",
   "execution_count": 29,
   "metadata": {},
   "outputs": [
    {
     "data": {
      "text/html": [
       "<div>\n",
       "<style scoped>\n",
       "    .dataframe tbody tr th:only-of-type {\n",
       "        vertical-align: middle;\n",
       "    }\n",
       "\n",
       "    .dataframe tbody tr th {\n",
       "        vertical-align: top;\n",
       "    }\n",
       "\n",
       "    .dataframe thead th {\n",
       "        text-align: right;\n",
       "    }\n",
       "</style>\n",
       "<table border=\"1\" class=\"dataframe\">\n",
       "  <thead>\n",
       "    <tr style=\"text-align: right;\">\n",
       "      <th></th>\n",
       "      <th>children</th>\n",
       "      <th>days_employed</th>\n",
       "      <th>dob_years</th>\n",
       "      <th>education</th>\n",
       "      <th>education_id</th>\n",
       "      <th>family_status</th>\n",
       "      <th>family_status_id</th>\n",
       "      <th>gender</th>\n",
       "      <th>income_type</th>\n",
       "      <th>debt</th>\n",
       "      <th>total_income</th>\n",
       "      <th>purpose</th>\n",
       "      <th>purpose_categorized</th>\n",
       "    </tr>\n",
       "  </thead>\n",
       "  <tbody>\n",
       "    <tr>\n",
       "      <th>0</th>\n",
       "      <td>1</td>\n",
       "      <td>8437</td>\n",
       "      <td>42</td>\n",
       "      <td>высшее</td>\n",
       "      <td>0</td>\n",
       "      <td>женат / замужем</td>\n",
       "      <td>0</td>\n",
       "      <td>F</td>\n",
       "      <td>сотрудник</td>\n",
       "      <td>0</td>\n",
       "      <td>253875</td>\n",
       "      <td>покупка жилья</td>\n",
       "      <td>недвижимость</td>\n",
       "    </tr>\n",
       "    <tr>\n",
       "      <th>1</th>\n",
       "      <td>1</td>\n",
       "      <td>4024</td>\n",
       "      <td>36</td>\n",
       "      <td>среднее</td>\n",
       "      <td>1</td>\n",
       "      <td>женат / замужем</td>\n",
       "      <td>0</td>\n",
       "      <td>F</td>\n",
       "      <td>сотрудник</td>\n",
       "      <td>0</td>\n",
       "      <td>112080</td>\n",
       "      <td>приобретение автомобиля</td>\n",
       "      <td>автомобиль</td>\n",
       "    </tr>\n",
       "    <tr>\n",
       "      <th>2</th>\n",
       "      <td>0</td>\n",
       "      <td>5623</td>\n",
       "      <td>33</td>\n",
       "      <td>среднее</td>\n",
       "      <td>1</td>\n",
       "      <td>женат / замужем</td>\n",
       "      <td>0</td>\n",
       "      <td>M</td>\n",
       "      <td>сотрудник</td>\n",
       "      <td>0</td>\n",
       "      <td>145885</td>\n",
       "      <td>покупка жилья</td>\n",
       "      <td>недвижимость</td>\n",
       "    </tr>\n",
       "    <tr>\n",
       "      <th>3</th>\n",
       "      <td>3</td>\n",
       "      <td>4124</td>\n",
       "      <td>32</td>\n",
       "      <td>среднее</td>\n",
       "      <td>1</td>\n",
       "      <td>женат / замужем</td>\n",
       "      <td>0</td>\n",
       "      <td>M</td>\n",
       "      <td>сотрудник</td>\n",
       "      <td>0</td>\n",
       "      <td>267628</td>\n",
       "      <td>дополнительное образование</td>\n",
       "      <td>образование</td>\n",
       "    </tr>\n",
       "    <tr>\n",
       "      <th>4</th>\n",
       "      <td>0</td>\n",
       "      <td>14177</td>\n",
       "      <td>53</td>\n",
       "      <td>среднее</td>\n",
       "      <td>1</td>\n",
       "      <td>гражданский брак</td>\n",
       "      <td>1</td>\n",
       "      <td>F</td>\n",
       "      <td>пенсионер</td>\n",
       "      <td>0</td>\n",
       "      <td>158616</td>\n",
       "      <td>сыграть свадьбу</td>\n",
       "      <td>свадьба</td>\n",
       "    </tr>\n",
       "  </tbody>\n",
       "</table>\n",
       "</div>"
      ],
      "text/plain": [
       "   children  days_employed  dob_years education  education_id  \\\n",
       "0         1           8437         42    высшее             0   \n",
       "1         1           4024         36   среднее             1   \n",
       "2         0           5623         33   среднее             1   \n",
       "3         3           4124         32   среднее             1   \n",
       "4         0          14177         53   среднее             1   \n",
       "\n",
       "      family_status  family_status_id gender income_type  debt  total_income  \\\n",
       "0   женат / замужем                 0      F   сотрудник     0        253875   \n",
       "1   женат / замужем                 0      F   сотрудник     0        112080   \n",
       "2   женат / замужем                 0      M   сотрудник     0        145885   \n",
       "3   женат / замужем                 0      M   сотрудник     0        267628   \n",
       "4  гражданский брак                 1      F   пенсионер     0        158616   \n",
       "\n",
       "                      purpose purpose_categorized  \n",
       "0               покупка жилья        недвижимость  \n",
       "1     приобретение автомобиля          автомобиль  \n",
       "2               покупка жилья        недвижимость  \n",
       "3  дополнительное образование         образование  \n",
       "4             сыграть свадьбу             свадьба  "
      ]
     },
     "metadata": {},
     "output_type": "display_data"
    }
   ],
   "source": [
    "df.head()"
   ]
  },
  {
   "cell_type": "markdown",
   "metadata": {},
   "source": [
    "**Вывод**"
   ]
  },
  {
   "cell_type": "markdown",
   "metadata": {},
   "source": [
    "Теперь цели получения кредита уместились в четыре основные категории и данные стали более удоными для проведения дальнейшего анализа."
   ]
  },
  {
   "attachments": {},
   "cell_type": "markdown",
   "metadata": {},
   "source": [
    "### 2.5 Категоризация данных"
   ]
  },
  {
   "cell_type": "markdown",
   "metadata": {},
   "source": [
    "Создадим новые датафреймы-словари education_dict и family_status_dict и проведем визуальную проверку корректности пар в столбцах education - education_id и family_status - family_status_id:"
   ]
  },
  {
   "cell_type": "code",
   "execution_count": 30,
   "metadata": {},
   "outputs": [],
   "source": [
    "education_dict = df[['education_id', 'education']]\n",
    "education_dict = education_dict.drop_duplicates().reset_index(drop=True)"
   ]
  },
  {
   "cell_type": "code",
   "execution_count": 31,
   "metadata": {},
   "outputs": [
    {
     "data": {
      "text/html": [
       "<div>\n",
       "<style scoped>\n",
       "    .dataframe tbody tr th:only-of-type {\n",
       "        vertical-align: middle;\n",
       "    }\n",
       "\n",
       "    .dataframe tbody tr th {\n",
       "        vertical-align: top;\n",
       "    }\n",
       "\n",
       "    .dataframe thead th {\n",
       "        text-align: right;\n",
       "    }\n",
       "</style>\n",
       "<table border=\"1\" class=\"dataframe\">\n",
       "  <thead>\n",
       "    <tr style=\"text-align: right;\">\n",
       "      <th></th>\n",
       "      <th>education_id</th>\n",
       "      <th>education</th>\n",
       "    </tr>\n",
       "  </thead>\n",
       "  <tbody>\n",
       "    <tr>\n",
       "      <th>0</th>\n",
       "      <td>0</td>\n",
       "      <td>высшее</td>\n",
       "    </tr>\n",
       "    <tr>\n",
       "      <th>1</th>\n",
       "      <td>1</td>\n",
       "      <td>среднее</td>\n",
       "    </tr>\n",
       "    <tr>\n",
       "      <th>2</th>\n",
       "      <td>2</td>\n",
       "      <td>неоконченное высшее</td>\n",
       "    </tr>\n",
       "    <tr>\n",
       "      <th>3</th>\n",
       "      <td>3</td>\n",
       "      <td>начальное</td>\n",
       "    </tr>\n",
       "    <tr>\n",
       "      <th>4</th>\n",
       "      <td>4</td>\n",
       "      <td>ученая степень</td>\n",
       "    </tr>\n",
       "  </tbody>\n",
       "</table>\n",
       "</div>"
      ],
      "text/plain": [
       "   education_id            education\n",
       "0             0               высшее\n",
       "1             1              среднее\n",
       "2             2  неоконченное высшее\n",
       "3             3            начальное\n",
       "4             4       ученая степень"
      ]
     },
     "metadata": {},
     "output_type": "display_data"
    }
   ],
   "source": [
    "education_dict  # проводим визуальную проверку"
   ]
  },
  {
   "cell_type": "code",
   "execution_count": 32,
   "metadata": {},
   "outputs": [],
   "source": [
    "family_status_dict = df[['family_status_id', 'family_status']]\n",
    "family_status_dict = family_status_dict.drop_duplicates().reset_index(drop=True)"
   ]
  },
  {
   "cell_type": "code",
   "execution_count": 33,
   "metadata": {},
   "outputs": [
    {
     "data": {
      "text/html": [
       "<div>\n",
       "<style scoped>\n",
       "    .dataframe tbody tr th:only-of-type {\n",
       "        vertical-align: middle;\n",
       "    }\n",
       "\n",
       "    .dataframe tbody tr th {\n",
       "        vertical-align: top;\n",
       "    }\n",
       "\n",
       "    .dataframe thead th {\n",
       "        text-align: right;\n",
       "    }\n",
       "</style>\n",
       "<table border=\"1\" class=\"dataframe\">\n",
       "  <thead>\n",
       "    <tr style=\"text-align: right;\">\n",
       "      <th></th>\n",
       "      <th>family_status_id</th>\n",
       "      <th>family_status</th>\n",
       "    </tr>\n",
       "  </thead>\n",
       "  <tbody>\n",
       "    <tr>\n",
       "      <th>0</th>\n",
       "      <td>0</td>\n",
       "      <td>женат / замужем</td>\n",
       "    </tr>\n",
       "    <tr>\n",
       "      <th>1</th>\n",
       "      <td>1</td>\n",
       "      <td>гражданский брак</td>\n",
       "    </tr>\n",
       "    <tr>\n",
       "      <th>2</th>\n",
       "      <td>2</td>\n",
       "      <td>вдовец / вдова</td>\n",
       "    </tr>\n",
       "    <tr>\n",
       "      <th>3</th>\n",
       "      <td>3</td>\n",
       "      <td>в разводе</td>\n",
       "    </tr>\n",
       "    <tr>\n",
       "      <th>4</th>\n",
       "      <td>4</td>\n",
       "      <td>Не женат / не замужем</td>\n",
       "    </tr>\n",
       "  </tbody>\n",
       "</table>\n",
       "</div>"
      ],
      "text/plain": [
       "   family_status_id          family_status\n",
       "0                 0        женат / замужем\n",
       "1                 1       гражданский брак\n",
       "2                 2         вдовец / вдова\n",
       "3                 3              в разводе\n",
       "4                 4  Не женат / не замужем"
      ]
     },
     "metadata": {},
     "output_type": "display_data"
    }
   ],
   "source": [
    "family_status_dict  # проводим визуальную проверку"
   ]
  },
  {
   "cell_type": "markdown",
   "metadata": {},
   "source": [
    "Словари созданы, наименования и числовые значения категорий корректны."
   ]
  },
  {
   "attachments": {},
   "cell_type": "markdown",
   "metadata": {},
   "source": [
    "Для категоризации клиентов банка по уровню дохода, определим необходимые диапазоны значений. Для этого можно воспользоваться процентилями, использовав метод `describe()`, или дискретизацию на основе квантилей `qcut()`."
   ]
  },
  {
   "cell_type": "code",
   "execution_count": 34,
   "metadata": {},
   "outputs": [
    {
     "data": {
      "text/plain": [
       "(107623.0, 142594.0]      5479\n",
       "(20666.999, 107623.0]     5364\n",
       "(195820.25, 2265604.0]    5364\n",
       "(142594.0, 195820.25]     5247\n",
       "Name: total_income, dtype: int64"
      ]
     },
     "execution_count": 34,
     "metadata": {},
     "output_type": "execute_result"
    }
   ],
   "source": [
    "income_quant = pd.qcut(df['total_income'], 4)\n",
    "income_quant.value_counts()"
   ]
  },
  {
   "cell_type": "markdown",
   "metadata": {},
   "source": [
    "Теперь с помощью функции проведем категоризацию и запишем данные в новый столбец income_categorized:"
   ]
  },
  {
   "cell_type": "code",
   "execution_count": 35,
   "metadata": {},
   "outputs": [],
   "source": [
    "def income_categorized(row):\n",
    "    if row <= 107623:\n",
    "        return 'низкий'\n",
    "    elif 107623 < row <= 142594:\n",
    "        return 'средний'\n",
    "    elif 195820 < row <= 2265604:\n",
    "        return 'выше среднего'\n",
    "    else:\n",
    "        return 'высокий'\n",
    "df['income_categorized'] = df['total_income'].apply(income_categorized)"
   ]
  },
  {
   "cell_type": "code",
   "execution_count": 36,
   "metadata": {},
   "outputs": [
    {
     "data": {
      "text/html": [
       "<div>\n",
       "<style scoped>\n",
       "    .dataframe tbody tr th:only-of-type {\n",
       "        vertical-align: middle;\n",
       "    }\n",
       "\n",
       "    .dataframe tbody tr th {\n",
       "        vertical-align: top;\n",
       "    }\n",
       "\n",
       "    .dataframe thead th {\n",
       "        text-align: right;\n",
       "    }\n",
       "</style>\n",
       "<table border=\"1\" class=\"dataframe\">\n",
       "  <thead>\n",
       "    <tr style=\"text-align: right;\">\n",
       "      <th></th>\n",
       "      <th>children</th>\n",
       "      <th>days_employed</th>\n",
       "      <th>dob_years</th>\n",
       "      <th>education</th>\n",
       "      <th>education_id</th>\n",
       "      <th>family_status</th>\n",
       "      <th>family_status_id</th>\n",
       "      <th>gender</th>\n",
       "      <th>income_type</th>\n",
       "      <th>debt</th>\n",
       "      <th>total_income</th>\n",
       "      <th>purpose</th>\n",
       "      <th>purpose_categorized</th>\n",
       "      <th>income_categorized</th>\n",
       "    </tr>\n",
       "  </thead>\n",
       "  <tbody>\n",
       "    <tr>\n",
       "      <th>0</th>\n",
       "      <td>1</td>\n",
       "      <td>8437</td>\n",
       "      <td>42</td>\n",
       "      <td>высшее</td>\n",
       "      <td>0</td>\n",
       "      <td>женат / замужем</td>\n",
       "      <td>0</td>\n",
       "      <td>F</td>\n",
       "      <td>сотрудник</td>\n",
       "      <td>0</td>\n",
       "      <td>253875</td>\n",
       "      <td>покупка жилья</td>\n",
       "      <td>недвижимость</td>\n",
       "      <td>выше среднего</td>\n",
       "    </tr>\n",
       "    <tr>\n",
       "      <th>1</th>\n",
       "      <td>1</td>\n",
       "      <td>4024</td>\n",
       "      <td>36</td>\n",
       "      <td>среднее</td>\n",
       "      <td>1</td>\n",
       "      <td>женат / замужем</td>\n",
       "      <td>0</td>\n",
       "      <td>F</td>\n",
       "      <td>сотрудник</td>\n",
       "      <td>0</td>\n",
       "      <td>112080</td>\n",
       "      <td>приобретение автомобиля</td>\n",
       "      <td>автомобиль</td>\n",
       "      <td>средний</td>\n",
       "    </tr>\n",
       "    <tr>\n",
       "      <th>2</th>\n",
       "      <td>0</td>\n",
       "      <td>5623</td>\n",
       "      <td>33</td>\n",
       "      <td>среднее</td>\n",
       "      <td>1</td>\n",
       "      <td>женат / замужем</td>\n",
       "      <td>0</td>\n",
       "      <td>M</td>\n",
       "      <td>сотрудник</td>\n",
       "      <td>0</td>\n",
       "      <td>145885</td>\n",
       "      <td>покупка жилья</td>\n",
       "      <td>недвижимость</td>\n",
       "      <td>высокий</td>\n",
       "    </tr>\n",
       "    <tr>\n",
       "      <th>3</th>\n",
       "      <td>3</td>\n",
       "      <td>4124</td>\n",
       "      <td>32</td>\n",
       "      <td>среднее</td>\n",
       "      <td>1</td>\n",
       "      <td>женат / замужем</td>\n",
       "      <td>0</td>\n",
       "      <td>M</td>\n",
       "      <td>сотрудник</td>\n",
       "      <td>0</td>\n",
       "      <td>267628</td>\n",
       "      <td>дополнительное образование</td>\n",
       "      <td>образование</td>\n",
       "      <td>выше среднего</td>\n",
       "    </tr>\n",
       "    <tr>\n",
       "      <th>4</th>\n",
       "      <td>0</td>\n",
       "      <td>14177</td>\n",
       "      <td>53</td>\n",
       "      <td>среднее</td>\n",
       "      <td>1</td>\n",
       "      <td>гражданский брак</td>\n",
       "      <td>1</td>\n",
       "      <td>F</td>\n",
       "      <td>пенсионер</td>\n",
       "      <td>0</td>\n",
       "      <td>158616</td>\n",
       "      <td>сыграть свадьбу</td>\n",
       "      <td>свадьба</td>\n",
       "      <td>высокий</td>\n",
       "    </tr>\n",
       "    <tr>\n",
       "      <th>5</th>\n",
       "      <td>0</td>\n",
       "      <td>926</td>\n",
       "      <td>27</td>\n",
       "      <td>высшее</td>\n",
       "      <td>0</td>\n",
       "      <td>гражданский брак</td>\n",
       "      <td>1</td>\n",
       "      <td>M</td>\n",
       "      <td>компаньон</td>\n",
       "      <td>0</td>\n",
       "      <td>255763</td>\n",
       "      <td>покупка жилья</td>\n",
       "      <td>недвижимость</td>\n",
       "      <td>выше среднего</td>\n",
       "    </tr>\n",
       "    <tr>\n",
       "      <th>6</th>\n",
       "      <td>0</td>\n",
       "      <td>2879</td>\n",
       "      <td>43</td>\n",
       "      <td>высшее</td>\n",
       "      <td>0</td>\n",
       "      <td>женат / замужем</td>\n",
       "      <td>0</td>\n",
       "      <td>F</td>\n",
       "      <td>компаньон</td>\n",
       "      <td>0</td>\n",
       "      <td>240525</td>\n",
       "      <td>операции с жильем</td>\n",
       "      <td>недвижимость</td>\n",
       "      <td>выше среднего</td>\n",
       "    </tr>\n",
       "    <tr>\n",
       "      <th>7</th>\n",
       "      <td>0</td>\n",
       "      <td>152</td>\n",
       "      <td>50</td>\n",
       "      <td>среднее</td>\n",
       "      <td>1</td>\n",
       "      <td>женат / замужем</td>\n",
       "      <td>0</td>\n",
       "      <td>M</td>\n",
       "      <td>сотрудник</td>\n",
       "      <td>0</td>\n",
       "      <td>135823</td>\n",
       "      <td>образование</td>\n",
       "      <td>образование</td>\n",
       "      <td>средний</td>\n",
       "    </tr>\n",
       "    <tr>\n",
       "      <th>8</th>\n",
       "      <td>2</td>\n",
       "      <td>6929</td>\n",
       "      <td>35</td>\n",
       "      <td>высшее</td>\n",
       "      <td>0</td>\n",
       "      <td>гражданский брак</td>\n",
       "      <td>1</td>\n",
       "      <td>F</td>\n",
       "      <td>сотрудник</td>\n",
       "      <td>0</td>\n",
       "      <td>95856</td>\n",
       "      <td>на проведение свадьбы</td>\n",
       "      <td>свадьба</td>\n",
       "      <td>низкий</td>\n",
       "    </tr>\n",
       "    <tr>\n",
       "      <th>9</th>\n",
       "      <td>0</td>\n",
       "      <td>2188</td>\n",
       "      <td>41</td>\n",
       "      <td>среднее</td>\n",
       "      <td>1</td>\n",
       "      <td>женат / замужем</td>\n",
       "      <td>0</td>\n",
       "      <td>M</td>\n",
       "      <td>сотрудник</td>\n",
       "      <td>0</td>\n",
       "      <td>144425</td>\n",
       "      <td>покупка жилья для семьи</td>\n",
       "      <td>недвижимость</td>\n",
       "      <td>высокий</td>\n",
       "    </tr>\n",
       "  </tbody>\n",
       "</table>\n",
       "</div>"
      ],
      "text/plain": [
       "   children  days_employed  dob_years education  education_id  \\\n",
       "0         1           8437         42    высшее             0   \n",
       "1         1           4024         36   среднее             1   \n",
       "2         0           5623         33   среднее             1   \n",
       "3         3           4124         32   среднее             1   \n",
       "4         0          14177         53   среднее             1   \n",
       "5         0            926         27    высшее             0   \n",
       "6         0           2879         43    высшее             0   \n",
       "7         0            152         50   среднее             1   \n",
       "8         2           6929         35    высшее             0   \n",
       "9         0           2188         41   среднее             1   \n",
       "\n",
       "      family_status  family_status_id gender income_type  debt  total_income  \\\n",
       "0   женат / замужем                 0      F   сотрудник     0        253875   \n",
       "1   женат / замужем                 0      F   сотрудник     0        112080   \n",
       "2   женат / замужем                 0      M   сотрудник     0        145885   \n",
       "3   женат / замужем                 0      M   сотрудник     0        267628   \n",
       "4  гражданский брак                 1      F   пенсионер     0        158616   \n",
       "5  гражданский брак                 1      M   компаньон     0        255763   \n",
       "6   женат / замужем                 0      F   компаньон     0        240525   \n",
       "7   женат / замужем                 0      M   сотрудник     0        135823   \n",
       "8  гражданский брак                 1      F   сотрудник     0         95856   \n",
       "9   женат / замужем                 0      M   сотрудник     0        144425   \n",
       "\n",
       "                      purpose purpose_categorized income_categorized  \n",
       "0               покупка жилья        недвижимость      выше среднего  \n",
       "1     приобретение автомобиля          автомобиль            средний  \n",
       "2               покупка жилья        недвижимость            высокий  \n",
       "3  дополнительное образование         образование      выше среднего  \n",
       "4             сыграть свадьбу             свадьба            высокий  \n",
       "5               покупка жилья        недвижимость      выше среднего  \n",
       "6           операции с жильем        недвижимость      выше среднего  \n",
       "7                 образование         образование            средний  \n",
       "8       на проведение свадьбы             свадьба             низкий  \n",
       "9     покупка жилья для семьи        недвижимость            высокий  "
      ]
     },
     "metadata": {},
     "output_type": "display_data"
    }
   ],
   "source": [
    "df.head(10)  # проверка таблицы"
   ]
  },
  {
   "cell_type": "markdown",
   "metadata": {},
   "source": [
    "**Вывод**"
   ]
  },
  {
   "cell_type": "markdown",
   "metadata": {},
   "source": [
    "Категоризация клиентов по уровню дохода завершена, ее можно было провести, используя другие критерии, к примеру на основе каких-либо статистических данных. Но в данном случае, категории выделены на основе распределения данных, а не фактических числовых границ интервалов."
   ]
  },
  {
   "cell_type": "markdown",
   "metadata": {},
   "source": [
    "## 3 Ответы на поставленные вопросы"
   ]
  },
  {
   "attachments": {},
   "cell_type": "markdown",
   "metadata": {},
   "source": [
    "### 3.1 Есть ли зависимость между наличием детей и возвратом кредита в срок?"
   ]
  },
  {
   "attachments": {},
   "cell_type": "markdown",
   "metadata": {},
   "source": [
    "Для ответа на вопрос, создаем таблицу, сгруппированную по количеству детей, где 'count' - количество клиентов данной группы, 'sum' - количество клиентов, нарушивших срок оплаты по кредиту, a 'percent' - их соотношение в процентах."
   ]
  },
  {
   "cell_type": "code",
   "execution_count": 37,
   "metadata": {},
   "outputs": [
    {
     "data": {
      "text/html": [
       "<div>\n",
       "<style scoped>\n",
       "    .dataframe tbody tr th:only-of-type {\n",
       "        vertical-align: middle;\n",
       "    }\n",
       "\n",
       "    .dataframe tbody tr th {\n",
       "        vertical-align: top;\n",
       "    }\n",
       "\n",
       "    .dataframe thead tr th {\n",
       "        text-align: left;\n",
       "    }\n",
       "\n",
       "    .dataframe thead tr:last-of-type th {\n",
       "        text-align: right;\n",
       "    }\n",
       "</style>\n",
       "<table border=\"1\" class=\"dataframe\">\n",
       "  <thead>\n",
       "    <tr>\n",
       "      <th></th>\n",
       "      <th>count</th>\n",
       "      <th>sum</th>\n",
       "      <th>percent</th>\n",
       "    </tr>\n",
       "    <tr>\n",
       "      <th></th>\n",
       "      <th>debt</th>\n",
       "      <th>debt</th>\n",
       "      <th></th>\n",
       "    </tr>\n",
       "    <tr>\n",
       "      <th>children</th>\n",
       "      <th></th>\n",
       "      <th></th>\n",
       "      <th></th>\n",
       "    </tr>\n",
       "  </thead>\n",
       "  <tbody>\n",
       "    <tr>\n",
       "      <th>5</th>\n",
       "      <td>9</td>\n",
       "      <td>0</td>\n",
       "      <td>0.00</td>\n",
       "    </tr>\n",
       "    <tr>\n",
       "      <th>0</th>\n",
       "      <td>14138</td>\n",
       "      <td>1064</td>\n",
       "      <td>7.53</td>\n",
       "    </tr>\n",
       "    <tr>\n",
       "      <th>3</th>\n",
       "      <td>330</td>\n",
       "      <td>27</td>\n",
       "      <td>8.18</td>\n",
       "    </tr>\n",
       "    <tr>\n",
       "      <th>1</th>\n",
       "      <td>4808</td>\n",
       "      <td>444</td>\n",
       "      <td>9.23</td>\n",
       "    </tr>\n",
       "    <tr>\n",
       "      <th>2</th>\n",
       "      <td>2128</td>\n",
       "      <td>202</td>\n",
       "      <td>9.49</td>\n",
       "    </tr>\n",
       "    <tr>\n",
       "      <th>4</th>\n",
       "      <td>41</td>\n",
       "      <td>4</td>\n",
       "      <td>9.76</td>\n",
       "    </tr>\n",
       "  </tbody>\n",
       "</table>\n",
       "</div>"
      ],
      "text/plain": [
       "          count   sum percent\n",
       "           debt  debt        \n",
       "children                     \n",
       "5             9     0    0.00\n",
       "0         14138  1064    7.53\n",
       "3           330    27    8.18\n",
       "1          4808   444    9.23\n",
       "2          2128   202    9.49\n",
       "4            41     4    9.76"
      ]
     },
     "metadata": {},
     "output_type": "display_data"
    }
   ],
   "source": [
    "children_debt = pd.pivot_table(df,\n",
    "                              index=['children'],\n",
    "                              values=['debt'],\n",
    "                              aggfunc=['count', 'sum'])\n",
    "children_debt['percent'] = round(children_debt['sum'] / children_debt['count'] * 100, 2)\n",
    "display(children_debt.sort_values('percent'))"
   ]
  },
  {
   "cell_type": "markdown",
   "metadata": {},
   "source": [
    "**Вывод**"
   ]
  },
  {
   "cell_type": "markdown",
   "metadata": {},
   "source": [
    "Зависимость между наличием детей и возвратом кредита в срок прослеживается. В соответствии с приведенными данными, наличие детей увеличивает вероятность появления просроченной задолженности. Вероятно, это связано с возрастанием финансовой нагрузки при увеличении количества детей в семье. Интересная особенность прослеживается у клиентов с 5-ю детьми - они не имеют просрочек. При этом, по данной категории данные нельзя считать репрезентативными, поскольку таких клиентов всего 9. Клиенты с тремя детьми также выделяются из общего тренда - они имеют меньшую вероятность задержки платежей в сравнении с клиентами, у которых один, два или четыре ребенка. Возможно, это связано с наличием некоторых льгот для многодетных семей, которые начинают получать семьи с 3-мя детьми."
   ]
  },
  {
   "cell_type": "markdown",
   "metadata": {},
   "source": [
    "<div class=\"alert alert-success\">\n",
    "<font size=\"5\"><b>Комментарий ревьюера</b></font>\n",
    "\n",
    "Успех: Вывод не противоречит полученному результату. \n",
    "\n",
    "</div>"
   ]
  },
  {
   "attachments": {},
   "cell_type": "markdown",
   "metadata": {},
   "source": [
    "### 3.2 Есть ли зависимость между семейным положением и возвратом кредита в срок?"
   ]
  },
  {
   "attachments": {},
   "cell_type": "markdown",
   "metadata": {},
   "source": [
    "Для ответа на вопрос, создаем таблицу, сгруппированную по категории семейного положения, где 'count' - количество клиентов данной группы, 'sum' - количество клиентов, нарушивших срок оплаты по кредиту, a 'percent' - их соотношение в процентах."
   ]
  },
  {
   "cell_type": "code",
   "execution_count": 38,
   "metadata": {},
   "outputs": [
    {
     "data": {
      "text/html": [
       "<div>\n",
       "<style scoped>\n",
       "    .dataframe tbody tr th:only-of-type {\n",
       "        vertical-align: middle;\n",
       "    }\n",
       "\n",
       "    .dataframe tbody tr th {\n",
       "        vertical-align: top;\n",
       "    }\n",
       "\n",
       "    .dataframe thead tr th {\n",
       "        text-align: left;\n",
       "    }\n",
       "\n",
       "    .dataframe thead tr:last-of-type th {\n",
       "        text-align: right;\n",
       "    }\n",
       "</style>\n",
       "<table border=\"1\" class=\"dataframe\">\n",
       "  <thead>\n",
       "    <tr>\n",
       "      <th></th>\n",
       "      <th>count</th>\n",
       "      <th>sum</th>\n",
       "      <th>percent</th>\n",
       "    </tr>\n",
       "    <tr>\n",
       "      <th></th>\n",
       "      <th>debt</th>\n",
       "      <th>debt</th>\n",
       "      <th></th>\n",
       "    </tr>\n",
       "    <tr>\n",
       "      <th>family_status</th>\n",
       "      <th></th>\n",
       "      <th></th>\n",
       "      <th></th>\n",
       "    </tr>\n",
       "  </thead>\n",
       "  <tbody>\n",
       "    <tr>\n",
       "      <th>вдовец / вдова</th>\n",
       "      <td>959</td>\n",
       "      <td>63</td>\n",
       "      <td>6.57</td>\n",
       "    </tr>\n",
       "    <tr>\n",
       "      <th>в разводе</th>\n",
       "      <td>1195</td>\n",
       "      <td>85</td>\n",
       "      <td>7.11</td>\n",
       "    </tr>\n",
       "    <tr>\n",
       "      <th>женат / замужем</th>\n",
       "      <td>12339</td>\n",
       "      <td>931</td>\n",
       "      <td>7.55</td>\n",
       "    </tr>\n",
       "    <tr>\n",
       "      <th>гражданский брак</th>\n",
       "      <td>4151</td>\n",
       "      <td>388</td>\n",
       "      <td>9.35</td>\n",
       "    </tr>\n",
       "    <tr>\n",
       "      <th>Не женат / не замужем</th>\n",
       "      <td>2810</td>\n",
       "      <td>274</td>\n",
       "      <td>9.75</td>\n",
       "    </tr>\n",
       "  </tbody>\n",
       "</table>\n",
       "</div>"
      ],
      "text/plain": [
       "                       count  sum percent\n",
       "                        debt debt        \n",
       "family_status                            \n",
       "вдовец / вдова           959   63    6.57\n",
       "в разводе               1195   85    7.11\n",
       "женат / замужем        12339  931    7.55\n",
       "гражданский брак        4151  388    9.35\n",
       "Не женат / не замужем   2810  274    9.75"
      ]
     },
     "metadata": {},
     "output_type": "display_data"
    }
   ],
   "source": [
    "family_status_debt = pd.pivot_table(df,\n",
    "                              index=['family_status'],\n",
    "                              values=['debt'],\n",
    "                              aggfunc=['count', 'sum'])\n",
    "family_status_debt['percent'] = round(family_status_debt['sum'] / family_status_debt['count'] * 100, 2)\n",
    "display(family_status_debt.sort_values('percent'))"
   ]
  },
  {
   "cell_type": "markdown",
   "metadata": {},
   "source": [
    "**Вывод**"
   ]
  },
  {
   "cell_type": "markdown",
   "metadata": {},
   "source": [
    "Люди, никогда не имевшие законных отношений, более склонны к нарушению обязательств по срокам оплаты кредита. Согласно полученным данным, просрочки платежей допускают более 9.35% людей, относящихся к категориям \"гражданский брак\" и  \"Не женат, не замужем\", в то время, как среди клиентов других категорий нарушения допускают не более 7,55% заемщиков. Самый низкий показатель должников (6,57%) наблюдается среди клиентов, относящихся к категории \"вдова/вдовец\". Таким образом, наличие документа о законном браке (в настоящем или прошлом) может быть положительно оценено при выдаче кредита."
   ]
  },
  {
   "attachments": {},
   "cell_type": "markdown",
   "metadata": {},
   "source": [
    "### 3.3 Есть ли зависимость между уровнем дохода и возвратом кредита в срок?"
   ]
  },
  {
   "attachments": {},
   "cell_type": "markdown",
   "metadata": {},
   "source": [
    "Для ответа на вопрос, создаем таблицу, сгруппированную по категориям уровня дохода, где 'count' - количество клиентов данной группы, 'sum' - количество клиентов, нарушивших срок оплаты по кредиту, a 'percent' - их соотношение в процентах."
   ]
  },
  {
   "cell_type": "code",
   "execution_count": 39,
   "metadata": {},
   "outputs": [
    {
     "data": {
      "text/html": [
       "<div>\n",
       "<style scoped>\n",
       "    .dataframe tbody tr th:only-of-type {\n",
       "        vertical-align: middle;\n",
       "    }\n",
       "\n",
       "    .dataframe tbody tr th {\n",
       "        vertical-align: top;\n",
       "    }\n",
       "\n",
       "    .dataframe thead tr th {\n",
       "        text-align: left;\n",
       "    }\n",
       "\n",
       "    .dataframe thead tr:last-of-type th {\n",
       "        text-align: right;\n",
       "    }\n",
       "</style>\n",
       "<table border=\"1\" class=\"dataframe\">\n",
       "  <thead>\n",
       "    <tr>\n",
       "      <th></th>\n",
       "      <th>count</th>\n",
       "      <th>sum</th>\n",
       "      <th>percent</th>\n",
       "    </tr>\n",
       "    <tr>\n",
       "      <th></th>\n",
       "      <th>debt</th>\n",
       "      <th>debt</th>\n",
       "      <th></th>\n",
       "    </tr>\n",
       "    <tr>\n",
       "      <th>income_categorized</th>\n",
       "      <th></th>\n",
       "      <th></th>\n",
       "      <th></th>\n",
       "    </tr>\n",
       "  </thead>\n",
       "  <tbody>\n",
       "    <tr>\n",
       "      <th>выше среднего</th>\n",
       "      <td>5364</td>\n",
       "      <td>383</td>\n",
       "      <td>7.14</td>\n",
       "    </tr>\n",
       "    <tr>\n",
       "      <th>низкий</th>\n",
       "      <td>5364</td>\n",
       "      <td>427</td>\n",
       "      <td>7.96</td>\n",
       "    </tr>\n",
       "    <tr>\n",
       "      <th>высокий</th>\n",
       "      <td>5247</td>\n",
       "      <td>448</td>\n",
       "      <td>8.54</td>\n",
       "    </tr>\n",
       "    <tr>\n",
       "      <th>средний</th>\n",
       "      <td>5479</td>\n",
       "      <td>483</td>\n",
       "      <td>8.82</td>\n",
       "    </tr>\n",
       "  </tbody>\n",
       "</table>\n",
       "</div>"
      ],
      "text/plain": [
       "                   count  sum percent\n",
       "                    debt debt        \n",
       "income_categorized                   \n",
       "выше среднего       5364  383    7.14\n",
       "низкий              5364  427    7.96\n",
       "высокий             5247  448    8.54\n",
       "средний             5479  483    8.82"
      ]
     },
     "metadata": {},
     "output_type": "display_data"
    }
   ],
   "source": [
    "income_categorized_debt = pd.pivot_table(df,\n",
    "                              index=['income_categorized'],\n",
    "                              values=['debt'],\n",
    "                              aggfunc=['count', 'sum'])\n",
    "income_categorized_debt['percent'] = round(income_categorized_debt['sum'] / income_categorized_debt['count'] * 100, 2)\n",
    "display(income_categorized_debt.sort_values('percent'))"
   ]
  },
  {
   "cell_type": "markdown",
   "metadata": {},
   "source": [
    "**Вывод**"
   ]
  },
  {
   "cell_type": "markdown",
   "metadata": {},
   "source": [
    "Самый низкий показатель должников наблюдается в группе с доходом выше среднего. В группах с высоким и средним доходом заемщики выглядят наименее дисциплинированными. Возможно, со стороны клиентов имеет место завышение уровня доходов при подаче заявки на кредит."
   ]
  },
  {
   "attachments": {},
   "cell_type": "markdown",
   "metadata": {},
   "source": [
    "### 3.4 Как разные цели кредита влияют на его возврат в срок?"
   ]
  },
  {
   "attachments": {},
   "cell_type": "markdown",
   "metadata": {},
   "source": [
    "Для ответа на вопрос, создаем таблицу, сгруппированную по целям получения кредита, где 'count' - количество клиентов данной группы, 'sum' - количество клиентов, нарушивших срок оплаты по кредиту, a 'percent' - их соотношение в процентах."
   ]
  },
  {
   "cell_type": "code",
   "execution_count": 40,
   "metadata": {},
   "outputs": [
    {
     "data": {
      "text/html": [
       "<div>\n",
       "<style scoped>\n",
       "    .dataframe tbody tr th:only-of-type {\n",
       "        vertical-align: middle;\n",
       "    }\n",
       "\n",
       "    .dataframe tbody tr th {\n",
       "        vertical-align: top;\n",
       "    }\n",
       "\n",
       "    .dataframe thead tr th {\n",
       "        text-align: left;\n",
       "    }\n",
       "\n",
       "    .dataframe thead tr:last-of-type th {\n",
       "        text-align: right;\n",
       "    }\n",
       "</style>\n",
       "<table border=\"1\" class=\"dataframe\">\n",
       "  <thead>\n",
       "    <tr>\n",
       "      <th></th>\n",
       "      <th>count</th>\n",
       "      <th>sum</th>\n",
       "      <th>percent</th>\n",
       "    </tr>\n",
       "    <tr>\n",
       "      <th></th>\n",
       "      <th>debt</th>\n",
       "      <th>debt</th>\n",
       "      <th></th>\n",
       "    </tr>\n",
       "    <tr>\n",
       "      <th>purpose_categorized</th>\n",
       "      <th></th>\n",
       "      <th></th>\n",
       "      <th></th>\n",
       "    </tr>\n",
       "  </thead>\n",
       "  <tbody>\n",
       "    <tr>\n",
       "      <th>недвижимость</th>\n",
       "      <td>10811</td>\n",
       "      <td>782</td>\n",
       "      <td>7.23</td>\n",
       "    </tr>\n",
       "    <tr>\n",
       "      <th>свадьба</th>\n",
       "      <td>2324</td>\n",
       "      <td>186</td>\n",
       "      <td>8.00</td>\n",
       "    </tr>\n",
       "    <tr>\n",
       "      <th>образование</th>\n",
       "      <td>4013</td>\n",
       "      <td>370</td>\n",
       "      <td>9.22</td>\n",
       "    </tr>\n",
       "    <tr>\n",
       "      <th>автомобиль</th>\n",
       "      <td>4306</td>\n",
       "      <td>403</td>\n",
       "      <td>9.36</td>\n",
       "    </tr>\n",
       "  </tbody>\n",
       "</table>\n",
       "</div>"
      ],
      "text/plain": [
       "                     count  sum percent\n",
       "                      debt debt        \n",
       "purpose_categorized                    \n",
       "недвижимость         10811  782    7.23\n",
       "свадьба               2324  186    8.00\n",
       "образование           4013  370    9.22\n",
       "автомобиль            4306  403    9.36"
      ]
     },
     "metadata": {},
     "output_type": "display_data"
    }
   ],
   "source": [
    "purpose_debt = pd.pivot_table(df,\n",
    "                              index=['purpose_categorized'],\n",
    "                              values=['debt'],\n",
    "                              aggfunc=['count', 'sum'])\n",
    "purpose_debt['percent'] = round(purpose_debt['sum'] / purpose_debt['count'] * 100, 2)\n",
    "display(purpose_debt.sort_values('percent'))"
   ]
  },
  {
   "cell_type": "markdown",
   "metadata": {},
   "source": [
    "**Вывод**"
   ]
  },
  {
   "cell_type": "markdown",
   "metadata": {},
   "source": [
    "Клиенты, получающие кредиты, связанные с недвижимостью, представлены в самой многочисленной категории, и при этом являются самыми ответственными заемщиками. Самый высокий процент просрочек наблюдается среди клиентов, указавших целью кредита приобретение автомобиля."
   ]
  },
  {
   "cell_type": "markdown",
   "metadata": {},
   "source": [
    "## 4 Общий вывод"
   ]
  },
  {
   "cell_type": "markdown",
   "metadata": {},
   "source": [
    "В рамках данного проекта обнаружены и устранены проблемы в данных, проведена категоризация клиентов, на основании которой удалось установить зависимости по возврату кредита в срок во всех категориях. Установлено, что самыми ответственными заемщиками являются клиенты без детей, при этом когда-либо состоящие в законном браке, с доходом выше среднего и получающие кредиты, связанные с недвижимостью. И, напротив, банку стоит проявлять осторожность при выдаче кредитов клиентам с детьми, людям, никогда не состоявшим в законных отношениях, тщательнее проверять документы, подтверждающие высокий уровень дохода и оценивать дополнительные риски, когда целью получения кредита является покупка автомобиля."
   ]
  }
 ],
 "metadata": {
  "ExecuteTimeLog": [
   {
    "duration": 2279,
    "start_time": "2021-12-19T05:38:02.403Z"
   },
   {
    "duration": 1769,
    "start_time": "2021-12-19T05:38:38.133Z"
   },
   {
    "duration": 75,
    "start_time": "2021-12-19T05:39:00.589Z"
   },
   {
    "duration": 57,
    "start_time": "2021-12-19T05:45:50.098Z"
   },
   {
    "duration": 59,
    "start_time": "2021-12-19T05:48:34.158Z"
   },
   {
    "duration": 63,
    "start_time": "2021-12-19T05:49:43.255Z"
   },
   {
    "duration": 68,
    "start_time": "2021-12-19T05:52:57.037Z"
   },
   {
    "duration": 72,
    "start_time": "2021-12-19T06:00:30.641Z"
   },
   {
    "duration": 65,
    "start_time": "2021-12-19T06:44:55.237Z"
   },
   {
    "duration": 69,
    "start_time": "2021-12-19T06:52:27.583Z"
   },
   {
    "duration": 76,
    "start_time": "2021-12-19T06:57:29.773Z"
   },
   {
    "duration": 72,
    "start_time": "2021-12-19T06:58:06.003Z"
   },
   {
    "duration": 70,
    "start_time": "2021-12-19T06:59:23.655Z"
   },
   {
    "duration": 69,
    "start_time": "2021-12-19T06:59:36.909Z"
   },
   {
    "duration": 355,
    "start_time": "2022-01-14T13:12:57.141Z"
   },
   {
    "duration": 753,
    "start_time": "2022-01-14T13:13:20.591Z"
   },
   {
    "duration": 5,
    "start_time": "2022-01-14T13:13:21.346Z"
   },
   {
    "duration": 8,
    "start_time": "2022-01-14T13:19:30.373Z"
   },
   {
    "duration": 346,
    "start_time": "2022-01-14T13:25:15.410Z"
   },
   {
    "duration": 30,
    "start_time": "2022-01-14T13:25:55.728Z"
   },
   {
    "duration": 63,
    "start_time": "2022-01-14T13:28:37.656Z"
   },
   {
    "duration": 36,
    "start_time": "2022-01-14T13:35:58.325Z"
   },
   {
    "duration": 5,
    "start_time": "2022-02-03T17:02:38.485Z"
   },
   {
    "duration": 4,
    "start_time": "2022-02-03T17:02:40.757Z"
   },
   {
    "duration": 4,
    "start_time": "2022-02-03T17:02:45.002Z"
   },
   {
    "duration": 4,
    "start_time": "2022-02-03T17:02:46.681Z"
   },
   {
    "duration": 3,
    "start_time": "2022-02-03T17:02:49.805Z"
   },
   {
    "duration": 431,
    "start_time": "2022-02-03T17:41:11.125Z"
   },
   {
    "duration": 1220,
    "start_time": "2022-02-03T17:41:25.809Z"
   },
   {
    "duration": 50,
    "start_time": "2022-02-03T17:41:41.052Z"
   },
   {
    "duration": 143,
    "start_time": "2022-02-03T17:45:46.537Z"
   },
   {
    "duration": 171,
    "start_time": "2022-02-05T06:31:44.150Z"
   },
   {
    "duration": 164,
    "start_time": "2022-02-05T06:34:24.478Z"
   },
   {
    "duration": 128,
    "start_time": "2022-02-05T06:34:43.319Z"
   },
   {
    "duration": 745,
    "start_time": "2022-02-05T06:34:56.225Z"
   },
   {
    "duration": 677,
    "start_time": "2022-02-05T06:35:06.119Z"
   },
   {
    "duration": 1504,
    "start_time": "2022-02-05T06:35:38.826Z"
   },
   {
    "duration": 1711,
    "start_time": "2022-02-05T06:35:49.091Z"
   },
   {
    "duration": 315,
    "start_time": "2022-02-05T06:36:07.283Z"
   },
   {
    "duration": 129,
    "start_time": "2022-02-05T06:36:23.830Z"
   },
   {
    "duration": 92,
    "start_time": "2022-02-05T06:36:49.542Z"
   },
   {
    "duration": 155,
    "start_time": "2022-02-05T06:37:17.645Z"
   },
   {
    "duration": 7,
    "start_time": "2022-02-05T07:09:27.172Z"
   },
   {
    "duration": 15,
    "start_time": "2022-02-05T07:17:01.614Z"
   },
   {
    "duration": 12,
    "start_time": "2022-02-05T07:18:24.093Z"
   },
   {
    "duration": 10,
    "start_time": "2022-02-05T07:18:41.759Z"
   },
   {
    "duration": 10,
    "start_time": "2022-02-05T07:18:49.308Z"
   },
   {
    "duration": 343,
    "start_time": "2022-02-05T07:30:56.533Z"
   },
   {
    "duration": 86,
    "start_time": "2022-02-05T07:31:43.182Z"
   },
   {
    "duration": 10,
    "start_time": "2022-02-05T07:31:54.404Z"
   },
   {
    "duration": 7,
    "start_time": "2022-02-05T07:31:56.724Z"
   },
   {
    "duration": 363,
    "start_time": "2022-02-05T07:32:01.233Z"
   },
   {
    "duration": 3,
    "start_time": "2022-02-05T07:33:59.907Z"
   },
   {
    "duration": 9,
    "start_time": "2022-02-05T07:39:26.106Z"
   },
   {
    "duration": 5,
    "start_time": "2022-02-05T07:39:36.532Z"
   },
   {
    "duration": 4,
    "start_time": "2022-02-05T07:43:29.871Z"
   },
   {
    "duration": 11,
    "start_time": "2022-02-05T07:44:05.004Z"
   },
   {
    "duration": 11,
    "start_time": "2022-02-05T07:46:53.364Z"
   },
   {
    "duration": 871,
    "start_time": "2022-02-07T12:06:36.894Z"
   },
   {
    "duration": 20,
    "start_time": "2022-02-07T12:06:45.256Z"
   },
   {
    "duration": 425,
    "start_time": "2022-02-07T12:07:00.604Z"
   },
   {
    "duration": 333,
    "start_time": "2022-02-07T12:07:23.587Z"
   },
   {
    "duration": 13,
    "start_time": "2022-02-07T12:07:57.851Z"
   },
   {
    "duration": 104,
    "start_time": "2022-02-07T12:10:58.476Z"
   },
   {
    "duration": 10,
    "start_time": "2022-02-07T12:11:40.251Z"
   },
   {
    "duration": 11,
    "start_time": "2022-02-07T12:11:47.150Z"
   },
   {
    "duration": 20,
    "start_time": "2022-02-07T12:11:51.872Z"
   },
   {
    "duration": 10,
    "start_time": "2022-02-07T12:11:54.401Z"
   },
   {
    "duration": 135,
    "start_time": "2022-02-07T12:12:01.662Z"
   },
   {
    "duration": 15,
    "start_time": "2022-02-07T12:12:07.960Z"
   },
   {
    "duration": 7,
    "start_time": "2022-02-07T12:12:11.880Z"
   },
   {
    "duration": 10,
    "start_time": "2022-02-07T12:12:16.496Z"
   },
   {
    "duration": 128,
    "start_time": "2022-02-07T12:42:10.381Z"
   },
   {
    "duration": 830,
    "start_time": "2022-02-07T12:42:54.597Z"
   },
   {
    "duration": 28,
    "start_time": "2022-02-07T12:42:55.431Z"
   },
   {
    "duration": 6,
    "start_time": "2022-02-07T12:42:55.462Z"
   },
   {
    "duration": 7,
    "start_time": "2022-02-07T12:42:55.470Z"
   },
   {
    "duration": 6,
    "start_time": "2022-02-07T12:42:55.479Z"
   },
   {
    "duration": 18,
    "start_time": "2022-02-07T12:42:55.487Z"
   },
   {
    "duration": 701,
    "start_time": "2022-02-09T11:43:42.710Z"
   },
   {
    "duration": 15,
    "start_time": "2022-02-09T11:44:02.663Z"
   },
   {
    "duration": 6,
    "start_time": "2022-02-09T11:44:08.772Z"
   },
   {
    "duration": 6,
    "start_time": "2022-02-09T11:44:11.655Z"
   },
   {
    "duration": 71,
    "start_time": "2022-02-09T13:04:46.890Z"
   },
   {
    "duration": 8,
    "start_time": "2022-02-09T13:10:01.481Z"
   },
   {
    "duration": 7,
    "start_time": "2022-02-09T13:10:24.678Z"
   },
   {
    "duration": 10,
    "start_time": "2022-02-09T13:11:51.512Z"
   },
   {
    "duration": 9,
    "start_time": "2022-02-09T13:12:43.451Z"
   },
   {
    "duration": 9,
    "start_time": "2022-02-09T13:12:57.708Z"
   },
   {
    "duration": 66,
    "start_time": "2022-02-09T13:24:56.890Z"
   },
   {
    "duration": 140,
    "start_time": "2022-02-09T13:25:09.581Z"
   },
   {
    "duration": 5,
    "start_time": "2022-02-09T13:32:25.242Z"
   },
   {
    "duration": 6,
    "start_time": "2022-02-09T13:36:50.752Z"
   },
   {
    "duration": 7,
    "start_time": "2022-02-09T13:38:44.147Z"
   },
   {
    "duration": 263,
    "start_time": "2022-02-09T16:47:53.590Z"
   },
   {
    "duration": 679,
    "start_time": "2022-02-09T16:48:04.625Z"
   },
   {
    "duration": 9,
    "start_time": "2022-02-09T16:48:11.798Z"
   },
   {
    "duration": 6,
    "start_time": "2022-02-09T16:48:35.193Z"
   },
   {
    "duration": 11,
    "start_time": "2022-02-09T16:49:02.453Z"
   },
   {
    "duration": 9,
    "start_time": "2022-02-09T16:53:57.649Z"
   },
   {
    "duration": 19,
    "start_time": "2022-02-09T16:56:17.639Z"
   },
   {
    "duration": 17,
    "start_time": "2022-02-09T16:58:13.175Z"
   },
   {
    "duration": 8,
    "start_time": "2022-02-09T17:04:27.636Z"
   },
   {
    "duration": 6,
    "start_time": "2022-02-09T17:04:29.832Z"
   },
   {
    "duration": 358,
    "start_time": "2022-02-11T11:35:29.267Z"
   },
   {
    "duration": 799,
    "start_time": "2022-02-11T11:35:42.685Z"
   },
   {
    "duration": 13,
    "start_time": "2022-02-11T11:35:48.523Z"
   },
   {
    "duration": 8,
    "start_time": "2022-02-11T11:35:50.280Z"
   },
   {
    "duration": 26,
    "start_time": "2022-02-11T11:35:52.508Z"
   },
   {
    "duration": 26,
    "start_time": "2022-02-11T11:35:55.400Z"
   },
   {
    "duration": 7,
    "start_time": "2022-02-11T11:35:58.381Z"
   },
   {
    "duration": 7412,
    "start_time": "2022-02-11T11:36:05.275Z"
   },
   {
    "duration": 465,
    "start_time": "2022-02-11T11:44:35.901Z"
   },
   {
    "duration": 26,
    "start_time": "2022-02-11T11:47:41.974Z"
   },
   {
    "duration": 16,
    "start_time": "2022-02-11T11:47:45.111Z"
   },
   {
    "duration": 8,
    "start_time": "2022-02-11T11:47:46.646Z"
   },
   {
    "duration": 8,
    "start_time": "2022-02-11T11:49:17.882Z"
   },
   {
    "duration": 5,
    "start_time": "2022-02-11T11:49:43.602Z"
   },
   {
    "duration": 6,
    "start_time": "2022-02-11T12:01:24.468Z"
   },
   {
    "duration": 6,
    "start_time": "2022-02-11T12:02:33.645Z"
   },
   {
    "duration": 47,
    "start_time": "2022-02-11T12:04:08.473Z"
   },
   {
    "duration": 279,
    "start_time": "2022-02-11T12:58:47.018Z"
   },
   {
    "duration": 6939,
    "start_time": "2022-02-11T12:59:18.905Z"
   },
   {
    "duration": 129,
    "start_time": "2022-02-11T12:59:54.552Z"
   },
   {
    "duration": 13,
    "start_time": "2022-02-11T13:00:01.004Z"
   },
   {
    "duration": 8,
    "start_time": "2022-02-11T13:00:03.187Z"
   },
   {
    "duration": 24,
    "start_time": "2022-02-11T13:00:07.913Z"
   },
   {
    "duration": 15,
    "start_time": "2022-02-11T13:00:12.169Z"
   },
   {
    "duration": 7093,
    "start_time": "2022-02-11T13:00:20.915Z"
   },
   {
    "duration": 9,
    "start_time": "2022-02-11T13:04:39.183Z"
   },
   {
    "duration": 19,
    "start_time": "2022-02-11T13:06:00.395Z"
   },
   {
    "duration": 19,
    "start_time": "2022-02-11T13:07:08.831Z"
   },
   {
    "duration": 23,
    "start_time": "2022-02-11T13:12:08.837Z"
   },
   {
    "duration": 12,
    "start_time": "2022-02-11T13:14:26.824Z"
   },
   {
    "duration": 24,
    "start_time": "2022-02-11T13:20:58.611Z"
   },
   {
    "duration": 25,
    "start_time": "2022-02-11T13:22:28.212Z"
   },
   {
    "duration": 13,
    "start_time": "2022-02-11T13:27:58.823Z"
   },
   {
    "duration": 12,
    "start_time": "2022-02-11T13:28:09.576Z"
   },
   {
    "duration": 12,
    "start_time": "2022-02-11T13:36:51.160Z"
   },
   {
    "duration": 124,
    "start_time": "2022-02-11T13:37:03.667Z"
   },
   {
    "duration": 12,
    "start_time": "2022-02-11T13:37:09.880Z"
   },
   {
    "duration": 8,
    "start_time": "2022-02-11T13:37:15.033Z"
   },
   {
    "duration": 27,
    "start_time": "2022-02-11T13:37:17.883Z"
   },
   {
    "duration": 16,
    "start_time": "2022-02-11T13:37:20.284Z"
   },
   {
    "duration": 14,
    "start_time": "2022-02-11T13:37:24.193Z"
   },
   {
    "duration": 12,
    "start_time": "2022-02-11T13:37:32.452Z"
   },
   {
    "duration": 19,
    "start_time": "2022-02-11T14:51:11.293Z"
   },
   {
    "duration": 123,
    "start_time": "2022-02-11T15:10:09.895Z"
   },
   {
    "duration": 13,
    "start_time": "2022-02-11T15:10:15.694Z"
   },
   {
    "duration": 9,
    "start_time": "2022-02-11T15:10:21.201Z"
   },
   {
    "duration": 30,
    "start_time": "2022-02-11T15:10:24.251Z"
   },
   {
    "duration": 15,
    "start_time": "2022-02-11T15:10:26.737Z"
   },
   {
    "duration": 12,
    "start_time": "2022-02-11T15:10:29.128Z"
   },
   {
    "duration": 13,
    "start_time": "2022-02-11T15:10:36.471Z"
   },
   {
    "duration": 19,
    "start_time": "2022-02-11T15:10:46.360Z"
   },
   {
    "duration": 24,
    "start_time": "2022-02-11T15:11:06.572Z"
   },
   {
    "duration": 9,
    "start_time": "2022-02-11T15:12:35.716Z"
   },
   {
    "duration": 19,
    "start_time": "2022-02-11T15:14:29.720Z"
   },
   {
    "duration": 13,
    "start_time": "2022-02-11T15:15:03.789Z"
   },
   {
    "duration": 296,
    "start_time": "2022-02-11T15:16:04.960Z"
   },
   {
    "duration": 21,
    "start_time": "2022-02-11T15:16:36.866Z"
   },
   {
    "duration": 46,
    "start_time": "2022-02-11T15:18:42.933Z"
   },
   {
    "duration": 133,
    "start_time": "2022-02-11T15:18:53.546Z"
   },
   {
    "duration": 13,
    "start_time": "2022-02-11T15:18:57.806Z"
   },
   {
    "duration": 8,
    "start_time": "2022-02-11T15:18:59.186Z"
   },
   {
    "duration": 26,
    "start_time": "2022-02-11T15:19:00.604Z"
   },
   {
    "duration": 14,
    "start_time": "2022-02-11T15:19:01.920Z"
   },
   {
    "duration": 13,
    "start_time": "2022-02-11T15:19:05.031Z"
   },
   {
    "duration": 13,
    "start_time": "2022-02-11T15:19:07.484Z"
   },
   {
    "duration": 20,
    "start_time": "2022-02-11T15:19:21.470Z"
   },
   {
    "duration": 28,
    "start_time": "2022-02-11T15:19:25.956Z"
   },
   {
    "duration": 17,
    "start_time": "2022-02-11T15:19:27.346Z"
   },
   {
    "duration": 10,
    "start_time": "2022-02-11T15:19:28.237Z"
   },
   {
    "duration": 885,
    "start_time": "2022-02-11T15:20:01.820Z"
   },
   {
    "duration": 28,
    "start_time": "2022-02-11T15:20:02.708Z"
   },
   {
    "duration": 22,
    "start_time": "2022-02-11T15:20:02.740Z"
   },
   {
    "duration": 74,
    "start_time": "2022-02-11T15:20:02.765Z"
   },
   {
    "duration": 51,
    "start_time": "2022-02-11T15:20:02.842Z"
   },
   {
    "duration": 22,
    "start_time": "2022-02-11T15:20:02.895Z"
   },
   {
    "duration": 12,
    "start_time": "2022-02-11T15:20:02.919Z"
   },
   {
    "duration": 19,
    "start_time": "2022-02-11T15:20:02.934Z"
   },
   {
    "duration": 28,
    "start_time": "2022-02-11T15:20:02.956Z"
   },
   {
    "duration": 19,
    "start_time": "2022-02-11T15:20:02.986Z"
   },
   {
    "duration": 18,
    "start_time": "2022-02-11T15:20:03.031Z"
   },
   {
    "duration": 27,
    "start_time": "2022-02-11T15:20:03.052Z"
   },
   {
    "duration": 134,
    "start_time": "2022-02-11T15:20:24.334Z"
   },
   {
    "duration": 13,
    "start_time": "2022-02-11T15:20:30.282Z"
   },
   {
    "duration": 9,
    "start_time": "2022-02-11T15:20:32.384Z"
   },
   {
    "duration": 25,
    "start_time": "2022-02-11T15:20:34.832Z"
   },
   {
    "duration": 14,
    "start_time": "2022-02-11T15:20:36.901Z"
   },
   {
    "duration": 12,
    "start_time": "2022-02-11T15:20:38.903Z"
   },
   {
    "duration": 12,
    "start_time": "2022-02-11T15:20:41.304Z"
   },
   {
    "duration": 19,
    "start_time": "2022-02-11T15:20:46.962Z"
   },
   {
    "duration": 29,
    "start_time": "2022-02-11T15:21:00.023Z"
   },
   {
    "duration": 32,
    "start_time": "2022-02-11T15:21:37.684Z"
   },
   {
    "duration": 131,
    "start_time": "2022-02-11T15:21:51.751Z"
   },
   {
    "duration": 12,
    "start_time": "2022-02-11T15:21:55.000Z"
   },
   {
    "duration": 7,
    "start_time": "2022-02-11T15:21:55.792Z"
   },
   {
    "duration": 25,
    "start_time": "2022-02-11T15:21:56.705Z"
   },
   {
    "duration": 14,
    "start_time": "2022-02-11T15:21:57.548Z"
   },
   {
    "duration": 13,
    "start_time": "2022-02-11T15:21:58.238Z"
   },
   {
    "duration": 13,
    "start_time": "2022-02-11T15:21:59.846Z"
   },
   {
    "duration": 29,
    "start_time": "2022-02-11T15:22:03.084Z"
   },
   {
    "duration": 33,
    "start_time": "2022-02-11T15:22:06.756Z"
   },
   {
    "duration": 30,
    "start_time": "2022-02-11T15:23:11.113Z"
   },
   {
    "duration": 93,
    "start_time": "2022-02-11T15:23:28.927Z"
   },
   {
    "duration": 102,
    "start_time": "2022-02-11T15:23:41.876Z"
   },
   {
    "duration": 90,
    "start_time": "2022-02-11T15:24:25.792Z"
   },
   {
    "duration": 106,
    "start_time": "2022-02-11T15:24:33.329Z"
   },
   {
    "duration": 31,
    "start_time": "2022-02-11T15:24:46.646Z"
   },
   {
    "duration": 33,
    "start_time": "2022-02-11T15:24:58.153Z"
   },
   {
    "duration": 92,
    "start_time": "2022-02-11T15:25:14.002Z"
   },
   {
    "duration": 33,
    "start_time": "2022-02-11T15:25:20.381Z"
   },
   {
    "duration": 30,
    "start_time": "2022-02-11T15:26:01.905Z"
   },
   {
    "duration": 105,
    "start_time": "2022-02-11T15:26:35.406Z"
   },
   {
    "duration": 102,
    "start_time": "2022-02-11T15:27:13.934Z"
   },
   {
    "duration": 28,
    "start_time": "2022-02-11T15:27:20.392Z"
   },
   {
    "duration": 28,
    "start_time": "2022-02-11T15:27:41.098Z"
   },
   {
    "duration": 135,
    "start_time": "2022-02-11T15:27:56.031Z"
   },
   {
    "duration": 15,
    "start_time": "2022-02-11T15:28:00.162Z"
   },
   {
    "duration": 8,
    "start_time": "2022-02-11T15:28:01.696Z"
   },
   {
    "duration": 26,
    "start_time": "2022-02-11T15:28:03.308Z"
   },
   {
    "duration": 14,
    "start_time": "2022-02-11T15:28:04.824Z"
   },
   {
    "duration": 13,
    "start_time": "2022-02-11T15:28:06.296Z"
   },
   {
    "duration": 13,
    "start_time": "2022-02-11T15:28:08.951Z"
   },
   {
    "duration": 21,
    "start_time": "2022-02-11T15:28:12.962Z"
   },
   {
    "duration": 29,
    "start_time": "2022-02-11T15:28:18.299Z"
   },
   {
    "duration": 415,
    "start_time": "2022-02-11T15:33:41.373Z"
   },
   {
    "duration": 429,
    "start_time": "2022-02-11T15:34:23.602Z"
   },
   {
    "duration": 108,
    "start_time": "2022-02-11T15:37:34.548Z"
   },
   {
    "duration": 310,
    "start_time": "2022-02-11T15:37:54.474Z"
   },
   {
    "duration": 309,
    "start_time": "2022-02-11T15:38:09.501Z"
   },
   {
    "duration": 87,
    "start_time": "2022-02-11T15:38:32.174Z"
   },
   {
    "duration": 88,
    "start_time": "2022-02-11T15:38:46.725Z"
   },
   {
    "duration": 353,
    "start_time": "2022-02-11T15:38:58.877Z"
   },
   {
    "duration": 332,
    "start_time": "2022-02-11T15:40:41.724Z"
   },
   {
    "duration": 19,
    "start_time": "2022-02-11T15:47:37.872Z"
   },
   {
    "duration": 47,
    "start_time": "2022-02-11T15:49:29.605Z"
   },
   {
    "duration": 88,
    "start_time": "2022-02-11T15:54:51.065Z"
   },
   {
    "duration": 139,
    "start_time": "2022-02-11T17:11:01.592Z"
   },
   {
    "duration": 5,
    "start_time": "2022-02-11T17:11:07.282Z"
   },
   {
    "duration": 4,
    "start_time": "2022-02-11T17:12:41.463Z"
   },
   {
    "duration": 6,
    "start_time": "2022-02-11T17:14:36.874Z"
   },
   {
    "duration": 6,
    "start_time": "2022-02-11T17:14:45.322Z"
   },
   {
    "duration": 1023,
    "start_time": "2022-02-16T07:09:33.853Z"
   },
   {
    "duration": 12,
    "start_time": "2022-02-16T07:09:34.879Z"
   },
   {
    "duration": 8,
    "start_time": "2022-02-16T07:09:34.895Z"
   },
   {
    "duration": 52,
    "start_time": "2022-02-16T07:09:34.905Z"
   },
   {
    "duration": 15,
    "start_time": "2022-02-16T07:09:34.960Z"
   },
   {
    "duration": 20,
    "start_time": "2022-02-16T07:09:34.977Z"
   },
   {
    "duration": 40,
    "start_time": "2022-02-16T07:09:35.000Z"
   },
   {
    "duration": 22,
    "start_time": "2022-02-16T07:09:35.042Z"
   },
   {
    "duration": 32,
    "start_time": "2022-02-16T07:09:35.067Z"
   },
   {
    "duration": 75,
    "start_time": "2022-02-16T07:09:35.101Z"
   },
   {
    "duration": 11,
    "start_time": "2022-02-16T07:15:23.089Z"
   },
   {
    "duration": 98,
    "start_time": "2022-02-16T08:28:00.662Z"
   },
   {
    "duration": 96,
    "start_time": "2022-02-16T08:29:24.605Z"
   },
   {
    "duration": 98,
    "start_time": "2022-02-16T08:31:53.502Z"
   },
   {
    "duration": 397,
    "start_time": "2022-02-16T08:33:17.784Z"
   },
   {
    "duration": 295,
    "start_time": "2022-02-16T08:33:51.096Z"
   },
   {
    "duration": 294,
    "start_time": "2022-02-16T08:37:29.767Z"
   },
   {
    "duration": 263,
    "start_time": "2022-02-16T08:39:20.269Z"
   },
   {
    "duration": 131,
    "start_time": "2022-02-16T08:40:11.790Z"
   },
   {
    "duration": 13,
    "start_time": "2022-02-16T08:40:16.059Z"
   },
   {
    "duration": 9,
    "start_time": "2022-02-16T08:40:17.859Z"
   },
   {
    "duration": 26,
    "start_time": "2022-02-16T08:40:19.639Z"
   },
   {
    "duration": 12,
    "start_time": "2022-02-16T08:40:20.864Z"
   },
   {
    "duration": 12,
    "start_time": "2022-02-16T08:40:22.023Z"
   },
   {
    "duration": 13,
    "start_time": "2022-02-16T08:40:23.948Z"
   },
   {
    "duration": 18,
    "start_time": "2022-02-16T08:40:26.932Z"
   },
   {
    "duration": 29,
    "start_time": "2022-02-16T08:40:30.844Z"
   },
   {
    "duration": 47,
    "start_time": "2022-02-16T08:40:33.488Z"
   },
   {
    "duration": 10,
    "start_time": "2022-02-16T08:40:38.292Z"
   },
   {
    "duration": 305,
    "start_time": "2022-02-16T08:53:31.926Z"
   },
   {
    "duration": 307,
    "start_time": "2022-02-16T08:53:44.581Z"
   },
   {
    "duration": 335,
    "start_time": "2022-02-16T08:54:11.082Z"
   },
   {
    "duration": 7,
    "start_time": "2022-02-16T10:52:16.984Z"
   },
   {
    "duration": 8,
    "start_time": "2022-02-16T10:57:39.393Z"
   },
   {
    "duration": 33,
    "start_time": "2022-02-16T10:57:50.054Z"
   },
   {
    "duration": 137,
    "start_time": "2022-02-16T10:57:59.035Z"
   },
   {
    "duration": 16,
    "start_time": "2022-02-16T10:58:07.030Z"
   },
   {
    "duration": 9,
    "start_time": "2022-02-16T10:58:09.827Z"
   },
   {
    "duration": 35,
    "start_time": "2022-02-16T10:58:12.530Z"
   },
   {
    "duration": 17,
    "start_time": "2022-02-16T10:58:14.693Z"
   },
   {
    "duration": 15,
    "start_time": "2022-02-16T10:58:16.501Z"
   },
   {
    "duration": 13,
    "start_time": "2022-02-16T10:58:29.386Z"
   },
   {
    "duration": 20,
    "start_time": "2022-02-16T10:58:36.119Z"
   },
   {
    "duration": 7,
    "start_time": "2022-02-16T10:58:47.536Z"
   },
   {
    "duration": 30,
    "start_time": "2022-02-16T10:58:49.386Z"
   },
   {
    "duration": 74,
    "start_time": "2022-02-16T10:59:12.921Z"
   },
   {
    "duration": 14,
    "start_time": "2022-02-16T10:59:19.638Z"
   },
   {
    "duration": 8,
    "start_time": "2022-02-16T11:03:07.811Z"
   },
   {
    "duration": 10,
    "start_time": "2022-02-16T11:06:20.347Z"
   },
   {
    "duration": 96,
    "start_time": "2022-02-16T11:11:43.413Z"
   },
   {
    "duration": 7,
    "start_time": "2022-02-16T11:13:20.216Z"
   },
   {
    "duration": 29,
    "start_time": "2022-02-16T11:15:23.080Z"
   },
   {
    "duration": 129,
    "start_time": "2022-02-16T11:17:58.217Z"
   },
   {
    "duration": 125,
    "start_time": "2022-02-16T11:18:25.245Z"
   },
   {
    "duration": 131,
    "start_time": "2022-02-16T11:19:02.675Z"
   },
   {
    "duration": 14,
    "start_time": "2022-02-16T11:19:13.868Z"
   },
   {
    "duration": 9,
    "start_time": "2022-02-16T11:19:21.728Z"
   },
   {
    "duration": 28,
    "start_time": "2022-02-16T11:19:27.720Z"
   },
   {
    "duration": 14,
    "start_time": "2022-02-16T11:19:31.984Z"
   },
   {
    "duration": 13,
    "start_time": "2022-02-16T11:19:46.206Z"
   },
   {
    "duration": 13,
    "start_time": "2022-02-16T11:19:53.008Z"
   },
   {
    "duration": 47,
    "start_time": "2022-02-16T11:20:05.433Z"
   },
   {
    "duration": 43,
    "start_time": "2022-02-16T11:21:19.032Z"
   },
   {
    "duration": 38,
    "start_time": "2022-02-16T11:21:38.995Z"
   },
   {
    "duration": 39,
    "start_time": "2022-02-16T11:21:58.746Z"
   },
   {
    "duration": 840,
    "start_time": "2022-02-16T11:23:46.465Z"
   },
   {
    "duration": 13,
    "start_time": "2022-02-16T11:23:58.990Z"
   },
   {
    "duration": 17,
    "start_time": "2022-02-16T11:24:07.999Z"
   },
   {
    "duration": 8,
    "start_time": "2022-02-16T11:24:20.509Z"
   },
   {
    "duration": 28,
    "start_time": "2022-02-16T11:24:23.152Z"
   },
   {
    "duration": 21,
    "start_time": "2022-02-16T11:24:29.307Z"
   },
   {
    "duration": 37,
    "start_time": "2022-02-16T11:24:30.661Z"
   },
   {
    "duration": 55,
    "start_time": "2022-02-16T11:24:43.637Z"
   },
   {
    "duration": 45,
    "start_time": "2022-02-16T11:24:52.695Z"
   },
   {
    "duration": 145,
    "start_time": "2022-02-16T11:25:01.799Z"
   },
   {
    "duration": 22,
    "start_time": "2022-02-16T11:25:08.646Z"
   },
   {
    "duration": 14,
    "start_time": "2022-02-16T11:25:26.356Z"
   },
   {
    "duration": 19,
    "start_time": "2022-02-16T11:25:40.448Z"
   },
   {
    "duration": 7,
    "start_time": "2022-02-16T11:25:50.621Z"
   },
   {
    "duration": 56,
    "start_time": "2022-02-16T11:25:54.694Z"
   },
   {
    "duration": 444,
    "start_time": "2022-02-16T11:26:59.713Z"
   },
   {
    "duration": 382,
    "start_time": "2022-02-16T11:27:25.996Z"
   },
   {
    "duration": 112,
    "start_time": "2022-02-16T11:27:51.719Z"
   },
   {
    "duration": 145,
    "start_time": "2022-02-16T11:38:28.573Z"
   },
   {
    "duration": 134,
    "start_time": "2022-02-16T11:38:40.572Z"
   },
   {
    "duration": 13,
    "start_time": "2022-02-16T11:38:45.476Z"
   },
   {
    "duration": 8,
    "start_time": "2022-02-16T11:38:47.217Z"
   },
   {
    "duration": 129,
    "start_time": "2022-02-16T11:38:49.553Z"
   },
   {
    "duration": 121,
    "start_time": "2022-02-16T11:45:19.393Z"
   },
   {
    "duration": 121,
    "start_time": "2022-02-16T11:45:24.451Z"
   },
   {
    "duration": 131,
    "start_time": "2022-02-16T11:45:34.212Z"
   },
   {
    "duration": 23,
    "start_time": "2022-02-16T11:45:40.711Z"
   },
   {
    "duration": 8,
    "start_time": "2022-02-16T11:45:43.540Z"
   },
   {
    "duration": 83,
    "start_time": "2022-02-16T11:45:47.279Z"
   },
   {
    "duration": 14,
    "start_time": "2022-02-16T11:46:43.524Z"
   },
   {
    "duration": 14,
    "start_time": "2022-02-16T11:46:53.425Z"
   },
   {
    "duration": 15,
    "start_time": "2022-02-16T11:46:54.641Z"
   },
   {
    "duration": 14,
    "start_time": "2022-02-16T11:49:03.259Z"
   },
   {
    "duration": 125,
    "start_time": "2022-02-16T11:49:14.154Z"
   },
   {
    "duration": 12,
    "start_time": "2022-02-16T11:49:20.646Z"
   },
   {
    "duration": 7,
    "start_time": "2022-02-16T11:49:22.744Z"
   },
   {
    "duration": 15,
    "start_time": "2022-02-16T11:49:25.504Z"
   },
   {
    "duration": 7162,
    "start_time": "2022-02-16T11:53:28.406Z"
   },
   {
    "duration": 7097,
    "start_time": "2022-02-16T11:54:05.513Z"
   },
   {
    "duration": 92,
    "start_time": "2022-02-16T11:54:56.887Z"
   },
   {
    "duration": 17,
    "start_time": "2022-02-16T11:55:17.733Z"
   },
   {
    "duration": 6979,
    "start_time": "2022-02-16T11:55:53.461Z"
   },
   {
    "duration": 6920,
    "start_time": "2022-02-16T12:08:05.954Z"
   },
   {
    "duration": 7226,
    "start_time": "2022-02-16T12:09:31.377Z"
   },
   {
    "duration": 15,
    "start_time": "2022-02-16T12:10:14.300Z"
   },
   {
    "duration": 125,
    "start_time": "2022-02-16T12:10:22.680Z"
   },
   {
    "duration": 12,
    "start_time": "2022-02-16T12:10:28.147Z"
   },
   {
    "duration": 7,
    "start_time": "2022-02-16T12:10:30.228Z"
   },
   {
    "duration": 15,
    "start_time": "2022-02-16T12:10:33.977Z"
   },
   {
    "duration": 16,
    "start_time": "2022-02-16T12:10:41.316Z"
   },
   {
    "duration": 13,
    "start_time": "2022-02-16T12:10:44.833Z"
   },
   {
    "duration": 22,
    "start_time": "2022-02-16T12:11:19.053Z"
   },
   {
    "duration": 23,
    "start_time": "2022-02-16T12:11:22.163Z"
   },
   {
    "duration": 14,
    "start_time": "2022-02-16T12:11:33.504Z"
   },
   {
    "duration": 23,
    "start_time": "2022-02-16T12:11:49.821Z"
   },
   {
    "duration": 13,
    "start_time": "2022-02-16T12:11:51.982Z"
   },
   {
    "duration": 858,
    "start_time": "2022-02-16T12:12:26.569Z"
   },
   {
    "duration": 12,
    "start_time": "2022-02-16T12:12:31.816Z"
   },
   {
    "duration": 9,
    "start_time": "2022-02-16T12:12:33.646Z"
   },
   {
    "duration": 22,
    "start_time": "2022-02-16T12:12:35.543Z"
   },
   {
    "duration": 27,
    "start_time": "2022-02-16T12:12:37.406Z"
   },
   {
    "duration": 24,
    "start_time": "2022-02-16T12:12:40.408Z"
   },
   {
    "duration": 12,
    "start_time": "2022-02-16T12:12:42.475Z"
   },
   {
    "duration": 20,
    "start_time": "2022-02-16T12:12:46.616Z"
   },
   {
    "duration": 7,
    "start_time": "2022-02-16T12:13:03.286Z"
   },
   {
    "duration": 26,
    "start_time": "2022-02-16T12:13:17.642Z"
   },
   {
    "duration": 62,
    "start_time": "2022-02-16T12:13:32.344Z"
   },
   {
    "duration": 18,
    "start_time": "2022-02-16T12:13:41.907Z"
   },
   {
    "duration": 11,
    "start_time": "2022-02-16T12:13:53.059Z"
   },
   {
    "duration": 3793,
    "start_time": "2022-02-16T12:14:15.296Z"
   },
   {
    "duration": 1671,
    "start_time": "2022-02-16T12:14:33.718Z"
   },
   {
    "duration": 887,
    "start_time": "2022-02-16T12:16:33.592Z"
   },
   {
    "duration": 13,
    "start_time": "2022-02-16T12:16:34.482Z"
   },
   {
    "duration": 34,
    "start_time": "2022-02-16T12:16:34.498Z"
   },
   {
    "duration": 16,
    "start_time": "2022-02-16T12:16:34.534Z"
   },
   {
    "duration": 20,
    "start_time": "2022-02-16T12:16:34.552Z"
   },
   {
    "duration": 12,
    "start_time": "2022-02-16T12:16:34.574Z"
   },
   {
    "duration": 53,
    "start_time": "2022-02-16T12:16:34.588Z"
   },
   {
    "duration": 19,
    "start_time": "2022-02-16T12:16:34.645Z"
   },
   {
    "duration": 11,
    "start_time": "2022-02-16T12:16:34.667Z"
   },
   {
    "duration": 62,
    "start_time": "2022-02-16T12:16:34.681Z"
   },
   {
    "duration": 86,
    "start_time": "2022-02-16T12:16:34.746Z"
   },
   {
    "duration": 10,
    "start_time": "2022-02-16T12:16:34.835Z"
   },
   {
    "duration": 390,
    "start_time": "2022-02-16T12:16:34.848Z"
   },
   {
    "duration": 902,
    "start_time": "2022-02-16T12:26:45.156Z"
   },
   {
    "duration": 5085,
    "start_time": "2022-02-16T12:29:52.019Z"
   },
   {
    "duration": 12,
    "start_time": "2022-02-16T12:31:15.509Z"
   },
   {
    "duration": 852,
    "start_time": "2022-02-16T12:32:16.581Z"
   },
   {
    "duration": 11,
    "start_time": "2022-02-16T12:32:17.436Z"
   },
   {
    "duration": 11,
    "start_time": "2022-02-16T12:32:17.450Z"
   },
   {
    "duration": 15,
    "start_time": "2022-02-16T12:32:17.464Z"
   },
   {
    "duration": 50,
    "start_time": "2022-02-16T12:32:17.482Z"
   },
   {
    "duration": 11,
    "start_time": "2022-02-16T12:32:17.534Z"
   },
   {
    "duration": 11,
    "start_time": "2022-02-16T12:32:17.548Z"
   },
   {
    "duration": 18,
    "start_time": "2022-02-16T12:32:17.562Z"
   },
   {
    "duration": 6,
    "start_time": "2022-02-16T12:32:17.583Z"
   },
   {
    "duration": 67,
    "start_time": "2022-02-16T12:32:17.591Z"
   },
   {
    "duration": 91,
    "start_time": "2022-02-16T12:32:17.661Z"
   },
   {
    "duration": 10,
    "start_time": "2022-02-16T12:32:17.754Z"
   },
   {
    "duration": 5462,
    "start_time": "2022-02-16T12:32:17.766Z"
   },
   {
    "duration": 5024,
    "start_time": "2022-02-16T12:33:55.251Z"
   },
   {
    "duration": 151,
    "start_time": "2022-02-16T12:34:36.435Z"
   },
   {
    "duration": 14,
    "start_time": "2022-02-16T12:34:36.590Z"
   },
   {
    "duration": 30,
    "start_time": "2022-02-16T12:34:36.607Z"
   },
   {
    "duration": 16,
    "start_time": "2022-02-16T12:34:36.640Z"
   },
   {
    "duration": 13,
    "start_time": "2022-02-16T12:34:36.658Z"
   },
   {
    "duration": 11,
    "start_time": "2022-02-16T12:34:36.674Z"
   },
   {
    "duration": 54,
    "start_time": "2022-02-16T12:34:36.687Z"
   },
   {
    "duration": 30,
    "start_time": "2022-02-16T12:34:36.745Z"
   },
   {
    "duration": 6,
    "start_time": "2022-02-16T12:34:36.777Z"
   },
   {
    "duration": 52,
    "start_time": "2022-02-16T12:34:36.785Z"
   },
   {
    "duration": 66,
    "start_time": "2022-02-16T12:34:36.839Z"
   },
   {
    "duration": 31,
    "start_time": "2022-02-16T12:34:36.908Z"
   },
   {
    "duration": 5008,
    "start_time": "2022-02-16T12:34:36.942Z"
   },
   {
    "duration": 4825,
    "start_time": "2022-02-16T12:37:17.536Z"
   },
   {
    "duration": 4937,
    "start_time": "2022-02-16T12:38:45.567Z"
   },
   {
    "duration": 4006,
    "start_time": "2022-02-16T13:05:46.887Z"
   },
   {
    "duration": 100,
    "start_time": "2022-02-16T13:09:54.991Z"
   },
   {
    "duration": 4004,
    "start_time": "2022-02-16T16:02:48.601Z"
   },
   {
    "duration": 51,
    "start_time": "2022-03-19T07:08:42.945Z"
   },
   {
    "duration": 556,
    "start_time": "2022-03-19T07:09:00.018Z"
   },
   {
    "duration": 14,
    "start_time": "2022-03-19T07:09:04.522Z"
   },
   {
    "duration": 7,
    "start_time": "2022-03-19T07:09:06.134Z"
   },
   {
    "duration": 11,
    "start_time": "2022-03-19T07:09:07.979Z"
   },
   {
    "duration": 11,
    "start_time": "2022-03-19T07:09:09.532Z"
   },
   {
    "duration": 9,
    "start_time": "2022-03-19T07:09:11.248Z"
   },
   {
    "duration": 10,
    "start_time": "2022-03-19T07:09:13.069Z"
   },
   {
    "duration": 15,
    "start_time": "2022-03-19T07:09:16.670Z"
   },
   {
    "duration": 7,
    "start_time": "2022-03-19T07:09:22.318Z"
   },
   {
    "duration": 23,
    "start_time": "2022-03-19T07:09:23.450Z"
   },
   {
    "duration": 56,
    "start_time": "2022-03-19T07:09:25.716Z"
   },
   {
    "duration": 9,
    "start_time": "2022-03-19T07:09:29.734Z"
   },
   {
    "duration": 4216,
    "start_time": "2022-03-19T07:09:31.588Z"
   },
   {
    "duration": 3254,
    "start_time": "2022-03-19T07:09:35.807Z"
   },
   {
    "duration": 13,
    "start_time": "2022-03-19T07:09:46.490Z"
   },
   {
    "duration": 12,
    "start_time": "2022-03-19T07:11:33.974Z"
   },
   {
    "duration": 14,
    "start_time": "2022-03-19T07:11:47.409Z"
   },
   {
    "duration": 13,
    "start_time": "2022-03-19T07:13:48.851Z"
   },
   {
    "duration": 36,
    "start_time": "2022-03-19T08:14:16.885Z"
   },
   {
    "duration": 14,
    "start_time": "2022-03-19T08:14:29.470Z"
   },
   {
    "duration": 14,
    "start_time": "2022-03-19T08:14:42.223Z"
   },
   {
    "duration": 9,
    "start_time": "2022-03-19T08:25:10.655Z"
   },
   {
    "duration": 17,
    "start_time": "2022-03-19T08:25:28.321Z"
   },
   {
    "duration": 18,
    "start_time": "2022-03-19T08:52:47.001Z"
   },
   {
    "duration": 131,
    "start_time": "2022-03-19T08:59:50.817Z"
   },
   {
    "duration": 604,
    "start_time": "2022-03-19T09:14:23.267Z"
   },
   {
    "duration": 540,
    "start_time": "2022-03-19T09:18:17.409Z"
   },
   {
    "duration": 547,
    "start_time": "2022-03-19T09:18:42.154Z"
   },
   {
    "duration": 4,
    "start_time": "2022-03-19T09:18:53.810Z"
   },
   {
    "duration": 5,
    "start_time": "2022-03-19T09:21:38.233Z"
   },
   {
    "duration": 22,
    "start_time": "2022-03-19T09:21:54.844Z"
   },
   {
    "duration": 112,
    "start_time": "2022-03-19T09:24:17.472Z"
   },
   {
    "duration": 147,
    "start_time": "2022-03-19T16:38:29.556Z"
   },
   {
    "duration": 5,
    "start_time": "2022-03-19T16:38:51.740Z"
   },
   {
    "duration": 65,
    "start_time": "2022-03-19T16:40:57.785Z"
   },
   {
    "duration": 702,
    "start_time": "2022-03-19T16:41:49.161Z"
   },
   {
    "duration": 23,
    "start_time": "2022-03-19T16:41:49.867Z"
   },
   {
    "duration": 7,
    "start_time": "2022-03-19T16:41:49.892Z"
   },
   {
    "duration": 12,
    "start_time": "2022-03-19T16:41:49.902Z"
   },
   {
    "duration": 14,
    "start_time": "2022-03-19T16:41:49.916Z"
   },
   {
    "duration": 19,
    "start_time": "2022-03-19T16:41:49.932Z"
   },
   {
    "duration": 15,
    "start_time": "2022-03-19T16:41:49.985Z"
   },
   {
    "duration": 21,
    "start_time": "2022-03-19T16:41:50.002Z"
   },
   {
    "duration": 9,
    "start_time": "2022-03-19T16:41:50.025Z"
   },
   {
    "duration": 65,
    "start_time": "2022-03-19T16:41:50.037Z"
   },
   {
    "duration": 90,
    "start_time": "2022-03-19T16:41:50.104Z"
   },
   {
    "duration": 11,
    "start_time": "2022-03-19T16:41:50.196Z"
   },
   {
    "duration": 5339,
    "start_time": "2022-03-19T16:41:50.209Z"
   },
   {
    "duration": 3934,
    "start_time": "2022-03-19T16:41:55.551Z"
   },
   {
    "duration": 20,
    "start_time": "2022-03-19T16:41:59.488Z"
   },
   {
    "duration": 17,
    "start_time": "2022-03-19T16:41:59.510Z"
   },
   {
    "duration": 18,
    "start_time": "2022-03-19T16:41:59.529Z"
   },
   {
    "duration": 65,
    "start_time": "2022-03-19T16:41:59.549Z"
   },
   {
    "duration": 13,
    "start_time": "2022-03-19T16:41:59.616Z"
   },
   {
    "duration": 38,
    "start_time": "2022-03-19T17:05:37.797Z"
   },
   {
    "duration": 118,
    "start_time": "2022-03-19T17:05:53.233Z"
   },
   {
    "duration": 28,
    "start_time": "2022-03-19T17:05:59.423Z"
   },
   {
    "duration": 135,
    "start_time": "2022-03-19T17:08:16.041Z"
   },
   {
    "duration": 27,
    "start_time": "2022-03-19T17:09:10.447Z"
   },
   {
    "duration": 9,
    "start_time": "2022-03-19T17:20:10.240Z"
   },
   {
    "duration": 10,
    "start_time": "2022-03-19T17:21:03.061Z"
   },
   {
    "duration": 8,
    "start_time": "2022-03-19T17:21:20.623Z"
   },
   {
    "duration": 2723,
    "start_time": "2022-03-19T17:31:03.083Z"
   },
   {
    "duration": 675,
    "start_time": "2022-03-19T17:31:35.126Z"
   },
   {
    "duration": 15,
    "start_time": "2022-03-19T17:31:35.804Z"
   },
   {
    "duration": 9,
    "start_time": "2022-03-19T17:31:35.822Z"
   },
   {
    "duration": 18,
    "start_time": "2022-03-19T17:31:35.833Z"
   },
   {
    "duration": 43,
    "start_time": "2022-03-19T17:31:35.854Z"
   },
   {
    "duration": 11,
    "start_time": "2022-03-19T17:31:35.899Z"
   },
   {
    "duration": 17,
    "start_time": "2022-03-19T17:31:35.912Z"
   },
   {
    "duration": 56,
    "start_time": "2022-03-19T17:31:35.931Z"
   },
   {
    "duration": 8,
    "start_time": "2022-03-19T17:31:35.989Z"
   },
   {
    "duration": 48,
    "start_time": "2022-03-19T17:31:36.000Z"
   },
   {
    "duration": 88,
    "start_time": "2022-03-19T17:31:36.050Z"
   },
   {
    "duration": 10,
    "start_time": "2022-03-19T17:31:36.141Z"
   },
   {
    "duration": 4716,
    "start_time": "2022-03-19T17:31:36.154Z"
   },
   {
    "duration": 3930,
    "start_time": "2022-03-19T17:31:40.874Z"
   },
   {
    "duration": 21,
    "start_time": "2022-03-19T17:31:44.806Z"
   },
   {
    "duration": 16,
    "start_time": "2022-03-19T17:31:44.829Z"
   },
   {
    "duration": 48,
    "start_time": "2022-03-19T17:31:44.847Z"
   },
   {
    "duration": 32,
    "start_time": "2022-03-19T17:31:44.897Z"
   },
   {
    "duration": 54,
    "start_time": "2022-03-19T17:31:44.931Z"
   },
   {
    "duration": 2323,
    "start_time": "2022-03-19T17:31:44.988Z"
   },
   {
    "duration": 18,
    "start_time": "2022-03-19T17:32:04.519Z"
   },
   {
    "duration": 16,
    "start_time": "2022-03-19T17:35:55.497Z"
   },
   {
    "duration": 44,
    "start_time": "2022-03-20T06:53:11.222Z"
   },
   {
    "duration": 460,
    "start_time": "2022-03-20T06:53:23.322Z"
   },
   {
    "duration": 9,
    "start_time": "2022-03-20T06:53:23.784Z"
   },
   {
    "duration": 5,
    "start_time": "2022-03-20T06:53:23.794Z"
   },
   {
    "duration": 11,
    "start_time": "2022-03-20T06:53:23.801Z"
   },
   {
    "duration": 8,
    "start_time": "2022-03-20T06:53:23.814Z"
   },
   {
    "duration": 7,
    "start_time": "2022-03-20T06:53:23.824Z"
   },
   {
    "duration": 10,
    "start_time": "2022-03-20T06:53:23.832Z"
   },
   {
    "duration": 45,
    "start_time": "2022-03-20T06:53:23.843Z"
   },
   {
    "duration": 4,
    "start_time": "2022-03-20T06:53:23.889Z"
   },
   {
    "duration": 19,
    "start_time": "2022-03-20T06:53:23.895Z"
   },
   {
    "duration": 41,
    "start_time": "2022-03-20T06:53:23.916Z"
   },
   {
    "duration": 27,
    "start_time": "2022-03-20T06:53:23.958Z"
   },
   {
    "duration": 4044,
    "start_time": "2022-03-20T06:53:23.987Z"
   },
   {
    "duration": 2649,
    "start_time": "2022-03-20T06:53:28.033Z"
   },
   {
    "duration": 13,
    "start_time": "2022-03-20T06:53:30.684Z"
   },
   {
    "duration": 11,
    "start_time": "2022-03-20T06:53:30.699Z"
   },
   {
    "duration": 12,
    "start_time": "2022-03-20T06:53:30.712Z"
   },
   {
    "duration": 20,
    "start_time": "2022-03-20T06:53:30.725Z"
   },
   {
    "duration": 12,
    "start_time": "2022-03-20T06:53:30.780Z"
   },
   {
    "duration": 17,
    "start_time": "2022-03-20T06:53:30.794Z"
   },
   {
    "duration": 14,
    "start_time": "2022-03-20T07:12:26.157Z"
   },
   {
    "duration": 13,
    "start_time": "2022-03-20T07:13:52.035Z"
   },
   {
    "duration": 194,
    "start_time": "2022-03-20T07:20:59.641Z"
   },
   {
    "duration": 2852,
    "start_time": "2022-03-20T07:28:43.452Z"
   },
   {
    "duration": 6,
    "start_time": "2022-03-20T07:29:04.389Z"
   },
   {
    "duration": 168,
    "start_time": "2022-03-20T07:44:49.458Z"
   },
   {
    "duration": 19,
    "start_time": "2022-03-20T07:45:38.225Z"
   },
   {
    "duration": 165,
    "start_time": "2022-03-20T07:50:11.781Z"
   },
   {
    "duration": 26,
    "start_time": "2022-03-20T07:53:14.991Z"
   },
   {
    "duration": 16,
    "start_time": "2022-03-20T08:15:54.509Z"
   },
   {
    "duration": 19,
    "start_time": "2022-03-20T08:16:33.735Z"
   },
   {
    "duration": 20,
    "start_time": "2022-03-20T08:23:43.024Z"
   },
   {
    "duration": 22,
    "start_time": "2022-03-20T08:25:05.125Z"
   },
   {
    "duration": 24,
    "start_time": "2022-03-20T08:26:02.273Z"
   },
   {
    "duration": 22,
    "start_time": "2022-03-20T08:26:29.462Z"
   },
   {
    "duration": 28,
    "start_time": "2022-03-20T08:29:58.313Z"
   },
   {
    "duration": 25,
    "start_time": "2022-03-20T08:30:52.890Z"
   },
   {
    "duration": 24,
    "start_time": "2022-03-20T08:36:35.531Z"
   },
   {
    "duration": 26,
    "start_time": "2022-03-20T08:45:54.073Z"
   },
   {
    "duration": 26,
    "start_time": "2022-03-20T09:44:43.982Z"
   },
   {
    "duration": 27,
    "start_time": "2022-03-20T09:45:15.866Z"
   },
   {
    "duration": 22,
    "start_time": "2022-03-20T09:46:17.346Z"
   },
   {
    "duration": 39,
    "start_time": "2022-03-20T09:46:29.244Z"
   },
   {
    "duration": 31,
    "start_time": "2022-03-20T09:47:04.179Z"
   },
   {
    "duration": 23,
    "start_time": "2022-03-20T09:52:41.665Z"
   },
   {
    "duration": 25,
    "start_time": "2022-03-20T09:53:27.080Z"
   },
   {
    "duration": 22,
    "start_time": "2022-03-20T09:55:55.113Z"
   },
   {
    "duration": 31,
    "start_time": "2022-03-20T09:58:39.661Z"
   },
   {
    "duration": 35,
    "start_time": "2022-03-20T09:59:09.087Z"
   },
   {
    "duration": 25,
    "start_time": "2022-03-20T09:59:35.212Z"
   },
   {
    "duration": 35,
    "start_time": "2022-03-20T10:05:03.542Z"
   },
   {
    "duration": 25,
    "start_time": "2022-03-20T10:05:25.551Z"
   },
   {
    "duration": 25,
    "start_time": "2022-03-20T10:06:55.544Z"
   },
   {
    "duration": 537,
    "start_time": "2022-03-20T10:07:08.645Z"
   },
   {
    "duration": 9,
    "start_time": "2022-03-20T10:07:09.184Z"
   },
   {
    "duration": 5,
    "start_time": "2022-03-20T10:07:09.195Z"
   },
   {
    "duration": 8,
    "start_time": "2022-03-20T10:07:09.202Z"
   },
   {
    "duration": 10,
    "start_time": "2022-03-20T10:07:09.211Z"
   },
   {
    "duration": 7,
    "start_time": "2022-03-20T10:07:09.223Z"
   },
   {
    "duration": 8,
    "start_time": "2022-03-20T10:07:09.231Z"
   },
   {
    "duration": 50,
    "start_time": "2022-03-20T10:07:09.241Z"
   },
   {
    "duration": 5,
    "start_time": "2022-03-20T10:07:09.293Z"
   },
   {
    "duration": 29,
    "start_time": "2022-03-20T10:07:09.300Z"
   },
   {
    "duration": 57,
    "start_time": "2022-03-20T10:07:09.330Z"
   },
   {
    "duration": 8,
    "start_time": "2022-03-20T10:07:09.388Z"
   },
   {
    "duration": 3416,
    "start_time": "2022-03-20T10:07:09.397Z"
   },
   {
    "duration": 2879,
    "start_time": "2022-03-20T10:07:12.815Z"
   },
   {
    "duration": 13,
    "start_time": "2022-03-20T10:07:15.696Z"
   },
   {
    "duration": 10,
    "start_time": "2022-03-20T10:07:15.711Z"
   },
   {
    "duration": 11,
    "start_time": "2022-03-20T10:07:15.722Z"
   },
   {
    "duration": 20,
    "start_time": "2022-03-20T10:07:15.735Z"
   },
   {
    "duration": 28,
    "start_time": "2022-03-20T10:07:15.781Z"
   },
   {
    "duration": 25,
    "start_time": "2022-03-20T10:07:15.811Z"
   },
   {
    "duration": 46,
    "start_time": "2022-03-20T10:07:15.837Z"
   },
   {
    "duration": 24,
    "start_time": "2022-03-20T10:07:15.885Z"
   },
   {
    "duration": 20,
    "start_time": "2022-03-20T10:10:25.291Z"
   },
   {
    "duration": 487,
    "start_time": "2022-03-20T10:10:36.102Z"
   },
   {
    "duration": 9,
    "start_time": "2022-03-20T10:10:36.591Z"
   },
   {
    "duration": 5,
    "start_time": "2022-03-20T10:10:36.601Z"
   },
   {
    "duration": 8,
    "start_time": "2022-03-20T10:10:36.608Z"
   },
   {
    "duration": 10,
    "start_time": "2022-03-20T10:10:36.617Z"
   },
   {
    "duration": 6,
    "start_time": "2022-03-20T10:10:36.629Z"
   },
   {
    "duration": 10,
    "start_time": "2022-03-20T10:10:36.636Z"
   },
   {
    "duration": 39,
    "start_time": "2022-03-20T10:10:36.647Z"
   },
   {
    "duration": 17,
    "start_time": "2022-03-20T10:10:36.688Z"
   },
   {
    "duration": 41,
    "start_time": "2022-03-20T10:10:36.708Z"
   },
   {
    "duration": 7,
    "start_time": "2022-03-20T10:10:36.751Z"
   },
   {
    "duration": 3489,
    "start_time": "2022-03-20T10:10:36.759Z"
   },
   {
    "duration": 2785,
    "start_time": "2022-03-20T10:10:40.250Z"
   },
   {
    "duration": 12,
    "start_time": "2022-03-20T10:10:43.037Z"
   },
   {
    "duration": 10,
    "start_time": "2022-03-20T10:10:43.050Z"
   },
   {
    "duration": 29,
    "start_time": "2022-03-20T10:10:43.061Z"
   },
   {
    "duration": 18,
    "start_time": "2022-03-20T10:10:43.091Z"
   },
   {
    "duration": 26,
    "start_time": "2022-03-20T10:10:43.111Z"
   },
   {
    "duration": 53,
    "start_time": "2022-03-20T10:10:43.139Z"
   },
   {
    "duration": 24,
    "start_time": "2022-03-20T10:10:43.194Z"
   },
   {
    "duration": 24,
    "start_time": "2022-03-20T10:10:43.219Z"
   },
   {
    "duration": 504,
    "start_time": "2022-03-20T10:20:37.565Z"
   },
   {
    "duration": 18,
    "start_time": "2022-03-20T10:20:38.071Z"
   },
   {
    "duration": 6,
    "start_time": "2022-03-20T10:20:38.090Z"
   },
   {
    "duration": 9,
    "start_time": "2022-03-20T10:20:38.098Z"
   },
   {
    "duration": 10,
    "start_time": "2022-03-20T10:20:38.108Z"
   },
   {
    "duration": 9,
    "start_time": "2022-03-20T10:20:38.119Z"
   },
   {
    "duration": 7,
    "start_time": "2022-03-20T10:20:38.130Z"
   },
   {
    "duration": 49,
    "start_time": "2022-03-20T10:20:38.138Z"
   },
   {
    "duration": 17,
    "start_time": "2022-03-20T10:20:38.189Z"
   },
   {
    "duration": 43,
    "start_time": "2022-03-20T10:20:38.209Z"
   },
   {
    "duration": 7,
    "start_time": "2022-03-20T10:20:38.253Z"
   },
   {
    "duration": 3337,
    "start_time": "2022-03-20T10:20:38.281Z"
   },
   {
    "duration": 2752,
    "start_time": "2022-03-20T10:20:41.620Z"
   },
   {
    "duration": 14,
    "start_time": "2022-03-20T10:20:44.381Z"
   },
   {
    "duration": 14,
    "start_time": "2022-03-20T10:20:44.396Z"
   },
   {
    "duration": 13,
    "start_time": "2022-03-20T10:20:44.411Z"
   },
   {
    "duration": 18,
    "start_time": "2022-03-20T10:20:44.425Z"
   },
   {
    "duration": 54,
    "start_time": "2022-03-20T10:20:44.445Z"
   },
   {
    "duration": 26,
    "start_time": "2022-03-20T10:20:44.501Z"
   },
   {
    "duration": 24,
    "start_time": "2022-03-20T10:20:44.528Z"
   },
   {
    "duration": 45,
    "start_time": "2022-03-20T10:20:44.554Z"
   },
   {
    "duration": 497,
    "start_time": "2022-03-20T10:22:43.478Z"
   },
   {
    "duration": 9,
    "start_time": "2022-03-20T10:22:43.977Z"
   },
   {
    "duration": 5,
    "start_time": "2022-03-20T10:22:43.987Z"
   },
   {
    "duration": 8,
    "start_time": "2022-03-20T10:22:43.994Z"
   },
   {
    "duration": 9,
    "start_time": "2022-03-20T10:22:44.003Z"
   },
   {
    "duration": 7,
    "start_time": "2022-03-20T10:22:44.013Z"
   },
   {
    "duration": 8,
    "start_time": "2022-03-20T10:22:44.021Z"
   },
   {
    "duration": 12,
    "start_time": "2022-03-20T10:22:44.030Z"
   },
   {
    "duration": 52,
    "start_time": "2022-03-20T10:22:44.044Z"
   },
   {
    "duration": 44,
    "start_time": "2022-03-20T10:22:44.099Z"
   },
   {
    "duration": 7,
    "start_time": "2022-03-20T10:22:44.144Z"
   },
   {
    "duration": 3739,
    "start_time": "2022-03-20T10:22:44.153Z"
   },
   {
    "duration": 2699,
    "start_time": "2022-03-20T10:22:47.893Z"
   },
   {
    "duration": 12,
    "start_time": "2022-03-20T10:22:50.593Z"
   },
   {
    "duration": 10,
    "start_time": "2022-03-20T10:22:50.606Z"
   },
   {
    "duration": 10,
    "start_time": "2022-03-20T10:22:50.617Z"
   },
   {
    "duration": 17,
    "start_time": "2022-03-20T10:22:50.629Z"
   },
   {
    "duration": 53,
    "start_time": "2022-03-20T10:22:50.647Z"
   },
   {
    "duration": 24,
    "start_time": "2022-03-20T10:22:50.701Z"
   },
   {
    "duration": 23,
    "start_time": "2022-03-20T10:22:50.726Z"
   },
   {
    "duration": 48,
    "start_time": "2022-03-20T10:22:50.750Z"
   },
   {
    "duration": 516,
    "start_time": "2022-03-20T10:27:31.468Z"
   },
   {
    "duration": 9,
    "start_time": "2022-03-20T10:27:31.986Z"
   },
   {
    "duration": 6,
    "start_time": "2022-03-20T10:27:31.997Z"
   },
   {
    "duration": 11,
    "start_time": "2022-03-20T10:27:32.005Z"
   },
   {
    "duration": 10,
    "start_time": "2022-03-20T10:27:32.018Z"
   },
   {
    "duration": 8,
    "start_time": "2022-03-20T10:27:32.029Z"
   },
   {
    "duration": 42,
    "start_time": "2022-03-20T10:27:32.039Z"
   },
   {
    "duration": 13,
    "start_time": "2022-03-20T10:27:32.083Z"
   },
   {
    "duration": 20,
    "start_time": "2022-03-20T10:27:32.098Z"
   },
   {
    "duration": 67,
    "start_time": "2022-03-20T10:27:32.120Z"
   },
   {
    "duration": 7,
    "start_time": "2022-03-20T10:27:32.188Z"
   },
   {
    "duration": 3705,
    "start_time": "2022-03-20T10:27:32.197Z"
   },
   {
    "duration": 2823,
    "start_time": "2022-03-20T10:27:35.903Z"
   },
   {
    "duration": 12,
    "start_time": "2022-03-20T10:27:38.727Z"
   },
   {
    "duration": 10,
    "start_time": "2022-03-20T10:27:38.741Z"
   },
   {
    "duration": 32,
    "start_time": "2022-03-20T10:27:38.752Z"
   },
   {
    "duration": 18,
    "start_time": "2022-03-20T10:27:38.785Z"
   },
   {
    "duration": 28,
    "start_time": "2022-03-20T10:27:38.805Z"
   },
   {
    "duration": 24,
    "start_time": "2022-03-20T10:27:38.834Z"
   },
   {
    "duration": 25,
    "start_time": "2022-03-20T10:27:38.880Z"
   },
   {
    "duration": 23,
    "start_time": "2022-03-20T10:27:38.906Z"
   },
   {
    "duration": 665,
    "start_time": "2022-03-30T18:15:44.736Z"
   },
   {
    "duration": 13,
    "start_time": "2022-03-30T18:15:45.404Z"
   },
   {
    "duration": 27,
    "start_time": "2022-03-30T18:15:45.419Z"
   },
   {
    "duration": 29,
    "start_time": "2022-03-30T18:15:45.450Z"
   },
   {
    "duration": 14,
    "start_time": "2022-03-30T18:15:45.483Z"
   },
   {
    "duration": 27,
    "start_time": "2022-03-30T18:15:45.499Z"
   },
   {
    "duration": 23,
    "start_time": "2022-03-30T18:15:45.529Z"
   },
   {
    "duration": 32,
    "start_time": "2022-03-30T18:15:45.555Z"
   },
   {
    "duration": 59,
    "start_time": "2022-03-30T18:15:45.589Z"
   },
   {
    "duration": 122,
    "start_time": "2022-03-30T18:15:45.654Z"
   },
   {
    "duration": 11,
    "start_time": "2022-03-30T18:15:45.778Z"
   },
   {
    "duration": 4908,
    "start_time": "2022-03-30T18:15:45.791Z"
   },
   {
    "duration": 3842,
    "start_time": "2022-03-30T18:15:50.702Z"
   },
   {
    "duration": 25,
    "start_time": "2022-03-30T18:15:54.548Z"
   },
   {
    "duration": 22,
    "start_time": "2022-03-30T18:15:54.576Z"
   },
   {
    "duration": 60,
    "start_time": "2022-03-30T18:15:54.600Z"
   },
   {
    "duration": 32,
    "start_time": "2022-03-30T18:15:54.662Z"
   },
   {
    "duration": 63,
    "start_time": "2022-03-30T18:15:54.696Z"
   },
   {
    "duration": 49,
    "start_time": "2022-03-30T18:15:54.762Z"
   },
   {
    "duration": 65,
    "start_time": "2022-03-30T18:15:54.814Z"
   },
   {
    "duration": 40,
    "start_time": "2022-03-30T18:15:54.882Z"
   },
   {
    "duration": 555,
    "start_time": "2022-03-30T19:19:44.853Z"
   },
   {
    "duration": 117,
    "start_time": "2022-03-30T19:25:28.146Z"
   },
   {
    "duration": 4,
    "start_time": "2022-03-30T19:31:30.569Z"
   },
   {
    "duration": 76,
    "start_time": "2022-03-30T19:31:31.991Z"
   },
   {
    "duration": 88,
    "start_time": "2022-03-30T19:31:35.759Z"
   },
   {
    "duration": 147,
    "start_time": "2022-03-30T19:32:09.128Z"
   },
   {
    "duration": 5660,
    "start_time": "2022-03-30T19:36:00.612Z"
   },
   {
    "duration": 8,
    "start_time": "2022-03-30T19:43:57.248Z"
   },
   {
    "duration": 7,
    "start_time": "2022-03-30T19:43:58.422Z"
   },
   {
    "duration": 14,
    "start_time": "2022-03-30T19:45:45.263Z"
   },
   {
    "duration": 8,
    "start_time": "2022-03-30T19:46:24.690Z"
   },
   {
    "duration": 8,
    "start_time": "2022-03-30T19:46:44.135Z"
   },
   {
    "duration": 6,
    "start_time": "2022-03-30T19:48:43.000Z"
   },
   {
    "duration": 10,
    "start_time": "2022-03-30T19:48:46.887Z"
   },
   {
    "duration": 8,
    "start_time": "2022-03-30T19:48:50.128Z"
   },
   {
    "duration": 7,
    "start_time": "2022-03-30T19:51:43.209Z"
   },
   {
    "duration": 6,
    "start_time": "2022-03-30T19:51:54.406Z"
   },
   {
    "duration": 9,
    "start_time": "2022-03-30T19:52:15.629Z"
   },
   {
    "duration": 6,
    "start_time": "2022-03-30T19:52:22.933Z"
   },
   {
    "duration": 6,
    "start_time": "2022-03-30T19:53:15.858Z"
   },
   {
    "duration": 17,
    "start_time": "2022-03-30T19:53:17.090Z"
   },
   {
    "duration": 21,
    "start_time": "2022-03-30T19:53:53.075Z"
   },
   {
    "duration": 12,
    "start_time": "2022-03-30T19:58:07.763Z"
   },
   {
    "duration": 21,
    "start_time": "2022-03-30T19:58:23.288Z"
   },
   {
    "duration": 11,
    "start_time": "2022-03-30T19:58:29.448Z"
   },
   {
    "duration": 15,
    "start_time": "2022-03-30T19:58:32.164Z"
   },
   {
    "duration": 12,
    "start_time": "2022-03-30T19:58:33.525Z"
   },
   {
    "duration": 31,
    "start_time": "2022-03-30T20:00:44.886Z"
   },
   {
    "duration": 37,
    "start_time": "2022-03-30T20:00:49.980Z"
   },
   {
    "duration": 32,
    "start_time": "2022-03-30T20:00:51.160Z"
   },
   {
    "duration": 49,
    "start_time": "2022-03-30T20:00:52.058Z"
   },
   {
    "duration": 4093,
    "start_time": "2022-03-30T20:05:25.816Z"
   },
   {
    "duration": 21,
    "start_time": "2022-03-30T20:05:41.331Z"
   },
   {
    "duration": 4065,
    "start_time": "2022-03-30T20:06:53.796Z"
   },
   {
    "duration": 147,
    "start_time": "2022-03-30T20:06:57.863Z"
   },
   {
    "duration": 0,
    "start_time": "2022-03-30T20:06:58.012Z"
   },
   {
    "duration": 18,
    "start_time": "2022-03-30T20:07:09.315Z"
   },
   {
    "duration": 20,
    "start_time": "2022-03-30T20:08:13.281Z"
   },
   {
    "duration": 10,
    "start_time": "2022-03-30T20:08:15.016Z"
   },
   {
    "duration": 167,
    "start_time": "2022-03-30T20:08:59.629Z"
   },
   {
    "duration": 20,
    "start_time": "2022-03-30T20:09:03.477Z"
   },
   {
    "duration": 11,
    "start_time": "2022-03-30T20:09:10.105Z"
   },
   {
    "duration": 15,
    "start_time": "2022-03-30T20:09:18.380Z"
   },
   {
    "duration": 14,
    "start_time": "2022-03-30T20:10:41.398Z"
   },
   {
    "duration": 26,
    "start_time": "2022-03-30T20:10:42.678Z"
   },
   {
    "duration": 553,
    "start_time": "2022-03-30T20:14:23.162Z"
   },
   {
    "duration": 79,
    "start_time": "2022-03-30T20:14:23.718Z"
   },
   {
    "duration": 105,
    "start_time": "2022-03-30T20:14:23.800Z"
   },
   {
    "duration": 15,
    "start_time": "2022-03-30T20:14:23.907Z"
   },
   {
    "duration": 8,
    "start_time": "2022-03-30T20:14:23.925Z"
   },
   {
    "duration": 10,
    "start_time": "2022-03-30T20:14:23.935Z"
   },
   {
    "duration": 40,
    "start_time": "2022-03-30T20:14:23.947Z"
   },
   {
    "duration": 8,
    "start_time": "2022-03-30T20:14:23.995Z"
   },
   {
    "duration": 26,
    "start_time": "2022-03-30T20:14:24.006Z"
   },
   {
    "duration": 19,
    "start_time": "2022-03-30T20:14:24.035Z"
   },
   {
    "duration": 10,
    "start_time": "2022-03-30T20:14:24.057Z"
   },
   {
    "duration": 35,
    "start_time": "2022-03-30T20:14:24.069Z"
   },
   {
    "duration": 7,
    "start_time": "2022-03-30T20:14:24.107Z"
   },
   {
    "duration": 8,
    "start_time": "2022-03-30T20:14:24.119Z"
   },
   {
    "duration": 18,
    "start_time": "2022-03-30T20:14:24.129Z"
   },
   {
    "duration": 25,
    "start_time": "2022-03-30T20:14:24.149Z"
   },
   {
    "duration": 8,
    "start_time": "2022-03-30T20:14:24.193Z"
   },
   {
    "duration": 18,
    "start_time": "2022-03-30T20:14:24.203Z"
   },
   {
    "duration": 13,
    "start_time": "2022-03-30T20:14:24.223Z"
   },
   {
    "duration": 24,
    "start_time": "2022-03-30T20:14:24.239Z"
   },
   {
    "duration": 29,
    "start_time": "2022-03-30T20:14:24.266Z"
   },
   {
    "duration": 47,
    "start_time": "2022-03-30T20:14:24.298Z"
   },
   {
    "duration": 48,
    "start_time": "2022-03-30T20:14:24.348Z"
   },
   {
    "duration": 30,
    "start_time": "2022-03-30T20:14:24.398Z"
   },
   {
    "duration": 12,
    "start_time": "2022-03-30T20:14:24.431Z"
   },
   {
    "duration": 5359,
    "start_time": "2022-03-30T20:14:24.446Z"
   },
   {
    "duration": 35,
    "start_time": "2022-03-30T20:14:29.809Z"
   },
   {
    "duration": 4465,
    "start_time": "2022-03-30T20:14:29.846Z"
   },
   {
    "duration": 19,
    "start_time": "2022-03-30T20:14:34.313Z"
   },
   {
    "duration": 17,
    "start_time": "2022-03-30T20:14:34.334Z"
   },
   {
    "duration": 10,
    "start_time": "2022-03-30T20:14:34.353Z"
   },
   {
    "duration": 13,
    "start_time": "2022-03-30T20:14:34.389Z"
   },
   {
    "duration": 14,
    "start_time": "2022-03-30T20:14:34.404Z"
   },
   {
    "duration": 20,
    "start_time": "2022-03-30T20:14:34.420Z"
   },
   {
    "duration": 46,
    "start_time": "2022-03-30T20:14:34.442Z"
   },
   {
    "duration": 31,
    "start_time": "2022-03-30T20:14:34.491Z"
   },
   {
    "duration": 42,
    "start_time": "2022-03-30T20:14:34.525Z"
   },
   {
    "duration": 47,
    "start_time": "2022-03-30T20:14:34.584Z"
   },
   {
    "duration": 64,
    "start_time": "2022-03-30T20:14:34.633Z"
   },
   {
    "duration": 41,
    "start_time": "2022-03-30T20:14:34.699Z"
   },
   {
    "duration": 559,
    "start_time": "2022-03-30T20:18:54.719Z"
   },
   {
    "duration": 87,
    "start_time": "2022-03-30T20:18:55.281Z"
   },
   {
    "duration": 118,
    "start_time": "2022-03-30T20:18:55.370Z"
   },
   {
    "duration": 16,
    "start_time": "2022-03-30T20:18:55.491Z"
   },
   {
    "duration": 6,
    "start_time": "2022-03-30T20:18:55.510Z"
   },
   {
    "duration": 7,
    "start_time": "2022-03-30T20:18:55.518Z"
   },
   {
    "duration": 12,
    "start_time": "2022-03-30T20:18:55.527Z"
   },
   {
    "duration": 54,
    "start_time": "2022-03-30T20:18:55.541Z"
   },
   {
    "duration": 12,
    "start_time": "2022-03-30T20:18:55.596Z"
   },
   {
    "duration": 15,
    "start_time": "2022-03-30T20:18:55.613Z"
   },
   {
    "duration": 6,
    "start_time": "2022-03-30T20:18:55.630Z"
   },
   {
    "duration": 8,
    "start_time": "2022-03-30T20:18:55.638Z"
   },
   {
    "duration": 38,
    "start_time": "2022-03-30T20:18:55.649Z"
   },
   {
    "duration": 7,
    "start_time": "2022-03-30T20:18:55.691Z"
   },
   {
    "duration": 15,
    "start_time": "2022-03-30T20:18:55.700Z"
   },
   {
    "duration": 5,
    "start_time": "2022-03-30T20:18:55.718Z"
   },
   {
    "duration": 19,
    "start_time": "2022-03-30T20:18:55.726Z"
   },
   {
    "duration": 56,
    "start_time": "2022-03-30T20:18:55.747Z"
   },
   {
    "duration": 8,
    "start_time": "2022-03-30T20:18:55.806Z"
   },
   {
    "duration": 19,
    "start_time": "2022-03-30T20:18:55.816Z"
   },
   {
    "duration": 13,
    "start_time": "2022-03-30T20:18:55.837Z"
   },
   {
    "duration": 61,
    "start_time": "2022-03-30T20:18:55.852Z"
   },
   {
    "duration": 42,
    "start_time": "2022-03-30T20:18:55.916Z"
   },
   {
    "duration": 52,
    "start_time": "2022-03-30T20:18:55.961Z"
   },
   {
    "duration": 11,
    "start_time": "2022-03-30T20:18:56.015Z"
   },
   {
    "duration": 5226,
    "start_time": "2022-03-30T20:18:56.029Z"
   },
   {
    "duration": 31,
    "start_time": "2022-03-30T20:19:01.258Z"
   },
   {
    "duration": 4298,
    "start_time": "2022-03-30T20:19:01.297Z"
   },
   {
    "duration": 18,
    "start_time": "2022-03-30T20:19:05.597Z"
   },
   {
    "duration": 17,
    "start_time": "2022-03-30T20:19:05.617Z"
   },
   {
    "duration": 9,
    "start_time": "2022-03-30T20:19:05.636Z"
   },
   {
    "duration": 43,
    "start_time": "2022-03-30T20:19:05.648Z"
   },
   {
    "duration": 14,
    "start_time": "2022-03-30T20:19:05.694Z"
   },
   {
    "duration": 35,
    "start_time": "2022-03-30T20:19:05.709Z"
   },
   {
    "duration": 13,
    "start_time": "2022-03-30T20:19:05.746Z"
   },
   {
    "duration": 40,
    "start_time": "2022-03-30T20:19:05.762Z"
   },
   {
    "duration": 42,
    "start_time": "2022-03-30T20:19:05.804Z"
   },
   {
    "duration": 64,
    "start_time": "2022-03-30T20:19:05.848Z"
   },
   {
    "duration": 80,
    "start_time": "2022-03-30T20:19:05.915Z"
   },
   {
    "duration": 41,
    "start_time": "2022-03-30T20:19:05.999Z"
   }
  ],
  "kernelspec": {
   "display_name": "Python 3 (ipykernel)",
   "language": "python",
   "name": "python3"
  },
  "language_info": {
   "codemirror_mode": {
    "name": "ipython",
    "version": 3
   },
   "file_extension": ".py",
   "mimetype": "text/x-python",
   "name": "python",
   "nbconvert_exporter": "python",
   "pygments_lexer": "ipython3",
   "version": "3.9.13"
  },
  "toc": {
   "base_numbering": 1,
   "nav_menu": {},
   "number_sections": true,
   "sideBar": true,
   "skip_h1_title": true,
   "title_cell": "Table of Contents",
   "title_sidebar": "Contents",
   "toc_cell": false,
   "toc_position": {
    "height": "calc(100% - 180px)",
    "left": "10px",
    "top": "150px",
    "width": "337.597px"
   },
   "toc_section_display": true,
   "toc_window_display": true
  }
 },
 "nbformat": 4,
 "nbformat_minor": 2
}
