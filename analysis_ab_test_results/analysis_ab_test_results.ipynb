{
 "cells": [
  {
   "cell_type": "markdown",
   "metadata": {},
   "source": [
    "# Приоритизация гипотез и анализ результатов A/B-теста"
   ]
  },
  {
   "attachments": {},
   "cell_type": "markdown",
   "metadata": {},
   "source": [
    "# Описание проекта\n",
    "\n",
    "В крупном интернет-магазине подготовлен список гипотез для увеличения выручки. Необходимо провести приоритизацию гипотез с применением фреймворков ICE, RICE и  проанализировать результаты A/B-теста с проведением проверок статистических гипотез.\n",
    "\n",
    "# Цель проекта\n",
    "\n",
    "Выбрать наиболее приоритетные гипотезы и провести оценку результатов A/B-теста  \n",
    "\n",
    "# Описание данных\n",
    "\n",
    "*Датасет hypothesis.csv* (гипотезы по увеличению выручки с параметрами для приоритизации)  \n",
    "\n",
    "**Hypothesis** — краткое описание 9-ти гипотез  \n",
    "**Reach** — охват пользователей по 10-балльной шкале  \n",
    "**Impact** — влияние на пользователей по 10-балльной шкале  \n",
    "**Confidence** — уверенность в гипотезе по 10-балльной шкале  \n",
    "**Efforts** — затраты ресурсов на проверку гипотезы по 10-балльной шкале     \n",
    "\n",
    "*Датасет orders.csv* (информация о заказах)  \n",
    "\n",
    "**transactionId** — идентификатор заказа    \n",
    "**visitorId** — идентификатор пользователя, совершившего заказ  \n",
    "**date** — дата, когда был совершён заказ  \n",
    "**revenue** — выручка заказа  \n",
    "**group** — группа A/B-теста, в которую попал заказ  \n",
    "\n",
    "*Датасет visitors.csv* (информация о пользователях) \n",
    "\n",
    "**date** — дата  \n",
    "**group** — группа A/B-теста  \n",
    "**visitors** — количество пользователей в указанную дату в указанной группе A/B-теста  \n",
    "\n",
    "# Содержание  \n",
    "\n",
    "**1 Загрузка и предобработка данных**  \n",
    "1.1 Импорт библиотек и загрузка данных  \n",
    "1.2 Обзор и предобработка данных  \n",
    "1.3 Вывод  \n",
    "**2 Приоритизация гипотез**  \n",
    "2.1 Фреймворк ICE  \n",
    "2.2 Фреймворк RICE  \n",
    "2.3 Вывод  \n",
    "**3 Анализ A/B-теста**  \n",
    "3.1 Агрегация кумулятивных данных по дням  \n",
    "3.2 График кумулятивной выручки по группам  \n",
    "3.3 График кумулятивного среднего чека по группам  \n",
    "3.4 График относительного изменения кумулятивного среднего чека группы B к группе A  \n",
    "3.5 График кумулятивного среднего количества заказов по группам  \n",
    "3.6 График относительного изменения кумулятивного среднего количества заказов группы B к группе A  \n",
    "3.7 Точечный график количества заказов по пользователям  \n",
    "3.8 Расчет 95-го и 99-го перцентилей количества заказов на пользователя и выбор границы для определения аномальных пользователей  \n",
    "3.9 Точечный график стоимостей заказов  \n",
    "3.10 Расчет 95-го и 99-го перцентилей стоимости заказов и выбор границы для определения аномальных заказов  \n",
    "3.11 Расчет статистической значимости различий в среднем количестве заказов между группами по «сырым» данным  \n",
    "3.12 Расчет статистической значимости различий в среднем чеке заказа между группами по «сырым» данным  \n",
    "3.13 Расчет статистической значимости различий в среднем количестве заказов между группами по «очищенным» данным  \n",
    "3.14 Расчет статистической значимости различий в среднем чеке заказа между группами по «очищенным» данным  \n",
    "3.15 Решение по результатам теста  \n",
    "**4 Общий вывод**  "
   ]
  },
  {
   "cell_type": "markdown",
   "metadata": {},
   "source": [
    "## 1. Загрузка и предобработка данных"
   ]
  },
  {
   "cell_type": "markdown",
   "metadata": {},
   "source": [
    "### 1.1 Импорт библиотек и загрузка данных"
   ]
  },
  {
   "cell_type": "markdown",
   "metadata": {},
   "source": [
    "Импортируем библиотеки:"
   ]
  },
  {
   "cell_type": "code",
   "execution_count": 20,
   "metadata": {},
   "outputs": [],
   "source": [
    "import pandas as pd\n",
    "import numpy as np\n",
    "import matplotlib.pyplot as plt\n",
    "import datetime as dt\n",
    "import scipy.stats as stats"
   ]
  },
  {
   "cell_type": "markdown",
   "metadata": {},
   "source": [
    "Загружаем данные и сохраняем их в соответствующих переменных:"
   ]
  },
  {
   "cell_type": "code",
   "execution_count": 21,
   "metadata": {},
   "outputs": [],
   "source": [
    "hypothesis = pd.read_csv('/datasets/hypothesis.csv')\n",
    "orders = pd.read_csv('/datasets/orders.csv')\n",
    "visitors = pd.read_csv('/datasets/visitors.csv')"
   ]
  },
  {
   "cell_type": "markdown",
   "metadata": {},
   "source": [
    "### 1.2 Обзор и предобработка данных"
   ]
  },
  {
   "cell_type": "markdown",
   "metadata": {},
   "source": [
    "Начнем с обзора данных таблицы **hypothesis**. Снимем ограничение на ширину столбцов для полного просмотра описания гипотез, выведем на экран данные и общую информацию:"
   ]
  },
  {
   "cell_type": "code",
   "execution_count": 22,
   "metadata": {
    "scrolled": false
   },
   "outputs": [
    {
     "data": {
      "text/html": [
       "<div>\n",
       "<style scoped>\n",
       "    .dataframe tbody tr th:only-of-type {\n",
       "        vertical-align: middle;\n",
       "    }\n",
       "\n",
       "    .dataframe tbody tr th {\n",
       "        vertical-align: top;\n",
       "    }\n",
       "\n",
       "    .dataframe thead th {\n",
       "        text-align: right;\n",
       "    }\n",
       "</style>\n",
       "<table border=\"1\" class=\"dataframe\">\n",
       "  <thead>\n",
       "    <tr style=\"text-align: right;\">\n",
       "      <th></th>\n",
       "      <th>Hypothesis</th>\n",
       "      <th>Reach</th>\n",
       "      <th>Impact</th>\n",
       "      <th>Confidence</th>\n",
       "      <th>Efforts</th>\n",
       "    </tr>\n",
       "  </thead>\n",
       "  <tbody>\n",
       "    <tr>\n",
       "      <th>0</th>\n",
       "      <td>Добавить два новых канала привлечения трафика, что позволит привлекать на 30% больше пользователей</td>\n",
       "      <td>3</td>\n",
       "      <td>10</td>\n",
       "      <td>8</td>\n",
       "      <td>6</td>\n",
       "    </tr>\n",
       "    <tr>\n",
       "      <th>1</th>\n",
       "      <td>Запустить собственную службу доставки, что сократит срок доставки заказов</td>\n",
       "      <td>2</td>\n",
       "      <td>5</td>\n",
       "      <td>4</td>\n",
       "      <td>10</td>\n",
       "    </tr>\n",
       "    <tr>\n",
       "      <th>2</th>\n",
       "      <td>Добавить блоки рекомендаций товаров на сайт интернет магазина, чтобы повысить конверсию и средний чек заказа</td>\n",
       "      <td>8</td>\n",
       "      <td>3</td>\n",
       "      <td>7</td>\n",
       "      <td>3</td>\n",
       "    </tr>\n",
       "    <tr>\n",
       "      <th>3</th>\n",
       "      <td>Изменить структура категорий, что увеличит конверсию, т.к. пользователи быстрее найдут нужный товар</td>\n",
       "      <td>8</td>\n",
       "      <td>3</td>\n",
       "      <td>3</td>\n",
       "      <td>8</td>\n",
       "    </tr>\n",
       "    <tr>\n",
       "      <th>4</th>\n",
       "      <td>Изменить цвет фона главной страницы, чтобы увеличить вовлеченность пользователей</td>\n",
       "      <td>3</td>\n",
       "      <td>1</td>\n",
       "      <td>1</td>\n",
       "      <td>1</td>\n",
       "    </tr>\n",
       "    <tr>\n",
       "      <th>5</th>\n",
       "      <td>Добавить страницу отзывов клиентов о магазине, что позволит увеличить количество заказов</td>\n",
       "      <td>3</td>\n",
       "      <td>2</td>\n",
       "      <td>2</td>\n",
       "      <td>3</td>\n",
       "    </tr>\n",
       "    <tr>\n",
       "      <th>6</th>\n",
       "      <td>Показать на главной странице баннеры с актуальными акциями и распродажами, чтобы увеличить конверсию</td>\n",
       "      <td>5</td>\n",
       "      <td>3</td>\n",
       "      <td>8</td>\n",
       "      <td>3</td>\n",
       "    </tr>\n",
       "    <tr>\n",
       "      <th>7</th>\n",
       "      <td>Добавить форму подписки на все основные страницы, чтобы собрать базу клиентов для email-рассылок</td>\n",
       "      <td>10</td>\n",
       "      <td>7</td>\n",
       "      <td>8</td>\n",
       "      <td>5</td>\n",
       "    </tr>\n",
       "    <tr>\n",
       "      <th>8</th>\n",
       "      <td>Запустить акцию, дающую скидку на товар в день рождения</td>\n",
       "      <td>1</td>\n",
       "      <td>9</td>\n",
       "      <td>9</td>\n",
       "      <td>5</td>\n",
       "    </tr>\n",
       "  </tbody>\n",
       "</table>\n",
       "</div>"
      ],
      "text/plain": [
       "                                                                                                     Hypothesis  \\\n",
       "0            Добавить два новых канала привлечения трафика, что позволит привлекать на 30% больше пользователей   \n",
       "1                                     Запустить собственную службу доставки, что сократит срок доставки заказов   \n",
       "2  Добавить блоки рекомендаций товаров на сайт интернет магазина, чтобы повысить конверсию и средний чек заказа   \n",
       "3           Изменить структура категорий, что увеличит конверсию, т.к. пользователи быстрее найдут нужный товар   \n",
       "4                              Изменить цвет фона главной страницы, чтобы увеличить вовлеченность пользователей   \n",
       "5                      Добавить страницу отзывов клиентов о магазине, что позволит увеличить количество заказов   \n",
       "6          Показать на главной странице баннеры с актуальными акциями и распродажами, чтобы увеличить конверсию   \n",
       "7              Добавить форму подписки на все основные страницы, чтобы собрать базу клиентов для email-рассылок   \n",
       "8                                                       Запустить акцию, дающую скидку на товар в день рождения   \n",
       "\n",
       "   Reach  Impact  Confidence  Efforts  \n",
       "0      3      10           8        6  \n",
       "1      2       5           4       10  \n",
       "2      8       3           7        3  \n",
       "3      8       3           3        8  \n",
       "4      3       1           1        1  \n",
       "5      3       2           2        3  \n",
       "6      5       3           8        3  \n",
       "7     10       7           8        5  \n",
       "8      1       9           9        5  "
      ]
     },
     "metadata": {},
     "output_type": "display_data"
    },
    {
     "name": "stdout",
     "output_type": "stream",
     "text": [
      "<class 'pandas.core.frame.DataFrame'>\n",
      "RangeIndex: 9 entries, 0 to 8\n",
      "Data columns (total 5 columns):\n",
      " #   Column      Non-Null Count  Dtype \n",
      "---  ------      --------------  ----- \n",
      " 0   Hypothesis  9 non-null      object\n",
      " 1   Reach       9 non-null      int64 \n",
      " 2   Impact      9 non-null      int64 \n",
      " 3   Confidence  9 non-null      int64 \n",
      " 4   Efforts     9 non-null      int64 \n",
      "dtypes: int64(4), object(1)\n",
      "memory usage: 488.0+ bytes\n"
     ]
    }
   ],
   "source": [
    "pd.set_option('display.max_colwidth', None)\n",
    "display(hypothesis)\n",
    "hypothesis.info()"
   ]
  },
  {
   "cell_type": "markdown",
   "metadata": {},
   "source": [
    "Данные в порядке, есть описание гипотез и числовые параметры. Пропусков и дубликатов нет, но есть нарушения стиля при именовании столбцов (используются буквы верхнего регистра). Проведем предобработку и проверим результат:"
   ]
  },
  {
   "cell_type": "code",
   "execution_count": 23,
   "metadata": {},
   "outputs": [
    {
     "data": {
      "text/plain": [
       "Index(['hypothesis', 'reach', 'impact', 'confidence', 'efforts'], dtype='object')"
      ]
     },
     "execution_count": 23,
     "metadata": {},
     "output_type": "execute_result"
    }
   ],
   "source": [
    "hypothesis.columns = hypothesis.columns.str.lower()\n",
    "hypothesis.columns"
   ]
  },
  {
   "cell_type": "markdown",
   "metadata": {},
   "source": [
    "Теперь проверим таблицу **orders**, выведем первые 5 строк, общую информацию и период, за который собраны данные:"
   ]
  },
  {
   "cell_type": "code",
   "execution_count": 24,
   "metadata": {},
   "outputs": [
    {
     "data": {
      "text/html": [
       "<div>\n",
       "<style scoped>\n",
       "    .dataframe tbody tr th:only-of-type {\n",
       "        vertical-align: middle;\n",
       "    }\n",
       "\n",
       "    .dataframe tbody tr th {\n",
       "        vertical-align: top;\n",
       "    }\n",
       "\n",
       "    .dataframe thead th {\n",
       "        text-align: right;\n",
       "    }\n",
       "</style>\n",
       "<table border=\"1\" class=\"dataframe\">\n",
       "  <thead>\n",
       "    <tr style=\"text-align: right;\">\n",
       "      <th></th>\n",
       "      <th>transactionId</th>\n",
       "      <th>visitorId</th>\n",
       "      <th>date</th>\n",
       "      <th>revenue</th>\n",
       "      <th>group</th>\n",
       "    </tr>\n",
       "  </thead>\n",
       "  <tbody>\n",
       "    <tr>\n",
       "      <th>0</th>\n",
       "      <td>3667963787</td>\n",
       "      <td>3312258926</td>\n",
       "      <td>2019-08-15</td>\n",
       "      <td>1650</td>\n",
       "      <td>B</td>\n",
       "    </tr>\n",
       "    <tr>\n",
       "      <th>1</th>\n",
       "      <td>2804400009</td>\n",
       "      <td>3642806036</td>\n",
       "      <td>2019-08-15</td>\n",
       "      <td>730</td>\n",
       "      <td>B</td>\n",
       "    </tr>\n",
       "    <tr>\n",
       "      <th>2</th>\n",
       "      <td>2961555356</td>\n",
       "      <td>4069496402</td>\n",
       "      <td>2019-08-15</td>\n",
       "      <td>400</td>\n",
       "      <td>A</td>\n",
       "    </tr>\n",
       "    <tr>\n",
       "      <th>3</th>\n",
       "      <td>3797467345</td>\n",
       "      <td>1196621759</td>\n",
       "      <td>2019-08-15</td>\n",
       "      <td>9759</td>\n",
       "      <td>B</td>\n",
       "    </tr>\n",
       "    <tr>\n",
       "      <th>4</th>\n",
       "      <td>2282983706</td>\n",
       "      <td>2322279887</td>\n",
       "      <td>2019-08-15</td>\n",
       "      <td>2308</td>\n",
       "      <td>B</td>\n",
       "    </tr>\n",
       "  </tbody>\n",
       "</table>\n",
       "</div>"
      ],
      "text/plain": [
       "   transactionId   visitorId        date  revenue group\n",
       "0     3667963787  3312258926  2019-08-15     1650     B\n",
       "1     2804400009  3642806036  2019-08-15      730     B\n",
       "2     2961555356  4069496402  2019-08-15      400     A\n",
       "3     3797467345  1196621759  2019-08-15     9759     B\n",
       "4     2282983706  2322279887  2019-08-15     2308     B"
      ]
     },
     "metadata": {},
     "output_type": "display_data"
    },
    {
     "name": "stdout",
     "output_type": "stream",
     "text": [
      "<class 'pandas.core.frame.DataFrame'>\n",
      "RangeIndex: 1197 entries, 0 to 1196\n",
      "Data columns (total 5 columns):\n",
      " #   Column         Non-Null Count  Dtype \n",
      "---  ------         --------------  ----- \n",
      " 0   transactionId  1197 non-null   int64 \n",
      " 1   visitorId      1197 non-null   int64 \n",
      " 2   date           1197 non-null   object\n",
      " 3   revenue        1197 non-null   int64 \n",
      " 4   group          1197 non-null   object\n",
      "dtypes: int64(3), object(2)\n",
      "memory usage: 46.9+ KB\n",
      "\n",
      "Минимальная дата: 2019-08-01\n",
      "Максимальная дата: 2019-08-31\n"
     ]
    }
   ],
   "source": [
    "display(orders.head())\n",
    "orders.info()\n",
    "print()\n",
    "print('Минимальная дата:', orders['date'].min())\n",
    "print('Максимальная дата:', orders['date'].max())"
   ]
  },
  {
   "cell_type": "markdown",
   "metadata": {},
   "source": [
    "Продолжительность теста - 30 дней, пропусков в данных нет, но при этом также отмечается нарушение стиля - в наименованиях столбцов используются буквы верхнего регистра и не используется символ нижнего подчеркивания для разделения слов. Кроме того, дата представлена типом `object`. Внесем необходимые правки и проверим результат:"
   ]
  },
  {
   "cell_type": "code",
   "execution_count": 25,
   "metadata": {},
   "outputs": [
    {
     "name": "stdout",
     "output_type": "stream",
     "text": [
      "Index(['transaction_id', 'visitor_id', 'date', 'revenue', 'group'], dtype='object')\n"
     ]
    }
   ],
   "source": [
    "orders.columns = [x.replace('Id', '_id') for x in orders.columns]  # меняем написание \"id\"\n",
    "print(orders.columns)  # контролируем результат"
   ]
  },
  {
   "cell_type": "code",
   "execution_count": 26,
   "metadata": {},
   "outputs": [
    {
     "name": "stdout",
     "output_type": "stream",
     "text": [
      "<class 'pandas.core.frame.DataFrame'>\n",
      "RangeIndex: 1197 entries, 0 to 1196\n",
      "Data columns (total 5 columns):\n",
      " #   Column          Non-Null Count  Dtype         \n",
      "---  ------          --------------  -----         \n",
      " 0   transaction_id  1197 non-null   int64         \n",
      " 1   visitor_id      1197 non-null   int64         \n",
      " 2   date            1197 non-null   datetime64[ns]\n",
      " 3   revenue         1197 non-null   int64         \n",
      " 4   group           1197 non-null   object        \n",
      "dtypes: datetime64[ns](1), int64(3), object(1)\n",
      "memory usage: 46.9+ KB\n"
     ]
    }
   ],
   "source": [
    "orders['date'] = pd.to_datetime(orders['date']) # меняем тип данных на datetime64\n",
    "orders.info()  # контролируем результат"
   ]
  },
  {
   "cell_type": "markdown",
   "metadata": {},
   "source": [
    "Проведем аналогичный обзор таблицы **visitors**:"
   ]
  },
  {
   "cell_type": "code",
   "execution_count": 27,
   "metadata": {},
   "outputs": [
    {
     "data": {
      "text/html": [
       "<div>\n",
       "<style scoped>\n",
       "    .dataframe tbody tr th:only-of-type {\n",
       "        vertical-align: middle;\n",
       "    }\n",
       "\n",
       "    .dataframe tbody tr th {\n",
       "        vertical-align: top;\n",
       "    }\n",
       "\n",
       "    .dataframe thead th {\n",
       "        text-align: right;\n",
       "    }\n",
       "</style>\n",
       "<table border=\"1\" class=\"dataframe\">\n",
       "  <thead>\n",
       "    <tr style=\"text-align: right;\">\n",
       "      <th></th>\n",
       "      <th>date</th>\n",
       "      <th>group</th>\n",
       "      <th>visitors</th>\n",
       "    </tr>\n",
       "  </thead>\n",
       "  <tbody>\n",
       "    <tr>\n",
       "      <th>0</th>\n",
       "      <td>2019-08-01</td>\n",
       "      <td>A</td>\n",
       "      <td>719</td>\n",
       "    </tr>\n",
       "    <tr>\n",
       "      <th>1</th>\n",
       "      <td>2019-08-02</td>\n",
       "      <td>A</td>\n",
       "      <td>619</td>\n",
       "    </tr>\n",
       "    <tr>\n",
       "      <th>2</th>\n",
       "      <td>2019-08-03</td>\n",
       "      <td>A</td>\n",
       "      <td>507</td>\n",
       "    </tr>\n",
       "    <tr>\n",
       "      <th>3</th>\n",
       "      <td>2019-08-04</td>\n",
       "      <td>A</td>\n",
       "      <td>717</td>\n",
       "    </tr>\n",
       "    <tr>\n",
       "      <th>4</th>\n",
       "      <td>2019-08-05</td>\n",
       "      <td>A</td>\n",
       "      <td>756</td>\n",
       "    </tr>\n",
       "  </tbody>\n",
       "</table>\n",
       "</div>"
      ],
      "text/plain": [
       "         date group  visitors\n",
       "0  2019-08-01     A       719\n",
       "1  2019-08-02     A       619\n",
       "2  2019-08-03     A       507\n",
       "3  2019-08-04     A       717\n",
       "4  2019-08-05     A       756"
      ]
     },
     "metadata": {},
     "output_type": "display_data"
    },
    {
     "name": "stdout",
     "output_type": "stream",
     "text": [
      "<class 'pandas.core.frame.DataFrame'>\n",
      "RangeIndex: 62 entries, 0 to 61\n",
      "Data columns (total 3 columns):\n",
      " #   Column    Non-Null Count  Dtype \n",
      "---  ------    --------------  ----- \n",
      " 0   date      62 non-null     object\n",
      " 1   group     62 non-null     object\n",
      " 2   visitors  62 non-null     int64 \n",
      "dtypes: int64(1), object(2)\n",
      "memory usage: 1.6+ KB\n",
      "\n",
      "Минимальная дата: 2019-08-01\n",
      "Максимальная дата: 2019-08-31\n"
     ]
    }
   ],
   "source": [
    "display(visitors.head())\n",
    "visitors.info()\n",
    "print()\n",
    "print('Минимальная дата:', visitors['date'].min())\n",
    "print('Максимальная дата:', visitors['date'].max())"
   ]
  },
  {
   "cell_type": "markdown",
   "metadata": {},
   "source": [
    "Период данных с посещениями пользователей идентичен таблице с заказами, пропущенных значений нет, правила стиля соблюдены, но необходимо исправить тип данных в столбце с датой. Проведем необходимую обработку и проверим результат:"
   ]
  },
  {
   "cell_type": "code",
   "execution_count": 28,
   "metadata": {},
   "outputs": [
    {
     "name": "stdout",
     "output_type": "stream",
     "text": [
      "<class 'pandas.core.frame.DataFrame'>\n",
      "RangeIndex: 62 entries, 0 to 61\n",
      "Data columns (total 3 columns):\n",
      " #   Column    Non-Null Count  Dtype         \n",
      "---  ------    --------------  -----         \n",
      " 0   date      62 non-null     datetime64[ns]\n",
      " 1   group     62 non-null     object        \n",
      " 2   visitors  62 non-null     int64         \n",
      "dtypes: datetime64[ns](1), int64(1), object(1)\n",
      "memory usage: 1.6+ KB\n"
     ]
    }
   ],
   "source": [
    "visitors['date'] = pd.to_datetime(visitors['date']) # меняем тип данных на datetime64\n",
    "visitors.info()  # контролируем результат"
   ]
  },
  {
   "cell_type": "markdown",
   "metadata": {},
   "source": [
    "Согласно описания данных, в таблицах **orders** и **visitors** указана принадлежность пользователей к контрольной группе (А) или эксперементальной группе (B). Проверим, есть ли пользователи, которые могли попасть в обе группы:"
   ]
  },
  {
   "cell_type": "code",
   "execution_count": 29,
   "metadata": {},
   "outputs": [
    {
     "data": {
      "text/plain": [
       "group    58\n",
       "dtype: int64"
      ]
     },
     "execution_count": 29,
     "metadata": {},
     "output_type": "execute_result"
    }
   ],
   "source": [
    "orders.groupby('visitor_id').agg({'group' : 'nunique'}).query('group>1').count()"
   ]
  },
  {
   "cell_type": "markdown",
   "metadata": {},
   "source": [
    "Действительно, есть 58 таких пользователей. Создадим список с идентификаторами пользователей попавших в обе группы, сгруппировав  данные таблицы **orders** по **visitor_id**, и сделав срез данных, где на каждого пользователя приходится более 1 группы:"
   ]
  },
  {
   "cell_type": "code",
   "execution_count": 30,
   "metadata": {},
   "outputs": [
    {
     "data": {
      "text/plain": [
       "array([   8300375,  199603092,  232979603,  237748145,  276558944,\n",
       "        351125977,  393266494,  457167155,  471551937,  477780734,\n",
       "        818047933,  963407295, 1230306981, 1294878855, 1316129916,\n",
       "       1333886533, 1404934699, 1602967004, 1614305549, 1648269707,\n",
       "       1668030113, 1738359350, 1801183820, 1959144690, 2038680547,\n",
       "       2044997962, 2378935119, 2458001652, 2579882178, 2587333274,\n",
       "       2600415354, 2654030115, 2686716486, 2712142231, 2716752286,\n",
       "       2780786433, 2927087541, 2949041841, 2954449915, 3062433592,\n",
       "       3202540741, 3234906277, 3656415546, 3717692402, 3766097110,\n",
       "       3803269165, 3891541246, 3941795274, 3951559397, 3957174400,\n",
       "       3963646447, 3972127743, 3984495233, 4069496402, 4120364173,\n",
       "       4186807279, 4256040402, 4266935830], dtype=int64)"
      ]
     },
     "execution_count": 30,
     "metadata": {},
     "output_type": "execute_result"
    }
   ],
   "source": [
    "double_users = orders.groupby('visitor_id').agg({'group' : 'nunique'}).reset_index().query('group>1')['visitor_id'].unique()\n",
    "double_users"
   ]
  },
  {
   "cell_type": "markdown",
   "metadata": {},
   "source": [
    "Теперь проверим, всегда ли эти пользователи попадают в обе группы. Для этого сделаем срез таблицы **orders**, оставив там с помощью метода `query()` только пользователей из списка выше. Затем сгруппируем полученные данные по дате, группе и уникальному номеру пользователей: "
   ]
  },
  {
   "cell_type": "code",
   "execution_count": 32,
   "metadata": {},
   "outputs": [
    {
     "data": {
      "text/html": [
       "<div>\n",
       "<style scoped>\n",
       "    .dataframe tbody tr th:only-of-type {\n",
       "        vertical-align: middle;\n",
       "    }\n",
       "\n",
       "    .dataframe tbody tr th {\n",
       "        vertical-align: top;\n",
       "    }\n",
       "\n",
       "    .dataframe thead th {\n",
       "        text-align: right;\n",
       "    }\n",
       "</style>\n",
       "<table border=\"1\" class=\"dataframe\">\n",
       "  <thead>\n",
       "    <tr style=\"text-align: right;\">\n",
       "      <th></th>\n",
       "      <th></th>\n",
       "      <th></th>\n",
       "      <th>visitor_id</th>\n",
       "    </tr>\n",
       "    <tr>\n",
       "      <th>date</th>\n",
       "      <th>group</th>\n",
       "      <th>visitor_id</th>\n",
       "      <th></th>\n",
       "    </tr>\n",
       "  </thead>\n",
       "  <tbody>\n",
       "    <tr>\n",
       "      <th rowspan=\"4\" valign=\"top\">2019-08-01</th>\n",
       "      <th>A</th>\n",
       "      <th>4256040402</th>\n",
       "      <td>1</td>\n",
       "    </tr>\n",
       "    <tr>\n",
       "      <th rowspan=\"3\" valign=\"top\">B</th>\n",
       "      <th>8300375</th>\n",
       "      <td>1</td>\n",
       "    </tr>\n",
       "    <tr>\n",
       "      <th>2716752286</th>\n",
       "      <td>1</td>\n",
       "    </tr>\n",
       "    <tr>\n",
       "      <th>3062433592</th>\n",
       "      <td>2</td>\n",
       "    </tr>\n",
       "    <tr>\n",
       "      <th>2019-08-02</th>\n",
       "      <th>A</th>\n",
       "      <th>2716752286</th>\n",
       "      <td>1</td>\n",
       "    </tr>\n",
       "    <tr>\n",
       "      <th>...</th>\n",
       "      <th>...</th>\n",
       "      <th>...</th>\n",
       "      <td>...</td>\n",
       "    </tr>\n",
       "    <tr>\n",
       "      <th rowspan=\"5\" valign=\"top\">2019-08-31</th>\n",
       "      <th rowspan=\"2\" valign=\"top\">A</th>\n",
       "      <th>2600415354</th>\n",
       "      <td>1</td>\n",
       "    </tr>\n",
       "    <tr>\n",
       "      <th>4256040402</th>\n",
       "      <td>1</td>\n",
       "    </tr>\n",
       "    <tr>\n",
       "      <th rowspan=\"3\" valign=\"top\">B</th>\n",
       "      <th>232979603</th>\n",
       "      <td>1</td>\n",
       "    </tr>\n",
       "    <tr>\n",
       "      <th>4120364173</th>\n",
       "      <td>1</td>\n",
       "    </tr>\n",
       "    <tr>\n",
       "      <th>4256040402</th>\n",
       "      <td>1</td>\n",
       "    </tr>\n",
       "  </tbody>\n",
       "</table>\n",
       "<p>170 rows × 1 columns</p>\n",
       "</div>"
      ],
      "text/plain": [
       "                             visitor_id\n",
       "date       group visitor_id            \n",
       "2019-08-01 A     4256040402           1\n",
       "           B     8300375              1\n",
       "                 2716752286           1\n",
       "                 3062433592           2\n",
       "2019-08-02 A     2716752286           1\n",
       "...                                 ...\n",
       "2019-08-31 A     2600415354           1\n",
       "                 4256040402           1\n",
       "           B     232979603            1\n",
       "                 4120364173           1\n",
       "                 4256040402           1\n",
       "\n",
       "[170 rows x 1 columns]"
      ]
     },
     "execution_count": 32,
     "metadata": {},
     "output_type": "execute_result"
    }
   ],
   "source": [
    "orders.query('visitor_id in @double_users').groupby(['date', 'group', 'visitor_id']).agg({'visitor_id' : 'count'})"
   ]
  },
  {
   "cell_type": "markdown",
   "metadata": {},
   "source": [
    "Из таблицы видно, что так происходит не всегда, из чего можно предположить, что пользователи попадали в разные группы, используя разные типы устройств. В любом случае, эксперимент с такими пользователями не может быть чистым, поскольку они видели разные версии страниц и непонятно, какая из версий сильнее повлияла на решение оформить заказ. Поэтому удалим данные этих пользователей из таблиц **orders** и **visitors**."
   ]
  },
  {
   "cell_type": "markdown",
   "metadata": {},
   "source": [
    "Для этого создадим сначала список с количеством посещений из таблицы **orders**, сгруппированный по датам и группам:"
   ]
  },
  {
   "cell_type": "code",
   "execution_count": 33,
   "metadata": {},
   "outputs": [
    {
     "data": {
      "text/html": [
       "<div>\n",
       "<style scoped>\n",
       "    .dataframe tbody tr th:only-of-type {\n",
       "        vertical-align: middle;\n",
       "    }\n",
       "\n",
       "    .dataframe tbody tr th {\n",
       "        vertical-align: top;\n",
       "    }\n",
       "\n",
       "    .dataframe thead th {\n",
       "        text-align: right;\n",
       "    }\n",
       "</style>\n",
       "<table border=\"1\" class=\"dataframe\">\n",
       "  <thead>\n",
       "    <tr style=\"text-align: right;\">\n",
       "      <th></th>\n",
       "      <th></th>\n",
       "      <th>wrong_visitors</th>\n",
       "    </tr>\n",
       "    <tr>\n",
       "      <th>date</th>\n",
       "      <th>group</th>\n",
       "      <th></th>\n",
       "    </tr>\n",
       "  </thead>\n",
       "  <tbody>\n",
       "    <tr>\n",
       "      <th rowspan=\"2\" valign=\"top\">2019-08-01</th>\n",
       "      <th>A</th>\n",
       "      <td>1</td>\n",
       "    </tr>\n",
       "    <tr>\n",
       "      <th>B</th>\n",
       "      <td>4</td>\n",
       "    </tr>\n",
       "    <tr>\n",
       "      <th rowspan=\"2\" valign=\"top\">2019-08-02</th>\n",
       "      <th>A</th>\n",
       "      <td>1</td>\n",
       "    </tr>\n",
       "    <tr>\n",
       "      <th>B</th>\n",
       "      <td>1</td>\n",
       "    </tr>\n",
       "    <tr>\n",
       "      <th>2019-08-03</th>\n",
       "      <th>B</th>\n",
       "      <td>2</td>\n",
       "    </tr>\n",
       "  </tbody>\n",
       "</table>\n",
       "</div>"
      ],
      "text/plain": [
       "                  wrong_visitors\n",
       "date       group                \n",
       "2019-08-01 A                   1\n",
       "           B                   4\n",
       "2019-08-02 A                   1\n",
       "           B                   1\n",
       "2019-08-03 B                   2"
      ]
     },
     "execution_count": 33,
     "metadata": {},
     "output_type": "execute_result"
    }
   ],
   "source": [
    "wrong_list = orders.query('visitor_id in @double_users').groupby(['date', 'group']).agg({'visitor_id' : 'count'})\n",
    "wrong_list.columns = ['wrong_visitors']  # назначаем название колонки с кол-вом посещений\n",
    "wrong_list.head()  # контролируем результат"
   ]
  },
  {
   "cell_type": "markdown",
   "metadata": {},
   "source": [
    "Теперь вычтем посещения удаляемых пользователей из таблицы **visitors**:"
   ]
  },
  {
   "cell_type": "code",
   "execution_count": 34,
   "metadata": {},
   "outputs": [
    {
     "data": {
      "text/html": [
       "<div>\n",
       "<style scoped>\n",
       "    .dataframe tbody tr th:only-of-type {\n",
       "        vertical-align: middle;\n",
       "    }\n",
       "\n",
       "    .dataframe tbody tr th {\n",
       "        vertical-align: top;\n",
       "    }\n",
       "\n",
       "    .dataframe thead th {\n",
       "        text-align: right;\n",
       "    }\n",
       "</style>\n",
       "<table border=\"1\" class=\"dataframe\">\n",
       "  <thead>\n",
       "    <tr style=\"text-align: right;\">\n",
       "      <th></th>\n",
       "      <th>date</th>\n",
       "      <th>group</th>\n",
       "      <th>visitors</th>\n",
       "    </tr>\n",
       "  </thead>\n",
       "  <tbody>\n",
       "    <tr>\n",
       "      <th>0</th>\n",
       "      <td>2019-08-01</td>\n",
       "      <td>A</td>\n",
       "      <td>718</td>\n",
       "    </tr>\n",
       "    <tr>\n",
       "      <th>1</th>\n",
       "      <td>2019-08-02</td>\n",
       "      <td>A</td>\n",
       "      <td>618</td>\n",
       "    </tr>\n",
       "    <tr>\n",
       "      <th>2</th>\n",
       "      <td>2019-08-03</td>\n",
       "      <td>A</td>\n",
       "      <td>507</td>\n",
       "    </tr>\n",
       "    <tr>\n",
       "      <th>3</th>\n",
       "      <td>2019-08-04</td>\n",
       "      <td>A</td>\n",
       "      <td>712</td>\n",
       "    </tr>\n",
       "    <tr>\n",
       "      <th>4</th>\n",
       "      <td>2019-08-05</td>\n",
       "      <td>A</td>\n",
       "      <td>753</td>\n",
       "    </tr>\n",
       "    <tr>\n",
       "      <th>...</th>\n",
       "      <td>...</td>\n",
       "      <td>...</td>\n",
       "      <td>...</td>\n",
       "    </tr>\n",
       "    <tr>\n",
       "      <th>57</th>\n",
       "      <td>2019-08-27</td>\n",
       "      <td>B</td>\n",
       "      <td>715</td>\n",
       "    </tr>\n",
       "    <tr>\n",
       "      <th>58</th>\n",
       "      <td>2019-08-28</td>\n",
       "      <td>B</td>\n",
       "      <td>648</td>\n",
       "    </tr>\n",
       "    <tr>\n",
       "      <th>59</th>\n",
       "      <td>2019-08-29</td>\n",
       "      <td>B</td>\n",
       "      <td>526</td>\n",
       "    </tr>\n",
       "    <tr>\n",
       "      <th>60</th>\n",
       "      <td>2019-08-30</td>\n",
       "      <td>B</td>\n",
       "      <td>487</td>\n",
       "    </tr>\n",
       "    <tr>\n",
       "      <th>61</th>\n",
       "      <td>2019-08-31</td>\n",
       "      <td>B</td>\n",
       "      <td>715</td>\n",
       "    </tr>\n",
       "  </tbody>\n",
       "</table>\n",
       "<p>62 rows × 3 columns</p>\n",
       "</div>"
      ],
      "text/plain": [
       "         date group  visitors\n",
       "0  2019-08-01     A       718\n",
       "1  2019-08-02     A       618\n",
       "2  2019-08-03     A       507\n",
       "3  2019-08-04     A       712\n",
       "4  2019-08-05     A       753\n",
       "..        ...   ...       ...\n",
       "57 2019-08-27     B       715\n",
       "58 2019-08-28     B       648\n",
       "59 2019-08-29     B       526\n",
       "60 2019-08-30     B       487\n",
       "61 2019-08-31     B       715\n",
       "\n",
       "[62 rows x 3 columns]"
      ]
     },
     "execution_count": 34,
     "metadata": {},
     "output_type": "execute_result"
    }
   ],
   "source": [
    "visitors = visitors.merge(wrong_list, left_on=['date', 'group'], right_on=['date', 'group'], how='left')  # присоединяем колонку для расчета\n",
    "visitors['wrong_visitors'] = visitors['wrong_visitors'].fillna(0).astype(int)  # убираем пропуски и приводим к целочисленным значениям\n",
    "visitors['visitors'] = visitors['visitors'] - visitors['wrong_visitors']  # вычитаем посещения\n",
    "visitors = visitors.drop(columns =['wrong_visitors']) # удаляем вспомогательную колонку\n",
    "visitors  # контролируем результат"
   ]
  },
  {
   "cell_type": "markdown",
   "metadata": {},
   "source": [
    "И удаляем данные пользователей из таблицы заказов:"
   ]
  },
  {
   "cell_type": "code",
   "execution_count": 18,
   "metadata": {},
   "outputs": [
    {
     "name": "stdout",
     "output_type": "stream",
     "text": [
      "Количество уникальных пользователей до удаления: 1031\n",
      "Количество уникальных пользователей после удаления: 973\n"
     ]
    }
   ],
   "source": [
    "print('Количество уникальных пользователей до удаления:', orders['visitor_id'].nunique())\n",
    "orders = orders.query('visitor_id not in @double_users')\n",
    "print('Количество уникальных пользователей после удаления:', orders['visitor_id'].nunique())"
   ]
  },
  {
   "cell_type": "markdown",
   "metadata": {},
   "source": [
    "Теперь данные по пользователям скорректированы, и в завершение предобработки данных, проверим таблицы **orders** и **visitors** на наличие дубликатов:"
   ]
  },
  {
   "cell_type": "code",
   "execution_count": 35,
   "metadata": {},
   "outputs": [
    {
     "name": "stdout",
     "output_type": "stream",
     "text": [
      "0\n",
      "0\n"
     ]
    }
   ],
   "source": [
    "print(orders.duplicated().sum())\n",
    "print(visitors.duplicated().sum())"
   ]
  },
  {
   "cell_type": "markdown",
   "metadata": {},
   "source": [
    "Дубликатов нет."
   ]
  },
  {
   "cell_type": "markdown",
   "metadata": {},
   "source": [
    "### 1.3 Вывод"
   ]
  },
  {
   "cell_type": "markdown",
   "metadata": {},
   "source": [
    "На этапе обзора данных обнаружено следующее:\n",
    "- Во всех трех датасетах отсутствуют пропуски и дубликаты, в то же время выявлены нарушения стиля при именовании заголовков, а также несоответствие формата данных в столбцах с датой и временем.  \n",
    "- Установлена продолжительность проведения A/B теста - 30 дней, c 01.08.2019г. по 31.08.2019г.  \n",
    "- Найдены 58 пользователей, попавших во время тестирования в обе группы (принято решение об удалении данных этих пользователей).  \n",
    "\n",
    "Необходимая предобработка проведена, данные готовы для дальнейшей работы над проектом."
   ]
  },
  {
   "cell_type": "markdown",
   "metadata": {},
   "source": [
    "## 2 Приоритизация гипотез"
   ]
  },
  {
   "cell_type": "markdown",
   "metadata": {},
   "source": [
    "### 2.1 Фреймворк ICE"
   ]
  },
  {
   "cell_type": "markdown",
   "metadata": {},
   "source": [
    "Проведем приоритизацию гипотез согласно формуле: $$ICE = \\frac {Impact * Confidence}{Efforts}$$  \n",
    "Сохраним результат расчета в столбец **ice_score** и выведем результат, отсортированный по убыванию (5 приоритетных гипотез):"
   ]
  },
  {
   "cell_type": "code",
   "execution_count": 36,
   "metadata": {},
   "outputs": [
    {
     "data": {
      "text/html": [
       "<div>\n",
       "<style scoped>\n",
       "    .dataframe tbody tr th:only-of-type {\n",
       "        vertical-align: middle;\n",
       "    }\n",
       "\n",
       "    .dataframe tbody tr th {\n",
       "        vertical-align: top;\n",
       "    }\n",
       "\n",
       "    .dataframe thead th {\n",
       "        text-align: right;\n",
       "    }\n",
       "</style>\n",
       "<table border=\"1\" class=\"dataframe\">\n",
       "  <thead>\n",
       "    <tr style=\"text-align: right;\">\n",
       "      <th></th>\n",
       "      <th>hypothesis</th>\n",
       "      <th>ice_score</th>\n",
       "    </tr>\n",
       "  </thead>\n",
       "  <tbody>\n",
       "    <tr>\n",
       "      <th>8</th>\n",
       "      <td>Запустить акцию, дающую скидку на товар в день рождения</td>\n",
       "      <td>16.20</td>\n",
       "    </tr>\n",
       "    <tr>\n",
       "      <th>0</th>\n",
       "      <td>Добавить два новых канала привлечения трафика, что позволит привлекать на 30% больше пользователей</td>\n",
       "      <td>13.33</td>\n",
       "    </tr>\n",
       "    <tr>\n",
       "      <th>7</th>\n",
       "      <td>Добавить форму подписки на все основные страницы, чтобы собрать базу клиентов для email-рассылок</td>\n",
       "      <td>11.20</td>\n",
       "    </tr>\n",
       "    <tr>\n",
       "      <th>6</th>\n",
       "      <td>Показать на главной странице баннеры с актуальными акциями и распродажами, чтобы увеличить конверсию</td>\n",
       "      <td>8.00</td>\n",
       "    </tr>\n",
       "    <tr>\n",
       "      <th>2</th>\n",
       "      <td>Добавить блоки рекомендаций товаров на сайт интернет магазина, чтобы повысить конверсию и средний чек заказа</td>\n",
       "      <td>7.00</td>\n",
       "    </tr>\n",
       "  </tbody>\n",
       "</table>\n",
       "</div>"
      ],
      "text/plain": [
       "                                                                                                     hypothesis  \\\n",
       "8                                                       Запустить акцию, дающую скидку на товар в день рождения   \n",
       "0            Добавить два новых канала привлечения трафика, что позволит привлекать на 30% больше пользователей   \n",
       "7              Добавить форму подписки на все основные страницы, чтобы собрать базу клиентов для email-рассылок   \n",
       "6          Показать на главной странице баннеры с актуальными акциями и распродажами, чтобы увеличить конверсию   \n",
       "2  Добавить блоки рекомендаций товаров на сайт интернет магазина, чтобы повысить конверсию и средний чек заказа   \n",
       "\n",
       "   ice_score  \n",
       "8      16.20  \n",
       "0      13.33  \n",
       "7      11.20  \n",
       "6       8.00  \n",
       "2       7.00  "
      ]
     },
     "metadata": {},
     "output_type": "display_data"
    }
   ],
   "source": [
    "hypothesis['ice_score'] = (hypothesis['impact'] * hypothesis['confidence'] / hypothesis['efforts']).round(2)\n",
    "display(hypothesis[['hypothesis', 'ice_score']].sort_values(by='ice_score', ascending=False).head())"
   ]
  },
  {
   "cell_type": "markdown",
   "metadata": {},
   "source": [
    "Согласно расчетам с использованием данного метода, можно выделить три наиболее приоритетные гипотезы: \n",
    "1. Запустить акцию, дающую скидку на товар в день рождения (ice_score 16.20)\n",
    "2. Добавить два новых канала привлечения трафика, что позволит привлекать на 30% больше пользователей (ice_score 13.33)\t\n",
    "3. Добавить форму подписки на все основные страницы, чтобы собрать базу клиентов для email-рассылок (ice_score 11.20)"
   ]
  },
  {
   "cell_type": "markdown",
   "metadata": {},
   "source": [
    "### 2.2 Фреймворк RICE"
   ]
  },
  {
   "cell_type": "markdown",
   "metadata": {},
   "source": [
    "Проведем приоритизацию гипотез согласно формуле: $$RICE = \\frac {Reach * Impact * Confidence}{Efforts}$$  \n",
    "Сохраним результат расчета в столбец **rice_score** и выведем результат, отсортированный по убыванию (5 приоритетных гипотез):"
   ]
  },
  {
   "cell_type": "code",
   "execution_count": 37,
   "metadata": {},
   "outputs": [
    {
     "data": {
      "text/html": [
       "<div>\n",
       "<style scoped>\n",
       "    .dataframe tbody tr th:only-of-type {\n",
       "        vertical-align: middle;\n",
       "    }\n",
       "\n",
       "    .dataframe tbody tr th {\n",
       "        vertical-align: top;\n",
       "    }\n",
       "\n",
       "    .dataframe thead th {\n",
       "        text-align: right;\n",
       "    }\n",
       "</style>\n",
       "<table border=\"1\" class=\"dataframe\">\n",
       "  <thead>\n",
       "    <tr style=\"text-align: right;\">\n",
       "      <th></th>\n",
       "      <th>hypothesis</th>\n",
       "      <th>rice_score</th>\n",
       "    </tr>\n",
       "  </thead>\n",
       "  <tbody>\n",
       "    <tr>\n",
       "      <th>7</th>\n",
       "      <td>Добавить форму подписки на все основные страницы, чтобы собрать базу клиентов для email-рассылок</td>\n",
       "      <td>112.0</td>\n",
       "    </tr>\n",
       "    <tr>\n",
       "      <th>2</th>\n",
       "      <td>Добавить блоки рекомендаций товаров на сайт интернет магазина, чтобы повысить конверсию и средний чек заказа</td>\n",
       "      <td>56.0</td>\n",
       "    </tr>\n",
       "    <tr>\n",
       "      <th>0</th>\n",
       "      <td>Добавить два новых канала привлечения трафика, что позволит привлекать на 30% больше пользователей</td>\n",
       "      <td>40.0</td>\n",
       "    </tr>\n",
       "    <tr>\n",
       "      <th>6</th>\n",
       "      <td>Показать на главной странице баннеры с актуальными акциями и распродажами, чтобы увеличить конверсию</td>\n",
       "      <td>40.0</td>\n",
       "    </tr>\n",
       "    <tr>\n",
       "      <th>8</th>\n",
       "      <td>Запустить акцию, дающую скидку на товар в день рождения</td>\n",
       "      <td>16.2</td>\n",
       "    </tr>\n",
       "  </tbody>\n",
       "</table>\n",
       "</div>"
      ],
      "text/plain": [
       "                                                                                                     hypothesis  \\\n",
       "7              Добавить форму подписки на все основные страницы, чтобы собрать базу клиентов для email-рассылок   \n",
       "2  Добавить блоки рекомендаций товаров на сайт интернет магазина, чтобы повысить конверсию и средний чек заказа   \n",
       "0            Добавить два новых канала привлечения трафика, что позволит привлекать на 30% больше пользователей   \n",
       "6          Показать на главной странице баннеры с актуальными акциями и распродажами, чтобы увеличить конверсию   \n",
       "8                                                       Запустить акцию, дающую скидку на товар в день рождения   \n",
       "\n",
       "   rice_score  \n",
       "7       112.0  \n",
       "2        56.0  \n",
       "0        40.0  \n",
       "6        40.0  \n",
       "8        16.2  "
      ]
     },
     "metadata": {},
     "output_type": "display_data"
    }
   ],
   "source": [
    "hypothesis['rice_score'] = (hypothesis['reach'] * hypothesis['impact'] * hypothesis['confidence'] / hypothesis['efforts']).round(2)\n",
    "display(hypothesis[['hypothesis', 'rice_score']].sort_values(by='rice_score', ascending=False).head())"
   ]
  },
  {
   "cell_type": "markdown",
   "metadata": {},
   "source": [
    "Согласно расчетам с использованием метода RICE, в список список наиболее приоритетных гипотез вошли те же 5 гипотез, но список лидеров выглядит немного иначе:  \n",
    "1. Добавить форму подписки на все основные страницы, чтобы собрать базу клиентов для email-рассылок (ice_score 112)\n",
    "2. Добавить блоки рекомендаций товаров на сайт интернет магазина, чтобы повысить конверсию и средний чек заказа (rice_score 56)\n",
    "3. Добавить два новых канала привлечения трафика, что позволит привлекать на 30% больше пользователей (rice_score 40)"
   ]
  },
  {
   "cell_type": "markdown",
   "metadata": {},
   "source": [
    "### 2.3 Вывод"
   ]
  },
  {
   "cell_type": "markdown",
   "metadata": {},
   "source": [
    "Гипотеза с индексом 7: \"Добавить форму подписки на все основные страницы, чтобы собрать базу клиентов для email-рассылок\",  является наиболее приоритетной.  \n",
    "\n",
    "Изменение приоритизации произошло из-за отличия методов расчетов: при применении **RICE** у нас добавился еще один параметр **reach** -   охват аудитории. У гипотезы с индексом 7, его значение оказалось максмальным - 10, т.е. влияние на пользователей по охвату будет максимальным, в то время как у гипотезы  индексом 8 охват оценен всего в 1 балл, а у гипотезы с индексом 0 - в 3 балла. Таким образом, увеличение множителя в числителе повлияло на увеличение расчетного результата и вывело гипотезу с индексом 7 на первое место."
   ]
  },
  {
   "cell_type": "markdown",
   "metadata": {},
   "source": [
    "## 3 Анализ A/B-теста"
   ]
  },
  {
   "cell_type": "markdown",
   "metadata": {},
   "source": [
    "### 3.1 Агрегация кумулятивных данных по дням"
   ]
  },
  {
   "cell_type": "markdown",
   "metadata": {},
   "source": [
    "Для анализа проведенного A/B теста нам нужны агрегированные кумулятивные данные по дням. Начнем с создания массива уникальных пар значений дат и групп:"
   ]
  },
  {
   "cell_type": "code",
   "execution_count": 38,
   "metadata": {},
   "outputs": [],
   "source": [
    "datesGroups = orders[['date','group']].drop_duplicates()"
   ]
  },
  {
   "cell_type": "markdown",
   "metadata": {},
   "source": [
    "Следующим шагом получим агрегированные кумулятивные по дням данные о заказах:"
   ]
  },
  {
   "cell_type": "code",
   "execution_count": 39,
   "metadata": {},
   "outputs": [
    {
     "data": {
      "text/html": [
       "<div>\n",
       "<style scoped>\n",
       "    .dataframe tbody tr th:only-of-type {\n",
       "        vertical-align: middle;\n",
       "    }\n",
       "\n",
       "    .dataframe tbody tr th {\n",
       "        vertical-align: top;\n",
       "    }\n",
       "\n",
       "    .dataframe thead th {\n",
       "        text-align: right;\n",
       "    }\n",
       "</style>\n",
       "<table border=\"1\" class=\"dataframe\">\n",
       "  <thead>\n",
       "    <tr style=\"text-align: right;\">\n",
       "      <th></th>\n",
       "      <th>date</th>\n",
       "      <th>group</th>\n",
       "      <th>transaction_id</th>\n",
       "      <th>visitor_id</th>\n",
       "      <th>revenue</th>\n",
       "    </tr>\n",
       "  </thead>\n",
       "  <tbody>\n",
       "    <tr>\n",
       "      <th>55</th>\n",
       "      <td>2019-08-01</td>\n",
       "      <td>A</td>\n",
       "      <td>24</td>\n",
       "      <td>20</td>\n",
       "      <td>148579</td>\n",
       "    </tr>\n",
       "    <tr>\n",
       "      <th>66</th>\n",
       "      <td>2019-08-01</td>\n",
       "      <td>B</td>\n",
       "      <td>21</td>\n",
       "      <td>20</td>\n",
       "      <td>101217</td>\n",
       "    </tr>\n",
       "    <tr>\n",
       "      <th>175</th>\n",
       "      <td>2019-08-02</td>\n",
       "      <td>A</td>\n",
       "      <td>44</td>\n",
       "      <td>38</td>\n",
       "      <td>242401</td>\n",
       "    </tr>\n",
       "    <tr>\n",
       "      <th>173</th>\n",
       "      <td>2019-08-02</td>\n",
       "      <td>B</td>\n",
       "      <td>45</td>\n",
       "      <td>43</td>\n",
       "      <td>266748</td>\n",
       "    </tr>\n",
       "  </tbody>\n",
       "</table>\n",
       "</div>"
      ],
      "text/plain": [
       "          date group  transaction_id  visitor_id  revenue\n",
       "55  2019-08-01     A              24          20   148579\n",
       "66  2019-08-01     B              21          20   101217\n",
       "175 2019-08-02     A              44          38   242401\n",
       "173 2019-08-02     B              45          43   266748"
      ]
     },
     "execution_count": 39,
     "metadata": {},
     "output_type": "execute_result"
    }
   ],
   "source": [
    "ordersAggregated = datesGroups.apply(\n",
    "    lambda x: orders[np.logical_and(orders['date'] <= x['date'], orders['group'] == x['group'])]\n",
    "    .agg(\n",
    "        {\n",
    "            'date' : 'max',\n",
    "            'group' : 'max',\n",
    "            'transaction_id' : 'nunique',\n",
    "            'visitor_id' : 'nunique',\n",
    "            'revenue' : 'sum'\n",
    "        }\n",
    "    ),\n",
    "    axis=1\n",
    ").sort_values(by=['date','group'])\n",
    "\n",
    "ordersAggregated.head(4)"
   ]
  },
  {
   "cell_type": "markdown",
   "metadata": {},
   "source": [
    "Аналогичным образом получим агрегированные кумулятивные по дням данные о посетителях интернет-магазина: "
   ]
  },
  {
   "cell_type": "code",
   "execution_count": 40,
   "metadata": {},
   "outputs": [
    {
     "data": {
      "text/html": [
       "<div>\n",
       "<style scoped>\n",
       "    .dataframe tbody tr th:only-of-type {\n",
       "        vertical-align: middle;\n",
       "    }\n",
       "\n",
       "    .dataframe tbody tr th {\n",
       "        vertical-align: top;\n",
       "    }\n",
       "\n",
       "    .dataframe thead th {\n",
       "        text-align: right;\n",
       "    }\n",
       "</style>\n",
       "<table border=\"1\" class=\"dataframe\">\n",
       "  <thead>\n",
       "    <tr style=\"text-align: right;\">\n",
       "      <th></th>\n",
       "      <th>date</th>\n",
       "      <th>group</th>\n",
       "      <th>visitors</th>\n",
       "    </tr>\n",
       "  </thead>\n",
       "  <tbody>\n",
       "    <tr>\n",
       "      <th>55</th>\n",
       "      <td>2019-08-01</td>\n",
       "      <td>A</td>\n",
       "      <td>718</td>\n",
       "    </tr>\n",
       "    <tr>\n",
       "      <th>66</th>\n",
       "      <td>2019-08-01</td>\n",
       "      <td>B</td>\n",
       "      <td>709</td>\n",
       "    </tr>\n",
       "    <tr>\n",
       "      <th>175</th>\n",
       "      <td>2019-08-02</td>\n",
       "      <td>A</td>\n",
       "      <td>1336</td>\n",
       "    </tr>\n",
       "    <tr>\n",
       "      <th>173</th>\n",
       "      <td>2019-08-02</td>\n",
       "      <td>B</td>\n",
       "      <td>1289</td>\n",
       "    </tr>\n",
       "  </tbody>\n",
       "</table>\n",
       "</div>"
      ],
      "text/plain": [
       "          date group  visitors\n",
       "55  2019-08-01     A       718\n",
       "66  2019-08-01     B       709\n",
       "175 2019-08-02     A      1336\n",
       "173 2019-08-02     B      1289"
      ]
     },
     "execution_count": 40,
     "metadata": {},
     "output_type": "execute_result"
    }
   ],
   "source": [
    "visitorsAggregated = datesGroups.apply(\n",
    "    lambda x: visitors[np.logical_and(visitors['date'] <= x['date'], visitors['group'] == x['group'])]\n",
    "    .agg(\n",
    "        {\n",
    "            'date' : 'max',\n",
    "            'group' : 'max',\n",
    "            'visitors' : 'sum'\n",
    "        }\n",
    "    ),\n",
    "    axis=1\n",
    ").sort_values(by=['date','group'])\n",
    "\n",
    "visitorsAggregated.head(4)"
   ]
  },
  {
   "cell_type": "markdown",
   "metadata": {},
   "source": [
    "Теперь объединим кумулятивные данные методом merge() в одну таблицу **cumulativeData** и присвоим ее столбцам понятные названия:"
   ]
  },
  {
   "cell_type": "code",
   "execution_count": 41,
   "metadata": {},
   "outputs": [
    {
     "data": {
      "text/html": [
       "<div>\n",
       "<style scoped>\n",
       "    .dataframe tbody tr th:only-of-type {\n",
       "        vertical-align: middle;\n",
       "    }\n",
       "\n",
       "    .dataframe tbody tr th {\n",
       "        vertical-align: top;\n",
       "    }\n",
       "\n",
       "    .dataframe thead th {\n",
       "        text-align: right;\n",
       "    }\n",
       "</style>\n",
       "<table border=\"1\" class=\"dataframe\">\n",
       "  <thead>\n",
       "    <tr style=\"text-align: right;\">\n",
       "      <th></th>\n",
       "      <th>date</th>\n",
       "      <th>group</th>\n",
       "      <th>orders</th>\n",
       "      <th>buyers</th>\n",
       "      <th>revenue</th>\n",
       "      <th>visitors</th>\n",
       "    </tr>\n",
       "  </thead>\n",
       "  <tbody>\n",
       "    <tr>\n",
       "      <th>0</th>\n",
       "      <td>2019-08-01</td>\n",
       "      <td>A</td>\n",
       "      <td>24</td>\n",
       "      <td>20</td>\n",
       "      <td>148579</td>\n",
       "      <td>718</td>\n",
       "    </tr>\n",
       "    <tr>\n",
       "      <th>1</th>\n",
       "      <td>2019-08-01</td>\n",
       "      <td>B</td>\n",
       "      <td>21</td>\n",
       "      <td>20</td>\n",
       "      <td>101217</td>\n",
       "      <td>709</td>\n",
       "    </tr>\n",
       "    <tr>\n",
       "      <th>2</th>\n",
       "      <td>2019-08-02</td>\n",
       "      <td>A</td>\n",
       "      <td>44</td>\n",
       "      <td>38</td>\n",
       "      <td>242401</td>\n",
       "      <td>1336</td>\n",
       "    </tr>\n",
       "    <tr>\n",
       "      <th>3</th>\n",
       "      <td>2019-08-02</td>\n",
       "      <td>B</td>\n",
       "      <td>45</td>\n",
       "      <td>43</td>\n",
       "      <td>266748</td>\n",
       "      <td>1289</td>\n",
       "    </tr>\n",
       "  </tbody>\n",
       "</table>\n",
       "</div>"
      ],
      "text/plain": [
       "        date group  orders  buyers  revenue  visitors\n",
       "0 2019-08-01     A      24      20   148579       718\n",
       "1 2019-08-01     B      21      20   101217       709\n",
       "2 2019-08-02     A      44      38   242401      1336\n",
       "3 2019-08-02     B      45      43   266748      1289"
      ]
     },
     "execution_count": 41,
     "metadata": {},
     "output_type": "execute_result"
    }
   ],
   "source": [
    "cumulativeData = ordersAggregated.merge(visitorsAggregated, left_on=['date', 'group'], right_on=['date', 'group'])\n",
    "cumulativeData.columns = ['date', 'group', 'orders', 'buyers', 'revenue', 'visitors']\n",
    "cumulativeData.head(4)"
   ]
  },
  {
   "cell_type": "markdown",
   "metadata": {},
   "source": [
    "Агрегированные кумулятивные данные по дням получены, можно переходить к построению графиков."
   ]
  },
  {
   "cell_type": "markdown",
   "metadata": {},
   "source": [
    "### 3.2 График кумулятивной выручки по группам"
   ]
  },
  {
   "cell_type": "code",
   "execution_count": 43,
   "metadata": {
    "scrolled": false
   },
   "outputs": [
    {
     "data": {
      "image/png": "[encoded data removed]",
      "text/plain": [
       "<Figure size 1600x600 with 1 Axes>"
      ]
     },
     "metadata": {},
     "output_type": "display_data"
    }
   ],
   "source": [
    "# датафрейм с кумулятивным количеством заказов и кумулятивной выручкой по дням в группе А\n",
    "cumulativeRevenueA = cumulativeData[cumulativeData['group']=='A'][['date','revenue', 'orders']]\n",
    "\n",
    "# датафрейм с кумулятивным количеством заказов и кумулятивной выручкой по дням в группе B\n",
    "cumulativeRevenueB = cumulativeData[cumulativeData['group']=='B'][['date','revenue', 'orders']]\n",
    "\n",
    "# задаем размер сетки для графиков\n",
    "plt.figure(figsize=(16,6))\n",
    "\n",
    "# строим график выручки группы А\n",
    "plt.plot(cumulativeRevenueA['date'], cumulativeRevenueA['revenue'], label='A')\n",
    "\n",
    "# строим график выручки группы B\n",
    "plt.plot(cumulativeRevenueB['date'], cumulativeRevenueB['revenue'], label='B')\n",
    "\n",
    "# настраиваем подписи и дополнительные параметры графика\n",
    "plt.title('График кумулятивной выручки по группам', size=18)\n",
    "plt.xlabel('Дата', size=12)\n",
    "plt.ylabel('Выручка, млн.', size=12)\n",
    "plt.legend()\n",
    "plt.grid()\n",
    "plt.show()"
   ]
  },
  {
   "cell_type": "markdown",
   "metadata": {},
   "source": [
    "В группе **А** мы наблюдаем линейный рост выручки.  \n",
    "В группе **B** также наблюдается линейный рост, но с 18 по 19 августа 2019г. отмечается резкий прирост выручки. Это может быть связано с увеличением количества заказов или с увеличением среднего чека покупателей за счет более крупных заказов."
   ]
  },
  {
   "cell_type": "markdown",
   "metadata": {},
   "source": [
    "### 3.3 График кумулятивного среднего чека по группам"
   ]
  },
  {
   "cell_type": "code",
   "execution_count": 44,
   "metadata": {},
   "outputs": [
    {
     "data": {
      "image/png": "[encoded data removed]",
      "text/plain": [
       "<Figure size 1600x600 with 1 Axes>"
      ]
     },
     "metadata": {},
     "output_type": "display_data"
    }
   ],
   "source": [
    "# задаем размер сетки для графиков\n",
    "plt.figure(figsize=(16,6))\n",
    "\n",
    "# строим график среднего чека группы А\n",
    "plt.plot(cumulativeRevenueA['date'], cumulativeRevenueA['revenue']/cumulativeRevenueA['orders'], label='A')\n",
    "\n",
    "# строим график среднего чека группы B\n",
    "plt.plot(cumulativeRevenueB['date'], cumulativeRevenueB['revenue']/cumulativeRevenueB['orders'], label='B')\n",
    "\n",
    "# настраиваем подписи и дополнительные параметры графика\n",
    "plt.title('График кумулятивного среднего чека по группам', size=18)\n",
    "plt.xlabel('Дата', size=12)\n",
    "plt.ylabel('Величина среднего чека', size=12)\n",
    "plt.legend()\n",
    "plt.grid()\n",
    "plt.show()"
   ]
  },
  {
   "cell_type": "markdown",
   "metadata": {},
   "source": [
    "В группе **А** до 06 августа отмечается снижение среднего чека с ~ 6,2 тыс. до ~ 4,5 тыс., затем рост до 13 августа и стабилизация на значении около 7 тыс.(+-0,2).  \n",
    "В группе **В** с 01 до 02 августа отмечается резкий рост с 3,5 до 5,5 тыс., затем волнообразный прирост до ~ 6,7 тыс. 18 августа, и далее резкий скачок с 18 до 19 августа до 10,5 тыс., за которым следует плавное снижение до ~ 9,2 тыс., что подтверждает версию с увеличением размера заказов 18-19 августа. В этом случае, для того чтобы мы могли увидеть стабилизацию среднего чека в группе **B** нам необходим более широкий горизонт событий.  \n",
    "В целом, если не брать во внимание выброс группы **В** от 18 августа, после двух недель теста графики ведут себя стабильно."
   ]
  },
  {
   "cell_type": "markdown",
   "metadata": {},
   "source": [
    "### 3.4 График относительного изменения кумулятивного среднего чека группы B к группе A"
   ]
  },
  {
   "cell_type": "code",
   "execution_count": 45,
   "metadata": {},
   "outputs": [
    {
     "data": {
      "image/png": "[encoded data removed]",
      "text/plain": [
       "<Figure size 1600x600 with 1 Axes>"
      ]
     },
     "metadata": {},
     "output_type": "display_data"
    }
   ],
   "source": [
    "# собираем данные в одном датафрейме\n",
    "mergedCumulativeRevenue = cumulativeRevenueA.merge(\n",
    "    cumulativeRevenueB, left_on='date', right_on='date', how='left', suffixes=['A', 'B'])\n",
    "\n",
    "# задаем размер сетки для графика\n",
    "plt.figure(figsize=(16,6))\n",
    "\n",
    "# cтроим отношение средних чеков\n",
    "plt.plot(mergedCumulativeRevenue['date'],\n",
    "         (mergedCumulativeRevenue['revenueB'] / mergedCumulativeRevenue['ordersB'])\n",
    "         / (mergedCumulativeRevenue['revenueA'] / mergedCumulativeRevenue['ordersA']) - 1)\n",
    "\n",
    "# добавляем ось X\n",
    "plt.axhline(y=0, color='black', linestyle='--') \n",
    "\n",
    "# настраиваем подписи и дополнительные параметры графика\n",
    "plt.title('График относительного изменения кумулятивного среднего чека группы B к группе A', size=18)\n",
    "plt.xlabel('Дата', size=12)\n",
    "plt.ylabel('Относительное изменение', size=12)\n",
    "plt.grid()\n",
    "plt.show()"
   ]
  },
  {
   "cell_type": "markdown",
   "metadata": {},
   "source": [
    "Показатели группы **B** относительно нулевой отметки (показатели группы **А**) в нескольких точках имеют резкие разнонаправленные движения, это подтверждает наличие крупных заказов и выбросов."
   ]
  },
  {
   "cell_type": "markdown",
   "metadata": {},
   "source": [
    "### 3.5 График кумулятивного среднего количества заказов по группам"
   ]
  },
  {
   "cell_type": "code",
   "execution_count": 46,
   "metadata": {},
   "outputs": [
    {
     "data": {
      "image/png": "[encoded data removed]",
      "text/plain": [
       "<Figure size 1800x600 with 1 Axes>"
      ]
     },
     "metadata": {},
     "output_type": "display_data"
    }
   ],
   "source": [
    "# считаем кумулятивную конверсию\n",
    "cumulativeData['conversion'] = cumulativeData['orders'] / cumulativeData['visitors']\n",
    "\n",
    "# отделяем данные по группе A\n",
    "cumulativeDataA = cumulativeData[cumulativeData['group']=='A']\n",
    "\n",
    "# отделяем данные по группе B\n",
    "cumulativeDataB = cumulativeData[cumulativeData['group']=='B']\n",
    "\n",
    "# задаем размер сетки для графиков\n",
    "plt.figure(figsize=(18,6))\n",
    "\n",
    "# строим графики\n",
    "plt.plot(cumulativeDataA['date'], cumulativeDataA['conversion'], label='A')\n",
    "plt.plot(cumulativeDataB['date'], cumulativeDataB['conversion'], label='B')\n",
    "\n",
    "# задаем масштаб осей\n",
    "plt.axis([dt.datetime(2019, 8, 1), dt.datetime(2019, 8, 31), 0.02, 0.04])\n",
    "\n",
    "# настраиваем подписи и дополнительные параметры графика\n",
    "plt.title('Кумулятивное среднее количество заказов по группам', size=18)\n",
    "plt.xlabel('Дата', size=12)\n",
    "plt.ylabel('среднее кол-во заказов', size=12)\n",
    "plt.legend()\n",
    "plt.grid()\n",
    "plt.show()"
   ]
  },
  {
   "cell_type": "markdown",
   "metadata": {},
   "source": [
    "В группе **А** до 5 августа кумулятивное среднее кол-во заказов выглядит лучше, 3 августа выходит на пик (~ 3,6), затем снижение, и после 6 августа уже уступает группе **В**, продолжая плавно снижаться, а примерно после 13 августа уже стабилизируется на уровне ~ 2,6.  \n",
    "Кумулятивное среднее группы **B** вначале своего пути имеет схожие колебания, с пиком 2 августа (на уровне ~ 3,1), затем также следует снижение, но после 4 августа начинается рост, и после 6 августа группа выходит в лидеры и стабилизируется на уровне ~ 2,9 (+-0,1). В итоге, кумулятивное среднее количество заказов группы **В** выглядит лучше. "
   ]
  },
  {
   "cell_type": "markdown",
   "metadata": {},
   "source": [
    "### 3.6 График относительного изменения кумулятивного среднего количества заказов группы B к группе A"
   ]
  },
  {
   "cell_type": "code",
   "execution_count": 47,
   "metadata": {},
   "outputs": [
    {
     "data": {
      "image/png": "[encoded data removed]",
      "text/plain": [
       "<Figure size 1800x600 with 1 Axes>"
      ]
     },
     "metadata": {},
     "output_type": "display_data"
    }
   ],
   "source": [
    "# собираем данные в одном датафрейме\n",
    "mergedCumulativeConversions = cumulativeDataA[['date','conversion']].merge(\n",
    "    cumulativeDataB[['date','conversion']], left_on='date', right_on='date', how='left', suffixes=['A', 'B'])\n",
    "\n",
    "# задаем размер сетки для графика\n",
    "plt.figure(figsize=(18,6))\n",
    "\n",
    "# cтроим отношение конверсий\n",
    "plt.plot(mergedCumulativeConversions['date'],\n",
    "         mergedCumulativeConversions['conversionB'] / mergedCumulativeConversions['conversionA'] - 1)\n",
    "\n",
    "# добавляем оси X\n",
    "plt.axhline(y=0, color='black', linestyle='--')\n",
    "plt.axhline(y=0.16, color='grey', linestyle='--')\n",
    "\n",
    "# задаем масштаб осей\n",
    "plt.axis([dt.datetime(2019, 8, 1), dt.datetime(2019, 8, 31), -0.3, 0.3])\n",
    "\n",
    "# настраиваем подписи и дополнительные параметры графика\n",
    "plt.title('График относительного изменения кумулятивного среднего количества заказов группы B к группе A', size=18)\n",
    "plt.xlabel('Дата', size=12)\n",
    "plt.ylabel('Относительные изменения', size=12)\n",
    "\n",
    "plt.grid()\n",
    "plt.show()"
   ]
  },
  {
   "cell_type": "markdown",
   "metadata": {},
   "source": [
    "Относительный прирост кумулятивного среднего количества заказов группы **B** достиг к 15 августа отметки ~21%, а после 17 августа отмечается плавная корректировка до уровня 16%, и можно предположить, что показатель останется на этом уровне, но, прежде чем делать вывод, стоит проверить данные на аномалии."
   ]
  },
  {
   "cell_type": "markdown",
   "metadata": {},
   "source": [
    "### 3.7 Точечный график количества заказов по пользователям"
   ]
  },
  {
   "cell_type": "markdown",
   "metadata": {},
   "source": [
    "Сначала подсчитаем количество заказов по пользователям, сгруппировав таблицу с заказами по **visitor_id**, назовем столбцы понятными именами и отсортируем по убыванию количества заказов, чтобы увидеть максимальное значение для каждого пользователя:"
   ]
  },
  {
   "cell_type": "code",
   "execution_count": 48,
   "metadata": {},
   "outputs": [
    {
     "data": {
      "text/html": [
       "<div>\n",
       "<style scoped>\n",
       "    .dataframe tbody tr th:only-of-type {\n",
       "        vertical-align: middle;\n",
       "    }\n",
       "\n",
       "    .dataframe tbody tr th {\n",
       "        vertical-align: top;\n",
       "    }\n",
       "\n",
       "    .dataframe thead th {\n",
       "        text-align: right;\n",
       "    }\n",
       "</style>\n",
       "<table border=\"1\" class=\"dataframe\">\n",
       "  <thead>\n",
       "    <tr style=\"text-align: right;\">\n",
       "      <th></th>\n",
       "      <th>visitor_id</th>\n",
       "      <th>orders</th>\n",
       "    </tr>\n",
       "  </thead>\n",
       "  <tbody>\n",
       "    <tr>\n",
       "      <th>1023</th>\n",
       "      <td>4256040402</td>\n",
       "      <td>11</td>\n",
       "    </tr>\n",
       "    <tr>\n",
       "      <th>591</th>\n",
       "      <td>2458001652</td>\n",
       "      <td>11</td>\n",
       "    </tr>\n",
       "    <tr>\n",
       "      <th>569</th>\n",
       "      <td>2378935119</td>\n",
       "      <td>9</td>\n",
       "    </tr>\n",
       "    <tr>\n",
       "      <th>487</th>\n",
       "      <td>2038680547</td>\n",
       "      <td>8</td>\n",
       "    </tr>\n",
       "    <tr>\n",
       "      <th>44</th>\n",
       "      <td>199603092</td>\n",
       "      <td>5</td>\n",
       "    </tr>\n",
       "    <tr>\n",
       "      <th>744</th>\n",
       "      <td>3062433592</td>\n",
       "      <td>5</td>\n",
       "    </tr>\n",
       "    <tr>\n",
       "      <th>55</th>\n",
       "      <td>237748145</td>\n",
       "      <td>5</td>\n",
       "    </tr>\n",
       "    <tr>\n",
       "      <th>917</th>\n",
       "      <td>3803269165</td>\n",
       "      <td>5</td>\n",
       "    </tr>\n",
       "    <tr>\n",
       "      <th>299</th>\n",
       "      <td>1230306981</td>\n",
       "      <td>5</td>\n",
       "    </tr>\n",
       "    <tr>\n",
       "      <th>897</th>\n",
       "      <td>3717692402</td>\n",
       "      <td>5</td>\n",
       "    </tr>\n",
       "  </tbody>\n",
       "</table>\n",
       "</div>"
      ],
      "text/plain": [
       "      visitor_id  orders\n",
       "1023  4256040402      11\n",
       "591   2458001652      11\n",
       "569   2378935119       9\n",
       "487   2038680547       8\n",
       "44     199603092       5\n",
       "744   3062433592       5\n",
       "55     237748145       5\n",
       "917   3803269165       5\n",
       "299   1230306981       5\n",
       "897   3717692402       5"
      ]
     },
     "execution_count": 48,
     "metadata": {},
     "output_type": "execute_result"
    }
   ],
   "source": [
    "ordersByUsers = (\n",
    "    orders.groupby('visitor_id', as_index=False)\n",
    "    .agg({'transaction_id': 'nunique'})\n",
    ")\n",
    "\n",
    "ordersByUsers.columns = ['visitor_id', 'orders']\n",
    "\n",
    "ordersByUsers.sort_values(by='orders', ascending=False).head(10)"
   ]
  },
  {
   "cell_type": "markdown",
   "metadata": {},
   "source": [
    "Максимальное количество заказов на одного пользователя - 3, значение не выглядит слишком большим, посмотрим точечный график:"
   ]
  },
  {
   "cell_type": "code",
   "execution_count": 49,
   "metadata": {},
   "outputs": [
    {
     "data": {
      "image/png": "[encoded data removed]",
      "text/plain": [
       "<Figure size 640x480 with 1 Axes>"
      ]
     },
     "metadata": {},
     "output_type": "display_data"
    }
   ],
   "source": [
    "x_values = pd.Series(range(0,len(ordersByUsers)))\n",
    "plt.scatter(x_values, ordersByUsers['orders'])\n",
    "plt.title('График количества заказов по пользователям')\n",
    "plt.xlabel('Количество пользователей')\n",
    "plt.ylabel('Количество заказов')\n",
    "plt.show()"
   ]
  },
  {
   "cell_type": "markdown",
   "metadata": {},
   "source": [
    "Большинство пользователей имеют по одному заказу, а пользователей делавших более двух заказов - мало, возможно, что они  аномальные, проверим в следующем подразделе."
   ]
  },
  {
   "cell_type": "markdown",
   "metadata": {},
   "source": [
    "### 3.8 Расчет 95-го и 99-го перцентилей количества заказов на пользователя и выбор границы для определения аномальных пользователей"
   ]
  },
  {
   "cell_type": "code",
   "execution_count": 50,
   "metadata": {},
   "outputs": [
    {
     "data": {
      "text/plain": [
       "array([2., 4.])"
      ]
     },
     "execution_count": 50,
     "metadata": {},
     "output_type": "execute_result"
    }
   ],
   "source": [
    "np.percentile(ordersByUsers['orders'], [95, 99])"
   ]
  },
  {
   "cell_type": "markdown",
   "metadata": {},
   "source": [
    "Расчет 95-го и 99-го перцентелей количества заказов на пользователя показал, что не более 5% пользователей оформляли больше одного заказа, и не более 1% пользователей оформляли больше двух заказов. Будем считать количество заказов больше 2 аномальными. На основании полученных данных, разумно выбрать 2 заказа на одного пользователя, как верхнюю границу числа заказов."
   ]
  },
  {
   "cell_type": "markdown",
   "metadata": {},
   "source": [
    "### 3.9 Точечный график стоимостей заказов"
   ]
  },
  {
   "cell_type": "code",
   "execution_count": 51,
   "metadata": {},
   "outputs": [
    {
     "data": {
      "image/png": "[encoded data removed]",
      "text/plain": [
       "<Figure size 640x480 with 1 Axes>"
      ]
     },
     "metadata": {},
     "output_type": "display_data"
    }
   ],
   "source": [
    "x_values = pd.Series(range(0, len(orders['revenue'])))\n",
    "plt.scatter(x_values, orders['revenue'])\n",
    "plt.title('График стоимостей заказов')\n",
    "plt.xlabel('Количество заказов')\n",
    "plt.ylabel('Стоимость')\n",
    "plt.show()"
   ]
  },
  {
   "cell_type": "markdown",
   "metadata": {},
   "source": [
    "В таком представлении на графике видно, что стоимость большинства заказов составляет менее 200 тыс., и есть два выброса - заказы со стоимостью ~200 тыс. и ~1,3 млн. Чтобы рассмотреть детальнее, изменим масштаб:"
   ]
  },
  {
   "cell_type": "code",
   "execution_count": 52,
   "metadata": {},
   "outputs": [
    {
     "data": {
      "image/png": "[encoded data removed]",
      "text/plain": [
       "<Figure size 640x480 with 1 Axes>"
      ]
     },
     "metadata": {},
     "output_type": "display_data"
    }
   ],
   "source": [
    "x_values = pd.Series(range(0, len(orders['revenue'])))\n",
    "plt.scatter(x_values, orders['revenue'])\n",
    "plt.title('График стоимостей заказов')\n",
    "plt.xlabel('Количество заказов')\n",
    "plt.ylabel('Стоимость')\n",
    "plt.ylim(0, 200000)\n",
    "plt.show()"
   ]
  },
  {
   "cell_type": "markdown",
   "metadata": {},
   "source": [
    "Здесь уже видно, что сумма большинства заказов составляет менее 50тыс, основная часть из которых находится в диапазоне до 25 тыс. Проверим эти предварительные выводы в следующем подразделе."
   ]
  },
  {
   "cell_type": "markdown",
   "metadata": {},
   "source": [
    "### 3.10 Расчет 95-го и 99-го перцентилей стоимости заказов и выбор границы для определения аномальных заказов"
   ]
  },
  {
   "cell_type": "code",
   "execution_count": 53,
   "metadata": {},
   "outputs": [
    {
     "data": {
      "text/plain": [
       "array([28000. , 58233.2])"
      ]
     },
     "execution_count": 53,
     "metadata": {},
     "output_type": "execute_result"
    }
   ],
   "source": [
    "np.percentile(orders['revenue'], [95, 99])"
   ]
  },
  {
   "cell_type": "markdown",
   "metadata": {},
   "source": [
    "Расчет 95-го и 99-го перцентелей стоимости заказов показал, что не более 5% пользователей оформляли заказы на сумму больше 26785, и не более 1% пользователей оформляли заказы на сумму больше 53904. Поскольку принято отсеивать от 1% до 5% наблюдений с крайними значениями, выберем сумму в 50000 как верхнюю границу суммы заказов, а значения выше 50 тыс. будем считать аномальными."
   ]
  },
  {
   "cell_type": "markdown",
   "metadata": {},
   "source": [
    "### 3.11 Расчет статистической значимости различий в среднем количестве заказов между группами по «сырым» данным"
   ]
  },
  {
   "cell_type": "markdown",
   "metadata": {},
   "source": [
    "Посчитаем статистическую значимость различий в среднем количестве заказов на пользователя между группами по «сырым» данным, т.е. без удаления аномальных пользователей.\n",
    "Сформулируем нулевую и альтернативную гипотезы: \n",
    "```\n",
    "H_0: Различий в среднем количестве заказов между группами нет\n",
    "H_1: Различия в среднем количестве заказов между группами есть\n",
    "alpha = 0.05\n",
    "```\n",
    "Поскольку в данных есть выбросы, для проверки отличия распределений двух выборок будем применять непараметрический критерий Манна-Уитни, и установим стандартный уровень статистической значимости - равный 0.05.   \n",
    "\n",
    "Начнем с подготовки данных:"
   ]
  },
  {
   "cell_type": "code",
   "execution_count": 54,
   "metadata": {},
   "outputs": [
    {
     "data": {
      "text/html": [
       "<div>\n",
       "<style scoped>\n",
       "    .dataframe tbody tr th:only-of-type {\n",
       "        vertical-align: middle;\n",
       "    }\n",
       "\n",
       "    .dataframe tbody tr th {\n",
       "        vertical-align: top;\n",
       "    }\n",
       "\n",
       "    .dataframe thead th {\n",
       "        text-align: right;\n",
       "    }\n",
       "</style>\n",
       "<table border=\"1\" class=\"dataframe\">\n",
       "  <thead>\n",
       "    <tr style=\"text-align: right;\">\n",
       "      <th></th>\n",
       "      <th>date</th>\n",
       "      <th>ordersPerDateA</th>\n",
       "      <th>revenuePerDateA</th>\n",
       "      <th>ordersPerDateB</th>\n",
       "      <th>revenuePerDateB</th>\n",
       "      <th>ordersCummulativeA</th>\n",
       "      <th>revenueCummulativeA</th>\n",
       "      <th>ordersCummulativeB</th>\n",
       "      <th>revenueCummulativeB</th>\n",
       "      <th>visitorsPerDateA</th>\n",
       "      <th>visitorsPerDateB</th>\n",
       "      <th>visitorsCummulativeA</th>\n",
       "      <th>visitorsCummulativeB</th>\n",
       "    </tr>\n",
       "  </thead>\n",
       "  <tbody>\n",
       "    <tr>\n",
       "      <th>0</th>\n",
       "      <td>2019-08-01</td>\n",
       "      <td>24</td>\n",
       "      <td>148579</td>\n",
       "      <td>21</td>\n",
       "      <td>101217</td>\n",
       "      <td>24</td>\n",
       "      <td>148579</td>\n",
       "      <td>21</td>\n",
       "      <td>101217</td>\n",
       "      <td>718</td>\n",
       "      <td>709</td>\n",
       "      <td>718</td>\n",
       "      <td>709</td>\n",
       "    </tr>\n",
       "    <tr>\n",
       "      <th>1</th>\n",
       "      <td>2019-08-02</td>\n",
       "      <td>20</td>\n",
       "      <td>93822</td>\n",
       "      <td>24</td>\n",
       "      <td>165531</td>\n",
       "      <td>44</td>\n",
       "      <td>242401</td>\n",
       "      <td>45</td>\n",
       "      <td>266748</td>\n",
       "      <td>618</td>\n",
       "      <td>580</td>\n",
       "      <td>1336</td>\n",
       "      <td>1289</td>\n",
       "    </tr>\n",
       "    <tr>\n",
       "      <th>2</th>\n",
       "      <td>2019-08-03</td>\n",
       "      <td>24</td>\n",
       "      <td>112473</td>\n",
       "      <td>16</td>\n",
       "      <td>114248</td>\n",
       "      <td>68</td>\n",
       "      <td>354874</td>\n",
       "      <td>61</td>\n",
       "      <td>380996</td>\n",
       "      <td>507</td>\n",
       "      <td>507</td>\n",
       "      <td>1843</td>\n",
       "      <td>1796</td>\n",
       "    </tr>\n",
       "    <tr>\n",
       "      <th>3</th>\n",
       "      <td>2019-08-04</td>\n",
       "      <td>16</td>\n",
       "      <td>70825</td>\n",
       "      <td>17</td>\n",
       "      <td>108571</td>\n",
       "      <td>84</td>\n",
       "      <td>425699</td>\n",
       "      <td>78</td>\n",
       "      <td>489567</td>\n",
       "      <td>712</td>\n",
       "      <td>767</td>\n",
       "      <td>2555</td>\n",
       "      <td>2563</td>\n",
       "    </tr>\n",
       "    <tr>\n",
       "      <th>4</th>\n",
       "      <td>2019-08-05</td>\n",
       "      <td>25</td>\n",
       "      <td>124218</td>\n",
       "      <td>23</td>\n",
       "      <td>92428</td>\n",
       "      <td>109</td>\n",
       "      <td>549917</td>\n",
       "      <td>101</td>\n",
       "      <td>581995</td>\n",
       "      <td>753</td>\n",
       "      <td>705</td>\n",
       "      <td>3308</td>\n",
       "      <td>3268</td>\n",
       "    </tr>\n",
       "  </tbody>\n",
       "</table>\n",
       "</div>"
      ],
      "text/plain": [
       "        date  ordersPerDateA  revenuePerDateA  ordersPerDateB  \\\n",
       "0 2019-08-01              24           148579              21   \n",
       "1 2019-08-02              20            93822              24   \n",
       "2 2019-08-03              24           112473              16   \n",
       "3 2019-08-04              16            70825              17   \n",
       "4 2019-08-05              25           124218              23   \n",
       "\n",
       "   revenuePerDateB  ordersCummulativeA  revenueCummulativeA  \\\n",
       "0           101217                  24               148579   \n",
       "1           165531                  44               242401   \n",
       "2           114248                  68               354874   \n",
       "3           108571                  84               425699   \n",
       "4            92428                 109               549917   \n",
       "\n",
       "   ordersCummulativeB  revenueCummulativeB  visitorsPerDateA  \\\n",
       "0                  21               101217               718   \n",
       "1                  45               266748               618   \n",
       "2                  61               380996               507   \n",
       "3                  78               489567               712   \n",
       "4                 101               581995               753   \n",
       "\n",
       "   visitorsPerDateB  visitorsCummulativeA  visitorsCummulativeB  \n",
       "0               709                   718                   709  \n",
       "1               580                  1336                  1289  \n",
       "2               507                  1843                  1796  \n",
       "3               767                  2555                  2563  \n",
       "4               705                  3308                  3268  "
      ]
     },
     "metadata": {},
     "output_type": "display_data"
    }
   ],
   "source": [
    "visitorsADaily = visitors[visitors['group'] == 'A'][['date', 'visitors']]\n",
    "visitorsADaily.columns = ['date', 'visitorsPerDateA']\n",
    "\n",
    "visitorsACummulative = visitorsADaily.apply(\n",
    "    lambda x: visitorsADaily[visitorsADaily['date'] <= x['date']].agg(\n",
    "        {'date': 'max', 'visitorsPerDateA': 'sum'}\n",
    "    ),\n",
    "    axis=1,\n",
    ")\n",
    "visitorsACummulative.columns = ['date', 'visitorsCummulativeA']\n",
    "\n",
    "visitorsBDaily = visitors[visitors['group'] == 'B'][['date', 'visitors']]\n",
    "visitorsBDaily.columns = ['date', 'visitorsPerDateB']\n",
    "\n",
    "visitorsBCummulative = visitorsBDaily.apply(\n",
    "    lambda x: visitorsBDaily[visitorsBDaily['date'] <= x['date']].agg(\n",
    "        {'date': 'max', 'visitorsPerDateB': 'sum'}\n",
    "    ),\n",
    "    axis=1,\n",
    ")\n",
    "visitorsBCummulative.columns = ['date', 'visitorsCummulativeB']\n",
    "\n",
    "ordersADaily = (\n",
    "    orders[orders['group'] == 'A'][['date', 'transaction_id', 'visitor_id', 'revenue']]\n",
    "    .groupby('date', as_index=False)\n",
    "    .agg({'transaction_id': pd.Series.nunique, 'revenue': 'sum'})\n",
    ")\n",
    "ordersADaily.columns = ['date', 'ordersPerDateA', 'revenuePerDateA']\n",
    "\n",
    "ordersACummulative = ordersADaily.apply(\n",
    "    lambda x: ordersADaily[ordersADaily['date'] <= x['date']].agg(\n",
    "        {'date': 'max', 'ordersPerDateA': 'sum', 'revenuePerDateA': 'sum'}\n",
    "    ),\n",
    "    axis=1,\n",
    ").sort_values(by=['date'])\n",
    "ordersACummulative.columns = [\n",
    "    'date',\n",
    "    'ordersCummulativeA',\n",
    "    'revenueCummulativeA',\n",
    "]\n",
    "\n",
    "ordersBDaily = (\n",
    "    orders[orders['group'] == 'B'][['date', 'transaction_id', 'visitor_id', 'revenue']]\n",
    "    .groupby('date', as_index=False)\n",
    "    .agg({'transaction_id': pd.Series.nunique, 'revenue': 'sum'})\n",
    ")\n",
    "ordersBDaily.columns = ['date', 'ordersPerDateB', 'revenuePerDateB']\n",
    "\n",
    "ordersBCummulative = ordersBDaily.apply(\n",
    "    lambda x: ordersBDaily[ordersBDaily['date'] <= x['date']].agg(\n",
    "        {'date': 'max', 'ordersPerDateB': 'sum', 'revenuePerDateB': 'sum'}\n",
    "    ),\n",
    "    axis=1,\n",
    ").sort_values(by=['date'])\n",
    "ordersBCummulative.columns = [\n",
    "    'date',\n",
    "    'ordersCummulativeB',\n",
    "    'revenueCummulativeB',\n",
    "]\n",
    "\n",
    "data = (\n",
    "    ordersADaily.merge(\n",
    "        ordersBDaily, left_on='date', right_on='date', how='left'\n",
    "    )\n",
    "    .merge(ordersACummulative, left_on='date', right_on='date', how='left')\n",
    "    .merge(ordersBCummulative, left_on='date', right_on='date', how='left')\n",
    "    .merge(visitorsADaily, left_on='date', right_on='date', how='left')\n",
    "    .merge(visitorsBDaily, left_on='date', right_on='date', how='left')\n",
    "    .merge(visitorsACummulative, left_on='date', right_on='date', how='left')\n",
    "    .merge(visitorsBCummulative, left_on='date', right_on='date', how='left')\n",
    ")\n",
    "\n",
    "display(data.head(5))"
   ]
  },
  {
   "cell_type": "markdown",
   "metadata": {},
   "source": [
    "Теперь посчитаем статистическую значимость различия в среднем количестве заказов между группами:"
   ]
  },
  {
   "cell_type": "code",
   "execution_count": 55,
   "metadata": {},
   "outputs": [],
   "source": [
    "ordersByUsersA = (\n",
    "    orders[orders['group'] == 'A']\n",
    "    .groupby('visitor_id', as_index=False)\n",
    "    .agg({'transaction_id': pd.Series.nunique})\n",
    ")\n",
    "ordersByUsersA.columns = ['user_id', 'orders']\n",
    "\n",
    "ordersByUsersB = (\n",
    "    orders[orders['group'] == 'B']\n",
    "    .groupby('visitor_id', as_index=False)\n",
    "    .agg({'transaction_id': pd.Series.nunique})\n",
    ")\n",
    "ordersByUsersB.columns = ['user_id', 'orders']"
   ]
  },
  {
   "cell_type": "markdown",
   "metadata": {},
   "source": [
    "Объявим переменные `sampleA` и `sampleB`, в которых пользователям из разных групп будет соответствовать количество заказов. Тем, кто ничего не заказал, будут соответствовать нули. Это нужно, чтобы подготовить выборки к проверке критерием Манна-Уитни:"
   ]
  },
  {
   "cell_type": "code",
   "execution_count": 56,
   "metadata": {},
   "outputs": [],
   "source": [
    "sampleA = pd.concat([ordersByUsersA['orders'],pd.Series(\n",
    "    0, index=np.arange(data['visitorsPerDateA'].sum() - len(ordersByUsersA['orders'])), name='orders')],axis=0)\n",
    "sampleB = pd.concat([ordersByUsersB['orders'],pd.Series(\n",
    "    0, index=np.arange(data['visitorsPerDateB'].sum() - len(ordersByUsersB['orders'])), name='orders')],axis=0)"
   ]
  },
  {
   "cell_type": "markdown",
   "metadata": {},
   "source": [
    "Теперь применим критерий и отформатируем `p-value`, округлив его до трёх знаков после запятой:"
   ]
  },
  {
   "cell_type": "code",
   "execution_count": 58,
   "metadata": {},
   "outputs": [
    {
     "name": "stdout",
     "output_type": "stream",
     "text": [
      "P-value = 0.017\n",
      "Относительная разница:  0.1382\n"
     ]
    }
   ],
   "source": [
    "print('P-value =', '{0:.3f}'.format(stats.mannwhitneyu(sampleA, sampleB)[1]))\n",
    "\n",
    "print('Относительная разница: ', '{0:.4f}'.format(sampleB.mean() / sampleA.mean() - 1))"
   ]
  },
  {
   "cell_type": "markdown",
   "metadata": {},
   "source": [
    "P-value меньше 0.05. Значит, нулевую гипотезу о том, что статистически значимых различий в среднем числе заказов между группами нет - отвергаем, а относительный выигрыш группы B равен 15.99%. Вывод: По «сырым» данным различия в среднем числе заказов между группами A и B есть."
   ]
  },
  {
   "cell_type": "markdown",
   "metadata": {},
   "source": [
    "### 3.12 Расчет статистической значимости различий в среднем чеке заказа между группами по «сырым» данным"
   ]
  },
  {
   "cell_type": "markdown",
   "metadata": {},
   "source": [
    "Посчитаем статистическую значимость различий в среднем чеке заказа между группами по «сырым» данным, т.е. без удаления аномальных пользователей.\n",
    "Сформулируем нулевую и альтернативную гипотезы: \n",
    "```\n",
    "H_0: Различий в среднем чеке заказа между группами нет\n",
    "H_1: Различия в среднем чеке заказа между группами есть\n",
    "alpha = 0.05\n",
    "```\n",
    "На размер среднего чека также влияют выбросы, поэтому для расчета статистической значимости различий в среднем чеке, данные о выручке с заказов в чеке также передадим критерию mannwhitneyu(), и  уровень статистической значимости оставим стандартным - 0.05:"
   ]
  },
  {
   "cell_type": "code",
   "execution_count": 59,
   "metadata": {},
   "outputs": [
    {
     "name": "stdout",
     "output_type": "stream",
     "text": [
      "P-value = 0.729\n",
      "Относительная разница:  0.2587\n"
     ]
    }
   ],
   "source": [
    "print('P-value =', '{0:.3f}'.format(\n",
    "    stats.mannwhitneyu(orders[orders['group']=='A']['revenue'], orders[orders['group']=='B']['revenue'])[1]))\n",
    "print('Относительная разница: ', '{0:.4f}'.format(\n",
    "    orders[orders['group']=='B']['revenue'].mean()/orders[orders['group']=='A']['revenue'].mean() - 1)) "
   ]
  },
  {
   "cell_type": "markdown",
   "metadata": {},
   "source": [
    "P-value значительно выше 0.05. Значит, причин отвергать нулевую гипотезу и считать, что в среднем чеке есть различия - нет, при этом средний чек группы B выше на 28.66%. Вывод: наблюдаемая относительная разница вероятно получена случайно, на нее могли повлиять выбросы."
   ]
  },
  {
   "cell_type": "markdown",
   "metadata": {},
   "source": [
    "### 3.13 Расчет статистической значимости различий в среднем количестве заказов между группами по «очищенным» данным"
   ]
  },
  {
   "cell_type": "markdown",
   "metadata": {},
   "source": [
    "Итак, приступим к очистке данных. В качестве аномальных, мы решили рассматривать пользователей, которые оформили более 2-х заказов, а также заказы с суммой более 50 тыс. \n",
    "В переменную **usersWithManyOrders** запишем срез данных с количеством заказов более 2-х, а в переменную **usersWithExpensiveOrders** запишем срез данных с суммой заказов более 50 тыс. Затем объединим данные по аномальным пользователям в таблице **abnormalUsers**: "
   ]
  },
  {
   "cell_type": "code",
   "execution_count": 60,
   "metadata": {},
   "outputs": [
    {
     "name": "stdout",
     "output_type": "stream",
     "text": [
      "1099    148427295\n",
      "18      199603092\n",
      "23      237748145\n",
      "37      249864742\n",
      "68      457167155\n",
      "dtype: int64\n",
      "Количество аномальных пользователей:  37\n"
     ]
    }
   ],
   "source": [
    "usersWithManyOrders = pd.concat(\n",
    "    [\n",
    "        ordersByUsersA[ordersByUsersA['orders'] > 2]['user_id'],\n",
    "        ordersByUsersB[ordersByUsersB['orders'] > 2]['user_id'],\n",
    "    ],\n",
    "    axis=0,\n",
    ")\n",
    "usersWithExpensiveOrders = orders[orders['revenue'] > 50000]['visitor_id']\n",
    "abnormalUsers = (\n",
    "    pd.concat([usersWithManyOrders, usersWithExpensiveOrders], axis=0)\n",
    "    .drop_duplicates()\n",
    "    .sort_values()\n",
    ")\n",
    "print(abnormalUsers.head()) # выводим первые 5 строк таблицы\n",
    "print('Количество аномальных пользователей: ', abnormalUsers.shape[0]) # выводим количество аномальных пользователей"
   ]
  },
  {
   "cell_type": "markdown",
   "metadata": {},
   "source": [
    "Теперь узнаем, как их действия повлияли на результаты теста. Посчитаем статистическую значимость различий в среднем количестве заказов между группами теста по \"очищенным\" данным. Сначала подготовим выборки количества заказов по пользователям по группам теста:"
   ]
  },
  {
   "cell_type": "code",
   "execution_count": 61,
   "metadata": {},
   "outputs": [],
   "source": [
    "sampleAFiltered = pd.concat(\n",
    "    [\n",
    "        ordersByUsersA[\n",
    "            np.logical_not(ordersByUsersA['user_id'].isin(abnormalUsers))\n",
    "        ]['orders'],\n",
    "        pd.Series(\n",
    "            0,\n",
    "            index=np.arange(\n",
    "                data['visitorsPerDateA'].sum() - len(ordersByUsersA['orders'])\n",
    "            ),\n",
    "            name='orders',\n",
    "        ),\n",
    "    ],\n",
    "    axis=0,\n",
    ")\n",
    "\n",
    "sampleBFiltered = pd.concat(\n",
    "    [\n",
    "        ordersByUsersB[\n",
    "            np.logical_not(ordersByUsersB['user_id'].isin(abnormalUsers))\n",
    "        ]['orders'],\n",
    "        pd.Series(\n",
    "            0,\n",
    "            index=np.arange(\n",
    "                data['visitorsPerDateB'].sum() - len(ordersByUsersB['orders'])\n",
    "            ),\n",
    "            name='orders',\n",
    "        ),\n",
    "    ],\n",
    "    axis=0,\n",
    ") "
   ]
  },
  {
   "cell_type": "markdown",
   "metadata": {},
   "source": [
    "Применим статистический критерий Манна-Уитни к полученным выборкам и посмотрим, насколько изменились результаты после очистки данных:"
   ]
  },
  {
   "cell_type": "code",
   "execution_count": 62,
   "metadata": {},
   "outputs": [
    {
     "name": "stdout",
     "output_type": "stream",
     "text": [
      "P-value = 0.008\n",
      "Относительная разница:  0.1823\n"
     ]
    }
   ],
   "source": [
    "print('P-value =', '{0:.3f}'.format(stats.mannwhitneyu(sampleAFiltered, sampleBFiltered)[1]))\n",
    "print('Относительная разница: ', '{0:.4f}'.format(sampleBFiltered.mean()/sampleAFiltered.mean()-1)) "
   ]
  },
  {
   "cell_type": "markdown",
   "metadata": {},
   "source": [
    "P-value также меньше 0.05. Значит, нулевую гипотезу о том, что статистически значимых различий в среднем числе заказов между группами нет - также отвергаем, а относительный выигрыш группы B вырос до 19.82%. "
   ]
  },
  {
   "cell_type": "markdown",
   "metadata": {},
   "source": [
    "### 3.14 Расчет статистической значимости различий в среднем чеке заказа между группами по «очищенным» данным"
   ]
  },
  {
   "cell_type": "code",
   "execution_count": 63,
   "metadata": {},
   "outputs": [
    {
     "name": "stdout",
     "output_type": "stream",
     "text": [
      "P-value = 0.940\n",
      "Относительная разница:  0.0191\n"
     ]
    }
   ],
   "source": [
    "print('P-value =', \n",
    "    '{0:.3f}'.format(\n",
    "        stats.mannwhitneyu(\n",
    "            orders[\n",
    "                np.logical_and(\n",
    "                    orders['group'] == 'A',\n",
    "                    np.logical_not(orders['visitor_id'].isin(abnormalUsers)),\n",
    "                )\n",
    "            ]['revenue'],\n",
    "            orders[\n",
    "                np.logical_and(\n",
    "                    orders['group'] == 'B',\n",
    "                    np.logical_not(orders['visitor_id'].isin(abnormalUsers)),\n",
    "                )\n",
    "            ]['revenue'],\n",
    "        )[1]\n",
    "    )\n",
    ")\n",
    "\n",
    "print('Относительная разница: ', \n",
    "    \"{0:.4f}\".format(\n",
    "        orders[\n",
    "            np.logical_and(\n",
    "                orders['group'] == 'B',\n",
    "                np.logical_not(orders['visitor_id'].isin(abnormalUsers)),\n",
    "            )\n",
    "        ]['revenue'].mean()\n",
    "        / orders[\n",
    "            np.logical_and(\n",
    "                orders['group'] == 'A',\n",
    "                np.logical_not(orders['visitor_id'].isin(abnormalUsers)),\n",
    "            )\n",
    "        ]['revenue'].mean()\n",
    "        - 1\n",
    "    )\n",
    ") "
   ]
  },
  {
   "cell_type": "markdown",
   "metadata": {},
   "source": [
    "P-value также значительно выше 0.05. Значит, причин отвергать нулевую гипотезу и считать, что в среднем чеке есть различия - также нет, а относительная разница средних чеков между группами после очистки данных снизилась до ничтожного уровня - 1,1 %  Вывод: влияние выбросов подтвердилось."
   ]
  },
  {
   "cell_type": "markdown",
   "metadata": {},
   "source": [
    "### 3.15 Решение по результатам теста"
   ]
  },
  {
   "cell_type": "markdown",
   "metadata": {},
   "source": [
    "На основе анализа результатов А/В-теста, установлено следующее:\n",
    "- На графиках кумулятивных метрик замечены опережающие темпы роста по выручке группы В и  относительный прирост среднего количества заказов группы B на уровне 16%  \n",
    "- Отвергнута нулевая гипотеза: \"Различий в среднем количестве заказов между группами нет\",  как в массиве \"сырых\", так и в массиве \"очищенных\" данных. Зафиксирована относительная разница (в пользу группы В) 15.99% для \"сырых\" данных и 19.82% для \"очищенных\" данных.  \n",
    "- Нет причин отвергать нулевую гипотезу: \"Различий в среднем чеке заказа между группами нет\", как в массиве \"сырых\", так и в массиве \"очищенных\" данных. Зафиксирована относительная разница (в пользу группы В) 28.66% для \"сырых\" данных и 1.1% для \"очищенных\" данных, влияние выбросов на средний чек подтвердилось.\n",
    "\n",
    "Опираясь на успешные показатели различий в среднем количестве заказов и приросте выручки, рекомендуется остановить тест и зафиксировать победу группы **В**"
   ]
  },
  {
   "cell_type": "markdown",
   "metadata": {},
   "source": [
    "## 4 Общий вывод"
   ]
  },
  {
   "attachments": {},
   "cell_type": "markdown",
   "metadata": {},
   "source": [
    "**В рамках работы над данным проектом:**\n",
    "\n",
    "**На этапе обзора и предобработки данных:**  \n",
    "1. Устранены нарушения стиля при именовании заголовков, а также несоответствие формата данных в столбцах с датой и временем.\n",
    "\n",
    "2. Удалены данные 58 пользователей, попавших во время тестирования в обе группы.\n",
    "\n",
    "**В разделе приоритизация гипотез:**  \n",
    "1. С учетом охвата аудитории (фреймворк RICE), приоритет следует отдать гипотезе с индексом 7:  \n",
    "\"Добавить форму подписки на все основные страницы, чтобы собрать базу клиентов для email-рассылок\".\n",
    "\n",
    "2. Без учета охвата аудитории (фреймворк ICE) приоритет следует отдать гипотезе с индексом 8:  \n",
    "\"Запустить акцию, дающую скидку на товар в день рождения\".\n",
    "\n",
    "**В разделе Анализ А/В-теста:**\n",
    "1. Выявлено статистически значимое различие в среднем количестве заказов между группами, зафиксирована относительная разница в пользу группы В на уровне 15.99% для \"сырых\" данных и 19.82% для \"очищенных\" данных.\n",
    "\n",
    "2. Не выявлено статистически значимого различия в среднем чеке заказа между группами, зафиксирована относительная разница в пользу группы В на уровне 28.66% для \"сырых\" данных и 1.1% для \"очищенных\" данных, влияние выбросов на средний чек подтвердилось.\n",
    "\n",
    "3. На основе успешных показатели различий в среднем количестве заказов, рекомендовано остановить тест и зафиксировать победу группы **В**."
   ]
  }
 ],
 "metadata": {
  "ExecuteTimeLog": [
   {
    "duration": 1053,
    "start_time": "2022-10-30T07:33:21.777Z"
   },
   {
    "duration": 73,
    "start_time": "2022-10-30T07:33:22.832Z"
   },
   {
    "duration": 18,
    "start_time": "2022-10-30T07:33:22.907Z"
   },
   {
    "duration": 4,
    "start_time": "2022-10-30T07:33:22.926Z"
   },
   {
    "duration": 16,
    "start_time": "2022-10-30T07:33:22.931Z"
   },
   {
    "duration": 3,
    "start_time": "2022-10-30T07:33:22.948Z"
   },
   {
    "duration": 11,
    "start_time": "2022-10-30T07:33:22.953Z"
   },
   {
    "duration": 40,
    "start_time": "2022-10-30T07:33:22.966Z"
   },
   {
    "duration": 12,
    "start_time": "2022-10-30T07:33:23.008Z"
   },
   {
    "duration": 11,
    "start_time": "2022-10-30T07:33:23.022Z"
   },
   {
    "duration": 7,
    "start_time": "2022-10-30T07:33:23.035Z"
   },
   {
    "duration": 16,
    "start_time": "2022-10-30T07:33:23.044Z"
   },
   {
    "duration": 11,
    "start_time": "2022-10-30T07:33:23.061Z"
   },
   {
    "duration": 41,
    "start_time": "2022-10-30T07:33:23.074Z"
   },
   {
    "duration": 8,
    "start_time": "2022-10-30T07:33:23.116Z"
   },
   {
    "duration": 6,
    "start_time": "2022-10-30T07:33:23.125Z"
   },
   {
    "duration": 9,
    "start_time": "2022-10-30T07:33:23.133Z"
   },
   {
    "duration": 9,
    "start_time": "2022-10-30T07:33:23.143Z"
   },
   {
    "duration": 6,
    "start_time": "2022-10-30T07:33:23.154Z"
   },
   {
    "duration": 175,
    "start_time": "2022-10-30T07:33:23.161Z"
   },
   {
    "duration": 122,
    "start_time": "2022-10-30T07:33:23.338Z"
   },
   {
    "duration": 11,
    "start_time": "2022-10-30T07:33:23.461Z"
   },
   {
    "duration": 273,
    "start_time": "2022-10-30T07:33:23.474Z"
   },
   {
    "duration": 206,
    "start_time": "2022-10-30T07:33:23.748Z"
   },
   {
    "duration": 278,
    "start_time": "2022-10-30T07:33:23.955Z"
   },
   {
    "duration": 237,
    "start_time": "2022-10-30T07:33:24.235Z"
   },
   {
    "duration": 329,
    "start_time": "2022-10-30T07:33:24.474Z"
   },
   {
    "duration": 10,
    "start_time": "2022-10-30T07:33:24.807Z"
   },
   {
    "duration": 134,
    "start_time": "2022-10-30T07:33:24.819Z"
   },
   {
    "duration": 4,
    "start_time": "2022-10-30T07:33:24.955Z"
   },
   {
    "duration": 138,
    "start_time": "2022-10-30T07:33:24.960Z"
   },
   {
    "duration": 123,
    "start_time": "2022-10-30T07:33:25.099Z"
   },
   {
    "duration": 4,
    "start_time": "2022-10-30T07:33:25.224Z"
   },
   {
    "duration": 290,
    "start_time": "2022-10-30T07:33:25.229Z"
   },
   {
    "duration": 121,
    "start_time": "2022-10-30T07:33:25.520Z"
   },
   {
    "duration": 5,
    "start_time": "2022-10-30T07:33:25.643Z"
   },
   {
    "duration": 21,
    "start_time": "2022-10-30T07:33:25.650Z"
   },
   {
    "duration": 9,
    "start_time": "2022-10-30T07:33:25.672Z"
   },
   {
    "duration": 23,
    "start_time": "2022-10-30T07:33:25.683Z"
   },
   {
    "duration": 8,
    "start_time": "2022-10-30T07:33:25.707Z"
   },
   {
    "duration": 19,
    "start_time": "2022-10-30T07:33:25.716Z"
   },
   {
    "duration": 11,
    "start_time": "2022-10-30T07:33:25.736Z"
   },
   {
    "duration": 10,
    "start_time": "2022-10-30T07:55:06.459Z"
   },
   {
    "duration": 114,
    "start_time": "2022-10-30T09:09:26.840Z"
   },
   {
    "duration": 1264,
    "start_time": "2022-10-30T09:14:42.250Z"
   },
   {
    "duration": 228,
    "start_time": "2022-10-30T09:14:43.516Z"
   },
   {
    "duration": 19,
    "start_time": "2022-10-30T09:14:43.746Z"
   },
   {
    "duration": 5,
    "start_time": "2022-10-30T09:14:43.767Z"
   },
   {
    "duration": 27,
    "start_time": "2022-10-30T09:14:43.773Z"
   },
   {
    "duration": 4,
    "start_time": "2022-10-30T09:14:43.801Z"
   },
   {
    "duration": 19,
    "start_time": "2022-10-30T09:14:43.808Z"
   },
   {
    "duration": 22,
    "start_time": "2022-10-30T09:14:43.828Z"
   },
   {
    "duration": 10,
    "start_time": "2022-10-30T09:14:43.851Z"
   },
   {
    "duration": 13,
    "start_time": "2022-10-30T09:14:43.864Z"
   },
   {
    "duration": 9,
    "start_time": "2022-10-30T09:14:43.878Z"
   },
   {
    "duration": 36,
    "start_time": "2022-10-30T09:14:43.889Z"
   },
   {
    "duration": 13,
    "start_time": "2022-10-30T09:14:43.926Z"
   },
   {
    "duration": 15,
    "start_time": "2022-10-30T09:14:43.941Z"
   },
   {
    "duration": 11,
    "start_time": "2022-10-30T09:14:43.957Z"
   },
   {
    "duration": 6,
    "start_time": "2022-10-30T09:14:43.970Z"
   },
   {
    "duration": 13,
    "start_time": "2022-10-30T09:14:44.009Z"
   },
   {
    "duration": 11,
    "start_time": "2022-10-30T09:14:44.023Z"
   },
   {
    "duration": 9,
    "start_time": "2022-10-30T09:14:44.035Z"
   },
   {
    "duration": 190,
    "start_time": "2022-10-30T09:14:44.046Z"
   },
   {
    "duration": 127,
    "start_time": "2022-10-30T09:14:44.237Z"
   },
   {
    "duration": 13,
    "start_time": "2022-10-30T09:14:44.365Z"
   },
   {
    "duration": 326,
    "start_time": "2022-10-30T09:14:44.380Z"
   },
   {
    "duration": 235,
    "start_time": "2022-10-30T09:14:44.709Z"
   },
   {
    "duration": 360,
    "start_time": "2022-10-30T09:14:44.945Z"
   },
   {
    "duration": 230,
    "start_time": "2022-10-30T09:14:45.309Z"
   },
   {
    "duration": 302,
    "start_time": "2022-10-30T09:14:45.541Z"
   },
   {
    "duration": 10,
    "start_time": "2022-10-30T09:14:45.848Z"
   },
   {
    "duration": 146,
    "start_time": "2022-10-30T09:14:45.860Z"
   },
   {
    "duration": 5,
    "start_time": "2022-10-30T09:14:46.008Z"
   },
   {
    "duration": 137,
    "start_time": "2022-10-30T09:14:46.014Z"
   },
   {
    "duration": 137,
    "start_time": "2022-10-30T09:14:46.152Z"
   },
   {
    "duration": 4,
    "start_time": "2022-10-30T09:14:46.291Z"
   },
   {
    "duration": 282,
    "start_time": "2022-10-30T09:14:46.296Z"
   },
   {
    "duration": 151,
    "start_time": "2022-10-30T09:14:46.580Z"
   },
   {
    "duration": 6,
    "start_time": "2022-10-30T09:14:46.732Z"
   },
   {
    "duration": 31,
    "start_time": "2022-10-30T09:14:46.739Z"
   },
   {
    "duration": 10,
    "start_time": "2022-10-30T09:14:46.771Z"
   },
   {
    "duration": 15,
    "start_time": "2022-10-30T09:14:46.782Z"
   },
   {
    "duration": 17,
    "start_time": "2022-10-30T09:14:46.798Z"
   },
   {
    "duration": 35,
    "start_time": "2022-10-30T09:14:46.816Z"
   },
   {
    "duration": 17,
    "start_time": "2022-10-30T09:14:46.852Z"
   },
   {
    "duration": 1020,
    "start_time": "2022-10-30T14:09:02.232Z"
   },
   {
    "duration": 76,
    "start_time": "2022-10-30T14:09:03.254Z"
   },
   {
    "duration": 20,
    "start_time": "2022-10-30T14:09:03.331Z"
   },
   {
    "duration": 4,
    "start_time": "2022-10-30T14:09:03.353Z"
   },
   {
    "duration": 16,
    "start_time": "2022-10-30T14:09:03.359Z"
   },
   {
    "duration": 7,
    "start_time": "2022-10-30T14:09:03.377Z"
   },
   {
    "duration": 23,
    "start_time": "2022-10-30T14:09:03.386Z"
   },
   {
    "duration": 15,
    "start_time": "2022-10-30T14:09:03.411Z"
   },
   {
    "duration": 10,
    "start_time": "2022-10-30T14:09:03.427Z"
   },
   {
    "duration": 15,
    "start_time": "2022-10-30T14:09:03.439Z"
   },
   {
    "duration": 23,
    "start_time": "2022-10-30T14:09:03.456Z"
   },
   {
    "duration": 19,
    "start_time": "2022-10-30T14:09:03.480Z"
   },
   {
    "duration": 15,
    "start_time": "2022-10-30T14:09:03.501Z"
   },
   {
    "duration": 17,
    "start_time": "2022-10-30T14:09:03.517Z"
   },
   {
    "duration": 13,
    "start_time": "2022-10-30T14:09:03.535Z"
   },
   {
    "duration": 51,
    "start_time": "2022-10-30T14:09:03.549Z"
   },
   {
    "duration": 12,
    "start_time": "2022-10-30T14:09:03.601Z"
   },
   {
    "duration": 20,
    "start_time": "2022-10-30T14:09:03.615Z"
   },
   {
    "duration": 9,
    "start_time": "2022-10-30T14:09:03.636Z"
   },
   {
    "duration": 153,
    "start_time": "2022-10-30T14:09:03.647Z"
   },
   {
    "duration": 131,
    "start_time": "2022-10-30T14:09:03.802Z"
   },
   {
    "duration": 12,
    "start_time": "2022-10-30T14:09:03.935Z"
   },
   {
    "duration": 291,
    "start_time": "2022-10-30T14:09:03.948Z"
   },
   {
    "duration": 229,
    "start_time": "2022-10-30T14:09:04.241Z"
   },
   {
    "duration": 344,
    "start_time": "2022-10-30T14:09:04.472Z"
   },
   {
    "duration": 231,
    "start_time": "2022-10-30T14:09:04.818Z"
   },
   {
    "duration": 342,
    "start_time": "2022-10-30T14:09:05.051Z"
   },
   {
    "duration": 10,
    "start_time": "2022-10-30T14:09:05.396Z"
   },
   {
    "duration": 151,
    "start_time": "2022-10-30T14:09:05.408Z"
   },
   {
    "duration": 5,
    "start_time": "2022-10-30T14:09:05.561Z"
   },
   {
    "duration": 128,
    "start_time": "2022-10-30T14:09:05.577Z"
   },
   {
    "duration": 140,
    "start_time": "2022-10-30T14:09:05.707Z"
   },
   {
    "duration": 6,
    "start_time": "2022-10-30T14:09:05.849Z"
   },
   {
    "duration": 308,
    "start_time": "2022-10-30T14:09:05.857Z"
   },
   {
    "duration": 146,
    "start_time": "2022-10-30T14:09:06.167Z"
   },
   {
    "duration": 7,
    "start_time": "2022-10-30T14:09:06.315Z"
   },
   {
    "duration": 23,
    "start_time": "2022-10-30T14:09:06.323Z"
   },
   {
    "duration": 32,
    "start_time": "2022-10-30T14:09:06.348Z"
   },
   {
    "duration": 9,
    "start_time": "2022-10-30T14:09:06.382Z"
   },
   {
    "duration": 10,
    "start_time": "2022-10-30T14:09:06.393Z"
   },
   {
    "duration": 20,
    "start_time": "2022-10-30T14:09:06.405Z"
   },
   {
    "duration": 14,
    "start_time": "2022-10-30T14:09:06.427Z"
   }
  ],
  "kernelspec": {
   "display_name": "Python 3 (ipykernel)",
   "language": "python",
   "name": "python3"
  },
  "language_info": {
   "codemirror_mode": {
    "name": "ipython",
    "version": 3
   },
   "file_extension": ".py",
   "mimetype": "text/x-python",
   "name": "python",
   "nbconvert_exporter": "python",
   "pygments_lexer": "ipython3",
   "version": "3.9.13"
  },
  "toc": {
   "base_numbering": 1,
   "nav_menu": {},
   "number_sections": true,
   "sideBar": true,
   "skip_h1_title": true,
   "title_cell": "Содержание",
   "title_sidebar": "Contents",
   "toc_cell": false,
   "toc_position": {
    "height": "calc(100% - 180px)",
    "left": "10px",
    "top": "150px",
    "width": "479.825px"
   },
   "toc_section_display": true,
   "toc_window_display": true
  }
 },
 "nbformat": 4,
 "nbformat_minor": 4
}
