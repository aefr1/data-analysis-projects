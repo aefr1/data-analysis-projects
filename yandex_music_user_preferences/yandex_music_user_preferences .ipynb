{
 "cells": [
  {
   "cell_type": "markdown",
   "metadata": {
    "id": "E0vqbgi9ay0H"
   },
   "source": [
    "# Исследование предпочтений и активности пользователей сервиса Яндекс.Музыка"
   ]
  },
  {
   "attachments": {},
   "cell_type": "markdown",
   "metadata": {
    "id": "VUC88oWjTJw2"
   },
   "source": [
    "## Описание проекта  \n",
    "\n",
    "В распоряжении имеется датасет с данными по использованию сервиса Яндекс.Музыка в Москве и Санкт-Петербурге. На основании представленных данных необходимо проверить три гипотезы (нестатистические) и сделать необходимые выводы.\n",
    "\n",
    "## Цель исследования  \n",
    "\n",
    "### Проверка трех гипотез: \n",
    "\n",
    "1. Активность пользователей зависит от дня недели. Причём в Москве и Петербурге это проявляется по-разному.\n",
    "2. В понедельник утром в Москве преобладают одни жанры, а в Петербурге — другие. Так же и вечером пятницы преобладают разные жанры — в зависимости от города. \n",
    "3. Москва и Петербург предпочитают разные жанры музыки. В Москве чаще слушают поп-музыку, в Петербурге — русский рэп.\n",
    "\n",
    "## Описание данных\n",
    "\n",
    "*Датасет yandex_music_project.csv*\n",
    "\n",
    "*userID* — идентификатор пользователя;  \n",
    "*Track* - название трека;  \n",
    "*artist* - наименование испольнителя;  \n",
    "*genre* - жанр музыки;  \n",
    "*City* - город пользователя;  \n",
    "*time* - время суток;  \n",
    "*Day* - день недели.  \n",
    "\n",
    "## Содержание:  \n",
    "\n",
    "1 Обзор данных  \n",
    "2 Предобработка данных  \n",
    "2.1 Стиль заголовков  \n",
    "2.2 Пропуски значений  \n",
    "2.3 Дубликаты  \n",
    "2.4 Выводы   \n",
    "3 Проверка гипотез  \n",
    "3.1 Сравнение поведения пользователей двух столиц  \n",
    "3.2 Музыка в начале и в конце недели  \n",
    "3.3 Жанровые предпочтения в Москве и Петербурге  \n",
    "4 Итоги исследования  "
   ]
  },
  {
   "attachments": {},
   "cell_type": "markdown",
   "metadata": {
    "id": "Ml1hmfXC_Zcs"
   },
   "source": [
    "## 1 Обзор данных"
   ]
  },
  {
   "cell_type": "markdown",
   "metadata": {},
   "source": [
    "Загружаем библиотеку pandas:"
   ]
  },
  {
   "cell_type": "code",
   "execution_count": 1,
   "metadata": {
    "id": "AXN7PHPN_Zcs"
   },
   "outputs": [],
   "source": [
    "import pandas as pd"
   ]
  },
  {
   "cell_type": "markdown",
   "metadata": {
    "id": "SG23P8tt_Zcs"
   },
   "source": [
    "Открываем файл и сохраняем его в переменной `df`:"
   ]
  },
  {
   "cell_type": "code",
   "execution_count": 2,
   "metadata": {
    "id": "fFVu7vqh_Zct"
   },
   "outputs": [],
   "source": [
    "df = pd.read_csv('/datasets/yandex_music_project.csv')"
   ]
  },
  {
   "cell_type": "markdown",
   "metadata": {
    "id": "rDoOMd3uTqnZ"
   },
   "source": [
    "Выводим на экран первые десять строк таблицы:"
   ]
  },
  {
   "cell_type": "code",
   "execution_count": 3,
   "metadata": {
    "id": "oWTVX3gW_Zct"
   },
   "outputs": [
    {
     "data": {
      "text/html": [
       "<div>\n",
       "<style scoped>\n",
       "    .dataframe tbody tr th:only-of-type {\n",
       "        vertical-align: middle;\n",
       "    }\n",
       "\n",
       "    .dataframe tbody tr th {\n",
       "        vertical-align: top;\n",
       "    }\n",
       "\n",
       "    .dataframe thead th {\n",
       "        text-align: right;\n",
       "    }\n",
       "</style>\n",
       "<table border=\"1\" class=\"dataframe\">\n",
       "  <thead>\n",
       "    <tr style=\"text-align: right;\">\n",
       "      <th></th>\n",
       "      <th>userID</th>\n",
       "      <th>Track</th>\n",
       "      <th>artist</th>\n",
       "      <th>genre</th>\n",
       "      <th>City</th>\n",
       "      <th>time</th>\n",
       "      <th>Day</th>\n",
       "    </tr>\n",
       "  </thead>\n",
       "  <tbody>\n",
       "    <tr>\n",
       "      <th>0</th>\n",
       "      <td>FFB692EC</td>\n",
       "      <td>Kamigata To Boots</td>\n",
       "      <td>The Mass Missile</td>\n",
       "      <td>rock</td>\n",
       "      <td>Saint-Petersburg</td>\n",
       "      <td>20:28:33</td>\n",
       "      <td>Wednesday</td>\n",
       "    </tr>\n",
       "    <tr>\n",
       "      <th>1</th>\n",
       "      <td>55204538</td>\n",
       "      <td>Delayed Because of Accident</td>\n",
       "      <td>Andreas Rönnberg</td>\n",
       "      <td>rock</td>\n",
       "      <td>Moscow</td>\n",
       "      <td>14:07:09</td>\n",
       "      <td>Friday</td>\n",
       "    </tr>\n",
       "    <tr>\n",
       "      <th>2</th>\n",
       "      <td>20EC38</td>\n",
       "      <td>Funiculì funiculà</td>\n",
       "      <td>Mario Lanza</td>\n",
       "      <td>pop</td>\n",
       "      <td>Saint-Petersburg</td>\n",
       "      <td>20:58:07</td>\n",
       "      <td>Wednesday</td>\n",
       "    </tr>\n",
       "    <tr>\n",
       "      <th>3</th>\n",
       "      <td>A3DD03C9</td>\n",
       "      <td>Dragons in the Sunset</td>\n",
       "      <td>Fire + Ice</td>\n",
       "      <td>folk</td>\n",
       "      <td>Saint-Petersburg</td>\n",
       "      <td>08:37:09</td>\n",
       "      <td>Monday</td>\n",
       "    </tr>\n",
       "    <tr>\n",
       "      <th>4</th>\n",
       "      <td>E2DC1FAE</td>\n",
       "      <td>Soul People</td>\n",
       "      <td>Space Echo</td>\n",
       "      <td>dance</td>\n",
       "      <td>Moscow</td>\n",
       "      <td>08:34:34</td>\n",
       "      <td>Monday</td>\n",
       "    </tr>\n",
       "    <tr>\n",
       "      <th>5</th>\n",
       "      <td>842029A1</td>\n",
       "      <td>Преданная</td>\n",
       "      <td>IMPERVTOR</td>\n",
       "      <td>rusrap</td>\n",
       "      <td>Saint-Petersburg</td>\n",
       "      <td>13:09:41</td>\n",
       "      <td>Friday</td>\n",
       "    </tr>\n",
       "    <tr>\n",
       "      <th>6</th>\n",
       "      <td>4CB90AA5</td>\n",
       "      <td>True</td>\n",
       "      <td>Roman Messer</td>\n",
       "      <td>dance</td>\n",
       "      <td>Moscow</td>\n",
       "      <td>13:00:07</td>\n",
       "      <td>Wednesday</td>\n",
       "    </tr>\n",
       "    <tr>\n",
       "      <th>7</th>\n",
       "      <td>F03E1C1F</td>\n",
       "      <td>Feeling This Way</td>\n",
       "      <td>Polina Griffith</td>\n",
       "      <td>dance</td>\n",
       "      <td>Moscow</td>\n",
       "      <td>20:47:49</td>\n",
       "      <td>Wednesday</td>\n",
       "    </tr>\n",
       "    <tr>\n",
       "      <th>8</th>\n",
       "      <td>8FA1D3BE</td>\n",
       "      <td>И вновь продолжается бой</td>\n",
       "      <td>NaN</td>\n",
       "      <td>ruspop</td>\n",
       "      <td>Moscow</td>\n",
       "      <td>09:17:40</td>\n",
       "      <td>Friday</td>\n",
       "    </tr>\n",
       "    <tr>\n",
       "      <th>9</th>\n",
       "      <td>E772D5C0</td>\n",
       "      <td>Pessimist</td>\n",
       "      <td>NaN</td>\n",
       "      <td>dance</td>\n",
       "      <td>Saint-Petersburg</td>\n",
       "      <td>21:20:49</td>\n",
       "      <td>Wednesday</td>\n",
       "    </tr>\n",
       "  </tbody>\n",
       "</table>\n",
       "</div>"
      ],
      "text/plain": [
       "     userID                        Track            artist   genre  \\\n",
       "0  FFB692EC            Kamigata To Boots  The Mass Missile    rock   \n",
       "1  55204538  Delayed Because of Accident  Andreas Rönnberg    rock   \n",
       "2    20EC38            Funiculì funiculà       Mario Lanza     pop   \n",
       "3  A3DD03C9        Dragons in the Sunset        Fire + Ice    folk   \n",
       "4  E2DC1FAE                  Soul People        Space Echo   dance   \n",
       "5  842029A1                    Преданная         IMPERVTOR  rusrap   \n",
       "6  4CB90AA5                         True      Roman Messer   dance   \n",
       "7  F03E1C1F             Feeling This Way   Polina Griffith   dance   \n",
       "8  8FA1D3BE     И вновь продолжается бой               NaN  ruspop   \n",
       "9  E772D5C0                    Pessimist               NaN   dance   \n",
       "\n",
       "             City        time        Day  \n",
       "0  Saint-Petersburg  20:28:33  Wednesday  \n",
       "1            Moscow  14:07:09     Friday  \n",
       "2  Saint-Petersburg  20:58:07  Wednesday  \n",
       "3  Saint-Petersburg  08:37:09     Monday  \n",
       "4            Moscow  08:34:34     Monday  \n",
       "5  Saint-Petersburg  13:09:41     Friday  \n",
       "6            Moscow  13:00:07  Wednesday  \n",
       "7            Moscow  20:47:49  Wednesday  \n",
       "8            Moscow  09:17:40     Friday  \n",
       "9  Saint-Petersburg  21:20:49  Wednesday  "
      ]
     },
     "execution_count": 3,
     "metadata": {},
     "output_type": "execute_result"
    }
   ],
   "source": [
    "df.head(10)"
   ]
  },
  {
   "cell_type": "markdown",
   "metadata": {
    "id": "EO73Kwic_Zct"
   },
   "source": [
    "Теперь посмотрим общую информацию о таблице:"
   ]
  },
  {
   "cell_type": "code",
   "execution_count": 4,
   "metadata": {
    "id": "DSf2kIb-_Zct"
   },
   "outputs": [
    {
     "name": "stdout",
     "output_type": "stream",
     "text": [
      "<class 'pandas.core.frame.DataFrame'>\n",
      "RangeIndex: 65079 entries, 0 to 65078\n",
      "Data columns (total 7 columns):\n",
      " #   Column    Non-Null Count  Dtype \n",
      "---  ------    --------------  ----- \n",
      " 0     userID  65079 non-null  object\n",
      " 1   Track     63848 non-null  object\n",
      " 2   artist    57876 non-null  object\n",
      " 3   genre     63881 non-null  object\n",
      " 4     City    65079 non-null  object\n",
      " 5   time      65079 non-null  object\n",
      " 6   Day       65079 non-null  object\n",
      "dtypes: object(7)\n",
      "memory usage: 3.5+ MB\n"
     ]
    }
   ],
   "source": [
    "df.info()"
   ]
  },
  {
   "cell_type": "markdown",
   "metadata": {
    "id": "TaQ2Iwbr_Zct"
   },
   "source": [
    "Итак, в таблице семь столбцов. Тип данных во всех столбцах — `object`.\n",
    "\n",
    "В названиях колонок видны три нарушения стиля:\n",
    "1. Строчные буквы сочетаются с прописными.\n",
    "2. Встречаются пробелы.\n",
    "3. Название, состоящее из нескольких слов, соединяется в одно без использования символа нижнего подчеркивания.\n",
    "\n",
    "Количество значений в столбцах различается. Значит, в данных есть пропущенные значения."
   ]
  },
  {
   "cell_type": "markdown",
   "metadata": {
    "id": "MCB6-dXG_Zct"
   },
   "source": [
    "**Выводы**\n",
    "\n",
    "В каждой строке таблицы — данные о прослушанном треке. Часть колонок описывает саму композицию: название, исполнителя и жанр. Остальные данные рассказывают о пользователе: из какого он города, когда он слушал музыку. \n",
    "\n",
    "Предварительно можно утверждать, что, данных достаточно для проверки гипотез. Но встречаются пропуски в данных, а в названиях колонок — расхождения с хорошим стилем.\n",
    "\n",
    "Чтобы двигаться дальше, нужно устранить проблемы в данных."
   ]
  },
  {
   "attachments": {},
   "cell_type": "markdown",
   "metadata": {
    "id": "SjYF6Ub9_Zct"
   },
   "source": [
    "## 2 Предобработка данных"
   ]
  },
  {
   "attachments": {},
   "cell_type": "markdown",
   "metadata": {
    "id": "dIaKXr29_Zct"
   },
   "source": [
    "### 2.1 Стиль заголовков"
   ]
  },
  {
   "cell_type": "markdown",
   "metadata": {},
   "source": [
    "Для начала выведем названия столбцов:"
   ]
  },
  {
   "cell_type": "code",
   "execution_count": 5,
   "metadata": {
    "id": "oKOTdF_Q_Zct"
   },
   "outputs": [
    {
     "data": {
      "text/plain": [
       "Index(['  userID', 'Track', 'artist', 'genre', '  City  ', 'time', 'Day'], dtype='object')"
      ]
     },
     "execution_count": 5,
     "metadata": {},
     "output_type": "execute_result"
    }
   ],
   "source": [
    "df.columns"
   ]
  },
  {
   "cell_type": "markdown",
   "metadata": {
    "id": "zj5534cv_Zct"
   },
   "source": [
    "Теперь приведем названия столбцов в соответствии с правилами хорошего стиля (уберем пробелы и все символы сделаем строчными), а заодно, изменим названия столбца c днями недели *Day* на более точное - *weekday*:"
   ]
  },
  {
   "cell_type": "code",
   "execution_count": 6,
   "metadata": {
    "id": "ISlFqs5y_Zct"
   },
   "outputs": [],
   "source": [
    "df = df.rename(columns={'  userID': 'user_id', 'Track': 'track', '  City  ': 'city', 'Day': 'weekday'})"
   ]
  },
  {
   "cell_type": "markdown",
   "metadata": {
    "id": "1dqbh00J_Zct"
   },
   "source": [
    "Проверим результат переименования:"
   ]
  },
  {
   "cell_type": "code",
   "execution_count": 7,
   "metadata": {
    "id": "d4NOAmTW_Zct"
   },
   "outputs": [
    {
     "name": "stdout",
     "output_type": "stream",
     "text": [
      "Index(['user_id', 'track', 'artist', 'genre', 'city', 'time', 'weekday'], dtype='object')\n"
     ]
    }
   ],
   "source": [
    "print(df.columns) #  проверка результатов - перечень названий столбцов"
   ]
  },
  {
   "attachments": {},
   "cell_type": "markdown",
   "metadata": {
    "id": "5ISfbcfY_Zct"
   },
   "source": [
    "### 2.2 Пропуски значений"
   ]
  },
  {
   "cell_type": "markdown",
   "metadata": {},
   "source": [
    "Посчитаем сумму пропущенных значений по столбцам:"
   ]
  },
  {
   "cell_type": "code",
   "execution_count": 8,
   "metadata": {
    "id": "RskX29qr_Zct"
   },
   "outputs": [
    {
     "data": {
      "text/plain": [
       "user_id       0\n",
       "track      1231\n",
       "artist     7203\n",
       "genre      1198\n",
       "city          0\n",
       "time          0\n",
       "weekday       0\n",
       "dtype: int64"
      ]
     },
     "execution_count": 8,
     "metadata": {},
     "output_type": "execute_result"
    }
   ],
   "source": [
    "df.isna().sum()"
   ]
  },
  {
   "cell_type": "markdown",
   "metadata": {
    "id": "qubhgnlO_Zct"
   },
   "source": [
    "Не все пропущенные значения влияют на исследование. Так, в `track` и `artist` пропуски будут не важны для данной работы. Достаточно заменить их явными обозначениями.\n",
    "\n",
    "Но пропуски в `genre` могут помешать сравнению музыкальных вкусов в Москве и Санкт-Петербурге. На практике было бы правильно установить причину пропусков и восстановить данные. Поскольку такой возможности в учебном проекте нет - заполним эти пропуски явными обозначениями и оценим, насколько они повредят расчётам. "
   ]
  },
  {
   "cell_type": "markdown",
   "metadata": {
    "id": "fSv2laPA_Zct"
   },
   "source": [
    "Заменим пропущенные значения в столбцах `track`, `artist` и `genre` на строку `'unknown'`. Для этого создадим список `columns_to_replace`, переберем его элементы циклом `for` и для каждого столбца выполним замену пропущенных значений:"
   ]
  },
  {
   "cell_type": "code",
   "execution_count": 9,
   "metadata": {
    "id": "KplB5qWs_Zct"
   },
   "outputs": [],
   "source": [
    "columns_to_replace = ['track', 'artist', 'genre']\n",
    "for element in columns_to_replace:\n",
    "    df[element] = df[element].fillna('unknown') #  перебор названий столбцов в цикле и замена пропущенных значений на 'unknown'"
   ]
  },
  {
   "cell_type": "markdown",
   "metadata": {
    "id": "Ilsm-MZo_Zct"
   },
   "source": [
    "Проверим результат:"
   ]
  },
  {
   "cell_type": "code",
   "execution_count": 10,
   "metadata": {
    "id": "Tq4nYRX4_Zct"
   },
   "outputs": [
    {
     "data": {
      "text/plain": [
       "user_id    0\n",
       "track      0\n",
       "artist     0\n",
       "genre      0\n",
       "city       0\n",
       "time       0\n",
       "weekday    0\n",
       "dtype: int64"
      ]
     },
     "execution_count": 10,
     "metadata": {},
     "output_type": "execute_result"
    }
   ],
   "source": [
    "df.isna().sum()  # подсчёт пропусков"
   ]
  },
  {
   "attachments": {},
   "cell_type": "markdown",
   "metadata": {
    "id": "BWKRtBJ3_Zct"
   },
   "source": [
    "### 2.3 Дубликаты\n",
    "Посчитаем явные дубликаты в таблице:"
   ]
  },
  {
   "cell_type": "code",
   "execution_count": 11,
   "metadata": {
    "id": "36eES_S0_Zct"
   },
   "outputs": [
    {
     "name": "stdout",
     "output_type": "stream",
     "text": [
      "Явных дубликатов: 3826\n"
     ]
    }
   ],
   "source": [
    "print('Явных дубликатов:', df.duplicated().sum())"
   ]
  },
  {
   "cell_type": "markdown",
   "metadata": {
    "id": "Ot25h6XR_Zct"
   },
   "source": [
    "Удалим их:"
   ]
  },
  {
   "cell_type": "code",
   "execution_count": 12,
   "metadata": {
    "id": "exFHq6tt_Zct"
   },
   "outputs": [
    {
     "name": "stdout",
     "output_type": "stream",
     "text": [
      "Явных дубликатов: 0\n"
     ]
    }
   ],
   "source": [
    "df = df.drop_duplicates().reset_index(drop=True) #  удаляем явные дубликаты и обновляем значения индексов\n",
    "print('Явных дубликатов:', df.duplicated().sum()) #  контролируем результат"
   ]
  },
  {
   "cell_type": "markdown",
   "metadata": {},
   "source": [
    "Теперь проверим колонку `genre` на наличие неявных дубликатов, для этого выведем уникальные значения с сортировкой по убыванию:"
   ]
  },
  {
   "cell_type": "code",
   "execution_count": 13,
   "metadata": {
    "id": "JIUcqzZN_Zct"
   },
   "outputs": [
    {
     "name": "stdout",
     "output_type": "stream",
     "text": [
      "['acid' 'acoustic' 'action' 'adult' 'africa' 'afrikaans' 'alternative'\n",
      " 'alternativepunk' 'ambient' 'americana' 'animated' 'anime' 'arabesk'\n",
      " 'arabic' 'arena' 'argentinetango' 'art' 'audiobook' 'author' 'avantgarde'\n",
      " 'axé' 'baile' 'balkan' 'beats' 'bigroom' 'black' 'bluegrass' 'blues'\n",
      " 'bollywood' 'bossa' 'brazilian' 'breakbeat' 'breaks' 'broadway'\n",
      " 'cantautori' 'cantopop' 'canzone' 'caribbean' 'caucasian' 'celtic'\n",
      " 'chamber' 'chanson' 'children' 'chill' 'chinese' 'choral' 'christian'\n",
      " 'christmas' 'classical' 'classicmetal' 'club' 'colombian' 'comedy'\n",
      " 'conjazz' 'contemporary' 'country' 'cuban' 'dance' 'dancehall' 'dancepop'\n",
      " 'dark' 'death' 'deep' 'deutschrock' 'deutschspr' 'dirty' 'disco' 'dnb'\n",
      " 'documentary' 'downbeat' 'downtempo' 'drum' 'dub' 'dubstep' 'eastern'\n",
      " 'easy' 'electronic' 'electropop' 'emo' 'entehno' 'epicmetal' 'estrada'\n",
      " 'ethnic' 'eurofolk' 'european' 'experimental' 'extrememetal' 'fado'\n",
      " 'fairytail' 'film' 'fitness' 'flamenco' 'folk' 'folklore' 'folkmetal'\n",
      " 'folkrock' 'folktronica' 'forró' 'frankreich' 'französisch' 'french'\n",
      " 'funk' 'future' 'gangsta' 'garage' 'german' 'ghazal' 'gitarre' 'glitch'\n",
      " 'gospel' 'gothic' 'grime' 'grunge' 'gypsy' 'handsup' \"hard'n'heavy\"\n",
      " 'hardcore' 'hardstyle' 'hardtechno' 'hip' 'hip-hop' 'hiphop' 'historisch'\n",
      " 'holiday' 'hop' 'horror' 'house' 'hymn' 'idm' 'independent' 'indian'\n",
      " 'indie' 'indipop' 'industrial' 'inspirational' 'instrumental'\n",
      " 'international' 'irish' 'jam' 'japanese' 'jazz' 'jewish' 'jpop' 'jungle'\n",
      " 'k-pop' 'karadeniz' 'karaoke' 'kayokyoku' 'korean' 'laiko' 'latin'\n",
      " 'latino' 'leftfield' 'local' 'lounge' 'loungeelectronic' 'lovers'\n",
      " 'malaysian' 'mandopop' 'marschmusik' 'meditative' 'mediterranean'\n",
      " 'melodic' 'metal' 'metalcore' 'mexican' 'middle' 'minimal'\n",
      " 'miscellaneous' 'modern' 'mood' 'mpb' 'muslim' 'native' 'neoklassik'\n",
      " 'neue' 'new' 'newage' 'newwave' 'nu' 'nujazz' 'numetal' 'oceania' 'old'\n",
      " 'opera' 'orchestral' 'other' 'piano' 'podcasts' 'pop' 'popdance'\n",
      " 'popelectronic' 'popeurodance' 'poprussian' 'post' 'posthardcore'\n",
      " 'postrock' 'power' 'progmetal' 'progressive' 'psychedelic' 'punjabi'\n",
      " 'punk' 'quebecois' 'ragga' 'ram' 'rancheras' 'rap' 'rave' 'reggae'\n",
      " 'reggaeton' 'regional' 'relax' 'religious' 'retro' 'rhythm' 'rnb' 'rnr'\n",
      " 'rock' 'rockabilly' 'rockalternative' 'rockindie' 'rockother' 'romance'\n",
      " 'roots' 'ruspop' 'rusrap' 'rusrock' 'russian' 'salsa' 'samba' 'scenic'\n",
      " 'schlager' 'self' 'sertanejo' 'shanson' 'shoegazing' 'showtunes' 'singer'\n",
      " 'ska' 'skarock' 'slow' 'smooth' 'soft' 'soul' 'soulful' 'sound'\n",
      " 'soundtrack' 'southern' 'specialty' 'speech' 'spiritual' 'sport'\n",
      " 'stonerrock' 'surf' 'swing' 'synthpop' 'synthrock' 'sängerportrait'\n",
      " 'tango' 'tanzorchester' 'taraftar' 'tatar' 'tech' 'techno' 'teen'\n",
      " 'thrash' 'top' 'traditional' 'tradjazz' 'trance' 'tribal' 'trip'\n",
      " 'triphop' 'tropical' 'türk' 'türkçe' 'ukrrock' 'unknown' 'urban' 'uzbek'\n",
      " 'variété' 'vi' 'videogame' 'vocal' 'western' 'world' 'worldbeat' 'ïîï'\n",
      " 'электроника']\n"
     ]
    }
   ],
   "source": [
    "print(df['genre'].sort_values().unique())"
   ]
  },
  {
   "cell_type": "markdown",
   "metadata": {
    "id": "qej-Qmuo_Zct"
   },
   "source": [
    "Действительно, название жанра `hiphop` представлено еще в трех вариантах:\n",
    "\n",
    "* *hip*,\n",
    "* *hop*,\n",
    "* *hip-hop*.\n",
    "\n",
    "Название жанра `electronic` представлено еще на русском языке:\n",
    "\n",
    "* *электроника*\n",
    "\n",
    "Чтобы упорядочить таблицу, напишем функцию `replace_wrong_genres()` с двумя параметрами: \n",
    "* `wrong_value` — некорректное значение (список значений),\n",
    "* `correct_value` — корректное значение\n",
    "\n",
    "Функция должна исправить колонку `genre` в таблице `df`: заменить каждое значение `wrong_value` на значение из `correct_value`:"
   ]
  },
  {
   "cell_type": "code",
   "execution_count": 14,
   "metadata": {
    "id": "ErNDkmns_Zct"
   },
   "outputs": [],
   "source": [
    "def replace_wrong_genres(wrong_value, correct_value): #  функция для замены неявных дубликатов\n",
    "    for i in wrong_value:\n",
    "        df['genre'] = df['genre'].replace(wrong_value, correct_value)"
   ]
  },
  {
   "cell_type": "markdown",
   "metadata": {
    "id": "aDoBJxbA_Zct"
   },
   "source": [
    "Вызываем функцию и передаем ей аргументы для устранения неявных дубликатов:"
   ]
  },
  {
   "cell_type": "code",
   "execution_count": 15,
   "metadata": {
    "id": "YN5i2hpmSo09"
   },
   "outputs": [],
   "source": [
    "replace_wrong_genres(['hip', 'hop', 'hip-hop'], 'hiphop')\n",
    "replace_wrong_genres('электроника', 'electronic')"
   ]
  },
  {
   "cell_type": "markdown",
   "metadata": {
    "id": "zQKF16_RG15m"
   },
   "source": [
    "Контролируем результат:"
   ]
  },
  {
   "cell_type": "code",
   "execution_count": 16,
   "metadata": {
    "id": "wvixALnFG15m"
   },
   "outputs": [
    {
     "name": "stdout",
     "output_type": "stream",
     "text": [
      "['acid' 'acoustic' 'action' 'adult' 'africa' 'afrikaans' 'alternative'\n",
      " 'alternativepunk' 'ambient' 'americana' 'animated' 'anime' 'arabesk'\n",
      " 'arabic' 'arena' 'argentinetango' 'art' 'audiobook' 'author' 'avantgarde'\n",
      " 'axé' 'baile' 'balkan' 'beats' 'bigroom' 'black' 'bluegrass' 'blues'\n",
      " 'bollywood' 'bossa' 'brazilian' 'breakbeat' 'breaks' 'broadway'\n",
      " 'cantautori' 'cantopop' 'canzone' 'caribbean' 'caucasian' 'celtic'\n",
      " 'chamber' 'chanson' 'children' 'chill' 'chinese' 'choral' 'christian'\n",
      " 'christmas' 'classical' 'classicmetal' 'club' 'colombian' 'comedy'\n",
      " 'conjazz' 'contemporary' 'country' 'cuban' 'dance' 'dancehall' 'dancepop'\n",
      " 'dark' 'death' 'deep' 'deutschrock' 'deutschspr' 'dirty' 'disco' 'dnb'\n",
      " 'documentary' 'downbeat' 'downtempo' 'drum' 'dub' 'dubstep' 'eastern'\n",
      " 'easy' 'electronic' 'electropop' 'emo' 'entehno' 'epicmetal' 'estrada'\n",
      " 'ethnic' 'eurofolk' 'european' 'experimental' 'extrememetal' 'fado'\n",
      " 'fairytail' 'film' 'fitness' 'flamenco' 'folk' 'folklore' 'folkmetal'\n",
      " 'folkrock' 'folktronica' 'forró' 'frankreich' 'französisch' 'french'\n",
      " 'funk' 'future' 'gangsta' 'garage' 'german' 'ghazal' 'gitarre' 'glitch'\n",
      " 'gospel' 'gothic' 'grime' 'grunge' 'gypsy' 'handsup' \"hard'n'heavy\"\n",
      " 'hardcore' 'hardstyle' 'hardtechno' 'hiphop' 'historisch' 'holiday'\n",
      " 'horror' 'house' 'hymn' 'idm' 'independent' 'indian' 'indie' 'indipop'\n",
      " 'industrial' 'inspirational' 'instrumental' 'international' 'irish' 'jam'\n",
      " 'japanese' 'jazz' 'jewish' 'jpop' 'jungle' 'k-pop' 'karadeniz' 'karaoke'\n",
      " 'kayokyoku' 'korean' 'laiko' 'latin' 'latino' 'leftfield' 'local'\n",
      " 'lounge' 'loungeelectronic' 'lovers' 'malaysian' 'mandopop' 'marschmusik'\n",
      " 'meditative' 'mediterranean' 'melodic' 'metal' 'metalcore' 'mexican'\n",
      " 'middle' 'minimal' 'miscellaneous' 'modern' 'mood' 'mpb' 'muslim'\n",
      " 'native' 'neoklassik' 'neue' 'new' 'newage' 'newwave' 'nu' 'nujazz'\n",
      " 'numetal' 'oceania' 'old' 'opera' 'orchestral' 'other' 'piano' 'podcasts'\n",
      " 'pop' 'popdance' 'popelectronic' 'popeurodance' 'poprussian' 'post'\n",
      " 'posthardcore' 'postrock' 'power' 'progmetal' 'progressive' 'psychedelic'\n",
      " 'punjabi' 'punk' 'quebecois' 'ragga' 'ram' 'rancheras' 'rap' 'rave'\n",
      " 'reggae' 'reggaeton' 'regional' 'relax' 'religious' 'retro' 'rhythm'\n",
      " 'rnb' 'rnr' 'rock' 'rockabilly' 'rockalternative' 'rockindie' 'rockother'\n",
      " 'romance' 'roots' 'ruspop' 'rusrap' 'rusrock' 'russian' 'salsa' 'samba'\n",
      " 'scenic' 'schlager' 'self' 'sertanejo' 'shanson' 'shoegazing' 'showtunes'\n",
      " 'singer' 'ska' 'skarock' 'slow' 'smooth' 'soft' 'soul' 'soulful' 'sound'\n",
      " 'soundtrack' 'southern' 'specialty' 'speech' 'spiritual' 'sport'\n",
      " 'stonerrock' 'surf' 'swing' 'synthpop' 'synthrock' 'sängerportrait'\n",
      " 'tango' 'tanzorchester' 'taraftar' 'tatar' 'tech' 'techno' 'teen'\n",
      " 'thrash' 'top' 'traditional' 'tradjazz' 'trance' 'tribal' 'trip'\n",
      " 'triphop' 'tropical' 'türk' 'türkçe' 'ukrrock' 'unknown' 'urban' 'uzbek'\n",
      " 'variété' 'vi' 'videogame' 'vocal' 'western' 'world' 'worldbeat' 'ïîï']\n"
     ]
    }
   ],
   "source": [
    "print(df['genre'].sort_values().unique()) #  выводим еще раз уникальные значения жанров"
   ]
  },
  {
   "attachments": {},
   "cell_type": "markdown",
   "metadata": {
    "id": "jz6a9-7HQUDd"
   },
   "source": [
    "## 2.4 Выводы\n",
    "\n",
    "Предобработка обнаружила три проблемы в данных:\n",
    "\n",
    "- нарушения в стиле заголовков,\n",
    "- пропущенные значения,\n",
    "- дубликаты — явные и неявные.\n",
    "\n",
    "Исправилены заголовки, чтобы упростить работу с таблицей. Без дубликатов исследование станет более точным.\n",
    "\n",
    "Пропущенные значения заменили на `'unknown'`. Ещё предстоит увидеть, не повредят ли исследованию пропуски в колонке `genre`.\n",
    "\n",
    "Теперь можно перейти к проверке гипотез. "
   ]
  },
  {
   "attachments": {},
   "cell_type": "markdown",
   "metadata": {
    "id": "WttZHXH0SqKk"
   },
   "source": [
    "## 3 Проверка гипотез"
   ]
  },
  {
   "attachments": {},
   "cell_type": "markdown",
   "metadata": {
    "id": "Im936VVi_Zcu"
   },
   "source": [
    "### 3.1 Сравнение поведения пользователей двух столиц"
   ]
  },
  {
   "cell_type": "markdown",
   "metadata": {
    "id": "nwt_MuaL_Zcu"
   },
   "source": [
    "Первая гипотеза утверждает, что пользователи по-разному слушают музыку в Москве и Санкт-Петербурге. Проверим это предположение по данным о трёх днях недели — понедельнике, среде и пятнице. Для этого:\n",
    "\n",
    "* Разделим пользователей Москвы и Санкт-Петербурга;  \n",
    "* Сравним, сколько треков послушала каждая группа пользователей в понедельник, среду и пятницу.\n"
   ]
  },
  {
   "cell_type": "markdown",
   "metadata": {
    "id": "8Dw_YMmT_Zcu"
   },
   "source": [
    "Оценим активность пользователей в каждом городе. Сгруппируем данные по городу и посчитаем прослушивания в каждой группе:"
   ]
  },
  {
   "cell_type": "code",
   "execution_count": 17,
   "metadata": {
    "id": "0_Qs96oh_Zcu"
   },
   "outputs": [
    {
     "data": {
      "text/plain": [
       "city\n",
       "Moscow              42741\n",
       "Saint-Petersburg    18512\n",
       "Name: track, dtype: int64"
      ]
     },
     "execution_count": 17,
     "metadata": {},
     "output_type": "execute_result"
    }
   ],
   "source": [
    "df.groupby('city')['track'].count()"
   ]
  },
  {
   "cell_type": "markdown",
   "metadata": {
    "id": "dzli3w8o_Zcu"
   },
   "source": [
    "В Москве прослушиваний больше, чем в Петербурге. Из этого не следует, что московские пользователи чаще слушают музыку, просто самих пользователей в Москве больше.\n",
    "\n",
    "Теперь сгруппируем данные по дням недели и подсчитаем прослушивания:"
   ]
  },
  {
   "cell_type": "code",
   "execution_count": 18,
   "metadata": {
    "id": "uZMKjiJz_Zcu"
   },
   "outputs": [
    {
     "name": "stdout",
     "output_type": "stream",
     "text": [
      "weekday\n",
      "Friday       21840\n",
      "Monday       21354\n",
      "Wednesday    18059\n",
      "Name: track, dtype: int64\n"
     ]
    }
   ],
   "source": [
    "print(df.groupby('weekday')['track'].count())"
   ]
  },
  {
   "cell_type": "markdown",
   "metadata": {
    "id": "cC2tNrlL_Zcu"
   },
   "source": [
    "В наличии имеются данные по трем дням недели (понедельник, среда и пятница). В среднем пользователи из двух городов менее активны по средам. Но картина может измениться, если рассмотреть каждый город в отдельности."
   ]
  },
  {
   "cell_type": "markdown",
   "metadata": {
    "id": "POzs8bGa_Zcu"
   },
   "source": [
    "Напишем функцию `number_tracks()`, которая объединит два предыдущих расчета и выведет прослушивания для заданного дня и города. Ей понадобятся два параметра:\n",
    "* день недели,\n",
    "* название города.\n",
    "\n",
    "В функции сохраним в переменную строки исходной таблицы, у которых значение:\n",
    "  * в колонке `weekday` равно параметру `weekday`,\n",
    "  * в колонке `city` равно параметру `city`.\n",
    "\n",
    "Для этого применим последовательную фильтрацию с логической индексацией, затем посчитаем значения в столбце `user_id` получившейся таблицы. Результат сохраним в новую переменную `track_list_count`:"
   ]
  },
  {
   "cell_type": "code",
   "execution_count": 19,
   "metadata": {
    "id": "Nz3GdQB1_Zcu"
   },
   "outputs": [],
   "source": [
    "def number_tracks(weekday, city):\n",
    "    track_list = df[(df['weekday'] == weekday) & (df['city'] == city)]\n",
    "    track_list_count = track_list['user_id'].count()\n",
    "    return track_list_count"
   ]
  },
  {
   "cell_type": "markdown",
   "metadata": {
    "id": "ytf7xFrFJQ2r"
   },
   "source": [
    "Теперь вызовем `number_tracks()` шесть раз, меняя значение параметров — так, чтобы получить данные для каждого города в каждый из трёх дней:"
   ]
  },
  {
   "cell_type": "code",
   "execution_count": 20,
   "metadata": {
    "id": "rJcRATNQ_Zcu"
   },
   "outputs": [
    {
     "data": {
      "text/plain": [
       "15740"
      ]
     },
     "execution_count": 20,
     "metadata": {},
     "output_type": "execute_result"
    }
   ],
   "source": [
    "number_tracks('Monday', 'Moscow') #  количество прослушиваний в Москве по понедельникам"
   ]
  },
  {
   "cell_type": "code",
   "execution_count": 21,
   "metadata": {
    "id": "hq_ncZ5T_Zcu"
   },
   "outputs": [
    {
     "data": {
      "text/plain": [
       "5614"
      ]
     },
     "execution_count": 21,
     "metadata": {},
     "output_type": "execute_result"
    }
   ],
   "source": [
    "number_tracks('Monday', 'Saint-Petersburg')  # количество прослушиваний в Санкт-Петербурге по понедельникам"
   ]
  },
  {
   "cell_type": "code",
   "execution_count": 22,
   "metadata": {
    "id": "_NTy2VPU_Zcu"
   },
   "outputs": [
    {
     "data": {
      "text/plain": [
       "11056"
      ]
     },
     "execution_count": 22,
     "metadata": {},
     "output_type": "execute_result"
    }
   ],
   "source": [
    "number_tracks('Wednesday', 'Moscow') #  количество прослушиваний в Москве по средам"
   ]
  },
  {
   "cell_type": "code",
   "execution_count": 23,
   "metadata": {
    "id": "j2y3TAwo_Zcu"
   },
   "outputs": [
    {
     "data": {
      "text/plain": [
       "7003"
      ]
     },
     "execution_count": 23,
     "metadata": {},
     "output_type": "execute_result"
    }
   ],
   "source": [
    "number_tracks('Wednesday', 'Saint-Petersburg') #  количество прослушиваний в Санкт-Петербурге по средам"
   ]
  },
  {
   "cell_type": "code",
   "execution_count": 24,
   "metadata": {
    "id": "vYDw5u_K_Zcu"
   },
   "outputs": [
    {
     "data": {
      "text/plain": [
       "15945"
      ]
     },
     "execution_count": 24,
     "metadata": {},
     "output_type": "execute_result"
    }
   ],
   "source": [
    "number_tracks('Friday', 'Moscow') #  количество прослушиваний в Москве по пятницам"
   ]
  },
  {
   "cell_type": "code",
   "execution_count": 25,
   "metadata": {
    "id": "8_yzFtW3_Zcu"
   },
   "outputs": [
    {
     "data": {
      "text/plain": [
       "5895"
      ]
     },
     "execution_count": 25,
     "metadata": {},
     "output_type": "execute_result"
    }
   ],
   "source": [
    "number_tracks('Friday', 'Saint-Petersburg') #  количество прослушиваний в Санкт-Петербурге по пятницам"
   ]
  },
  {
   "cell_type": "markdown",
   "metadata": {
    "id": "7QXffbO-_Zcu"
   },
   "source": [
    "Создадим c помощью конструктора `pd.DataFrame` таблицу, где\n",
    "* названия колонок — дни недели `['city', 'monday', 'wednesday', 'friday']`;\n",
    "* данные — результаты, которые мы получили с помощью функции`number_tracks`:"
   ]
  },
  {
   "cell_type": "code",
   "execution_count": 26,
   "metadata": {
    "id": "APAcLpOr_Zcu"
   },
   "outputs": [
    {
     "data": {
      "text/html": [
       "<div>\n",
       "<style scoped>\n",
       "    .dataframe tbody tr th:only-of-type {\n",
       "        vertical-align: middle;\n",
       "    }\n",
       "\n",
       "    .dataframe tbody tr th {\n",
       "        vertical-align: top;\n",
       "    }\n",
       "\n",
       "    .dataframe thead th {\n",
       "        text-align: right;\n",
       "    }\n",
       "</style>\n",
       "<table border=\"1\" class=\"dataframe\">\n",
       "  <thead>\n",
       "    <tr style=\"text-align: right;\">\n",
       "      <th></th>\n",
       "      <th>city</th>\n",
       "      <th>monday</th>\n",
       "      <th>wednesday</th>\n",
       "      <th>friday</th>\n",
       "    </tr>\n",
       "  </thead>\n",
       "  <tbody>\n",
       "    <tr>\n",
       "      <th>0</th>\n",
       "      <td>Moscow</td>\n",
       "      <td>15740</td>\n",
       "      <td>11056</td>\n",
       "      <td>15945</td>\n",
       "    </tr>\n",
       "    <tr>\n",
       "      <th>1</th>\n",
       "      <td>saint-Petersburg</td>\n",
       "      <td>5614</td>\n",
       "      <td>7003</td>\n",
       "      <td>5895</td>\n",
       "    </tr>\n",
       "  </tbody>\n",
       "</table>\n",
       "</div>"
      ],
      "text/plain": [
       "               city monday wednesday friday\n",
       "0            Moscow  15740     11056  15945\n",
       "1  saint-Petersburg   5614      7003   5895"
      ]
     },
     "execution_count": 26,
     "metadata": {},
     "output_type": "execute_result"
    }
   ],
   "source": [
    "number_tracks = [\n",
    "    ['Moscow', '15740', '11056', '15945'],\n",
    "    ['saint-Petersburg', '5614', '7003', '5895']\n",
    "]\n",
    "columns = ['city', 'monday', 'wednesday', 'friday']\n",
    "info = pd.DataFrame(data = number_tracks, columns = columns)\n",
    "info"
   ]
  },
  {
   "cell_type": "markdown",
   "metadata": {
    "id": "-EgPIHYu_Zcu"
   },
   "source": [
    "**Выводы**\n",
    "\n",
    "Данные показывают разницу поведения пользователей:\n",
    "\n",
    "- В Москве пик прослушиваний приходится на понедельник и пятницу, а в среду заметен спад.\n",
    "- В Петербурге, наоборот, больше слушают музыку по средам. Активность в понедельник и пятницу здесь почти в равной мере уступает среде.\n",
    "\n",
    "Следовательно, данные говорят в пользу первой гипотезы."
   ]
  },
  {
   "attachments": {},
   "cell_type": "markdown",
   "metadata": {
    "id": "atZAxtq4_Zcu"
   },
   "source": [
    "### 3.2 Музыка в начале и в конце недели"
   ]
  },
  {
   "cell_type": "markdown",
   "metadata": {
    "id": "eXrQqXFH_Zcu"
   },
   "source": [
    "Согласно второй гипотезе, утром в понедельник в Москве преобладают одни жанры, а в Петербурге — другие. Так же и вечером пятницы преобладают разные жанры — в зависимости от города."
   ]
  },
  {
   "cell_type": "markdown",
   "metadata": {
    "id": "S8UcW6Hw_Zcu"
   },
   "source": [
    "Сохраним таблицы с данными в две переменные:\n",
    "* по Москве — в `moscow_general`;\n",
    "* по Санкт-Петербургу — в `spb_general`."
   ]
  },
  {
   "cell_type": "code",
   "execution_count": 27,
   "metadata": {
    "id": "qeaFfM_P_Zcu"
   },
   "outputs": [],
   "source": [
    "moscow_general = df[df['city'] == 'Moscow']\n",
    "\n",
    "# получение таблицы moscow_general из тех строк таблицы df, \n",
    "# для которых значение в столбце 'city' равно 'Moscow'"
   ]
  },
  {
   "cell_type": "code",
   "execution_count": 28,
   "metadata": {
    "id": "ORaVRKto_Zcu"
   },
   "outputs": [],
   "source": [
    "spb_general = df[df['city'] == 'Saint-Petersburg']\n",
    "\n",
    "# получение таблицы spb_general из тех строк таблицы df,\n",
    "# для которых значение в столбце 'city' равно 'Saint-Petersburg'"
   ]
  },
  {
   "cell_type": "markdown",
   "metadata": {
    "id": "MEJV-CX2_Zcu"
   },
   "source": [
    "Теперь создадим функцию `genre_weekday()` с четырьмя параметрами:\n",
    "* таблица (датафрейм) с данными,\n",
    "* день недели,\n",
    "* начальная временная метка в формате 'hh:mm', \n",
    "* последняя временная метка в формате 'hh:mm'.\n",
    "\n",
    "Функция должна вернуть информацию о топ-10 жанров тех треков, которые прослушивали в указанный день, в промежутке между двумя отметками времени."
   ]
  },
  {
   "cell_type": "code",
   "execution_count": 29,
   "metadata": {
    "id": "laJT9BYl_Zcu"
   },
   "outputs": [],
   "source": [
    "'''Объявляем функцию genre_weekday() с параметрами table, day, time1, time2,\n",
    "   которая возвращает информацию о самых популярных жанрах в указанный день в\n",
    "   заданное время:\n",
    "'''\n",
    "def genre_weekday(df, weekday, time1, time2):\n",
    "    \n",
    "     \n",
    "    '''  В переменную genre_df сохраняются те строки переданного датафрейма table, для\n",
    "     которых одновременно:\n",
    "     - значение в столбце day равно значению аргумента day\n",
    "     - значение в столбце time больше значения аргумента time1\n",
    "     - значение в столбце time меньше значения аргумента time2\n",
    "     Используем последовательную фильтрацию с помощью логической индексации.\n",
    "    '''\n",
    "    genre_df = df[(df['weekday'] == weekday) &\n",
    "                  (df['time'] > time1) &\n",
    "                  (df['time'] < time2)]\n",
    "    \n",
    "    \n",
    "    '''Группируем датафрейм genre_df по столбцу genre, берем один из его\n",
    "       столбцов и считаем методом count() количество записей для каждого из\n",
    "       присутствующих жанров, получившийся Series записываем в переменную\n",
    "       genre_df_count\n",
    "    '''\n",
    "    genre_df_count = genre_df.groupby('genre')['user_id'].count()\n",
    "    \n",
    "    \n",
    "    '''Cортируем genre_df_count по убыванию встречаемости и сохраняем\n",
    "       в переменную genre_df_sorted\n",
    "    '''\n",
    "    genre_df_sorted = genre_df_count.sort_values(ascending=False)\n",
    "    \n",
    "    \n",
    "    '''Возвращаем Series из 10 первых значений genre_df_sorted, это будут топ-10\n",
    "       популярных жанров (в указанный день, в заданное время)\n",
    "    '''\n",
    "    return genre_df_sorted.head(10)"
   ]
  },
  {
   "cell_type": "markdown",
   "metadata": {
    "id": "la2s2_PF_Zcu"
   },
   "source": [
    "Cравним результаты функции `genre_weekday()` для Москвы и Санкт-Петербурга в понедельник утром (с 7:00 до 11:00) и в пятницу вечером (с 17:00 до 23:00):"
   ]
  },
  {
   "cell_type": "code",
   "execution_count": 30,
   "metadata": {
    "id": "yz7itPUQ_Zcu"
   },
   "outputs": [
    {
     "data": {
      "text/plain": [
       "genre\n",
       "pop            781\n",
       "dance          549\n",
       "electronic     480\n",
       "rock           474\n",
       "hiphop         286\n",
       "ruspop         186\n",
       "world          181\n",
       "rusrap         175\n",
       "alternative    164\n",
       "unknown        161\n",
       "Name: user_id, dtype: int64"
      ]
     },
     "execution_count": 30,
     "metadata": {},
     "output_type": "execute_result"
    }
   ],
   "source": [
    "genre_weekday(moscow_general, 'Monday', '07:00', '11:00') #  вызов функции для утра понедельника в Москве"
   ]
  },
  {
   "cell_type": "code",
   "execution_count": 31,
   "metadata": {
    "id": "kwUcHPdy_Zcu"
   },
   "outputs": [
    {
     "data": {
      "text/plain": [
       "genre\n",
       "pop            218\n",
       "dance          182\n",
       "rock           162\n",
       "electronic     147\n",
       "hiphop          80\n",
       "ruspop          64\n",
       "alternative     58\n",
       "rusrap          55\n",
       "jazz            44\n",
       "classical       40\n",
       "Name: user_id, dtype: int64"
      ]
     },
     "execution_count": 31,
     "metadata": {},
     "output_type": "execute_result"
    }
   ],
   "source": [
    "genre_weekday(spb_general, 'Monday', '07:00', '11:00') #  вызов функции для утра понедельника в Петербурге"
   ]
  },
  {
   "cell_type": "code",
   "execution_count": 32,
   "metadata": {
    "id": "EzXVRE1o_Zcu"
   },
   "outputs": [
    {
     "data": {
      "text/plain": [
       "genre\n",
       "pop            713\n",
       "rock           517\n",
       "dance          495\n",
       "electronic     482\n",
       "hiphop         273\n",
       "world          208\n",
       "ruspop         170\n",
       "alternative    163\n",
       "classical      163\n",
       "rusrap         142\n",
       "Name: user_id, dtype: int64"
      ]
     },
     "execution_count": 32,
     "metadata": {},
     "output_type": "execute_result"
    }
   ],
   "source": [
    "genre_weekday(moscow_general, 'Friday', '17:00', '23:00') #  вызов функции для вечера пятницы в Москве"
   ]
  },
  {
   "cell_type": "code",
   "execution_count": 33,
   "metadata": {
    "id": "JZaEKu5v_Zcu"
   },
   "outputs": [
    {
     "data": {
      "text/plain": [
       "genre\n",
       "pop            256\n",
       "electronic     216\n",
       "rock           216\n",
       "dance          210\n",
       "hiphop          97\n",
       "alternative     63\n",
       "jazz            61\n",
       "classical       60\n",
       "rusrap          59\n",
       "world           54\n",
       "Name: user_id, dtype: int64"
      ]
     },
     "execution_count": 33,
     "metadata": {},
     "output_type": "execute_result"
    }
   ],
   "source": [
    "genre_weekday(spb_general, 'Friday', '17:00', '23:00') #  вызов функции для вечера пятницы в Петербурге"
   ]
  },
  {
   "cell_type": "markdown",
   "metadata": {
    "id": "wrCe4MNX_Zcu"
   },
   "source": [
    "**Выводы**\n",
    "\n",
    "Если сравнить топ-10 жанров в понедельник утром, можно сделать такие выводы:\n",
    "\n",
    "1. В Москве и Петербурге слушают похожую музыку. Единственное отличие — в московский рейтинг вошёл жанр “world”, а в петербургский — джаз и классика.\n",
    "\n",
    "2. В Москве пропущенных значений оказалось так много, что значение `'unknown'` заняло десятое место среди самых популярных жанров. Значит, пропущенные значения занимают существенную долю в данных и угрожают достоверности исследования.\n",
    "\n",
    "Вечер пятницы не меняет эту картину. Некоторые жанры поднимаются немного выше, другие спускаются, но в целом топ-10 остаётся тем же самым.\n",
    "\n",
    "Таким образом, вторая гипотеза подтвердилась лишь частично:\n",
    "* Пользователи слушают похожую музыку в начале недели и в конце.\n",
    "* Разница между Москвой и Петербургом не слишком выражена. В Москве чаще слушают русскую популярную музыку, в Петербурге — джаз.\n",
    "\n",
    "Однако пропуски в данных ставят под сомнение этот результат. В Москве их так много, что рейтинг топ-10 мог бы выглядеть иначе, если бы не утерянные  данные о жанрах."
   ]
  },
  {
   "attachments": {},
   "cell_type": "markdown",
   "metadata": {
    "id": "JolODAqr_Zcu"
   },
   "source": [
    "### 3.3 Жанровые предпочтения в Москве и Петербурге\n",
    "\n",
    "Гипотеза: Петербург — столица рэпа, музыку этого жанра там слушают чаще, чем в Москве.  А Москва — город контрастов, в котором, тем не менее, преобладает поп-музыка."
   ]
  },
  {
   "cell_type": "markdown",
   "metadata": {
    "id": "DlegSvaT_Zcu"
   },
   "source": [
    "Сгруппируем таблицу `moscow_general` по жанру и посчитаем прослушивания треков каждого жанра методом `count()`. Затем отсортируем результат в порядке убывания, сохраним его в таблице `moscow_genres` и выведем первые 10 строк:"
   ]
  },
  {
   "cell_type": "code",
   "execution_count": 34,
   "metadata": {
    "id": "r19lIPke_Zcu"
   },
   "outputs": [
    {
     "data": {
      "text/plain": [
       "genre\n",
       "pop            5892\n",
       "dance          4435\n",
       "rock           3965\n",
       "electronic     3786\n",
       "hiphop         2096\n",
       "classical      1616\n",
       "world          1432\n",
       "alternative    1379\n",
       "ruspop         1372\n",
       "rusrap         1161\n",
       "Name: genre, dtype: int64"
      ]
     },
     "execution_count": 34,
     "metadata": {},
     "output_type": "execute_result"
    }
   ],
   "source": [
    "moscow_genres = moscow_general.groupby('genre')['genre'].count().sort_values(ascending=False)\n",
    "moscow_genres.head(10)"
   ]
  },
  {
   "cell_type": "markdown",
   "metadata": {
    "id": "cnPG2vnN_Zcv"
   },
   "source": [
    "Теперь повторим то же для Петербурга, сгруппируем таблицу `spb_general` по жанру, посчитаем прослушивания треков каждого жанра,  отсортируем результат в порядке убывания, сохраним в таблице `spb_genres` и выведем первые 10 строк:\n"
   ]
  },
  {
   "cell_type": "code",
   "execution_count": 35,
   "metadata": {
    "id": "gluLIpE7_Zcv"
   },
   "outputs": [
    {
     "data": {
      "text/plain": [
       "genre\n",
       "pop            2431\n",
       "dance          1932\n",
       "rock           1879\n",
       "electronic     1737\n",
       "hiphop          960\n",
       "alternative     649\n",
       "classical       646\n",
       "rusrap          564\n",
       "ruspop          538\n",
       "world           515\n",
       "Name: genre, dtype: int64"
      ]
     },
     "execution_count": 35,
     "metadata": {},
     "output_type": "execute_result"
    }
   ],
   "source": [
    "spb_genres = spb_general.groupby('genre')['genre'].count().sort_values(ascending=False)\n",
    "spb_genres.head(10)"
   ]
  },
  {
   "cell_type": "markdown",
   "metadata": {
    "id": "RY51YJYu_Zcv"
   },
   "source": [
    "**Выводы**"
   ]
  },
  {
   "cell_type": "markdown",
   "metadata": {
    "id": "nVhnJEm__Zcv"
   },
   "source": [
    "Гипотеза частично подтвердилась:\n",
    "* Поп-музыка — самый популярный жанр в Москве, как и предполагала гипотеза. Более того, в топ-10 жанров встречается близкий жанр — русская популярная музыка.\n",
    "* Вопреки ожиданиям, рэп одинаково популярен в Москве и Петербурге. \n"
   ]
  },
  {
   "attachments": {},
   "cell_type": "markdown",
   "metadata": {
    "id": "ykKQ0N65_Zcv"
   },
   "source": [
    "## 4 Итоги исследования"
   ]
  },
  {
   "attachments": {},
   "cell_type": "markdown",
   "metadata": {
    "id": "tjUwbHb3_Zcv"
   },
   "source": [
    "**В рамках данного исследования были проверены три нестатистические гипотезы. Установлено следующее:**\n",
    "\n",
    "1. День недели по-разному влияет на активность пользователей в Москве и Петербурге. \n",
    "\n",
    "Первая гипотеза полностью подтвердилась.\n",
    "\n",
    "2. Музыкальные предпочтения не сильно меняются в течение недели — будь то Москва или Петербург. Небольшие различия заметны в начале недели, по понедельникам:\n",
    "* в Москве слушают музыку жанра “world”,\n",
    "* в Петербурге — джаз и классику.\n",
    "\n",
    "Таким образом, вторая гипотеза подтвердилась лишь отчасти. Этот результат мог оказаться иным, если бы не пропуски в данных.\n",
    "\n",
    "3. Во вкусах пользователей Москвы и Петербурга больше общего чем различий. Вопреки ожиданиям, предпочтения жанров в Петербурге напоминают московские.\n",
    "\n",
    "Третья гипотеза не подтвердилась. Если различия в предпочтениях и существуют, на основной массе пользователей они незаметны.\n",
    "\n",
    "**Примечание:**\n",
    "В данном проекте не требовалось использовать проверки статистических гипотез, хотя в исследованиях обычно такие проверки проводят.  Кроме того, на основе данных одного сервиса не всегда можно сделать вывод обо всех жителях города."
   ]
  }
 ],
 "metadata": {
  "ExecuteTimeLog": [
   {
    "duration": 609,
    "start_time": "2021-12-03T14:28:56.442Z"
   },
   {
    "duration": 2164,
    "start_time": "2021-12-03T14:29:00.942Z"
   },
   {
    "duration": 2249,
    "start_time": "2021-12-03T14:29:47.966Z"
   },
   {
    "duration": 146,
    "start_time": "2021-12-03T14:30:11.234Z"
   },
   {
    "duration": 145,
    "start_time": "2021-12-03T14:30:19.472Z"
   },
   {
    "duration": 17,
    "start_time": "2021-12-03T14:30:32.014Z"
   },
   {
    "duration": 24,
    "start_time": "2021-12-03T14:30:54.217Z"
   },
   {
    "duration": 4,
    "start_time": "2021-12-03T14:33:43.674Z"
   },
   {
    "duration": 3,
    "start_time": "2021-12-03T14:55:40.512Z"
   },
   {
    "duration": 29,
    "start_time": "2021-12-03T15:14:20.339Z"
   },
   {
    "duration": 293,
    "start_time": "2021-12-03T15:14:23.253Z"
   },
   {
    "duration": 3,
    "start_time": "2021-12-03T15:14:38.528Z"
   },
   {
    "duration": 17,
    "start_time": "2021-12-03T15:15:05.696Z"
   },
   {
    "duration": 3,
    "start_time": "2021-12-03T15:15:08.638Z"
   },
   {
    "duration": 18,
    "start_time": "2021-12-03T15:15:35.853Z"
   },
   {
    "duration": 4,
    "start_time": "2021-12-03T15:15:38.270Z"
   },
   {
    "duration": 13,
    "start_time": "2021-12-03T15:16:04.944Z"
   },
   {
    "duration": 4,
    "start_time": "2021-12-03T15:16:07.835Z"
   },
   {
    "duration": 296,
    "start_time": "2021-12-03T18:17:56.370Z"
   },
   {
    "duration": 237,
    "start_time": "2021-12-03T18:18:54.568Z"
   },
   {
    "duration": 290,
    "start_time": "2021-12-03T18:19:29.982Z"
   },
   {
    "duration": 783,
    "start_time": "2021-12-03T18:19:45.336Z"
   },
   {
    "duration": 194,
    "start_time": "2021-12-03T18:19:47.612Z"
   },
   {
    "duration": 26,
    "start_time": "2021-12-03T18:19:50.282Z"
   },
   {
    "duration": 32,
    "start_time": "2021-12-03T18:19:52.846Z"
   },
   {
    "duration": 5,
    "start_time": "2021-12-03T18:19:57.810Z"
   },
   {
    "duration": 30,
    "start_time": "2021-12-03T18:20:03.368Z"
   },
   {
    "duration": 5,
    "start_time": "2021-12-03T18:20:06.200Z"
   },
   {
    "duration": 31,
    "start_time": "2021-12-03T18:20:09.914Z"
   },
   {
    "duration": 360,
    "start_time": "2021-12-03T18:40:59.212Z"
   },
   {
    "duration": 7765,
    "start_time": "2021-12-03T18:41:50.086Z"
   },
   {
    "duration": 6165,
    "start_time": "2021-12-03T18:41:58.666Z"
   },
   {
    "duration": 6,
    "start_time": "2021-12-03T18:43:48.521Z"
   },
   {
    "duration": 271,
    "start_time": "2021-12-03T18:51:28.077Z"
   },
   {
    "duration": 6569,
    "start_time": "2021-12-03T18:55:45.586Z"
   },
   {
    "duration": 157,
    "start_time": "2021-12-03T18:59:12.475Z"
   },
   {
    "duration": 164,
    "start_time": "2021-12-03T19:01:42.647Z"
   },
   {
    "duration": 134,
    "start_time": "2021-12-03T19:03:39.797Z"
   },
   {
    "duration": 137,
    "start_time": "2021-12-03T19:03:57.665Z"
   },
   {
    "duration": 145,
    "start_time": "2021-12-03T19:04:03.008Z"
   },
   {
    "duration": 146,
    "start_time": "2021-12-03T19:04:07.785Z"
   },
   {
    "duration": 31,
    "start_time": "2021-12-03T19:04:47.862Z"
   },
   {
    "duration": 129,
    "start_time": "2021-12-03T19:05:07.190Z"
   },
   {
    "duration": 31,
    "start_time": "2021-12-03T19:05:12.694Z"
   },
   {
    "duration": 4,
    "start_time": "2021-12-03T19:06:05.881Z"
   },
   {
    "duration": 211,
    "start_time": "2021-12-03T19:06:05.888Z"
   },
   {
    "duration": 15,
    "start_time": "2021-12-03T19:06:06.102Z"
   },
   {
    "duration": 58,
    "start_time": "2021-12-03T19:06:06.119Z"
   },
   {
    "duration": 5,
    "start_time": "2021-12-03T19:06:06.180Z"
   },
   {
    "duration": 29,
    "start_time": "2021-12-03T19:06:06.187Z"
   },
   {
    "duration": 4,
    "start_time": "2021-12-03T19:06:06.220Z"
   },
   {
    "duration": 66,
    "start_time": "2021-12-03T19:06:06.227Z"
   },
   {
    "duration": 150,
    "start_time": "2021-12-03T19:06:06.296Z"
   },
   {
    "duration": 34,
    "start_time": "2021-12-03T19:06:06.448Z"
   },
   {
    "duration": 3,
    "start_time": "2021-12-03T19:06:06.485Z"
   },
   {
    "duration": 5,
    "start_time": "2021-12-03T19:06:06.492Z"
   },
   {
    "duration": 7,
    "start_time": "2021-12-03T19:06:06.500Z"
   },
   {
    "duration": 5,
    "start_time": "2021-12-03T19:06:06.510Z"
   },
   {
    "duration": 7,
    "start_time": "2021-12-03T19:06:06.518Z"
   },
   {
    "duration": 3,
    "start_time": "2021-12-03T19:06:06.569Z"
   },
   {
    "duration": 6,
    "start_time": "2021-12-03T19:06:06.575Z"
   },
   {
    "duration": 5,
    "start_time": "2021-12-03T19:06:06.584Z"
   },
   {
    "duration": 3,
    "start_time": "2021-12-03T19:06:06.594Z"
   },
   {
    "duration": 8,
    "start_time": "2021-12-03T19:06:06.600Z"
   },
   {
    "duration": 6,
    "start_time": "2021-12-03T19:06:06.610Z"
   },
   {
    "duration": 8,
    "start_time": "2021-12-03T19:06:06.619Z"
   },
   {
    "duration": 38,
    "start_time": "2021-12-03T19:06:06.630Z"
   },
   {
    "duration": 5,
    "start_time": "2021-12-03T19:06:06.671Z"
   },
   {
    "duration": 5,
    "start_time": "2021-12-03T19:06:06.678Z"
   },
   {
    "duration": 6,
    "start_time": "2021-12-03T19:06:06.686Z"
   },
   {
    "duration": 6,
    "start_time": "2021-12-03T19:06:06.694Z"
   },
   {
    "duration": 13,
    "start_time": "2021-12-03T19:06:06.702Z"
   },
   {
    "duration": 5,
    "start_time": "2021-12-03T19:06:06.717Z"
   },
   {
    "duration": 6,
    "start_time": "2021-12-03T19:06:06.724Z"
   },
   {
    "duration": 4,
    "start_time": "2021-12-03T19:06:06.768Z"
   },
   {
    "duration": 5,
    "start_time": "2021-12-03T19:06:06.775Z"
   },
   {
    "duration": 17,
    "start_time": "2021-12-03T19:06:06.783Z"
   },
   {
    "duration": 12,
    "start_time": "2021-12-03T19:06:06.803Z"
   },
   {
    "duration": 11,
    "start_time": "2021-12-03T19:06:06.817Z"
   },
   {
    "duration": 6,
    "start_time": "2021-12-03T19:06:06.831Z"
   },
   {
    "duration": 27,
    "start_time": "2021-12-03T19:06:06.840Z"
   },
   {
    "duration": 7,
    "start_time": "2021-12-03T19:06:06.869Z"
   },
   {
    "duration": 536,
    "start_time": "2021-12-03T19:13:21.757Z"
   },
   {
    "duration": 6038,
    "start_time": "2021-12-03T19:14:43.142Z"
   },
   {
    "duration": 38,
    "start_time": "2021-12-03T19:15:27.132Z"
   },
   {
    "duration": 4,
    "start_time": "2021-12-03T19:17:39.987Z"
   },
   {
    "duration": 184,
    "start_time": "2021-12-03T19:17:42.181Z"
   },
   {
    "duration": 17,
    "start_time": "2021-12-03T19:17:45.131Z"
   },
   {
    "duration": 33,
    "start_time": "2021-12-03T19:17:49.092Z"
   },
   {
    "duration": 4,
    "start_time": "2021-12-03T19:17:57.837Z"
   },
   {
    "duration": 23,
    "start_time": "2021-12-03T19:18:00.702Z"
   },
   {
    "duration": 4,
    "start_time": "2021-12-03T19:18:03.321Z"
   },
   {
    "duration": 31,
    "start_time": "2021-12-03T19:18:06.964Z"
   },
   {
    "duration": 31,
    "start_time": "2021-12-03T19:18:11.846Z"
   },
   {
    "duration": 357,
    "start_time": "2021-12-03T19:27:03.124Z"
   },
   {
    "duration": 724,
    "start_time": "2021-12-03T19:27:58.209Z"
   },
   {
    "duration": 199,
    "start_time": "2021-12-03T19:27:58.935Z"
   },
   {
    "duration": 36,
    "start_time": "2021-12-03T19:27:59.137Z"
   },
   {
    "duration": 36,
    "start_time": "2021-12-03T19:27:59.176Z"
   },
   {
    "duration": 4,
    "start_time": "2021-12-03T19:27:59.215Z"
   },
   {
    "duration": 54,
    "start_time": "2021-12-03T19:27:59.222Z"
   },
   {
    "duration": 4,
    "start_time": "2021-12-03T19:27:59.279Z"
   },
   {
    "duration": 36,
    "start_time": "2021-12-03T19:27:59.287Z"
   },
   {
    "duration": 53,
    "start_time": "2021-12-03T19:27:59.326Z"
   },
   {
    "duration": 30,
    "start_time": "2021-12-03T19:27:59.382Z"
   },
   {
    "duration": 3,
    "start_time": "2021-12-03T19:27:59.415Z"
   },
   {
    "duration": 5,
    "start_time": "2021-12-03T19:27:59.421Z"
   },
   {
    "duration": 38,
    "start_time": "2021-12-03T19:27:59.428Z"
   },
   {
    "duration": 4,
    "start_time": "2021-12-03T19:27:59.469Z"
   },
   {
    "duration": 5,
    "start_time": "2021-12-03T19:27:59.476Z"
   },
   {
    "duration": 7,
    "start_time": "2021-12-03T19:27:59.483Z"
   },
   {
    "duration": 7,
    "start_time": "2021-12-03T19:27:59.492Z"
   },
   {
    "duration": 7,
    "start_time": "2021-12-03T19:27:59.501Z"
   },
   {
    "duration": 15,
    "start_time": "2021-12-03T19:27:59.510Z"
   },
   {
    "duration": 6,
    "start_time": "2021-12-03T19:27:59.528Z"
   },
   {
    "duration": 31,
    "start_time": "2021-12-03T19:27:59.537Z"
   },
   {
    "duration": 9,
    "start_time": "2021-12-03T19:27:59.571Z"
   },
   {
    "duration": 4,
    "start_time": "2021-12-03T19:27:59.585Z"
   },
   {
    "duration": 7,
    "start_time": "2021-12-03T19:27:59.592Z"
   },
   {
    "duration": 8,
    "start_time": "2021-12-03T19:27:59.602Z"
   },
   {
    "duration": 9,
    "start_time": "2021-12-03T19:27:59.612Z"
   },
   {
    "duration": 8,
    "start_time": "2021-12-03T19:27:59.623Z"
   },
   {
    "duration": 35,
    "start_time": "2021-12-03T19:27:59.633Z"
   },
   {
    "duration": 10,
    "start_time": "2021-12-03T19:27:59.671Z"
   },
   {
    "duration": 10,
    "start_time": "2021-12-03T19:27:59.684Z"
   },
   {
    "duration": 19,
    "start_time": "2021-12-03T19:27:59.696Z"
   },
   {
    "duration": 13,
    "start_time": "2021-12-03T19:27:59.718Z"
   },
   {
    "duration": 12,
    "start_time": "2021-12-03T19:27:59.733Z"
   },
   {
    "duration": 8,
    "start_time": "2021-12-03T19:27:59.748Z"
   },
   {
    "duration": 8,
    "start_time": "2021-12-03T19:27:59.759Z"
   },
   {
    "duration": 8,
    "start_time": "2021-12-03T19:27:59.769Z"
   },
   {
    "duration": 5,
    "start_time": "2021-12-03T19:27:59.780Z"
   },
   {
    "duration": 7,
    "start_time": "2021-12-03T19:27:59.787Z"
   },
   {
    "duration": 31,
    "start_time": "2021-12-03T19:30:23.701Z"
   },
   {
    "duration": 19,
    "start_time": "2021-12-03T19:32:50.646Z"
   },
   {
    "duration": 14,
    "start_time": "2021-12-03T19:33:45.042Z"
   },
   {
    "duration": 77,
    "start_time": "2021-12-03T19:35:13.294Z"
   },
   {
    "duration": 18,
    "start_time": "2021-12-03T19:35:31.411Z"
   },
   {
    "duration": 25,
    "start_time": "2021-12-03T19:54:29.578Z"
   },
   {
    "duration": 30,
    "start_time": "2021-12-03T19:54:48.992Z"
   },
   {
    "duration": 98,
    "start_time": "2021-12-03T19:56:46.927Z"
   },
   {
    "duration": 84,
    "start_time": "2021-12-03T20:00:36.469Z"
   },
   {
    "duration": 112,
    "start_time": "2021-12-03T20:00:41.257Z"
   },
   {
    "duration": 80,
    "start_time": "2021-12-03T20:00:44.481Z"
   },
   {
    "duration": 12,
    "start_time": "2021-12-03T20:05:24.004Z"
   },
   {
    "duration": 5,
    "start_time": "2021-12-03T20:47:02.772Z"
   },
   {
    "duration": 613,
    "start_time": "2021-12-03T20:47:06.156Z"
   },
   {
    "duration": 4,
    "start_time": "2021-12-03T20:50:17.836Z"
   },
   {
    "duration": 5,
    "start_time": "2021-12-03T20:51:07.156Z"
   },
   {
    "duration": 477,
    "start_time": "2021-12-03T20:51:10.031Z"
   },
   {
    "duration": 528,
    "start_time": "2021-12-03T20:55:06.222Z"
   },
   {
    "duration": 495,
    "start_time": "2021-12-03T20:57:39.979Z"
   },
   {
    "duration": 5,
    "start_time": "2021-12-03T20:57:55.435Z"
   },
   {
    "duration": 510,
    "start_time": "2021-12-03T20:57:57.863Z"
   },
   {
    "duration": 4,
    "start_time": "2021-12-03T21:01:18.203Z"
   },
   {
    "duration": 22,
    "start_time": "2021-12-03T21:01:19.931Z"
   },
   {
    "duration": 4,
    "start_time": "2021-12-03T21:04:15.832Z"
   },
   {
    "duration": 14,
    "start_time": "2021-12-03T21:04:17.655Z"
   },
   {
    "duration": 9,
    "start_time": "2021-12-03T21:05:43.096Z"
   },
   {
    "duration": 871,
    "start_time": "2021-12-03T21:08:42.531Z"
   },
   {
    "duration": 198,
    "start_time": "2021-12-03T21:08:43.405Z"
   },
   {
    "duration": 29,
    "start_time": "2021-12-03T21:08:43.606Z"
   },
   {
    "duration": 50,
    "start_time": "2021-12-03T21:08:43.638Z"
   },
   {
    "duration": 5,
    "start_time": "2021-12-03T21:08:43.690Z"
   },
   {
    "duration": 34,
    "start_time": "2021-12-03T21:08:43.697Z"
   },
   {
    "duration": 33,
    "start_time": "2021-12-03T21:08:43.734Z"
   },
   {
    "duration": 52,
    "start_time": "2021-12-03T21:08:43.772Z"
   },
   {
    "duration": 55,
    "start_time": "2021-12-03T21:08:43.828Z"
   },
   {
    "duration": 45,
    "start_time": "2021-12-03T21:08:43.887Z"
   },
   {
    "duration": 110,
    "start_time": "2021-12-03T21:08:43.936Z"
   },
   {
    "duration": 119,
    "start_time": "2021-12-03T21:08:44.048Z"
   },
   {
    "duration": 97,
    "start_time": "2021-12-03T21:08:44.170Z"
   },
   {
    "duration": 10,
    "start_time": "2021-12-03T21:08:44.270Z"
   },
   {
    "duration": 6,
    "start_time": "2021-12-03T21:08:44.283Z"
   },
   {
    "duration": 23,
    "start_time": "2021-12-03T21:08:44.292Z"
   },
   {
    "duration": 10,
    "start_time": "2021-12-03T21:08:44.318Z"
   },
   {
    "duration": 39,
    "start_time": "2021-12-03T21:08:44.331Z"
   },
   {
    "duration": 7,
    "start_time": "2021-12-03T21:08:44.373Z"
   },
   {
    "duration": 6,
    "start_time": "2021-12-03T21:08:44.383Z"
   },
   {
    "duration": 8,
    "start_time": "2021-12-03T21:08:44.392Z"
   },
   {
    "duration": 8,
    "start_time": "2021-12-03T21:08:44.402Z"
   },
   {
    "duration": 5,
    "start_time": "2021-12-03T21:08:44.416Z"
   },
   {
    "duration": 42,
    "start_time": "2021-12-03T21:08:44.425Z"
   },
   {
    "duration": 4,
    "start_time": "2021-12-03T21:08:44.470Z"
   },
   {
    "duration": 9,
    "start_time": "2021-12-03T21:08:44.476Z"
   },
   {
    "duration": 8,
    "start_time": "2021-12-03T21:08:44.487Z"
   },
   {
    "duration": 6,
    "start_time": "2021-12-03T21:08:44.498Z"
   },
   {
    "duration": 8,
    "start_time": "2021-12-03T21:08:44.506Z"
   },
   {
    "duration": 13,
    "start_time": "2021-12-03T21:08:44.517Z"
   },
   {
    "duration": 10,
    "start_time": "2021-12-03T21:08:44.533Z"
   },
   {
    "duration": 6,
    "start_time": "2021-12-03T21:08:44.566Z"
   },
   {
    "duration": 13,
    "start_time": "2021-12-03T21:08:44.575Z"
   },
   {
    "duration": 8,
    "start_time": "2021-12-03T21:08:44.591Z"
   },
   {
    "duration": 12,
    "start_time": "2021-12-03T21:08:44.601Z"
   },
   {
    "duration": 11,
    "start_time": "2021-12-03T21:08:44.616Z"
   },
   {
    "duration": 15,
    "start_time": "2021-12-03T21:08:44.629Z"
   },
   {
    "duration": 7,
    "start_time": "2021-12-03T21:08:44.647Z"
   },
   {
    "duration": 579,
    "start_time": "2021-12-04T10:45:30.166Z"
   },
   {
    "duration": 138,
    "start_time": "2021-12-04T10:45:30.747Z"
   },
   {
    "duration": 17,
    "start_time": "2021-12-04T10:45:30.887Z"
   },
   {
    "duration": 28,
    "start_time": "2021-12-04T10:45:30.906Z"
   },
   {
    "duration": 3,
    "start_time": "2021-12-04T10:45:30.936Z"
   },
   {
    "duration": 50,
    "start_time": "2021-12-04T10:45:30.941Z"
   },
   {
    "duration": 4,
    "start_time": "2021-12-04T10:45:30.993Z"
   },
   {
    "duration": 27,
    "start_time": "2021-12-04T10:45:30.999Z"
   },
   {
    "duration": 18,
    "start_time": "2021-12-04T10:45:31.029Z"
   },
   {
    "duration": 46,
    "start_time": "2021-12-04T10:45:31.049Z"
   },
   {
    "duration": 60,
    "start_time": "2021-12-04T10:45:31.097Z"
   },
   {
    "duration": 86,
    "start_time": "2021-12-04T10:45:31.159Z"
   },
   {
    "duration": 59,
    "start_time": "2021-12-04T10:45:31.246Z"
   },
   {
    "duration": 7,
    "start_time": "2021-12-04T10:45:31.307Z"
   },
   {
    "duration": 12,
    "start_time": "2021-12-04T10:45:31.316Z"
   },
   {
    "duration": 28,
    "start_time": "2021-12-04T10:45:31.330Z"
   },
   {
    "duration": 20,
    "start_time": "2021-12-04T10:45:31.360Z"
   },
   {
    "duration": 16,
    "start_time": "2021-12-04T10:45:31.382Z"
   },
   {
    "duration": 19,
    "start_time": "2021-12-04T10:45:31.399Z"
   },
   {
    "duration": 21,
    "start_time": "2021-12-04T10:45:31.420Z"
   },
   {
    "duration": 22,
    "start_time": "2021-12-04T10:45:31.443Z"
   },
   {
    "duration": 15,
    "start_time": "2021-12-04T10:45:31.467Z"
   },
   {
    "duration": 26,
    "start_time": "2021-12-04T10:45:31.484Z"
   },
   {
    "duration": 22,
    "start_time": "2021-12-04T10:45:31.512Z"
   },
   {
    "duration": 17,
    "start_time": "2021-12-04T10:45:31.536Z"
   },
   {
    "duration": 14,
    "start_time": "2021-12-04T10:45:31.554Z"
   },
   {
    "duration": 4,
    "start_time": "2021-12-04T10:45:31.571Z"
   },
   {
    "duration": 20,
    "start_time": "2021-12-04T10:45:31.577Z"
   },
   {
    "duration": 8,
    "start_time": "2021-12-04T10:45:31.599Z"
   },
   {
    "duration": 17,
    "start_time": "2021-12-04T10:45:31.608Z"
   },
   {
    "duration": 21,
    "start_time": "2021-12-04T10:45:31.626Z"
   },
   {
    "duration": 6,
    "start_time": "2021-12-04T10:45:31.648Z"
   },
   {
    "duration": 9,
    "start_time": "2021-12-04T10:45:31.656Z"
   },
   {
    "duration": 6,
    "start_time": "2021-12-04T10:45:31.666Z"
   },
   {
    "duration": 5,
    "start_time": "2021-12-04T10:45:31.673Z"
   },
   {
    "duration": 6,
    "start_time": "2021-12-04T10:45:31.680Z"
   },
   {
    "duration": 4,
    "start_time": "2021-12-04T10:45:31.688Z"
   },
   {
    "duration": 5,
    "start_time": "2021-12-04T10:45:31.694Z"
   },
   {
    "duration": 33,
    "start_time": "2021-12-04T11:12:02.729Z"
   },
   {
    "duration": 224,
    "start_time": "2021-12-04T11:19:09.641Z"
   },
   {
    "duration": 165,
    "start_time": "2021-12-04T11:19:36.663Z"
   },
   {
    "duration": 31,
    "start_time": "2021-12-04T11:20:12.921Z"
   },
   {
    "duration": 11,
    "start_time": "2021-12-04T11:21:09.870Z"
   },
   {
    "duration": 10,
    "start_time": "2021-12-04T11:21:42.811Z"
   },
   {
    "duration": 67,
    "start_time": "2021-12-04T11:38:53.332Z"
   },
   {
    "duration": 3,
    "start_time": "2021-12-04T11:39:23.555Z"
   },
   {
    "duration": 166,
    "start_time": "2021-12-04T11:40:19.229Z"
   },
   {
    "duration": 10,
    "start_time": "2021-12-04T11:49:56.080Z"
   },
   {
    "duration": 10,
    "start_time": "2021-12-04T11:53:26.074Z"
   },
   {
    "duration": 31,
    "start_time": "2021-12-04T11:54:08.555Z"
   },
   {
    "duration": 11,
    "start_time": "2021-12-04T11:55:04.068Z"
   },
   {
    "duration": 3,
    "start_time": "2021-12-04T12:06:05.199Z"
   },
   {
    "duration": 165,
    "start_time": "2021-12-04T12:06:07.536Z"
   },
   {
    "duration": 4841,
    "start_time": "2021-12-04T12:06:29.226Z"
   },
   {
    "duration": 62,
    "start_time": "2021-12-04T12:07:23.672Z"
   },
   {
    "duration": 4,
    "start_time": "2021-12-04T12:07:41.141Z"
   },
   {
    "duration": 354,
    "start_time": "2021-12-04T12:08:35.684Z"
   },
   {
    "duration": 532,
    "start_time": "2021-12-04T12:14:50.131Z"
   },
   {
    "duration": 130,
    "start_time": "2021-12-04T12:14:50.665Z"
   },
   {
    "duration": 16,
    "start_time": "2021-12-04T12:14:50.800Z"
   },
   {
    "duration": 53,
    "start_time": "2021-12-04T12:14:50.817Z"
   },
   {
    "duration": 8,
    "start_time": "2021-12-04T12:14:50.872Z"
   },
   {
    "duration": 38,
    "start_time": "2021-12-04T12:14:50.882Z"
   },
   {
    "duration": 5,
    "start_time": "2021-12-04T12:14:50.923Z"
   },
   {
    "duration": 43,
    "start_time": "2021-12-04T12:14:50.930Z"
   },
   {
    "duration": 31,
    "start_time": "2021-12-04T12:14:50.975Z"
   },
   {
    "duration": 33,
    "start_time": "2021-12-04T12:14:51.007Z"
   },
   {
    "duration": 62,
    "start_time": "2021-12-04T12:14:51.042Z"
   },
   {
    "duration": 57,
    "start_time": "2021-12-04T12:14:51.106Z"
   },
   {
    "duration": 60,
    "start_time": "2021-12-04T12:14:51.165Z"
   },
   {
    "duration": 6,
    "start_time": "2021-12-04T12:14:51.226Z"
   },
   {
    "duration": 4,
    "start_time": "2021-12-04T12:14:51.233Z"
   },
   {
    "duration": 15,
    "start_time": "2021-12-04T12:14:51.238Z"
   },
   {
    "duration": 6,
    "start_time": "2021-12-04T12:14:51.254Z"
   },
   {
    "duration": 31,
    "start_time": "2021-12-04T12:14:51.262Z"
   },
   {
    "duration": 10,
    "start_time": "2021-12-04T12:14:51.295Z"
   },
   {
    "duration": 3,
    "start_time": "2021-12-04T12:14:51.307Z"
   },
   {
    "duration": 409,
    "start_time": "2021-12-04T12:14:51.312Z"
   },
   {
    "duration": 106,
    "start_time": "2021-12-04T12:14:51.617Z"
   },
   {
    "duration": 103,
    "start_time": "2021-12-04T12:14:51.621Z"
   },
   {
    "duration": 100,
    "start_time": "2021-12-04T12:14:51.625Z"
   },
   {
    "duration": 98,
    "start_time": "2021-12-04T12:14:51.628Z"
   },
   {
    "duration": 95,
    "start_time": "2021-12-04T12:14:51.632Z"
   },
   {
    "duration": 92,
    "start_time": "2021-12-04T12:14:51.636Z"
   },
   {
    "duration": 87,
    "start_time": "2021-12-04T12:14:51.642Z"
   },
   {
    "duration": 84,
    "start_time": "2021-12-04T12:14:51.646Z"
   },
   {
    "duration": 80,
    "start_time": "2021-12-04T12:14:51.651Z"
   },
   {
    "duration": 78,
    "start_time": "2021-12-04T12:14:51.654Z"
   },
   {
    "duration": 75,
    "start_time": "2021-12-04T12:14:51.658Z"
   },
   {
    "duration": 72,
    "start_time": "2021-12-04T12:14:51.662Z"
   },
   {
    "duration": 69,
    "start_time": "2021-12-04T12:14:51.666Z"
   },
   {
    "duration": 67,
    "start_time": "2021-12-04T12:14:51.669Z"
   },
   {
    "duration": 64,
    "start_time": "2021-12-04T12:14:51.673Z"
   },
   {
    "duration": 62,
    "start_time": "2021-12-04T12:14:51.676Z"
   },
   {
    "duration": 59,
    "start_time": "2021-12-04T12:14:51.680Z"
   },
   {
    "duration": 3,
    "start_time": "2021-12-04T12:16:34.317Z"
   },
   {
    "duration": 4,
    "start_time": "2021-12-04T12:22:17.573Z"
   },
   {
    "duration": 3,
    "start_time": "2021-12-04T12:27:12.987Z"
   },
   {
    "duration": 16,
    "start_time": "2021-12-04T12:27:16.456Z"
   },
   {
    "duration": 15,
    "start_time": "2021-12-04T12:29:13.925Z"
   },
   {
    "duration": 14,
    "start_time": "2021-12-04T12:30:18.939Z"
   },
   {
    "duration": 54,
    "start_time": "2021-12-04T12:30:20.424Z"
   },
   {
    "duration": 14,
    "start_time": "2021-12-04T12:30:29.792Z"
   },
   {
    "duration": 16,
    "start_time": "2021-12-04T12:31:47.016Z"
   },
   {
    "duration": 12,
    "start_time": "2021-12-04T12:31:48.456Z"
   },
   {
    "duration": 14,
    "start_time": "2021-12-04T12:32:50.547Z"
   },
   {
    "duration": 9,
    "start_time": "2021-12-04T12:51:48.124Z"
   },
   {
    "duration": 10,
    "start_time": "2021-12-04T12:52:08.724Z"
   },
   {
    "duration": 15,
    "start_time": "2021-12-04T12:54:12.237Z"
   },
   {
    "duration": 20,
    "start_time": "2021-12-04T13:17:41.380Z"
   },
   {
    "duration": 16,
    "start_time": "2021-12-04T13:18:04.604Z"
   },
   {
    "duration": 14,
    "start_time": "2021-12-04T13:19:00.474Z"
   },
   {
    "duration": 20,
    "start_time": "2021-12-04T13:28:41.603Z"
   },
   {
    "duration": 10,
    "start_time": "2021-12-04T13:29:01.130Z"
   },
   {
    "duration": 58,
    "start_time": "2021-12-04T13:39:04.393Z"
   },
   {
    "duration": 58,
    "start_time": "2021-12-04T13:39:24.818Z"
   },
   {
    "duration": 4,
    "start_time": "2021-12-04T13:40:16.317Z"
   },
   {
    "duration": 4,
    "start_time": "2021-12-04T13:40:22.478Z"
   },
   {
    "duration": 520,
    "start_time": "2021-12-04T13:41:44.961Z"
   },
   {
    "duration": 4,
    "start_time": "2021-12-04T13:42:51.242Z"
   },
   {
    "duration": 26,
    "start_time": "2021-12-04T13:42:54.505Z"
   },
   {
    "duration": 17,
    "start_time": "2021-12-04T13:43:47.980Z"
   },
   {
    "duration": 29,
    "start_time": "2021-12-04T13:45:00.407Z"
   },
   {
    "duration": 30,
    "start_time": "2021-12-04T13:46:01.793Z"
   },
   {
    "duration": 17,
    "start_time": "2021-12-04T13:46:06.588Z"
   },
   {
    "duration": 506,
    "start_time": "2021-12-04T13:48:29.454Z"
   },
   {
    "duration": 135,
    "start_time": "2021-12-04T13:48:29.962Z"
   },
   {
    "duration": 17,
    "start_time": "2021-12-04T13:48:30.099Z"
   },
   {
    "duration": 24,
    "start_time": "2021-12-04T13:48:30.117Z"
   },
   {
    "duration": 3,
    "start_time": "2021-12-04T13:48:30.142Z"
   },
   {
    "duration": 45,
    "start_time": "2021-12-04T13:48:30.147Z"
   },
   {
    "duration": 3,
    "start_time": "2021-12-04T13:48:30.194Z"
   },
   {
    "duration": 30,
    "start_time": "2021-12-04T13:48:30.199Z"
   },
   {
    "duration": 20,
    "start_time": "2021-12-04T13:48:30.231Z"
   },
   {
    "duration": 39,
    "start_time": "2021-12-04T13:48:30.253Z"
   },
   {
    "duration": 65,
    "start_time": "2021-12-04T13:48:30.294Z"
   },
   {
    "duration": 75,
    "start_time": "2021-12-04T13:48:30.361Z"
   },
   {
    "duration": 56,
    "start_time": "2021-12-04T13:48:30.438Z"
   },
   {
    "duration": 6,
    "start_time": "2021-12-04T13:48:30.496Z"
   },
   {
    "duration": 11,
    "start_time": "2021-12-04T13:48:30.504Z"
   },
   {
    "duration": 15,
    "start_time": "2021-12-04T13:48:30.516Z"
   },
   {
    "duration": 13,
    "start_time": "2021-12-04T13:48:30.532Z"
   },
   {
    "duration": 13,
    "start_time": "2021-12-04T13:48:30.547Z"
   },
   {
    "duration": 12,
    "start_time": "2021-12-04T13:48:30.562Z"
   },
   {
    "duration": 4,
    "start_time": "2021-12-04T13:48:30.592Z"
   },
   {
    "duration": 23,
    "start_time": "2021-12-04T13:48:30.598Z"
   },
   {
    "duration": 16,
    "start_time": "2021-12-04T13:48:30.623Z"
   },
   {
    "duration": 28,
    "start_time": "2021-12-04T13:48:30.643Z"
   },
   {
    "duration": 30,
    "start_time": "2021-12-04T13:48:30.673Z"
   },
   {
    "duration": 21,
    "start_time": "2021-12-04T13:48:30.705Z"
   },
   {
    "duration": 13,
    "start_time": "2021-12-04T13:48:30.728Z"
   },
   {
    "duration": 8,
    "start_time": "2021-12-04T13:48:30.743Z"
   },
   {
    "duration": 14,
    "start_time": "2021-12-04T13:48:30.752Z"
   },
   {
    "duration": 29,
    "start_time": "2021-12-04T13:48:30.768Z"
   },
   {
    "duration": 4,
    "start_time": "2021-12-04T13:48:30.798Z"
   },
   {
    "duration": 33,
    "start_time": "2021-12-04T13:48:30.804Z"
   },
   {
    "duration": 15,
    "start_time": "2021-12-04T13:48:30.838Z"
   },
   {
    "duration": 44,
    "start_time": "2021-12-04T13:48:30.854Z"
   },
   {
    "duration": 16,
    "start_time": "2021-12-04T13:48:30.900Z"
   },
   {
    "duration": 2,
    "start_time": "2021-12-04T13:48:30.918Z"
   },
   {
    "duration": 7,
    "start_time": "2021-12-04T13:48:30.921Z"
   },
   {
    "duration": 8,
    "start_time": "2021-12-04T13:48:30.930Z"
   },
   {
    "duration": 25,
    "start_time": "2021-12-04T13:48:30.939Z"
   },
   {
    "duration": 59,
    "start_time": "2021-12-04T14:01:19.908Z"
   },
   {
    "duration": 26,
    "start_time": "2021-12-04T14:01:25.126Z"
   },
   {
    "duration": 19,
    "start_time": "2021-12-04T14:01:27.457Z"
   },
   {
    "duration": 29,
    "start_time": "2021-12-04T14:01:28.757Z"
   },
   {
    "duration": 19,
    "start_time": "2021-12-04T14:01:29.789Z"
   },
   {
    "duration": 20,
    "start_time": "2021-12-04T14:03:21.462Z"
   },
   {
    "duration": 20,
    "start_time": "2021-12-04T14:04:45.111Z"
   },
   {
    "duration": 11,
    "start_time": "2021-12-04T14:05:24.935Z"
   },
   {
    "duration": 10,
    "start_time": "2021-12-04T14:07:28.233Z"
   },
   {
    "duration": 16,
    "start_time": "2021-12-04T14:08:12.981Z"
   },
   {
    "duration": 19,
    "start_time": "2021-12-04T14:09:33.240Z"
   },
   {
    "duration": 27,
    "start_time": "2021-12-04T14:11:02.316Z"
   },
   {
    "duration": 18,
    "start_time": "2021-12-04T14:11:43.667Z"
   },
   {
    "duration": 28,
    "start_time": "2021-12-04T14:11:46.589Z"
   },
   {
    "duration": 26,
    "start_time": "2021-12-04T14:12:18.356Z"
   },
   {
    "duration": 17,
    "start_time": "2021-12-04T14:12:19.453Z"
   },
   {
    "duration": 28,
    "start_time": "2021-12-04T14:12:20.853Z"
   },
   {
    "duration": 18,
    "start_time": "2021-12-04T14:12:21.753Z"
   },
   {
    "duration": 54,
    "start_time": "2021-12-04T14:14:03.384Z"
   },
   {
    "duration": 12,
    "start_time": "2021-12-04T14:14:36.396Z"
   },
   {
    "duration": 10,
    "start_time": "2021-12-04T14:14:49.539Z"
   },
   {
    "duration": 57,
    "start_time": "2021-12-04T14:14:52.510Z"
   },
   {
    "duration": 62,
    "start_time": "2021-12-04T14:20:31.468Z"
   },
   {
    "duration": 60,
    "start_time": "2021-12-04T14:21:55.391Z"
   },
   {
    "duration": 10,
    "start_time": "2021-12-04T14:22:27.843Z"
   },
   {
    "duration": 3,
    "start_time": "2021-12-04T14:23:09.919Z"
   },
   {
    "duration": 17,
    "start_time": "2021-12-04T14:24:34.706Z"
   },
   {
    "duration": 14,
    "start_time": "2021-12-04T14:24:38.519Z"
   },
   {
    "duration": 19,
    "start_time": "2021-12-04T14:24:39.748Z"
   },
   {
    "duration": 15,
    "start_time": "2021-12-04T14:24:40.885Z"
   },
   {
    "duration": 7,
    "start_time": "2021-12-04T14:31:44.838Z"
   },
   {
    "duration": 5,
    "start_time": "2021-12-04T14:32:36.302Z"
   },
   {
    "duration": 8,
    "start_time": "2021-12-04T14:36:11.980Z"
   },
   {
    "duration": 5,
    "start_time": "2021-12-04T14:36:14.302Z"
   },
   {
    "duration": 4,
    "start_time": "2021-12-04T14:36:44.353Z"
   },
   {
    "duration": 5,
    "start_time": "2021-12-04T14:37:20.604Z"
   },
   {
    "duration": 4,
    "start_time": "2021-12-04T14:37:30.344Z"
   },
   {
    "duration": 6,
    "start_time": "2021-12-04T14:41:13.860Z"
   },
   {
    "duration": 4,
    "start_time": "2021-12-04T14:41:49.539Z"
   },
   {
    "duration": 554,
    "start_time": "2021-12-04T14:42:46.799Z"
   },
   {
    "duration": 141,
    "start_time": "2021-12-04T14:42:47.354Z"
   },
   {
    "duration": 15,
    "start_time": "2021-12-04T14:42:47.497Z"
   },
   {
    "duration": 24,
    "start_time": "2021-12-04T14:42:47.514Z"
   },
   {
    "duration": 3,
    "start_time": "2021-12-04T14:42:47.539Z"
   },
   {
    "duration": 47,
    "start_time": "2021-12-04T14:42:47.544Z"
   },
   {
    "duration": 3,
    "start_time": "2021-12-04T14:42:47.593Z"
   },
   {
    "duration": 23,
    "start_time": "2021-12-04T14:42:47.599Z"
   },
   {
    "duration": 16,
    "start_time": "2021-12-04T14:42:47.624Z"
   },
   {
    "duration": 23,
    "start_time": "2021-12-04T14:42:47.641Z"
   },
   {
    "duration": 81,
    "start_time": "2021-12-04T14:42:47.666Z"
   },
   {
    "duration": 72,
    "start_time": "2021-12-04T14:42:47.749Z"
   },
   {
    "duration": 50,
    "start_time": "2021-12-04T14:42:47.822Z"
   },
   {
    "duration": 18,
    "start_time": "2021-12-04T14:42:47.873Z"
   },
   {
    "duration": 3,
    "start_time": "2021-12-04T14:42:47.893Z"
   },
   {
    "duration": 12,
    "start_time": "2021-12-04T14:42:47.898Z"
   },
   {
    "duration": 6,
    "start_time": "2021-12-04T14:42:47.911Z"
   },
   {
    "duration": 11,
    "start_time": "2021-12-04T14:42:47.918Z"
   },
   {
    "duration": 11,
    "start_time": "2021-12-04T14:42:47.930Z"
   },
   {
    "duration": 3,
    "start_time": "2021-12-04T14:42:47.943Z"
   },
   {
    "duration": 54,
    "start_time": "2021-12-04T14:42:47.948Z"
   },
   {
    "duration": 14,
    "start_time": "2021-12-04T14:42:48.004Z"
   },
   {
    "duration": 14,
    "start_time": "2021-12-04T14:42:48.022Z"
   },
   {
    "duration": 13,
    "start_time": "2021-12-04T14:42:48.038Z"
   },
   {
    "duration": 53,
    "start_time": "2021-12-04T14:42:48.053Z"
   },
   {
    "duration": 17,
    "start_time": "2021-12-04T14:42:48.109Z"
   },
   {
    "duration": 8,
    "start_time": "2021-12-04T14:42:48.128Z"
   },
   {
    "duration": 13,
    "start_time": "2021-12-04T14:42:48.138Z"
   },
   {
    "duration": 8,
    "start_time": "2021-12-04T14:42:48.153Z"
   },
   {
    "duration": 29,
    "start_time": "2021-12-04T14:42:48.163Z"
   },
   {
    "duration": 22,
    "start_time": "2021-12-04T14:42:48.194Z"
   },
   {
    "duration": 12,
    "start_time": "2021-12-04T14:42:48.218Z"
   },
   {
    "duration": 17,
    "start_time": "2021-12-04T14:42:48.231Z"
   },
   {
    "duration": 42,
    "start_time": "2021-12-04T14:42:48.250Z"
   },
   {
    "duration": 9,
    "start_time": "2021-12-04T14:42:48.294Z"
   },
   {
    "duration": 3,
    "start_time": "2021-12-04T14:42:48.305Z"
   },
   {
    "duration": 9,
    "start_time": "2021-12-04T14:42:48.311Z"
   },
   {
    "duration": 3,
    "start_time": "2021-12-04T14:42:48.322Z"
   },
   {
    "duration": 533,
    "start_time": "2021-12-04T14:43:29.731Z"
   },
   {
    "duration": 148,
    "start_time": "2021-12-04T14:43:30.267Z"
   },
   {
    "duration": 17,
    "start_time": "2021-12-04T14:43:30.417Z"
   },
   {
    "duration": 30,
    "start_time": "2021-12-04T14:43:30.436Z"
   },
   {
    "duration": 5,
    "start_time": "2021-12-04T14:43:30.467Z"
   },
   {
    "duration": 39,
    "start_time": "2021-12-04T14:43:30.474Z"
   },
   {
    "duration": 19,
    "start_time": "2021-12-04T14:43:30.515Z"
   },
   {
    "duration": 36,
    "start_time": "2021-12-04T14:43:30.537Z"
   },
   {
    "duration": 31,
    "start_time": "2021-12-04T14:43:30.575Z"
   },
   {
    "duration": 35,
    "start_time": "2021-12-04T14:43:30.608Z"
   },
   {
    "duration": 68,
    "start_time": "2021-12-04T14:43:30.645Z"
   },
   {
    "duration": 79,
    "start_time": "2021-12-04T14:43:30.714Z"
   },
   {
    "duration": 49,
    "start_time": "2021-12-04T14:43:30.795Z"
   },
   {
    "duration": 6,
    "start_time": "2021-12-04T14:43:30.846Z"
   },
   {
    "duration": 29,
    "start_time": "2021-12-04T14:43:30.853Z"
   },
   {
    "duration": 16,
    "start_time": "2021-12-04T14:43:30.884Z"
   },
   {
    "duration": 27,
    "start_time": "2021-12-04T14:43:30.902Z"
   },
   {
    "duration": 17,
    "start_time": "2021-12-04T14:43:30.931Z"
   },
   {
    "duration": 16,
    "start_time": "2021-12-04T14:43:30.950Z"
   },
   {
    "duration": 16,
    "start_time": "2021-12-04T14:43:30.968Z"
   },
   {
    "duration": 20,
    "start_time": "2021-12-04T14:43:30.986Z"
   },
   {
    "duration": 13,
    "start_time": "2021-12-04T14:43:31.008Z"
   },
   {
    "duration": 15,
    "start_time": "2021-12-04T14:43:31.024Z"
   },
   {
    "duration": 18,
    "start_time": "2021-12-04T14:43:31.041Z"
   },
   {
    "duration": 32,
    "start_time": "2021-12-04T14:43:31.060Z"
   },
   {
    "duration": 14,
    "start_time": "2021-12-04T14:43:31.094Z"
   },
   {
    "duration": 13,
    "start_time": "2021-12-04T14:43:31.110Z"
   },
   {
    "duration": 19,
    "start_time": "2021-12-04T14:43:31.125Z"
   },
   {
    "duration": 8,
    "start_time": "2021-12-04T14:43:31.146Z"
   },
   {
    "duration": 6,
    "start_time": "2021-12-04T14:43:31.156Z"
   },
   {
    "duration": 39,
    "start_time": "2021-12-04T14:43:31.163Z"
   },
   {
    "duration": 12,
    "start_time": "2021-12-04T14:43:31.203Z"
   },
   {
    "duration": 23,
    "start_time": "2021-12-04T14:43:31.217Z"
   },
   {
    "duration": 13,
    "start_time": "2021-12-04T14:43:31.241Z"
   },
   {
    "duration": 35,
    "start_time": "2021-12-04T14:43:31.256Z"
   },
   {
    "duration": 5,
    "start_time": "2021-12-04T14:43:31.293Z"
   },
   {
    "duration": 14,
    "start_time": "2021-12-04T14:43:31.300Z"
   },
   {
    "duration": 4,
    "start_time": "2021-12-04T14:43:31.316Z"
   },
   {
    "duration": 4,
    "start_time": "2021-12-04T14:46:58.540Z"
   },
   {
    "duration": 18,
    "start_time": "2021-12-04T14:47:11.803Z"
   },
   {
    "duration": 14,
    "start_time": "2021-12-04T14:47:12.981Z"
   },
   {
    "duration": 19,
    "start_time": "2021-12-04T14:47:14.663Z"
   },
   {
    "duration": 14,
    "start_time": "2021-12-04T14:47:20.423Z"
   },
   {
    "duration": 8,
    "start_time": "2021-12-04T14:47:35.633Z"
   },
   {
    "duration": 4,
    "start_time": "2021-12-04T14:47:37.937Z"
   },
   {
    "duration": 6,
    "start_time": "2021-12-04T14:47:40.471Z"
   },
   {
    "duration": 4,
    "start_time": "2021-12-04T14:47:45.411Z"
   },
   {
    "duration": 863,
    "start_time": "2021-12-04T21:00:31.649Z"
   },
   {
    "duration": 198,
    "start_time": "2021-12-04T21:00:32.516Z"
   },
   {
    "duration": 26,
    "start_time": "2021-12-04T21:00:32.718Z"
   },
   {
    "duration": 57,
    "start_time": "2021-12-04T21:00:32.747Z"
   },
   {
    "duration": 7,
    "start_time": "2021-12-04T21:00:32.806Z"
   },
   {
    "duration": 53,
    "start_time": "2021-12-04T21:00:32.816Z"
   },
   {
    "duration": 7,
    "start_time": "2021-12-04T21:00:32.873Z"
   },
   {
    "duration": 45,
    "start_time": "2021-12-04T21:00:32.883Z"
   },
   {
    "duration": 46,
    "start_time": "2021-12-04T21:00:32.932Z"
   },
   {
    "duration": 33,
    "start_time": "2021-12-04T21:00:32.982Z"
   },
   {
    "duration": 123,
    "start_time": "2021-12-04T21:00:33.017Z"
   },
   {
    "duration": 133,
    "start_time": "2021-12-04T21:00:33.143Z"
   },
   {
    "duration": 99,
    "start_time": "2021-12-04T21:00:33.278Z"
   },
   {
    "duration": 11,
    "start_time": "2021-12-04T21:00:33.380Z"
   },
   {
    "duration": 6,
    "start_time": "2021-12-04T21:00:33.394Z"
   },
   {
    "duration": 22,
    "start_time": "2021-12-04T21:00:33.403Z"
   },
   {
    "duration": 45,
    "start_time": "2021-12-04T21:00:33.429Z"
   },
   {
    "duration": 19,
    "start_time": "2021-12-04T21:00:33.478Z"
   },
   {
    "duration": 27,
    "start_time": "2021-12-04T21:00:33.501Z"
   },
   {
    "duration": 43,
    "start_time": "2021-12-04T21:00:33.532Z"
   },
   {
    "duration": 36,
    "start_time": "2021-12-04T21:00:33.578Z"
   },
   {
    "duration": 55,
    "start_time": "2021-12-04T21:00:33.617Z"
   },
   {
    "duration": 25,
    "start_time": "2021-12-04T21:00:33.680Z"
   },
   {
    "duration": 19,
    "start_time": "2021-12-04T21:00:33.707Z"
   },
   {
    "duration": 50,
    "start_time": "2021-12-04T21:00:33.729Z"
   },
   {
    "duration": 25,
    "start_time": "2021-12-04T21:00:33.782Z"
   },
   {
    "duration": 15,
    "start_time": "2021-12-04T21:00:33.815Z"
   },
   {
    "duration": 54,
    "start_time": "2021-12-04T21:00:33.833Z"
   },
   {
    "duration": 21,
    "start_time": "2021-12-04T21:00:33.890Z"
   },
   {
    "duration": 12,
    "start_time": "2021-12-04T21:00:33.913Z"
   },
   {
    "duration": 46,
    "start_time": "2021-12-04T21:00:33.927Z"
   },
   {
    "duration": 29,
    "start_time": "2021-12-04T21:00:33.977Z"
   },
   {
    "duration": 31,
    "start_time": "2021-12-04T21:00:34.010Z"
   },
   {
    "duration": 54,
    "start_time": "2021-12-04T21:00:34.043Z"
   },
   {
    "duration": 11,
    "start_time": "2021-12-04T21:00:34.099Z"
   },
   {
    "duration": 5,
    "start_time": "2021-12-04T21:00:34.112Z"
   },
   {
    "duration": 10,
    "start_time": "2021-12-04T21:00:34.120Z"
   },
   {
    "duration": 42,
    "start_time": "2021-12-04T21:00:34.133Z"
   },
   {
    "duration": 646,
    "start_time": "2021-12-04T21:28:34.688Z"
   },
   {
    "duration": 158,
    "start_time": "2021-12-04T21:28:35.335Z"
   },
   {
    "duration": 28,
    "start_time": "2021-12-04T21:28:35.495Z"
   },
   {
    "duration": 22,
    "start_time": "2021-12-04T21:28:35.525Z"
   },
   {
    "duration": 3,
    "start_time": "2021-12-04T21:28:35.549Z"
   },
   {
    "duration": 22,
    "start_time": "2021-12-04T21:28:35.554Z"
   },
   {
    "duration": 29,
    "start_time": "2021-12-04T21:28:35.578Z"
   },
   {
    "duration": 29,
    "start_time": "2021-12-04T21:28:35.611Z"
   },
   {
    "duration": 17,
    "start_time": "2021-12-04T21:28:35.642Z"
   },
   {
    "duration": 47,
    "start_time": "2021-12-04T21:28:35.661Z"
   },
   {
    "duration": 69,
    "start_time": "2021-12-04T21:28:35.710Z"
   },
   {
    "duration": 81,
    "start_time": "2021-12-04T21:28:35.781Z"
   },
   {
    "duration": 51,
    "start_time": "2021-12-04T21:28:35.864Z"
   },
   {
    "duration": 6,
    "start_time": "2021-12-04T21:28:35.917Z"
   },
   {
    "duration": 3,
    "start_time": "2021-12-04T21:28:35.925Z"
   },
   {
    "duration": 11,
    "start_time": "2021-12-04T21:28:35.929Z"
   },
   {
    "duration": 6,
    "start_time": "2021-12-04T21:28:35.942Z"
   },
   {
    "duration": 11,
    "start_time": "2021-12-04T21:28:35.949Z"
   },
   {
    "duration": 10,
    "start_time": "2021-12-04T21:28:35.961Z"
   },
   {
    "duration": 36,
    "start_time": "2021-12-04T21:28:35.973Z"
   },
   {
    "duration": 19,
    "start_time": "2021-12-04T21:28:36.011Z"
   },
   {
    "duration": 13,
    "start_time": "2021-12-04T21:28:36.032Z"
   },
   {
    "duration": 17,
    "start_time": "2021-12-04T21:28:36.048Z"
   },
   {
    "duration": 40,
    "start_time": "2021-12-04T21:28:36.067Z"
   },
   {
    "duration": 15,
    "start_time": "2021-12-04T21:28:36.109Z"
   },
   {
    "duration": 13,
    "start_time": "2021-12-04T21:28:36.126Z"
   },
   {
    "duration": 11,
    "start_time": "2021-12-04T21:28:36.141Z"
   },
   {
    "duration": 15,
    "start_time": "2021-12-04T21:28:36.154Z"
   },
   {
    "duration": 41,
    "start_time": "2021-12-04T21:28:36.171Z"
   },
   {
    "duration": 5,
    "start_time": "2021-12-04T21:28:36.214Z"
   },
   {
    "duration": 22,
    "start_time": "2021-12-04T21:28:36.221Z"
   },
   {
    "duration": 14,
    "start_time": "2021-12-04T21:28:36.245Z"
   },
   {
    "duration": 17,
    "start_time": "2021-12-04T21:28:36.260Z"
   },
   {
    "duration": 12,
    "start_time": "2021-12-04T21:28:36.307Z"
   },
   {
    "duration": 9,
    "start_time": "2021-12-04T21:28:36.320Z"
   },
   {
    "duration": 4,
    "start_time": "2021-12-04T21:28:36.330Z"
   },
   {
    "duration": 8,
    "start_time": "2021-12-04T21:28:36.335Z"
   },
   {
    "duration": 4,
    "start_time": "2021-12-04T21:28:36.344Z"
   },
   {
    "duration": 151,
    "start_time": "2021-12-04T21:29:40.434Z"
   },
   {
    "duration": 11,
    "start_time": "2021-12-04T21:30:33.274Z"
   },
   {
    "duration": 5,
    "start_time": "2021-12-04T21:53:39.575Z"
   },
   {
    "duration": 4,
    "start_time": "2021-12-04T21:54:12.585Z"
   },
   {
    "duration": 39,
    "start_time": "2021-12-04T21:56:47.322Z"
   },
   {
    "duration": 41,
    "start_time": "2021-12-04T22:01:55.339Z"
   },
   {
    "duration": 41,
    "start_time": "2021-12-04T22:02:21.329Z"
   },
   {
    "duration": 3,
    "start_time": "2021-12-04T22:05:26.472Z"
   },
   {
    "duration": 9,
    "start_time": "2021-12-04T22:05:37.563Z"
   },
   {
    "duration": 12,
    "start_time": "2021-12-04T22:09:07.327Z"
   },
   {
    "duration": 3,
    "start_time": "2021-12-04T22:09:30.916Z"
   },
   {
    "duration": 13,
    "start_time": "2021-12-04T22:09:33.625Z"
   },
   {
    "duration": 40,
    "start_time": "2021-12-04T22:09:39.150Z"
   },
   {
    "duration": 17,
    "start_time": "2021-12-04T22:19:39.956Z"
   },
   {
    "duration": 13,
    "start_time": "2021-12-04T22:19:43.437Z"
   },
   {
    "duration": 603,
    "start_time": "2021-12-04T22:24:06.023Z"
   },
   {
    "duration": 139,
    "start_time": "2021-12-04T22:24:06.628Z"
   },
   {
    "duration": 17,
    "start_time": "2021-12-04T22:24:06.770Z"
   },
   {
    "duration": 39,
    "start_time": "2021-12-04T22:24:06.790Z"
   },
   {
    "duration": 4,
    "start_time": "2021-12-04T22:24:06.832Z"
   },
   {
    "duration": 21,
    "start_time": "2021-12-04T22:24:06.838Z"
   },
   {
    "duration": 3,
    "start_time": "2021-12-04T22:24:06.861Z"
   },
   {
    "duration": 52,
    "start_time": "2021-12-04T22:24:06.866Z"
   },
   {
    "duration": 17,
    "start_time": "2021-12-04T22:24:06.921Z"
   },
   {
    "duration": 25,
    "start_time": "2021-12-04T22:24:06.940Z"
   },
   {
    "duration": 75,
    "start_time": "2021-12-04T22:24:06.967Z"
   },
   {
    "duration": 73,
    "start_time": "2021-12-04T22:24:07.044Z"
   },
   {
    "duration": 51,
    "start_time": "2021-12-04T22:24:07.119Z"
   },
   {
    "duration": 51,
    "start_time": "2021-12-04T22:24:07.172Z"
   },
   {
    "duration": 3,
    "start_time": "2021-12-04T22:24:07.225Z"
   },
   {
    "duration": 14,
    "start_time": "2021-12-04T22:24:07.229Z"
   },
   {
    "duration": 41,
    "start_time": "2021-12-04T22:24:07.245Z"
   },
   {
    "duration": 12,
    "start_time": "2021-12-04T22:24:07.307Z"
   },
   {
    "duration": 10,
    "start_time": "2021-12-04T22:24:07.321Z"
   },
   {
    "duration": 2,
    "start_time": "2021-12-04T22:24:07.333Z"
   },
   {
    "duration": 18,
    "start_time": "2021-12-04T22:24:07.337Z"
   },
   {
    "duration": 13,
    "start_time": "2021-12-04T22:24:07.357Z"
   },
   {
    "duration": 15,
    "start_time": "2021-12-04T22:24:07.406Z"
   },
   {
    "duration": 14,
    "start_time": "2021-12-04T22:24:07.423Z"
   },
   {
    "duration": 16,
    "start_time": "2021-12-04T22:24:07.439Z"
   },
   {
    "duration": 13,
    "start_time": "2021-12-04T22:24:07.456Z"
   },
   {
    "duration": 37,
    "start_time": "2021-12-04T22:24:07.471Z"
   },
   {
    "duration": 25,
    "start_time": "2021-12-04T22:24:07.510Z"
   },
   {
    "duration": 16,
    "start_time": "2021-12-04T22:24:07.537Z"
   },
   {
    "duration": 9,
    "start_time": "2021-12-04T22:24:07.555Z"
   },
   {
    "duration": 35,
    "start_time": "2021-12-04T22:24:07.566Z"
   },
   {
    "duration": 24,
    "start_time": "2021-12-04T22:24:07.602Z"
   },
   {
    "duration": 21,
    "start_time": "2021-12-04T22:24:07.628Z"
   },
   {
    "duration": 12,
    "start_time": "2021-12-04T22:24:07.650Z"
   },
   {
    "duration": 8,
    "start_time": "2021-12-04T22:24:07.663Z"
   },
   {
    "duration": 10,
    "start_time": "2021-12-04T22:24:07.673Z"
   },
   {
    "duration": 15,
    "start_time": "2021-12-04T22:24:07.685Z"
   },
   {
    "duration": 15,
    "start_time": "2021-12-04T22:24:07.701Z"
   },
   {
    "duration": 10,
    "start_time": "2021-12-04T22:27:18.962Z"
   },
   {
    "duration": 4,
    "start_time": "2021-12-04T22:27:26.015Z"
   },
   {
    "duration": 7,
    "start_time": "2021-12-04T22:27:29.951Z"
   },
   {
    "duration": 4,
    "start_time": "2021-12-04T22:27:32.033Z"
   },
   {
    "duration": 106,
    "start_time": "2021-12-04T22:27:56.286Z"
   },
   {
    "duration": 4,
    "start_time": "2021-12-04T22:28:14.877Z"
   },
   {
    "duration": 503,
    "start_time": "2021-12-05T18:47:20.646Z"
   },
   {
    "duration": 118,
    "start_time": "2021-12-05T18:47:21.151Z"
   },
   {
    "duration": 20,
    "start_time": "2021-12-05T18:47:21.271Z"
   },
   {
    "duration": 21,
    "start_time": "2021-12-05T18:47:21.293Z"
   },
   {
    "duration": 6,
    "start_time": "2021-12-05T18:47:21.315Z"
   },
   {
    "duration": 19,
    "start_time": "2021-12-05T18:47:21.322Z"
   },
   {
    "duration": 4,
    "start_time": "2021-12-05T18:47:21.342Z"
   },
   {
    "duration": 40,
    "start_time": "2021-12-05T18:47:21.348Z"
   },
   {
    "duration": 15,
    "start_time": "2021-12-05T18:47:21.390Z"
   },
   {
    "duration": 23,
    "start_time": "2021-12-05T18:47:21.407Z"
   },
   {
    "duration": 59,
    "start_time": "2021-12-05T18:47:21.431Z"
   },
   {
    "duration": 58,
    "start_time": "2021-12-05T18:47:21.492Z"
   },
   {
    "duration": 56,
    "start_time": "2021-12-05T18:47:21.552Z"
   },
   {
    "duration": 36,
    "start_time": "2021-12-05T18:47:21.609Z"
   },
   {
    "duration": 3,
    "start_time": "2021-12-05T18:47:21.646Z"
   },
   {
    "duration": 13,
    "start_time": "2021-12-05T18:47:21.650Z"
   },
   {
    "duration": 48,
    "start_time": "2021-12-05T18:47:21.665Z"
   },
   {
    "duration": 9,
    "start_time": "2021-12-05T18:47:21.715Z"
   },
   {
    "duration": 8,
    "start_time": "2021-12-05T18:47:21.726Z"
   },
   {
    "duration": 2,
    "start_time": "2021-12-05T18:47:21.736Z"
   },
   {
    "duration": 16,
    "start_time": "2021-12-05T18:47:21.740Z"
   },
   {
    "duration": 35,
    "start_time": "2021-12-05T18:47:21.758Z"
   },
   {
    "duration": 13,
    "start_time": "2021-12-05T18:47:21.797Z"
   },
   {
    "duration": 12,
    "start_time": "2021-12-05T18:47:21.812Z"
   },
   {
    "duration": 12,
    "start_time": "2021-12-05T18:47:21.826Z"
   },
   {
    "duration": 11,
    "start_time": "2021-12-05T18:47:21.840Z"
   },
   {
    "duration": 41,
    "start_time": "2021-12-05T18:47:21.852Z"
   },
   {
    "duration": 25,
    "start_time": "2021-12-05T18:47:21.895Z"
   },
   {
    "duration": 15,
    "start_time": "2021-12-05T18:47:21.922Z"
   },
   {
    "duration": 11,
    "start_time": "2021-12-05T18:47:21.939Z"
   },
   {
    "duration": 37,
    "start_time": "2021-12-05T18:47:21.951Z"
   },
   {
    "duration": 18,
    "start_time": "2021-12-05T18:47:21.989Z"
   },
   {
    "duration": 25,
    "start_time": "2021-12-05T18:47:22.009Z"
   },
   {
    "duration": 14,
    "start_time": "2021-12-05T18:47:22.036Z"
   },
   {
    "duration": 11,
    "start_time": "2021-12-05T18:47:22.052Z"
   },
   {
    "duration": 17,
    "start_time": "2021-12-05T18:47:22.065Z"
   },
   {
    "duration": 19,
    "start_time": "2021-12-05T18:47:22.083Z"
   },
   {
    "duration": 13,
    "start_time": "2021-12-05T18:47:22.103Z"
   },
   {
    "duration": 920,
    "start_time": "2021-12-05T18:48:03.371Z"
   },
   {
    "duration": 165,
    "start_time": "2021-12-05T18:48:04.293Z"
   },
   {
    "duration": 16,
    "start_time": "2021-12-05T18:48:04.460Z"
   },
   {
    "duration": 12,
    "start_time": "2021-12-05T18:48:04.477Z"
   },
   {
    "duration": 9,
    "start_time": "2021-12-05T18:48:04.491Z"
   },
   {
    "duration": 7,
    "start_time": "2021-12-05T18:48:04.502Z"
   },
   {
    "duration": 6,
    "start_time": "2021-12-05T18:48:04.510Z"
   },
   {
    "duration": 12,
    "start_time": "2021-12-05T18:48:04.519Z"
   },
   {
    "duration": 23,
    "start_time": "2021-12-05T18:48:04.533Z"
   },
   {
    "duration": 3,
    "start_time": "2021-12-05T18:48:04.588Z"
   },
   {
    "duration": 17,
    "start_time": "2021-12-05T18:48:04.593Z"
   },
   {
    "duration": 4,
    "start_time": "2021-12-05T18:48:04.611Z"
   },
   {
    "duration": 22,
    "start_time": "2021-12-05T18:48:04.616Z"
   },
   {
    "duration": 14,
    "start_time": "2021-12-05T18:48:04.640Z"
   },
   {
    "duration": 43,
    "start_time": "2021-12-05T18:48:04.656Z"
   },
   {
    "duration": 50,
    "start_time": "2021-12-05T18:48:04.701Z"
   },
   {
    "duration": 78,
    "start_time": "2021-12-05T18:48:04.752Z"
   },
   {
    "duration": 41,
    "start_time": "2021-12-05T18:48:04.832Z"
   },
   {
    "duration": 39,
    "start_time": "2021-12-05T18:48:04.875Z"
   },
   {
    "duration": 3,
    "start_time": "2021-12-05T18:48:04.915Z"
   },
   {
    "duration": 14,
    "start_time": "2021-12-05T18:48:04.919Z"
   },
   {
    "duration": 34,
    "start_time": "2021-12-05T18:48:04.934Z"
   },
   {
    "duration": 9,
    "start_time": "2021-12-05T18:48:04.987Z"
   },
   {
    "duration": 9,
    "start_time": "2021-12-05T18:48:04.997Z"
   },
   {
    "duration": 2,
    "start_time": "2021-12-05T18:48:05.007Z"
   },
   {
    "duration": 17,
    "start_time": "2021-12-05T18:48:05.011Z"
   },
   {
    "duration": 12,
    "start_time": "2021-12-05T18:48:05.029Z"
   },
   {
    "duration": 12,
    "start_time": "2021-12-05T18:48:05.043Z"
   },
   {
    "duration": 40,
    "start_time": "2021-12-05T18:48:05.056Z"
   },
   {
    "duration": 13,
    "start_time": "2021-12-05T18:48:05.097Z"
   },
   {
    "duration": 13,
    "start_time": "2021-12-05T18:48:05.111Z"
   },
   {
    "duration": 7,
    "start_time": "2021-12-05T18:48:05.125Z"
   },
   {
    "duration": 12,
    "start_time": "2021-12-05T18:48:05.133Z"
   },
   {
    "duration": 6,
    "start_time": "2021-12-05T18:48:05.147Z"
   },
   {
    "duration": 3,
    "start_time": "2021-12-05T18:48:05.155Z"
   },
   {
    "duration": 18,
    "start_time": "2021-12-05T18:48:05.187Z"
   },
   {
    "duration": 10,
    "start_time": "2021-12-05T18:48:05.206Z"
   },
   {
    "duration": 15,
    "start_time": "2021-12-05T18:48:05.218Z"
   },
   {
    "duration": 11,
    "start_time": "2021-12-05T18:48:05.234Z"
   },
   {
    "duration": 7,
    "start_time": "2021-12-05T18:48:05.246Z"
   },
   {
    "duration": 3,
    "start_time": "2021-12-05T18:48:05.254Z"
   },
   {
    "duration": 6,
    "start_time": "2021-12-05T18:48:05.287Z"
   },
   {
    "duration": 3,
    "start_time": "2021-12-05T18:48:05.294Z"
   }
  ],
  "colab": {
   "collapsed_sections": [
    "E0vqbgi9ay0H",
    "VUC88oWjTJw2"
   ],
   "name": "yandex_music_project_2021.2.ipynb",
   "provenance": []
  },
  "kernelspec": {
   "display_name": "Python 3 (ipykernel)",
   "language": "python",
   "name": "python3"
  },
  "language_info": {
   "codemirror_mode": {
    "name": "ipython",
    "version": 3
   },
   "file_extension": ".py",
   "mimetype": "text/x-python",
   "name": "python",
   "nbconvert_exporter": "python",
   "pygments_lexer": "ipython3",
   "version": "3.9.13"
  },
  "toc": {
   "base_numbering": 1,
   "nav_menu": {},
   "number_sections": true,
   "sideBar": true,
   "skip_h1_title": true,
   "title_cell": "Table of Contents",
   "title_sidebar": "Contents",
   "toc_cell": false,
   "toc_position": {},
   "toc_section_display": true,
   "toc_window_display": true
  }
 },
 "nbformat": 4,
 "nbformat_minor": 1
}
