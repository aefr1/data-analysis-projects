{
 "cells": [
  {
   "cell_type": "markdown",
   "metadata": {},
   "source": [
    "# A/B-тестирование"
   ]
  },
  {
   "attachments": {},
   "cell_type": "markdown",
   "metadata": {},
   "source": [
    "# Описание проекта\n",
    "\n",
    "**Постановка задачи**\n",
    "\n",
    "В распоряжении есть датасет с действиями пользователей, техническое задание и несколько вспомогательных датасетов.  \n",
    "\n",
    "Требуется:  \n",
    "\n",
    "- оценить корректность проведения теста;\n",
    "- проанализировать результаты теста\n",
    "\n",
    "Для оценки корректностьи проведения теста, необходимо проверить:\n",
    "\n",
    "- пересечение тестовой аудитории с конкурирующим тестом;\n",
    "- совпадение теста и маркетинговых событий, другие проблемы временных границ теста.\n",
    "    \n",
    "**Техническое задание**\n",
    "\n",
    "*Название теста:* recommender_system_test;        \n",
    "*Группы:* А — контрольная, B — новая платежная воронка;  \n",
    "*Дата запуска:* 2020-12-07;    \n",
    "*Дата остановки набора новых пользователей:* 2020-12-21;     \n",
    "*Дата остановки:* 2021-01-04;  \n",
    "*Аудитория:* 15% новых пользователей из региона EU;  \n",
    "*Назначение теста:* тестирование изменений, связанных с внедрением улучшенной рекомендательной системы;  \n",
    "*Ожидаемое количество участников теста:* 6000;   \n",
    "*Ожидаемый эффект:* за 14 дней с момента регистрации пользователи покажут улучшение каждой метрики не менее, чем на 10%:  \n",
    "   - конверсии в просмотр карточек товаров - `product_page`,    \n",
    "   - просмотры корзины — `product_cart`,  \n",
    "   - покупки — `purchase`.  \n",
    "\n",
    "# Цель проекта \n",
    "\n",
    "Провести оценку результатов A/B-теста\n",
    "\n",
    "\n",
    "# Описание данных\n",
    "\n",
    "*Датасет ab_project_marketing_events.csv* (календарь маркетинговых событий на 2020 год)\n",
    "\n",
    "**name** — название маркетингового события;  \n",
    "**regions** — регионы, в которых будет проводиться рекламная кампания;  \n",
    "**start_dt** — дата начала кампании;  \n",
    "**finish_dt** — дата завершения кампании.  \n",
    "\n",
    "*Датасет final_ab_new_users.csv* (пользователи, зарегистрировавшиеся с 7 по 21 декабря 2020 года)\n",
    "\n",
    "**user_id** — идентификатор пользователя;  \n",
    "**first_date** — дата регистрации;  \n",
    "**region** — регион пользователя;  \n",
    "**device** — устройство, с которого происходила регистрация.  \n",
    "\n",
    "*Датасет final_ab_events.csv* (действия новых пользователей в период с 7 декабря 2020 по 4 января 2021 года)  \n",
    "\n",
    "**user_id** — идентификатор пользователя;  \n",
    "**event_dt** — дата и время покупки;  \n",
    "**event_name** — тип события;  \n",
    "**details** — дополнительные данные о событии. Например, для покупок `purchase`, в этом поле хранится стоимость покупки в долларах.  \n",
    "\n",
    "*Датасет final_ab_participants.csv* (таблица участников тестов)\n",
    "\n",
    "**user_id** — идентификатор пользователя;  \n",
    "**ab_test** — название теста;  \n",
    "**group** — группа пользователя.    \n",
    "\n",
    "# Содержание  \n",
    "\n",
    "1 Обзор и предобработка данных  \n",
    "1.1 Импорт библиотек и загрузка данных  \n",
    "1.2 Предобработка данных  \n",
    "1.3 Вывод  \n",
    "2 Оценка корректности проведения теста  \n",
    "2.1 Проверка на соответствие данных требованиям технического задания   \n",
    "2.2 Маркетинговые активности во время проведения теста и их влияние  \n",
    "2.3 Оценка аудитории теста  \n",
    "2.4 Вывод  \n",
    "3 Исследовательский анализ данных  \n",
    "3.1 Распределение количества событий на пользователя в выборках  \n",
    "3.2 Распределение числа событий в выборках по дням  \n",
    "3.3 Изменение конверсии в воронке в выборках на разных этапах  \n",
    "4 Оценка результатов A/B-тестирования  \n",
    "5 Выводы по исследованию данных и по оценке результатов A/B-тестирования  "
   ]
  },
  {
   "cell_type": "markdown",
   "metadata": {},
   "source": [
    "## 1 Обзор и предобработка данных"
   ]
  },
  {
   "cell_type": "markdown",
   "metadata": {},
   "source": [
    "### 1.1 Импорт библиотек и загрузка данных"
   ]
  },
  {
   "cell_type": "markdown",
   "metadata": {},
   "source": [
    "Импортируем библиотеки:"
   ]
  },
  {
   "cell_type": "code",
   "execution_count": 1,
   "metadata": {},
   "outputs": [],
   "source": [
    "import pandas as pd\n",
    "from plotly import graph_objects as go\n",
    "import numpy as np\n",
    "import matplotlib.pyplot as plt\n",
    "import seaborn as sns\n",
    "from scipy import stats as st\n",
    "import math as mth"
   ]
  },
  {
   "cell_type": "markdown",
   "metadata": {},
   "source": [
    "Загружаем данные:"
   ]
  },
  {
   "cell_type": "code",
   "execution_count": 2,
   "metadata": {},
   "outputs": [],
   "source": [
    "marketing_events = pd.read_csv('C:/datasets/ab_project_marketing_events.csv')\n",
    "new_users = pd.read_csv('C:/datasets/final_ab_new_users.csv')\n",
    "events = pd.read_csv('C:/datasets/final_ab_events.csv')\n",
    "participants = pd.read_csv('C:/datasets/final_ab_participants.csv')"
   ]
  },
  {
   "cell_type": "markdown",
   "metadata": {},
   "source": [
    "Посмотрим первые  строк датасетов, общую информацию и проверим на пропуски и дубликаты. Поскольку задачи однотипные, запустим их в цикле по всем датасетам:"
   ]
  },
  {
   "cell_type": "code",
   "execution_count": 3,
   "metadata": {
    "scrolled": true
   },
   "outputs": [
    {
     "data": {
      "text/html": [
       "<div>\n",
       "<style scoped>\n",
       "    .dataframe tbody tr th:only-of-type {\n",
       "        vertical-align: middle;\n",
       "    }\n",
       "\n",
       "    .dataframe tbody tr th {\n",
       "        vertical-align: top;\n",
       "    }\n",
       "\n",
       "    .dataframe thead th {\n",
       "        text-align: right;\n",
       "    }\n",
       "</style>\n",
       "<table border=\"1\" class=\"dataframe\">\n",
       "  <thead>\n",
       "    <tr style=\"text-align: right;\">\n",
       "      <th></th>\n",
       "      <th>name</th>\n",
       "      <th>regions</th>\n",
       "      <th>start_dt</th>\n",
       "      <th>finish_dt</th>\n",
       "    </tr>\n",
       "  </thead>\n",
       "  <tbody>\n",
       "    <tr>\n",
       "      <th>0</th>\n",
       "      <td>Christmas&amp;New Year Promo</td>\n",
       "      <td>EU, N.America</td>\n",
       "      <td>2020-12-25</td>\n",
       "      <td>2021-01-03</td>\n",
       "    </tr>\n",
       "    <tr>\n",
       "      <th>1</th>\n",
       "      <td>St. Valentine's Day Giveaway</td>\n",
       "      <td>EU, CIS, APAC, N.America</td>\n",
       "      <td>2020-02-14</td>\n",
       "      <td>2020-02-16</td>\n",
       "    </tr>\n",
       "    <tr>\n",
       "      <th>2</th>\n",
       "      <td>St. Patric's Day Promo</td>\n",
       "      <td>EU, N.America</td>\n",
       "      <td>2020-03-17</td>\n",
       "      <td>2020-03-19</td>\n",
       "    </tr>\n",
       "    <tr>\n",
       "      <th>3</th>\n",
       "      <td>Easter Promo</td>\n",
       "      <td>EU, CIS, APAC, N.America</td>\n",
       "      <td>2020-04-12</td>\n",
       "      <td>2020-04-19</td>\n",
       "    </tr>\n",
       "    <tr>\n",
       "      <th>4</th>\n",
       "      <td>4th of July Promo</td>\n",
       "      <td>N.America</td>\n",
       "      <td>2020-07-04</td>\n",
       "      <td>2020-07-11</td>\n",
       "    </tr>\n",
       "  </tbody>\n",
       "</table>\n",
       "</div>"
      ],
      "text/plain": [
       "                           name                   regions    start_dt  \\\n",
       "0      Christmas&New Year Promo             EU, N.America  2020-12-25   \n",
       "1  St. Valentine's Day Giveaway  EU, CIS, APAC, N.America  2020-02-14   \n",
       "2        St. Patric's Day Promo             EU, N.America  2020-03-17   \n",
       "3                  Easter Promo  EU, CIS, APAC, N.America  2020-04-12   \n",
       "4             4th of July Promo                 N.America  2020-07-04   \n",
       "\n",
       "    finish_dt  \n",
       "0  2021-01-03  \n",
       "1  2020-02-16  \n",
       "2  2020-03-19  \n",
       "3  2020-04-19  \n",
       "4  2020-07-11  "
      ]
     },
     "metadata": {},
     "output_type": "display_data"
    },
    {
     "name": "stdout",
     "output_type": "stream",
     "text": [
      "\n",
      "<class 'pandas.core.frame.DataFrame'>\n",
      "RangeIndex: 14 entries, 0 to 13\n",
      "Data columns (total 4 columns):\n",
      " #   Column     Non-Null Count  Dtype \n",
      "---  ------     --------------  ----- \n",
      " 0   name       14 non-null     object\n",
      " 1   regions    14 non-null     object\n",
      " 2   start_dt   14 non-null     object\n",
      " 3   finish_dt  14 non-null     object\n",
      "dtypes: object(4)\n",
      "memory usage: 576.0+ bytes\n"
     ]
    },
    {
     "data": {
      "text/plain": [
       "None"
      ]
     },
     "metadata": {},
     "output_type": "display_data"
    },
    {
     "name": "stdout",
     "output_type": "stream",
     "text": [
      "\n",
      " Кол-во пропусков:\n",
      " name         0\n",
      "regions      0\n",
      "start_dt     0\n",
      "finish_dt    0\n",
      "dtype: int64\n",
      "\n",
      "\n",
      " Кол-во дубликатов: 0\n",
      "\n"
     ]
    },
    {
     "data": {
      "text/html": [
       "<div>\n",
       "<style scoped>\n",
       "    .dataframe tbody tr th:only-of-type {\n",
       "        vertical-align: middle;\n",
       "    }\n",
       "\n",
       "    .dataframe tbody tr th {\n",
       "        vertical-align: top;\n",
       "    }\n",
       "\n",
       "    .dataframe thead th {\n",
       "        text-align: right;\n",
       "    }\n",
       "</style>\n",
       "<table border=\"1\" class=\"dataframe\">\n",
       "  <thead>\n",
       "    <tr style=\"text-align: right;\">\n",
       "      <th></th>\n",
       "      <th>user_id</th>\n",
       "      <th>first_date</th>\n",
       "      <th>region</th>\n",
       "      <th>device</th>\n",
       "    </tr>\n",
       "  </thead>\n",
       "  <tbody>\n",
       "    <tr>\n",
       "      <th>0</th>\n",
       "      <td>D72A72121175D8BE</td>\n",
       "      <td>2020-12-07</td>\n",
       "      <td>EU</td>\n",
       "      <td>PC</td>\n",
       "    </tr>\n",
       "    <tr>\n",
       "      <th>1</th>\n",
       "      <td>F1C668619DFE6E65</td>\n",
       "      <td>2020-12-07</td>\n",
       "      <td>N.America</td>\n",
       "      <td>Android</td>\n",
       "    </tr>\n",
       "    <tr>\n",
       "      <th>2</th>\n",
       "      <td>2E1BF1D4C37EA01F</td>\n",
       "      <td>2020-12-07</td>\n",
       "      <td>EU</td>\n",
       "      <td>PC</td>\n",
       "    </tr>\n",
       "    <tr>\n",
       "      <th>3</th>\n",
       "      <td>50734A22C0C63768</td>\n",
       "      <td>2020-12-07</td>\n",
       "      <td>EU</td>\n",
       "      <td>iPhone</td>\n",
       "    </tr>\n",
       "    <tr>\n",
       "      <th>4</th>\n",
       "      <td>E1BDDCE0DAFA2679</td>\n",
       "      <td>2020-12-07</td>\n",
       "      <td>N.America</td>\n",
       "      <td>iPhone</td>\n",
       "    </tr>\n",
       "  </tbody>\n",
       "</table>\n",
       "</div>"
      ],
      "text/plain": [
       "            user_id  first_date     region   device\n",
       "0  D72A72121175D8BE  2020-12-07         EU       PC\n",
       "1  F1C668619DFE6E65  2020-12-07  N.America  Android\n",
       "2  2E1BF1D4C37EA01F  2020-12-07         EU       PC\n",
       "3  50734A22C0C63768  2020-12-07         EU   iPhone\n",
       "4  E1BDDCE0DAFA2679  2020-12-07  N.America   iPhone"
      ]
     },
     "metadata": {},
     "output_type": "display_data"
    },
    {
     "name": "stdout",
     "output_type": "stream",
     "text": [
      "\n",
      "<class 'pandas.core.frame.DataFrame'>\n",
      "RangeIndex: 61733 entries, 0 to 61732\n",
      "Data columns (total 4 columns):\n",
      " #   Column      Non-Null Count  Dtype \n",
      "---  ------      --------------  ----- \n",
      " 0   user_id     61733 non-null  object\n",
      " 1   first_date  61733 non-null  object\n",
      " 2   region      61733 non-null  object\n",
      " 3   device      61733 non-null  object\n",
      "dtypes: object(4)\n",
      "memory usage: 1.9+ MB\n"
     ]
    },
    {
     "data": {
      "text/plain": [
       "None"
      ]
     },
     "metadata": {},
     "output_type": "display_data"
    },
    {
     "name": "stdout",
     "output_type": "stream",
     "text": [
      "\n",
      " Кол-во пропусков:\n",
      " user_id       0\n",
      "first_date    0\n",
      "region        0\n",
      "device        0\n",
      "dtype: int64\n",
      "\n",
      "\n",
      " Кол-во дубликатов: 0\n",
      "\n"
     ]
    },
    {
     "data": {
      "text/html": [
       "<div>\n",
       "<style scoped>\n",
       "    .dataframe tbody tr th:only-of-type {\n",
       "        vertical-align: middle;\n",
       "    }\n",
       "\n",
       "    .dataframe tbody tr th {\n",
       "        vertical-align: top;\n",
       "    }\n",
       "\n",
       "    .dataframe thead th {\n",
       "        text-align: right;\n",
       "    }\n",
       "</style>\n",
       "<table border=\"1\" class=\"dataframe\">\n",
       "  <thead>\n",
       "    <tr style=\"text-align: right;\">\n",
       "      <th></th>\n",
       "      <th>user_id</th>\n",
       "      <th>event_dt</th>\n",
       "      <th>event_name</th>\n",
       "      <th>details</th>\n",
       "    </tr>\n",
       "  </thead>\n",
       "  <tbody>\n",
       "    <tr>\n",
       "      <th>0</th>\n",
       "      <td>E1BDDCE0DAFA2679</td>\n",
       "      <td>2020-12-07 20:22:03</td>\n",
       "      <td>purchase</td>\n",
       "      <td>99.99</td>\n",
       "    </tr>\n",
       "    <tr>\n",
       "      <th>1</th>\n",
       "      <td>7B6452F081F49504</td>\n",
       "      <td>2020-12-07 09:22:53</td>\n",
       "      <td>purchase</td>\n",
       "      <td>9.99</td>\n",
       "    </tr>\n",
       "    <tr>\n",
       "      <th>2</th>\n",
       "      <td>9CD9F34546DF254C</td>\n",
       "      <td>2020-12-07 12:59:29</td>\n",
       "      <td>purchase</td>\n",
       "      <td>4.99</td>\n",
       "    </tr>\n",
       "    <tr>\n",
       "      <th>3</th>\n",
       "      <td>96F27A054B191457</td>\n",
       "      <td>2020-12-07 04:02:40</td>\n",
       "      <td>purchase</td>\n",
       "      <td>4.99</td>\n",
       "    </tr>\n",
       "    <tr>\n",
       "      <th>4</th>\n",
       "      <td>1FD7660FDF94CA1F</td>\n",
       "      <td>2020-12-07 10:15:09</td>\n",
       "      <td>purchase</td>\n",
       "      <td>4.99</td>\n",
       "    </tr>\n",
       "  </tbody>\n",
       "</table>\n",
       "</div>"
      ],
      "text/plain": [
       "            user_id             event_dt event_name  details\n",
       "0  E1BDDCE0DAFA2679  2020-12-07 20:22:03   purchase    99.99\n",
       "1  7B6452F081F49504  2020-12-07 09:22:53   purchase     9.99\n",
       "2  9CD9F34546DF254C  2020-12-07 12:59:29   purchase     4.99\n",
       "3  96F27A054B191457  2020-12-07 04:02:40   purchase     4.99\n",
       "4  1FD7660FDF94CA1F  2020-12-07 10:15:09   purchase     4.99"
      ]
     },
     "metadata": {},
     "output_type": "display_data"
    },
    {
     "name": "stdout",
     "output_type": "stream",
     "text": [
      "\n",
      "<class 'pandas.core.frame.DataFrame'>\n",
      "RangeIndex: 440317 entries, 0 to 440316\n",
      "Data columns (total 4 columns):\n",
      " #   Column      Non-Null Count   Dtype  \n",
      "---  ------      --------------   -----  \n",
      " 0   user_id     440317 non-null  object \n",
      " 1   event_dt    440317 non-null  object \n",
      " 2   event_name  440317 non-null  object \n",
      " 3   details     62740 non-null   float64\n",
      "dtypes: float64(1), object(3)\n",
      "memory usage: 13.4+ MB\n"
     ]
    },
    {
     "data": {
      "text/plain": [
       "None"
      ]
     },
     "metadata": {},
     "output_type": "display_data"
    },
    {
     "name": "stdout",
     "output_type": "stream",
     "text": [
      "\n",
      " Кол-во пропусков:\n",
      " user_id            0\n",
      "event_dt           0\n",
      "event_name         0\n",
      "details       377577\n",
      "dtype: int64\n",
      "\n",
      "\n",
      " Кол-во дубликатов: 0\n",
      "\n"
     ]
    },
    {
     "data": {
      "text/html": [
       "<div>\n",
       "<style scoped>\n",
       "    .dataframe tbody tr th:only-of-type {\n",
       "        vertical-align: middle;\n",
       "    }\n",
       "\n",
       "    .dataframe tbody tr th {\n",
       "        vertical-align: top;\n",
       "    }\n",
       "\n",
       "    .dataframe thead th {\n",
       "        text-align: right;\n",
       "    }\n",
       "</style>\n",
       "<table border=\"1\" class=\"dataframe\">\n",
       "  <thead>\n",
       "    <tr style=\"text-align: right;\">\n",
       "      <th></th>\n",
       "      <th>user_id</th>\n",
       "      <th>group</th>\n",
       "      <th>ab_test</th>\n",
       "    </tr>\n",
       "  </thead>\n",
       "  <tbody>\n",
       "    <tr>\n",
       "      <th>0</th>\n",
       "      <td>D1ABA3E2887B6A73</td>\n",
       "      <td>A</td>\n",
       "      <td>recommender_system_test</td>\n",
       "    </tr>\n",
       "    <tr>\n",
       "      <th>1</th>\n",
       "      <td>A7A3664BD6242119</td>\n",
       "      <td>A</td>\n",
       "      <td>recommender_system_test</td>\n",
       "    </tr>\n",
       "    <tr>\n",
       "      <th>2</th>\n",
       "      <td>DABC14FDDFADD29E</td>\n",
       "      <td>A</td>\n",
       "      <td>recommender_system_test</td>\n",
       "    </tr>\n",
       "    <tr>\n",
       "      <th>3</th>\n",
       "      <td>04988C5DF189632E</td>\n",
       "      <td>A</td>\n",
       "      <td>recommender_system_test</td>\n",
       "    </tr>\n",
       "    <tr>\n",
       "      <th>4</th>\n",
       "      <td>482F14783456D21B</td>\n",
       "      <td>B</td>\n",
       "      <td>recommender_system_test</td>\n",
       "    </tr>\n",
       "  </tbody>\n",
       "</table>\n",
       "</div>"
      ],
      "text/plain": [
       "            user_id group                  ab_test\n",
       "0  D1ABA3E2887B6A73     A  recommender_system_test\n",
       "1  A7A3664BD6242119     A  recommender_system_test\n",
       "2  DABC14FDDFADD29E     A  recommender_system_test\n",
       "3  04988C5DF189632E     A  recommender_system_test\n",
       "4  482F14783456D21B     B  recommender_system_test"
      ]
     },
     "metadata": {},
     "output_type": "display_data"
    },
    {
     "name": "stdout",
     "output_type": "stream",
     "text": [
      "\n",
      "<class 'pandas.core.frame.DataFrame'>\n",
      "RangeIndex: 18268 entries, 0 to 18267\n",
      "Data columns (total 3 columns):\n",
      " #   Column   Non-Null Count  Dtype \n",
      "---  ------   --------------  ----- \n",
      " 0   user_id  18268 non-null  object\n",
      " 1   group    18268 non-null  object\n",
      " 2   ab_test  18268 non-null  object\n",
      "dtypes: object(3)\n",
      "memory usage: 428.3+ KB\n"
     ]
    },
    {
     "data": {
      "text/plain": [
       "None"
      ]
     },
     "metadata": {},
     "output_type": "display_data"
    },
    {
     "name": "stdout",
     "output_type": "stream",
     "text": [
      "\n",
      " Кол-во пропусков:\n",
      " user_id    0\n",
      "group      0\n",
      "ab_test    0\n",
      "dtype: int64\n",
      "\n",
      "\n",
      " Кол-во дубликатов: 0\n",
      "\n"
     ]
    }
   ],
   "source": [
    "for df in [marketing_events, new_users, events, participants]:\n",
    "    display(df.head())\n",
    "    print()\n",
    "    display(df.info())\n",
    "    print()\n",
    "    print(f' Кол-во пропусков:\\n {df.isna().sum()}')\n",
    "    print()\n",
    "    print()\n",
    "    print(f' Кол-во дубликатов: {df.duplicated().sum()}')\n",
    "    print()\n"
   ]
  },
  {
   "cell_type": "markdown",
   "metadata": {},
   "source": [
    "Обзор показал, что в таблицах *marketing_events*, *new_users* и *events* все столбцы с датами имеют неверный тип данных, а в таблице *events* есть пропуски. В описании данных указано, что в столбце *details* хранятся дополнительные данные о событиях, в частности для покупок - *purchase*, следовательно, заполнение данного столбца не являлось обязательным. Сгруппируем данные по типам событиям и посмотрим пропуски:"
   ]
  },
  {
   "cell_type": "code",
   "execution_count": 4,
   "metadata": {},
   "outputs": [
    {
     "data": {
      "text/plain": [
       "event_name\n",
       "login               0\n",
       "product_cart        0\n",
       "product_page        0\n",
       "purchase        62740\n",
       "Name: details, dtype: int64"
      ]
     },
     "execution_count": 4,
     "metadata": {},
     "output_type": "execute_result"
    }
   ],
   "source": [
    "events.groupby('event_name')['details'].count()"
   ]
  },
  {
   "cell_type": "markdown",
   "metadata": {},
   "source": [
    "Действитетельно, пропуски есть для всех событий, кроме покупок, следовательно не обращием на на них внимание."
   ]
  },
  {
   "cell_type": "markdown",
   "metadata": {},
   "source": [
    "### 1.2 Предобработка данных"
   ]
  },
  {
   "cell_type": "markdown",
   "metadata": {},
   "source": [
    "Приведем нужному типу все столбцы с датами. Для однотипных действий применим функцию:"
   ]
  },
  {
   "cell_type": "code",
   "execution_count": 5,
   "metadata": {},
   "outputs": [],
   "source": [
    "def date_type(df, col):\n",
    "    df[col] = pd.to_datetime(df[col], format='%Y-%m-%d')\n",
    "    df.info()\n",
    "    print('=======================================')"
   ]
  },
  {
   "cell_type": "code",
   "execution_count": 6,
   "metadata": {
    "scrolled": false
   },
   "outputs": [
    {
     "name": "stdout",
     "output_type": "stream",
     "text": [
      "<class 'pandas.core.frame.DataFrame'>\n",
      "RangeIndex: 14 entries, 0 to 13\n",
      "Data columns (total 4 columns):\n",
      " #   Column     Non-Null Count  Dtype         \n",
      "---  ------     --------------  -----         \n",
      " 0   name       14 non-null     object        \n",
      " 1   regions    14 non-null     object        \n",
      " 2   start_dt   14 non-null     datetime64[ns]\n",
      " 3   finish_dt  14 non-null     object        \n",
      "dtypes: datetime64[ns](1), object(3)\n",
      "memory usage: 576.0+ bytes\n",
      "=======================================\n",
      "<class 'pandas.core.frame.DataFrame'>\n",
      "RangeIndex: 14 entries, 0 to 13\n",
      "Data columns (total 4 columns):\n",
      " #   Column     Non-Null Count  Dtype         \n",
      "---  ------     --------------  -----         \n",
      " 0   name       14 non-null     object        \n",
      " 1   regions    14 non-null     object        \n",
      " 2   start_dt   14 non-null     datetime64[ns]\n",
      " 3   finish_dt  14 non-null     object        \n",
      "dtypes: datetime64[ns](1), object(3)\n",
      "memory usage: 576.0+ bytes\n",
      "=======================================\n",
      "<class 'pandas.core.frame.DataFrame'>\n",
      "RangeIndex: 61733 entries, 0 to 61732\n",
      "Data columns (total 4 columns):\n",
      " #   Column      Non-Null Count  Dtype         \n",
      "---  ------      --------------  -----         \n",
      " 0   user_id     61733 non-null  object        \n",
      " 1   first_date  61733 non-null  datetime64[ns]\n",
      " 2   region      61733 non-null  object        \n",
      " 3   device      61733 non-null  object        \n",
      "dtypes: datetime64[ns](1), object(3)\n",
      "memory usage: 1.9+ MB\n",
      "=======================================\n",
      "<class 'pandas.core.frame.DataFrame'>\n",
      "RangeIndex: 440317 entries, 0 to 440316\n",
      "Data columns (total 4 columns):\n",
      " #   Column      Non-Null Count   Dtype         \n",
      "---  ------      --------------   -----         \n",
      " 0   user_id     440317 non-null  object        \n",
      " 1   event_dt    440317 non-null  datetime64[ns]\n",
      " 2   event_name  440317 non-null  object        \n",
      " 3   details     62740 non-null   float64       \n",
      "dtypes: datetime64[ns](1), float64(1), object(2)\n",
      "memory usage: 13.4+ MB\n",
      "=======================================\n"
     ]
    }
   ],
   "source": [
    "date_type(marketing_events, 'start_dt')\n",
    "date_type(marketing_events, 'start_dt')\n",
    "date_type(new_users, 'first_date')\n",
    "date_type(events, 'event_dt')"
   ]
  },
  {
   "cell_type": "markdown",
   "metadata": {},
   "source": [
    "Все даты теперь в нужном формате. В столбце *event_dt* таблицы *events* собрана информация о дате и времени события. Для удобства работы с данными, создадим еще один дополнительный столбец с датой - *event_date*:"
   ]
  },
  {
   "cell_type": "code",
   "execution_count": 7,
   "metadata": {},
   "outputs": [],
   "source": [
    "events['event_date'] = events['event_dt'].dt.date"
   ]
  },
  {
   "cell_type": "markdown",
   "metadata": {},
   "source": [
    "Объединим теперь таблицы participants, new_users и events по общему столбцу user_id:"
   ]
  },
  {
   "cell_type": "code",
   "execution_count": 8,
   "metadata": {},
   "outputs": [
    {
     "name": "stdout",
     "output_type": "stream",
     "text": [
      "<class 'pandas.core.frame.DataFrame'>\n",
      "Int64Index: 110368 entries, 0 to 110367\n",
      "Data columns (total 10 columns):\n",
      " #   Column      Non-Null Count   Dtype         \n",
      "---  ------      --------------   -----         \n",
      " 0   user_id     110368 non-null  object        \n",
      " 1   group       110368 non-null  object        \n",
      " 2   ab_test     110368 non-null  object        \n",
      " 3   first_date  110368 non-null  datetime64[ns]\n",
      " 4   region      110368 non-null  object        \n",
      " 5   device      110368 non-null  object        \n",
      " 6   event_dt    106625 non-null  datetime64[ns]\n",
      " 7   event_name  106625 non-null  object        \n",
      " 8   details     15416 non-null   float64       \n",
      " 9   event_date  106625 non-null  object        \n",
      "dtypes: datetime64[ns](2), float64(1), object(7)\n",
      "memory usage: 9.3+ MB\n"
     ]
    },
    {
     "data": {
      "text/html": [
       "<div>\n",
       "<style scoped>\n",
       "    .dataframe tbody tr th:only-of-type {\n",
       "        vertical-align: middle;\n",
       "    }\n",
       "\n",
       "    .dataframe tbody tr th {\n",
       "        vertical-align: top;\n",
       "    }\n",
       "\n",
       "    .dataframe thead th {\n",
       "        text-align: right;\n",
       "    }\n",
       "</style>\n",
       "<table border=\"1\" class=\"dataframe\">\n",
       "  <thead>\n",
       "    <tr style=\"text-align: right;\">\n",
       "      <th></th>\n",
       "      <th>user_id</th>\n",
       "      <th>group</th>\n",
       "      <th>ab_test</th>\n",
       "      <th>first_date</th>\n",
       "      <th>region</th>\n",
       "      <th>device</th>\n",
       "      <th>event_dt</th>\n",
       "      <th>event_name</th>\n",
       "      <th>details</th>\n",
       "      <th>event_date</th>\n",
       "    </tr>\n",
       "  </thead>\n",
       "  <tbody>\n",
       "    <tr>\n",
       "      <th>0</th>\n",
       "      <td>D1ABA3E2887B6A73</td>\n",
       "      <td>A</td>\n",
       "      <td>recommender_system_test</td>\n",
       "      <td>2020-12-07</td>\n",
       "      <td>EU</td>\n",
       "      <td>PC</td>\n",
       "      <td>2020-12-07 14:43:27</td>\n",
       "      <td>purchase</td>\n",
       "      <td>99.99</td>\n",
       "      <td>2020-12-07</td>\n",
       "    </tr>\n",
       "    <tr>\n",
       "      <th>1</th>\n",
       "      <td>D1ABA3E2887B6A73</td>\n",
       "      <td>A</td>\n",
       "      <td>recommender_system_test</td>\n",
       "      <td>2020-12-07</td>\n",
       "      <td>EU</td>\n",
       "      <td>PC</td>\n",
       "      <td>2020-12-25 00:04:56</td>\n",
       "      <td>purchase</td>\n",
       "      <td>4.99</td>\n",
       "      <td>2020-12-25</td>\n",
       "    </tr>\n",
       "    <tr>\n",
       "      <th>2</th>\n",
       "      <td>D1ABA3E2887B6A73</td>\n",
       "      <td>A</td>\n",
       "      <td>recommender_system_test</td>\n",
       "      <td>2020-12-07</td>\n",
       "      <td>EU</td>\n",
       "      <td>PC</td>\n",
       "      <td>2020-12-07 14:43:29</td>\n",
       "      <td>product_cart</td>\n",
       "      <td>NaN</td>\n",
       "      <td>2020-12-07</td>\n",
       "    </tr>\n",
       "    <tr>\n",
       "      <th>3</th>\n",
       "      <td>D1ABA3E2887B6A73</td>\n",
       "      <td>A</td>\n",
       "      <td>recommender_system_test</td>\n",
       "      <td>2020-12-07</td>\n",
       "      <td>EU</td>\n",
       "      <td>PC</td>\n",
       "      <td>2020-12-25 00:04:57</td>\n",
       "      <td>product_cart</td>\n",
       "      <td>NaN</td>\n",
       "      <td>2020-12-25</td>\n",
       "    </tr>\n",
       "    <tr>\n",
       "      <th>4</th>\n",
       "      <td>D1ABA3E2887B6A73</td>\n",
       "      <td>A</td>\n",
       "      <td>recommender_system_test</td>\n",
       "      <td>2020-12-07</td>\n",
       "      <td>EU</td>\n",
       "      <td>PC</td>\n",
       "      <td>2020-12-07 14:43:27</td>\n",
       "      <td>product_page</td>\n",
       "      <td>NaN</td>\n",
       "      <td>2020-12-07</td>\n",
       "    </tr>\n",
       "  </tbody>\n",
       "</table>\n",
       "</div>"
      ],
      "text/plain": [
       "            user_id group                  ab_test first_date region device  \\\n",
       "0  D1ABA3E2887B6A73     A  recommender_system_test 2020-12-07     EU     PC   \n",
       "1  D1ABA3E2887B6A73     A  recommender_system_test 2020-12-07     EU     PC   \n",
       "2  D1ABA3E2887B6A73     A  recommender_system_test 2020-12-07     EU     PC   \n",
       "3  D1ABA3E2887B6A73     A  recommender_system_test 2020-12-07     EU     PC   \n",
       "4  D1ABA3E2887B6A73     A  recommender_system_test 2020-12-07     EU     PC   \n",
       "\n",
       "             event_dt    event_name  details  event_date  \n",
       "0 2020-12-07 14:43:27      purchase    99.99  2020-12-07  \n",
       "1 2020-12-25 00:04:56      purchase     4.99  2020-12-25  \n",
       "2 2020-12-07 14:43:29  product_cart      NaN  2020-12-07  \n",
       "3 2020-12-25 00:04:57  product_cart      NaN  2020-12-25  \n",
       "4 2020-12-07 14:43:27  product_page      NaN  2020-12-07  "
      ]
     },
     "execution_count": 8,
     "metadata": {},
     "output_type": "execute_result"
    }
   ],
   "source": [
    "df = participants.merge(new_users, on='user_id', how='left').merge(events, on='user_id', how='left')\n",
    "df.info()\n",
    "df.head()"
   ]
  },
  {
   "cell_type": "markdown",
   "metadata": {},
   "source": [
    "Объединение данных прошло успешно. В столбцах от присоединенной таблицы *events* теперь есть пропущенные значения, это нормально, поскольку в них собраны события и не все пользователи должны были их совершать."
   ]
  },
  {
   "cell_type": "markdown",
   "metadata": {},
   "source": [
    "### 1.3 Вывод"
   ]
  },
  {
   "cell_type": "markdown",
   "metadata": {},
   "source": [
    "**На этапе обзора и предобработки данных можно выделить следующее:**  \n",
    "\n",
    "<br> 1. В столбце *details* таблицы *events* найдены пропуски. Установлено, что в этом столбце хранится только дополнительная информация о стоимости покупок для событий purchase, что соответствует описанию данных. На этом основании пропуски оставлены без изменений.\n",
    "\n",
    "<br> 2. Обнаружен неверный тип данных в столбцах с датами в  таблиц *marketing_events*, *new_users* и *events*. Данные приведены к нужному типу. \n",
    "\n",
    "<br> 3. Для удобства работы с данными в таблицу *events* добавлен столбец с датой *events_date* (без времени).\n",
    "\n",
    "<br> 4. Таблицы *participants*, *new_users* и *events* объединены в один датасет по общему столбцу *user_id*"
   ]
  },
  {
   "cell_type": "markdown",
   "metadata": {},
   "source": [
    "## 2 Оценка корректности проведения теста"
   ]
  },
  {
   "cell_type": "markdown",
   "metadata": {},
   "source": [
    "### 2.1 Проверка на соответствие данных требованиям технического задания"
   ]
  },
  {
   "attachments": {},
   "cell_type": "markdown",
   "metadata": {},
   "source": [
    "**Название теста** (recommender_system_test):"
   ]
  },
  {
   "cell_type": "code",
   "execution_count": 9,
   "metadata": {},
   "outputs": [
    {
     "data": {
      "text/plain": [
       "array(['recommender_system_test', 'interface_eu_test'], dtype=object)"
      ]
     },
     "execution_count": 9,
     "metadata": {},
     "output_type": "execute_result"
    }
   ],
   "source": [
    "df['ab_test'].unique()"
   ]
  },
  {
   "cell_type": "markdown",
   "metadata": {},
   "source": [
    "В таблице собрана информация о двух тестах. Название теста \"recommender_system_test\" ТЗ **соответствует**. Очистим ненужные данные:"
   ]
  },
  {
   "cell_type": "code",
   "execution_count": 10,
   "metadata": {},
   "outputs": [
    {
     "data": {
      "text/html": [
       "<div>\n",
       "<style scoped>\n",
       "    .dataframe tbody tr th:only-of-type {\n",
       "        vertical-align: middle;\n",
       "    }\n",
       "\n",
       "    .dataframe tbody tr th {\n",
       "        vertical-align: top;\n",
       "    }\n",
       "\n",
       "    .dataframe thead th {\n",
       "        text-align: right;\n",
       "    }\n",
       "</style>\n",
       "<table border=\"1\" class=\"dataframe\">\n",
       "  <thead>\n",
       "    <tr style=\"text-align: right;\">\n",
       "      <th></th>\n",
       "      <th>user_id</th>\n",
       "      <th>group</th>\n",
       "      <th>ab_test</th>\n",
       "      <th>first_date</th>\n",
       "      <th>region</th>\n",
       "      <th>device</th>\n",
       "      <th>event_dt</th>\n",
       "      <th>event_name</th>\n",
       "      <th>details</th>\n",
       "      <th>event_date</th>\n",
       "    </tr>\n",
       "  </thead>\n",
       "  <tbody>\n",
       "    <tr>\n",
       "      <th>0</th>\n",
       "      <td>D1ABA3E2887B6A73</td>\n",
       "      <td>A</td>\n",
       "      <td>recommender_system_test</td>\n",
       "      <td>2020-12-07</td>\n",
       "      <td>EU</td>\n",
       "      <td>PC</td>\n",
       "      <td>2020-12-07 14:43:27</td>\n",
       "      <td>purchase</td>\n",
       "      <td>99.99</td>\n",
       "      <td>2020-12-07</td>\n",
       "    </tr>\n",
       "    <tr>\n",
       "      <th>1</th>\n",
       "      <td>D1ABA3E2887B6A73</td>\n",
       "      <td>A</td>\n",
       "      <td>recommender_system_test</td>\n",
       "      <td>2020-12-07</td>\n",
       "      <td>EU</td>\n",
       "      <td>PC</td>\n",
       "      <td>2020-12-25 00:04:56</td>\n",
       "      <td>purchase</td>\n",
       "      <td>4.99</td>\n",
       "      <td>2020-12-25</td>\n",
       "    </tr>\n",
       "    <tr>\n",
       "      <th>2</th>\n",
       "      <td>D1ABA3E2887B6A73</td>\n",
       "      <td>A</td>\n",
       "      <td>recommender_system_test</td>\n",
       "      <td>2020-12-07</td>\n",
       "      <td>EU</td>\n",
       "      <td>PC</td>\n",
       "      <td>2020-12-07 14:43:29</td>\n",
       "      <td>product_cart</td>\n",
       "      <td>NaN</td>\n",
       "      <td>2020-12-07</td>\n",
       "    </tr>\n",
       "    <tr>\n",
       "      <th>3</th>\n",
       "      <td>D1ABA3E2887B6A73</td>\n",
       "      <td>A</td>\n",
       "      <td>recommender_system_test</td>\n",
       "      <td>2020-12-07</td>\n",
       "      <td>EU</td>\n",
       "      <td>PC</td>\n",
       "      <td>2020-12-25 00:04:57</td>\n",
       "      <td>product_cart</td>\n",
       "      <td>NaN</td>\n",
       "      <td>2020-12-25</td>\n",
       "    </tr>\n",
       "    <tr>\n",
       "      <th>4</th>\n",
       "      <td>D1ABA3E2887B6A73</td>\n",
       "      <td>A</td>\n",
       "      <td>recommender_system_test</td>\n",
       "      <td>2020-12-07</td>\n",
       "      <td>EU</td>\n",
       "      <td>PC</td>\n",
       "      <td>2020-12-07 14:43:27</td>\n",
       "      <td>product_page</td>\n",
       "      <td>NaN</td>\n",
       "      <td>2020-12-07</td>\n",
       "    </tr>\n",
       "    <tr>\n",
       "      <th>...</th>\n",
       "      <td>...</td>\n",
       "      <td>...</td>\n",
       "      <td>...</td>\n",
       "      <td>...</td>\n",
       "      <td>...</td>\n",
       "      <td>...</td>\n",
       "      <td>...</td>\n",
       "      <td>...</td>\n",
       "      <td>...</td>\n",
       "      <td>...</td>\n",
       "    </tr>\n",
       "    <tr>\n",
       "      <th>27719</th>\n",
       "      <td>6715343AFBA285AE</td>\n",
       "      <td>B</td>\n",
       "      <td>recommender_system_test</td>\n",
       "      <td>2020-12-07</td>\n",
       "      <td>CIS</td>\n",
       "      <td>Android</td>\n",
       "      <td>2020-12-07 10:12:15</td>\n",
       "      <td>login</td>\n",
       "      <td>NaN</td>\n",
       "      <td>2020-12-07</td>\n",
       "    </tr>\n",
       "    <tr>\n",
       "      <th>27720</th>\n",
       "      <td>6715343AFBA285AE</td>\n",
       "      <td>B</td>\n",
       "      <td>recommender_system_test</td>\n",
       "      <td>2020-12-07</td>\n",
       "      <td>CIS</td>\n",
       "      <td>Android</td>\n",
       "      <td>2020-12-08 22:51:16</td>\n",
       "      <td>login</td>\n",
       "      <td>NaN</td>\n",
       "      <td>2020-12-08</td>\n",
       "    </tr>\n",
       "    <tr>\n",
       "      <th>27721</th>\n",
       "      <td>6715343AFBA285AE</td>\n",
       "      <td>B</td>\n",
       "      <td>recommender_system_test</td>\n",
       "      <td>2020-12-07</td>\n",
       "      <td>CIS</td>\n",
       "      <td>Android</td>\n",
       "      <td>2020-12-09 02:28:03</td>\n",
       "      <td>login</td>\n",
       "      <td>NaN</td>\n",
       "      <td>2020-12-09</td>\n",
       "    </tr>\n",
       "    <tr>\n",
       "      <th>27722</th>\n",
       "      <td>6715343AFBA285AE</td>\n",
       "      <td>B</td>\n",
       "      <td>recommender_system_test</td>\n",
       "      <td>2020-12-07</td>\n",
       "      <td>CIS</td>\n",
       "      <td>Android</td>\n",
       "      <td>2020-12-10 22:55:14</td>\n",
       "      <td>login</td>\n",
       "      <td>NaN</td>\n",
       "      <td>2020-12-10</td>\n",
       "    </tr>\n",
       "    <tr>\n",
       "      <th>27723</th>\n",
       "      <td>6715343AFBA285AE</td>\n",
       "      <td>B</td>\n",
       "      <td>recommender_system_test</td>\n",
       "      <td>2020-12-07</td>\n",
       "      <td>CIS</td>\n",
       "      <td>Android</td>\n",
       "      <td>2020-12-14 12:40:41</td>\n",
       "      <td>login</td>\n",
       "      <td>NaN</td>\n",
       "      <td>2020-12-14</td>\n",
       "    </tr>\n",
       "  </tbody>\n",
       "</table>\n",
       "<p>27724 rows × 10 columns</p>\n",
       "</div>"
      ],
      "text/plain": [
       "                user_id group                  ab_test first_date region  \\\n",
       "0      D1ABA3E2887B6A73     A  recommender_system_test 2020-12-07     EU   \n",
       "1      D1ABA3E2887B6A73     A  recommender_system_test 2020-12-07     EU   \n",
       "2      D1ABA3E2887B6A73     A  recommender_system_test 2020-12-07     EU   \n",
       "3      D1ABA3E2887B6A73     A  recommender_system_test 2020-12-07     EU   \n",
       "4      D1ABA3E2887B6A73     A  recommender_system_test 2020-12-07     EU   \n",
       "...                 ...   ...                      ...        ...    ...   \n",
       "27719  6715343AFBA285AE     B  recommender_system_test 2020-12-07    CIS   \n",
       "27720  6715343AFBA285AE     B  recommender_system_test 2020-12-07    CIS   \n",
       "27721  6715343AFBA285AE     B  recommender_system_test 2020-12-07    CIS   \n",
       "27722  6715343AFBA285AE     B  recommender_system_test 2020-12-07    CIS   \n",
       "27723  6715343AFBA285AE     B  recommender_system_test 2020-12-07    CIS   \n",
       "\n",
       "        device            event_dt    event_name  details  event_date  \n",
       "0           PC 2020-12-07 14:43:27      purchase    99.99  2020-12-07  \n",
       "1           PC 2020-12-25 00:04:56      purchase     4.99  2020-12-25  \n",
       "2           PC 2020-12-07 14:43:29  product_cart      NaN  2020-12-07  \n",
       "3           PC 2020-12-25 00:04:57  product_cart      NaN  2020-12-25  \n",
       "4           PC 2020-12-07 14:43:27  product_page      NaN  2020-12-07  \n",
       "...        ...                 ...           ...      ...         ...  \n",
       "27719  Android 2020-12-07 10:12:15         login      NaN  2020-12-07  \n",
       "27720  Android 2020-12-08 22:51:16         login      NaN  2020-12-08  \n",
       "27721  Android 2020-12-09 02:28:03         login      NaN  2020-12-09  \n",
       "27722  Android 2020-12-10 22:55:14         login      NaN  2020-12-10  \n",
       "27723  Android 2020-12-14 12:40:41         login      NaN  2020-12-14  \n",
       "\n",
       "[27724 rows x 10 columns]"
      ]
     },
     "execution_count": 10,
     "metadata": {},
     "output_type": "execute_result"
    }
   ],
   "source": [
    "df.query('ab_test == \"recommender_system_test\"')"
   ]
  },
  {
   "cell_type": "code",
   "execution_count": 11,
   "metadata": {},
   "outputs": [
    {
     "name": "stdout",
     "output_type": "stream",
     "text": [
      "Удалено 74.9% данных, относящихся к другому тесту.\n"
     ]
    }
   ],
   "source": [
    "metering = len(df)\n",
    "df = df.query('ab_test == \"recommender_system_test\"')\n",
    "print('Удалено {:.1%} данных, относящихся к другому тесту.'.format(1 - len(df) / metering))"
   ]
  },
  {
   "attachments": {},
   "cell_type": "markdown",
   "metadata": {},
   "source": [
    "**Группы** (A — контрольная, B — новая платёжная воронка):"
   ]
  },
  {
   "cell_type": "code",
   "execution_count": 12,
   "metadata": {},
   "outputs": [
    {
     "data": {
      "text/plain": [
       "array(['A', 'B'], dtype=object)"
      ]
     },
     "execution_count": 12,
     "metadata": {},
     "output_type": "execute_result"
    }
   ],
   "source": [
    "df['group'].unique()"
   ]
  },
  {
   "cell_type": "markdown",
   "metadata": {},
   "source": [
    "Участники распределены по двум группам A и B. Группы ТЗ **соответствуют**."
   ]
  },
  {
   "attachments": {},
   "cell_type": "markdown",
   "metadata": {},
   "source": [
    "**Дата запуска** (2020-12-07):"
   ]
  },
  {
   "cell_type": "code",
   "execution_count": 13,
   "metadata": {},
   "outputs": [
    {
     "data": {
      "text/plain": [
       "Timestamp('2020-12-07 00:00:00')"
      ]
     },
     "execution_count": 13,
     "metadata": {},
     "output_type": "execute_result"
    }
   ],
   "source": [
    "df['first_date'].min()"
   ]
  },
  {
   "cell_type": "markdown",
   "metadata": {},
   "source": [
    "Дата запуска ТЗ **соответствует**."
   ]
  },
  {
   "attachments": {},
   "cell_type": "markdown",
   "metadata": {},
   "source": [
    "**Дата остановки набора новых пользователей** (2020-12-21):"
   ]
  },
  {
   "cell_type": "code",
   "execution_count": 14,
   "metadata": {},
   "outputs": [
    {
     "data": {
      "text/plain": [
       "Timestamp('2020-12-21 00:00:00')"
      ]
     },
     "execution_count": 14,
     "metadata": {},
     "output_type": "execute_result"
    }
   ],
   "source": [
    "df['first_date'].max()"
   ]
  },
  {
   "cell_type": "markdown",
   "metadata": {},
   "source": [
    "Дата остановки набора новых пользователей ТЗ **соответствует**."
   ]
  },
  {
   "attachments": {},
   "cell_type": "markdown",
   "metadata": {},
   "source": [
    "**Дата остановки** (2021-01-04):"
   ]
  },
  {
   "cell_type": "code",
   "execution_count": 15,
   "metadata": {},
   "outputs": [
    {
     "data": {
      "text/plain": [
       "Timestamp('2020-12-30 12:42:57')"
      ]
     },
     "execution_count": 15,
     "metadata": {},
     "output_type": "execute_result"
    }
   ],
   "source": [
    "df['event_dt'].max()"
   ]
  },
  {
   "cell_type": "markdown",
   "metadata": {},
   "source": [
    "Дата остановки **не соответствует** ТЗ. Остановка произошла раньше установленного срока, возможно по причине возникновения каких-либо  трудностей технического характера."
   ]
  },
  {
   "attachments": {},
   "cell_type": "markdown",
   "metadata": {},
   "source": [
    "**Аудитория:** (15% новых пользователей из региона EU):"
   ]
  },
  {
   "cell_type": "code",
   "execution_count": 16,
   "metadata": {},
   "outputs": [
    {
     "data": {
      "text/plain": [
       "array(['EU', 'N.America', 'CIS', 'APAC'], dtype=object)"
      ]
     },
     "execution_count": 16,
     "metadata": {},
     "output_type": "execute_result"
    }
   ],
   "source": [
    "df['region'].unique()"
   ]
  },
  {
   "cell_type": "markdown",
   "metadata": {},
   "source": [
    "В датасете присутствуют пользователи из других регионов, их участие в тесте по условиям ТЗ не требуется. Очистим данные и посчитаем результат:"
   ]
  },
  {
   "cell_type": "code",
   "execution_count": 17,
   "metadata": {},
   "outputs": [
    {
     "name": "stdout",
     "output_type": "stream",
     "text": [
      "Удалено 5.2% данных, не соответствующих ТЗ.\n",
      "Аудитория новых пользователей из региона EU составляет 15.0%\n"
     ]
    }
   ],
   "source": [
    "metering = len(df)\n",
    "df = df.query('region == \"EU\"')\n",
    "print('Удалено {:.1%} данных, не соответствующих ТЗ.'.format(1 - len(df) / metering))\n",
    "print('Аудитория новых пользователей из региона EU составляет {0:.1%}'\n",
    "      .format(df.query('first_date <= \"2020-12-21\"')['user_id'].nunique() /\n",
    "                       new_users.query('region == \"EU\" & first_date <= \"2020-12-21\"')['user_id'].nunique()))"
   ]
  },
  {
   "cell_type": "markdown",
   "metadata": {},
   "source": [
    "Аудитория **соответствует** ТЗ."
   ]
  },
  {
   "attachments": {},
   "cell_type": "markdown",
   "metadata": {},
   "source": [
    "**Ожидаемое количество участников теста:** (6000):"
   ]
  },
  {
   "cell_type": "code",
   "execution_count": 18,
   "metadata": {},
   "outputs": [
    {
     "name": "stdout",
     "output_type": "stream",
     "text": [
      "Количество участников теста -  6351 что составляет 105.8% от ожидаемого в ТЗ количества\n"
     ]
    }
   ],
   "source": [
    "print('Количество участников теста - ', df['user_id'].nunique(),\n",
    "      'что составляет {:.1%}'.format(df['user_id'].nunique() / 6000), 'от ожидаемого в ТЗ количества')"
   ]
  },
  {
   "cell_type": "markdown",
   "metadata": {},
   "source": [
    "Количество участников теста на 5,8% больше, т.е. **не соответствует** ТЗ."
   ]
  },
  {
   "attachments": {},
   "cell_type": "markdown",
   "metadata": {},
   "source": [
    "**Вывод:**  \n",
    "\n",
    "\n",
    "В результате проверки соответствия данных требованиям ТЗ, установлено следующее:\n",
    "1. Соответствуют ТЗ:\n",
    "- название теста;\n",
    "- группы;\n",
    "- дата запуска;\n",
    "- дата остановки набора новых пользователей;\n",
    "- аудитория.\n",
    "\n",
    "2. Не соответствуют ТЗ:\n",
    "- дата остановки;\n",
    "- ожидаемое количество участников.\n",
    "3. Кроме того, были найдены данные, относящихся к другому тесту (interface_eu_test), а также участники теста recommender_system_test из других регионов (N.America, CIS, APAC), участие которых по условиям ТЗ в тесте не требовалось. Все лишние данные удалены.\n",
    "\n",
    "Дата остановки тестирования раньше срока, безусловно, является серьезным нарушением ТЗ, поскольку у некоторых пользователей лайфтайм будет составлять менее 14 дней. С другой стороны, удаление большого количества данных может повлечь за собой искажение результатов теста. Поэтому удалять таких пользователей пока не будем."
   ]
  },
  {
   "cell_type": "markdown",
   "metadata": {},
   "source": [
    "### 2.2 Маркетинговые активности во время проведения теста и их влияние"
   ]
  },
  {
   "cell_type": "markdown",
   "metadata": {},
   "source": [
    "Посмотрим, какие маркетинговые активности совпали со временем проведения теста:"
   ]
  },
  {
   "cell_type": "code",
   "execution_count": 19,
   "metadata": {},
   "outputs": [
    {
     "data": {
      "text/html": [
       "<div>\n",
       "<style scoped>\n",
       "    .dataframe tbody tr th:only-of-type {\n",
       "        vertical-align: middle;\n",
       "    }\n",
       "\n",
       "    .dataframe tbody tr th {\n",
       "        vertical-align: top;\n",
       "    }\n",
       "\n",
       "    .dataframe thead th {\n",
       "        text-align: right;\n",
       "    }\n",
       "</style>\n",
       "<table border=\"1\" class=\"dataframe\">\n",
       "  <thead>\n",
       "    <tr style=\"text-align: right;\">\n",
       "      <th></th>\n",
       "      <th>name</th>\n",
       "      <th>regions</th>\n",
       "      <th>start_dt</th>\n",
       "      <th>finish_dt</th>\n",
       "    </tr>\n",
       "  </thead>\n",
       "  <tbody>\n",
       "    <tr>\n",
       "      <th>0</th>\n",
       "      <td>Christmas&amp;New Year Promo</td>\n",
       "      <td>EU, N.America</td>\n",
       "      <td>2020-12-25</td>\n",
       "      <td>2021-01-03</td>\n",
       "    </tr>\n",
       "    <tr>\n",
       "      <th>10</th>\n",
       "      <td>CIS New Year Gift Lottery</td>\n",
       "      <td>CIS</td>\n",
       "      <td>2020-12-30</td>\n",
       "      <td>2021-01-07</td>\n",
       "    </tr>\n",
       "  </tbody>\n",
       "</table>\n",
       "</div>"
      ],
      "text/plain": [
       "                         name        regions   start_dt   finish_dt\n",
       "0    Christmas&New Year Promo  EU, N.America 2020-12-25  2021-01-03\n",
       "10  CIS New Year Gift Lottery            CIS 2020-12-30  2021-01-07"
      ]
     },
     "execution_count": 19,
     "metadata": {},
     "output_type": "execute_result"
    }
   ],
   "source": [
    "marketing_events.query('start_dt >= \"2020-12-07\"')"
   ]
  },
  {
   "cell_type": "markdown",
   "metadata": {},
   "source": [
    "События всего два, а в интересующем нас регионе - всего одно: *Christmas&New Year Promo*. Посмотрим, заметно ли менялась активность Европейских пользователей по событиям с момента запуска этой промо-акции:  "
   ]
  },
  {
   "cell_type": "code",
   "execution_count": 20,
   "metadata": {},
   "outputs": [
    {
     "data": {
      "application/vnd.plotly.v1+json": {
       "config": {
        "plotlyServerURL": "https://plot.ly"
       },
       "data": [
        {
         "name": "Авторизация",
         "type": "scatter",
         "x": [
          "2020-12-07",
          "2020-12-08",
          "2020-12-09",
          "2020-12-10",
          "2020-12-11",
          "2020-12-12",
          "2020-12-13",
          "2020-12-14",
          "2020-12-15",
          "2020-12-16",
          "2020-12-17",
          "2020-12-18",
          "2020-12-19",
          "2020-12-20",
          "2020-12-21",
          "2020-12-22",
          "2020-12-23",
          "2020-12-24",
          "2020-12-25",
          "2020-12-26",
          "2020-12-27",
          "2020-12-28",
          "2020-12-29",
          "2020-12-30"
         ],
         "y": [
          303,
          259,
          332,
          280,
          260,
          270,
          235,
          581,
          561,
          607,
          645,
          670,
          756,
          782,
          1027,
          650,
          521,
          434,
          334,
          304,
          294,
          259,
          229,
          2
         ]
        },
        {
         "name": "Корзина",
         "type": "scatter",
         "x": [
          "2020-12-07",
          "2020-12-08",
          "2020-12-09",
          "2020-12-10",
          "2020-12-11",
          "2020-12-12",
          "2020-12-13",
          "2020-12-14",
          "2020-12-15",
          "2020-12-16",
          "2020-12-17",
          "2020-12-18",
          "2020-12-19",
          "2020-12-20",
          "2020-12-21",
          "2020-12-22",
          "2020-12-23",
          "2020-12-24",
          "2020-12-25",
          "2020-12-26",
          "2020-12-27",
          "2020-12-28",
          "2020-12-29",
          "2020-12-30"
         ],
         "y": [
          76,
          67,
          89,
          77,
          60,
          68,
          50,
          173,
          184,
          196,
          225,
          206,
          241,
          228,
          292,
          174,
          146,
          139,
          81,
          83,
          85,
          76,
          58,
          1
         ]
        },
        {
         "name": "Страница продукта",
         "type": "scatter",
         "x": [
          "2020-12-07",
          "2020-12-08",
          "2020-12-09",
          "2020-12-10",
          "2020-12-11",
          "2020-12-12",
          "2020-12-13",
          "2020-12-14",
          "2020-12-15",
          "2020-12-16",
          "2020-12-17",
          "2020-12-18",
          "2020-12-19",
          "2020-12-20",
          "2020-12-21",
          "2020-12-22",
          "2020-12-23",
          "2020-12-24",
          "2020-12-25",
          "2020-12-26",
          "2020-12-27",
          "2020-12-28",
          "2020-12-29",
          "2020-12-30"
         ],
         "y": [
          193,
          159,
          202,
          155,
          141,
          144,
          129,
          344,
          338,
          381,
          406,
          433,
          479,
          485,
          651,
          406,
          322,
          285,
          214,
          201,
          181,
          160,
          144,
          1
         ]
        },
        {
         "name": "Покупка",
         "type": "scatter",
         "x": [
          "2020-12-07",
          "2020-12-08",
          "2020-12-09",
          "2020-12-10",
          "2020-12-11",
          "2020-12-12",
          "2020-12-13",
          "2020-12-14",
          "2020-12-15",
          "2020-12-16",
          "2020-12-17",
          "2020-12-18",
          "2020-12-19",
          "2020-12-20",
          "2020-12-21",
          "2020-12-22",
          "2020-12-23",
          "2020-12-24",
          "2020-12-25",
          "2020-12-26",
          "2020-12-27",
          "2020-12-28",
          "2020-12-29",
          "2020-12-30"
         ],
         "y": [
          102,
          66,
          86,
          68,
          56,
          63,
          58,
          165,
          169,
          192,
          205,
          194,
          242,
          248,
          334,
          191,
          159,
          141,
          117,
          105,
          101,
          79,
          55,
          null
         ]
        }
       ],
       "layout": {
        "template": {
         "data": {
          "bar": [
           {
            "error_x": {
             "color": "#2a3f5f"
            },
            "error_y": {
             "color": "#2a3f5f"
            },
            "marker": {
             "line": {
              "color": "#E5ECF6",
              "width": 0.5
             },
             "pattern": {
              "fillmode": "overlay",
              "size": 10,
              "solidity": 0.2
             }
            },
            "type": "bar"
           }
          ],
          "barpolar": [
           {
            "marker": {
             "line": {
              "color": "#E5ECF6",
              "width": 0.5
             },
             "pattern": {
              "fillmode": "overlay",
              "size": 10,
              "solidity": 0.2
             }
            },
            "type": "barpolar"
           }
          ],
          "carpet": [
           {
            "aaxis": {
             "endlinecolor": "#2a3f5f",
             "gridcolor": "white",
             "linecolor": "white",
             "minorgridcolor": "white",
             "startlinecolor": "#2a3f5f"
            },
            "baxis": {
             "endlinecolor": "#2a3f5f",
             "gridcolor": "white",
             "linecolor": "white",
             "minorgridcolor": "white",
             "startlinecolor": "#2a3f5f"
            },
            "type": "carpet"
           }
          ],
          "choropleth": [
           {
            "colorbar": {
             "outlinewidth": 0,
             "ticks": ""
            },
            "type": "choropleth"
           }
          ],
          "contour": [
           {
            "colorbar": {
             "outlinewidth": 0,
             "ticks": ""
            },
            "colorscale": [
             [
              0,
              "#0d0887"
             ],
             [
              0.1111111111111111,
              "#46039f"
             ],
             [
              0.2222222222222222,
              "#7201a8"
             ],
             [
              0.3333333333333333,
              "#9c179e"
             ],
             [
              0.4444444444444444,
              "#bd3786"
             ],
             [
              0.5555555555555556,
              "#d8576b"
             ],
             [
              0.6666666666666666,
              "#ed7953"
             ],
             [
              0.7777777777777778,
              "#fb9f3a"
             ],
             [
              0.8888888888888888,
              "#fdca26"
             ],
             [
              1,
              "#f0f921"
             ]
            ],
            "type": "contour"
           }
          ],
          "contourcarpet": [
           {
            "colorbar": {
             "outlinewidth": 0,
             "ticks": ""
            },
            "type": "contourcarpet"
           }
          ],
          "heatmap": [
           {
            "colorbar": {
             "outlinewidth": 0,
             "ticks": ""
            },
            "colorscale": [
             [
              0,
              "#0d0887"
             ],
             [
              0.1111111111111111,
              "#46039f"
             ],
             [
              0.2222222222222222,
              "#7201a8"
             ],
             [
              0.3333333333333333,
              "#9c179e"
             ],
             [
              0.4444444444444444,
              "#bd3786"
             ],
             [
              0.5555555555555556,
              "#d8576b"
             ],
             [
              0.6666666666666666,
              "#ed7953"
             ],
             [
              0.7777777777777778,
              "#fb9f3a"
             ],
             [
              0.8888888888888888,
              "#fdca26"
             ],
             [
              1,
              "#f0f921"
             ]
            ],
            "type": "heatmap"
           }
          ],
          "heatmapgl": [
           {
            "colorbar": {
             "outlinewidth": 0,
             "ticks": ""
            },
            "colorscale": [
             [
              0,
              "#0d0887"
             ],
             [
              0.1111111111111111,
              "#46039f"
             ],
             [
              0.2222222222222222,
              "#7201a8"
             ],
             [
              0.3333333333333333,
              "#9c179e"
             ],
             [
              0.4444444444444444,
              "#bd3786"
             ],
             [
              0.5555555555555556,
              "#d8576b"
             ],
             [
              0.6666666666666666,
              "#ed7953"
             ],
             [
              0.7777777777777778,
              "#fb9f3a"
             ],
             [
              0.8888888888888888,
              "#fdca26"
             ],
             [
              1,
              "#f0f921"
             ]
            ],
            "type": "heatmapgl"
           }
          ],
          "histogram": [
           {
            "marker": {
             "pattern": {
              "fillmode": "overlay",
              "size": 10,
              "solidity": 0.2
             }
            },
            "type": "histogram"
           }
          ],
          "histogram2d": [
           {
            "colorbar": {
             "outlinewidth": 0,
             "ticks": ""
            },
            "colorscale": [
             [
              0,
              "#0d0887"
             ],
             [
              0.1111111111111111,
              "#46039f"
             ],
             [
              0.2222222222222222,
              "#7201a8"
             ],
             [
              0.3333333333333333,
              "#9c179e"
             ],
             [
              0.4444444444444444,
              "#bd3786"
             ],
             [
              0.5555555555555556,
              "#d8576b"
             ],
             [
              0.6666666666666666,
              "#ed7953"
             ],
             [
              0.7777777777777778,
              "#fb9f3a"
             ],
             [
              0.8888888888888888,
              "#fdca26"
             ],
             [
              1,
              "#f0f921"
             ]
            ],
            "type": "histogram2d"
           }
          ],
          "histogram2dcontour": [
           {
            "colorbar": {
             "outlinewidth": 0,
             "ticks": ""
            },
            "colorscale": [
             [
              0,
              "#0d0887"
             ],
             [
              0.1111111111111111,
              "#46039f"
             ],
             [
              0.2222222222222222,
              "#7201a8"
             ],
             [
              0.3333333333333333,
              "#9c179e"
             ],
             [
              0.4444444444444444,
              "#bd3786"
             ],
             [
              0.5555555555555556,
              "#d8576b"
             ],
             [
              0.6666666666666666,
              "#ed7953"
             ],
             [
              0.7777777777777778,
              "#fb9f3a"
             ],
             [
              0.8888888888888888,
              "#fdca26"
             ],
             [
              1,
              "#f0f921"
             ]
            ],
            "type": "histogram2dcontour"
           }
          ],
          "mesh3d": [
           {
            "colorbar": {
             "outlinewidth": 0,
             "ticks": ""
            },
            "type": "mesh3d"
           }
          ],
          "parcoords": [
           {
            "line": {
             "colorbar": {
              "outlinewidth": 0,
              "ticks": ""
             }
            },
            "type": "parcoords"
           }
          ],
          "pie": [
           {
            "automargin": true,
            "type": "pie"
           }
          ],
          "scatter": [
           {
            "fillpattern": {
             "fillmode": "overlay",
             "size": 10,
             "solidity": 0.2
            },
            "type": "scatter"
           }
          ],
          "scatter3d": [
           {
            "line": {
             "colorbar": {
              "outlinewidth": 0,
              "ticks": ""
             }
            },
            "marker": {
             "colorbar": {
              "outlinewidth": 0,
              "ticks": ""
             }
            },
            "type": "scatter3d"
           }
          ],
          "scattercarpet": [
           {
            "marker": {
             "colorbar": {
              "outlinewidth": 0,
              "ticks": ""
             }
            },
            "type": "scattercarpet"
           }
          ],
          "scattergeo": [
           {
            "marker": {
             "colorbar": {
              "outlinewidth": 0,
              "ticks": ""
             }
            },
            "type": "scattergeo"
           }
          ],
          "scattergl": [
           {
            "marker": {
             "colorbar": {
              "outlinewidth": 0,
              "ticks": ""
             }
            },
            "type": "scattergl"
           }
          ],
          "scattermapbox": [
           {
            "marker": {
             "colorbar": {
              "outlinewidth": 0,
              "ticks": ""
             }
            },
            "type": "scattermapbox"
           }
          ],
          "scatterpolar": [
           {
            "marker": {
             "colorbar": {
              "outlinewidth": 0,
              "ticks": ""
             }
            },
            "type": "scatterpolar"
           }
          ],
          "scatterpolargl": [
           {
            "marker": {
             "colorbar": {
              "outlinewidth": 0,
              "ticks": ""
             }
            },
            "type": "scatterpolargl"
           }
          ],
          "scatterternary": [
           {
            "marker": {
             "colorbar": {
              "outlinewidth": 0,
              "ticks": ""
             }
            },
            "type": "scatterternary"
           }
          ],
          "surface": [
           {
            "colorbar": {
             "outlinewidth": 0,
             "ticks": ""
            },
            "colorscale": [
             [
              0,
              "#0d0887"
             ],
             [
              0.1111111111111111,
              "#46039f"
             ],
             [
              0.2222222222222222,
              "#7201a8"
             ],
             [
              0.3333333333333333,
              "#9c179e"
             ],
             [
              0.4444444444444444,
              "#bd3786"
             ],
             [
              0.5555555555555556,
              "#d8576b"
             ],
             [
              0.6666666666666666,
              "#ed7953"
             ],
             [
              0.7777777777777778,
              "#fb9f3a"
             ],
             [
              0.8888888888888888,
              "#fdca26"
             ],
             [
              1,
              "#f0f921"
             ]
            ],
            "type": "surface"
           }
          ],
          "table": [
           {
            "cells": {
             "fill": {
              "color": "#EBF0F8"
             },
             "line": {
              "color": "white"
             }
            },
            "header": {
             "fill": {
              "color": "#C8D4E3"
             },
             "line": {
              "color": "white"
             }
            },
            "type": "table"
           }
          ]
         },
         "layout": {
          "annotationdefaults": {
           "arrowcolor": "#2a3f5f",
           "arrowhead": 0,
           "arrowwidth": 1
          },
          "autotypenumbers": "strict",
          "coloraxis": {
           "colorbar": {
            "outlinewidth": 0,
            "ticks": ""
           }
          },
          "colorscale": {
           "diverging": [
            [
             0,
             "#8e0152"
            ],
            [
             0.1,
             "#c51b7d"
            ],
            [
             0.2,
             "#de77ae"
            ],
            [
             0.3,
             "#f1b6da"
            ],
            [
             0.4,
             "#fde0ef"
            ],
            [
             0.5,
             "#f7f7f7"
            ],
            [
             0.6,
             "#e6f5d0"
            ],
            [
             0.7,
             "#b8e186"
            ],
            [
             0.8,
             "#7fbc41"
            ],
            [
             0.9,
             "#4d9221"
            ],
            [
             1,
             "#276419"
            ]
           ],
           "sequential": [
            [
             0,
             "#0d0887"
            ],
            [
             0.1111111111111111,
             "#46039f"
            ],
            [
             0.2222222222222222,
             "#7201a8"
            ],
            [
             0.3333333333333333,
             "#9c179e"
            ],
            [
             0.4444444444444444,
             "#bd3786"
            ],
            [
             0.5555555555555556,
             "#d8576b"
            ],
            [
             0.6666666666666666,
             "#ed7953"
            ],
            [
             0.7777777777777778,
             "#fb9f3a"
            ],
            [
             0.8888888888888888,
             "#fdca26"
            ],
            [
             1,
             "#f0f921"
            ]
           ],
           "sequentialminus": [
            [
             0,
             "#0d0887"
            ],
            [
             0.1111111111111111,
             "#46039f"
            ],
            [
             0.2222222222222222,
             "#7201a8"
            ],
            [
             0.3333333333333333,
             "#9c179e"
            ],
            [
             0.4444444444444444,
             "#bd3786"
            ],
            [
             0.5555555555555556,
             "#d8576b"
            ],
            [
             0.6666666666666666,
             "#ed7953"
            ],
            [
             0.7777777777777778,
             "#fb9f3a"
            ],
            [
             0.8888888888888888,
             "#fdca26"
            ],
            [
             1,
             "#f0f921"
            ]
           ]
          },
          "colorway": [
           "#636efa",
           "#EF553B",
           "#00cc96",
           "#ab63fa",
           "#FFA15A",
           "#19d3f3",
           "#FF6692",
           "#B6E880",
           "#FF97FF",
           "#FECB52"
          ],
          "font": {
           "color": "#2a3f5f"
          },
          "geo": {
           "bgcolor": "white",
           "lakecolor": "white",
           "landcolor": "#E5ECF6",
           "showlakes": true,
           "showland": true,
           "subunitcolor": "white"
          },
          "hoverlabel": {
           "align": "left"
          },
          "hovermode": "closest",
          "mapbox": {
           "style": "light"
          },
          "paper_bgcolor": "white",
          "plot_bgcolor": "#E5ECF6",
          "polar": {
           "angularaxis": {
            "gridcolor": "white",
            "linecolor": "white",
            "ticks": ""
           },
           "bgcolor": "#E5ECF6",
           "radialaxis": {
            "gridcolor": "white",
            "linecolor": "white",
            "ticks": ""
           }
          },
          "scene": {
           "xaxis": {
            "backgroundcolor": "#E5ECF6",
            "gridcolor": "white",
            "gridwidth": 2,
            "linecolor": "white",
            "showbackground": true,
            "ticks": "",
            "zerolinecolor": "white"
           },
           "yaxis": {
            "backgroundcolor": "#E5ECF6",
            "gridcolor": "white",
            "gridwidth": 2,
            "linecolor": "white",
            "showbackground": true,
            "ticks": "",
            "zerolinecolor": "white"
           },
           "zaxis": {
            "backgroundcolor": "#E5ECF6",
            "gridcolor": "white",
            "gridwidth": 2,
            "linecolor": "white",
            "showbackground": true,
            "ticks": "",
            "zerolinecolor": "white"
           }
          },
          "shapedefaults": {
           "line": {
            "color": "#2a3f5f"
           }
          },
          "ternary": {
           "aaxis": {
            "gridcolor": "white",
            "linecolor": "white",
            "ticks": ""
           },
           "baxis": {
            "gridcolor": "white",
            "linecolor": "white",
            "ticks": ""
           },
           "bgcolor": "#E5ECF6",
           "caxis": {
            "gridcolor": "white",
            "linecolor": "white",
            "ticks": ""
           }
          },
          "title": {
           "x": 0.05
          },
          "xaxis": {
           "automargin": true,
           "gridcolor": "white",
           "linecolor": "white",
           "ticks": "",
           "title": {
            "standoff": 15
           },
           "zerolinecolor": "white",
           "zerolinewidth": 2
          },
          "yaxis": {
           "automargin": true,
           "gridcolor": "white",
           "linecolor": "white",
           "ticks": "",
           "title": {
            "standoff": 15
           },
           "zerolinecolor": "white",
           "zerolinewidth": 2
          }
         }
        },
        "title": {
         "text": "Активность пользователей Европейского региона по видам событий"
        },
        "yaxis": {
         "title": {
          "text": "количество пользователей"
         }
        }
       }
      }
     },
     "metadata": {},
     "output_type": "display_data"
    }
   ],
   "source": [
    "# создаем сводную таблицу с группировкой по дате и расчетом кол-ва пользователей по событмям\n",
    "to_scatter = df.pivot_table(index='event_date', columns='event_name', values=['user_id'], aggfunc='count').reset_index()\n",
    "to_scatter.columns = ['Дата события', 'Авторизация', 'Корзина', 'Страница продукта', 'Покупка']\n",
    "\n",
    "# строим гистограмму:\n",
    "fig = go.Figure()\n",
    "fig.add_trace(go.Scatter(x=to_scatter['Дата события'], y=to_scatter['Авторизация'], name='Авторизация'))\n",
    "fig.add_trace(go.Scatter(x=to_scatter['Дата события'], y=to_scatter['Корзина'], name='Корзина'))\n",
    "fig.add_trace(go.Scatter(x=to_scatter['Дата события'], y=to_scatter['Страница продукта'], name='Страница продукта'))\n",
    "fig.add_trace(go.Scatter(x=to_scatter['Дата события'], y=to_scatter['Покупка'], name='Покупка'))\n",
    "fig.update_layout(title='Активность пользователей Европейского региона по видам событий', yaxis_title='количество пользователей')\n",
    "fig.show()"
   ]
  },
  {
   "attachments": {
    "image.png": {
     "image/png": "[encoded data removed]"
    }
   },
   "cell_type": "markdown",
   "metadata": {},
   "source": [
    "![image.png](attachment:image.png)"
   ]
  },
  {
   "cell_type": "markdown",
   "metadata": {},
   "source": [
    "На графике наблюдается рост активности пользователей, пик которой приходится на 21 декабря, и вероятнее всего он связан с традиционной активностью покупателей перед празднованием католического Рождества. В момент старта промо-акции Christmas&New Year Promo 25 декабря никакой дополнительной активности не замечено, а наоборот, продолжается ее снижение. Поэтому будем считать, что существенного влияния эта промо-акция на покупателей не оказала, и дополнительной корректировки данных в связи с этим не требуется."
   ]
  },
  {
   "cell_type": "markdown",
   "metadata": {},
   "source": [
    "### 2.3 Оценка аудитории теста"
   ]
  },
  {
   "cell_type": "markdown",
   "metadata": {},
   "source": [
    "Как уже было отмечено ранее, в изначальных данных была информация по еще одному тесту - *interface_eu_test*. Эти данные были отфильтрованы, но в оставшихся данных могут оставаться пользователи, участвовшие в том тесте. **Проверим, есть ли пользователи, участвовшие в двух тестах**. Проверим пересечения в сырых данных:"
   ]
  },
  {
   "cell_type": "code",
   "execution_count": 21,
   "metadata": {},
   "outputs": [
    {
     "data": {
      "text/plain": [
       "ab_test    1602\n",
       "dtype: int64"
      ]
     },
     "execution_count": 21,
     "metadata": {},
     "output_type": "execute_result"
    }
   ],
   "source": [
    "participants.groupby('user_id').agg({'ab_test' : 'nunique'}).query('ab_test > 1').count()"
   ]
  },
  {
   "cell_type": "markdown",
   "metadata": {},
   "source": [
    "**Действительно, 1602 пользователя участвовало в двух тестах**. Создадим список с идентификаторами пользователей попавших в обе группы и посмотрим в очищенном датасете количество таких пользователей по группам:"
   ]
  },
  {
   "cell_type": "code",
   "execution_count": 22,
   "metadata": {},
   "outputs": [
    {
     "name": "stdout",
     "output_type": "stream",
     "text": [
      "В группе A - 921 пользователь, участвовавший в двух тестах.\n",
      "В группе B - 681 пользователь, участвовавший в двух тестах.\n"
     ]
    }
   ],
   "source": [
    "double_users = participants.groupby('user_id').agg({'ab_test' : 'nunique'}\n",
    "                                                  ).reset_index().query('ab_test > 1')['user_id'].unique()\n",
    "print('В группе A - {} пользователь, участвовавший в двух тестах.'\n",
    "      .format(df.query('user_id in @double_users & group == \"A\"')['user_id'].nunique()))\n",
    "print('В группе B - {} пользователь, участвовавший в двух тестах.'\n",
    "      .format(df.query('user_id in @double_users & group == \"B\"')['user_id'].nunique()))"
   ]
  },
  {
   "cell_type": "markdown",
   "metadata": {},
   "source": [
    "Да, такие пользователи есть. Теперь **проверим, нет ли пользователей, оказавшихся в группе А и в группе В одновременно**:"
   ]
  },
  {
   "cell_type": "code",
   "execution_count": 23,
   "metadata": {},
   "outputs": [
    {
     "name": "stdout",
     "output_type": "stream",
     "text": [
      "В группе A - 439 пользователей, участвовавших в тесте interface_eu_test группы В\n",
      "В группе B - 337 пользователей, участвовавших в тесте interface_eu_test группы А\n"
     ]
    }
   ],
   "source": [
    "cross_users_a = participants.query('group == \"A\" & ab_test == \"interface_eu_test\" & user_id in @double_users'\n",
    "                                   ).groupby('user_id').agg({'ab_test' : 'nunique'}\n",
    "                                                            ).reset_index()['user_id'].unique()\n",
    "cross_users_b = participants.query('group == \"B\" & ab_test == \"interface_eu_test\" & user_id in @double_users'\n",
    "                                    ).groupby('user_id').agg({'ab_test' : 'nunique'}\n",
    "                                                             ).reset_index()['user_id'].unique()\n",
    "print('В группе A - {} пользователей, участвовавших в тесте interface_eu_test группы В'\n",
    "      .format(df.query('user_id in @cross_users_b & group == \"A\"')['user_id'].nunique()))\n",
    "print('В группе B - {} пользователей, участвовавших в тесте interface_eu_test группы А'\n",
    "      .format(df.query('user_id in @cross_users_a & group == \"B\"')['user_id'].nunique()))"
   ]
  },
  {
   "cell_type": "markdown",
   "metadata": {},
   "source": [
    "И такие пользователи оказались в нашем датасете, и счет их на сотни. Посмотрим, есть ли пересечения среди участников  теста recommender_system_test:"
   ]
  },
  {
   "cell_type": "code",
   "execution_count": 24,
   "metadata": {},
   "outputs": [
    {
     "data": {
      "text/plain": [
       "group    0\n",
       "dtype: int64"
      ]
     },
     "execution_count": 24,
     "metadata": {},
     "output_type": "execute_result"
    }
   ],
   "source": [
    "df.groupby('user_id').agg({'group' : 'nunique'}).query('group>1').count()"
   ]
  },
  {
   "cell_type": "markdown",
   "metadata": {},
   "source": [
    "Хотя бы здесь без сюрпризов, среди участников нашего теста таких пересечений нет.   \n",
    "И все же факт того, что пользователи перекрестно попали в обе группы (хотя и разных тестов), и в таком большом количестве, говорит о плохой подготовке к тестированию. В нашем случае, возможности исправить старые ошибки уже нельзя, и выбор по сути стоит между плохим и очень плохим. Очень плохим в данном случае является удаление значительной части и так уже немногочисленных данных, поскольку сильно уменьшит размер выборки и ее репрезентативность. Кроме того, мы не имеем данных ни о времени проведения теста, ни о том, какие параметры он затрагивал. Также стоит отметить, что пользватели с участием в двух тестах есть и в группе А и в группе В, поэтому, в случае наличия какого-либо влияния, оно будет оказано на обе выборки."
   ]
  },
  {
   "cell_type": "markdown",
   "metadata": {},
   "source": [
    "Теперь можно очистить данные от лишних столбцов *ab_test* и *region*:"
   ]
  },
  {
   "cell_type": "code",
   "execution_count": 25,
   "metadata": {},
   "outputs": [
    {
     "name": "stdout",
     "output_type": "stream",
     "text": [
      "<class 'pandas.core.frame.DataFrame'>\n",
      "Int64Index: 26290 entries, 0 to 26289\n",
      "Data columns (total 8 columns):\n",
      " #   Column      Non-Null Count  Dtype         \n",
      "---  ------      --------------  -----         \n",
      " 0   user_id     26290 non-null  object        \n",
      " 1   group       26290 non-null  object        \n",
      " 2   first_date  26290 non-null  datetime64[ns]\n",
      " 3   device      26290 non-null  object        \n",
      " 4   event_dt    23420 non-null  datetime64[ns]\n",
      " 5   event_name  23420 non-null  object        \n",
      " 6   details     3196 non-null   float64       \n",
      " 7   event_date  23420 non-null  object        \n",
      "dtypes: datetime64[ns](2), float64(1), object(5)\n",
      "memory usage: 1.8+ MB\n"
     ]
    },
    {
     "data": {
      "text/html": [
       "<div>\n",
       "<style scoped>\n",
       "    .dataframe tbody tr th:only-of-type {\n",
       "        vertical-align: middle;\n",
       "    }\n",
       "\n",
       "    .dataframe tbody tr th {\n",
       "        vertical-align: top;\n",
       "    }\n",
       "\n",
       "    .dataframe thead th {\n",
       "        text-align: right;\n",
       "    }\n",
       "</style>\n",
       "<table border=\"1\" class=\"dataframe\">\n",
       "  <thead>\n",
       "    <tr style=\"text-align: right;\">\n",
       "      <th></th>\n",
       "      <th>user_id</th>\n",
       "      <th>group</th>\n",
       "      <th>first_date</th>\n",
       "      <th>device</th>\n",
       "      <th>event_dt</th>\n",
       "      <th>event_name</th>\n",
       "      <th>details</th>\n",
       "      <th>event_date</th>\n",
       "    </tr>\n",
       "  </thead>\n",
       "  <tbody>\n",
       "    <tr>\n",
       "      <th>0</th>\n",
       "      <td>D1ABA3E2887B6A73</td>\n",
       "      <td>A</td>\n",
       "      <td>2020-12-07</td>\n",
       "      <td>PC</td>\n",
       "      <td>2020-12-07 14:43:27</td>\n",
       "      <td>purchase</td>\n",
       "      <td>99.99</td>\n",
       "      <td>2020-12-07</td>\n",
       "    </tr>\n",
       "  </tbody>\n",
       "</table>\n",
       "</div>"
      ],
      "text/plain": [
       "            user_id group first_date device            event_dt event_name  \\\n",
       "0  D1ABA3E2887B6A73     A 2020-12-07     PC 2020-12-07 14:43:27   purchase   \n",
       "\n",
       "   details  event_date  \n",
       "0    99.99  2020-12-07  "
      ]
     },
     "execution_count": 25,
     "metadata": {},
     "output_type": "execute_result"
    }
   ],
   "source": [
    "df.drop(columns=['ab_test', 'region'], inplace=True)\n",
    "df.info()\n",
    "df.head(1)"
   ]
  },
  {
   "cell_type": "markdown",
   "metadata": {},
   "source": [
    "Обратим внимание на еще один момент - количество строк событий у нас меньше количества строк пользователей. Строки с пользователями, не совершавшими никаких событий, но имеющих временные метки, говорят нам об отсутствии действий после регистрации, либо наличии каких-то проблем - неудачной авторизации, или каких-либо еще технических накладок. Эти данные нам точно не пригодятся, удалим их:"
   ]
  },
  {
   "cell_type": "code",
   "execution_count": 26,
   "metadata": {},
   "outputs": [
    {
     "name": "stdout",
     "output_type": "stream",
     "text": [
      "<class 'pandas.core.frame.DataFrame'>\n",
      "Int64Index: 23420 entries, 0 to 26289\n",
      "Data columns (total 8 columns):\n",
      " #   Column      Non-Null Count  Dtype         \n",
      "---  ------      --------------  -----         \n",
      " 0   user_id     23420 non-null  object        \n",
      " 1   group       23420 non-null  object        \n",
      " 2   first_date  23420 non-null  datetime64[ns]\n",
      " 3   device      23420 non-null  object        \n",
      " 4   event_dt    23420 non-null  datetime64[ns]\n",
      " 5   event_name  23420 non-null  object        \n",
      " 6   details     3196 non-null   float64       \n",
      " 7   event_date  23420 non-null  object        \n",
      "dtypes: datetime64[ns](2), float64(1), object(5)\n",
      "memory usage: 1.6+ MB\n"
     ]
    }
   ],
   "source": [
    "df.dropna(subset=['event_name'], inplace=True)\n",
    "df.info()"
   ]
  },
  {
   "cell_type": "markdown",
   "metadata": {},
   "source": [
    "**Проверим равномерность распределения по тестовым группам и правильность их формирования**. При группировке столбцов будут применяться однотипные операции, поэтому подготовим функцию и посмотрим на распределение уникальных пользователей:"
   ]
  },
  {
   "cell_type": "code",
   "execution_count": 27,
   "metadata": {},
   "outputs": [],
   "source": [
    "def ratio_analysis(column, query_trigger):\n",
    "    if query_trigger == 0:\n",
    "        ratio = df.groupby(column).agg(users=('user_id', 'nunique')).reset_index()\n",
    "        ratio['ratio'] = ratio['users']/ ratio['users'].sum()\n",
    "        display(ratio.style.format('{:.1%}', subset='ratio').hide(axis='index'))\n",
    "    else:\n",
    "        print('\\033[1m''Распределение уникальных \\n пользователей группы А:''\\033[0m')\n",
    "        ratio = df.query('group == \"A\"').groupby(column).agg(users=('user_id', 'nunique')).reset_index()\n",
    "        ratio['ratio'] = ratio['users']/ ratio['users'].sum()\n",
    "        display(ratio.style.format('{:.1%}', subset='ratio').hide(axis='index'))\n",
    "        print()\n",
    "        print('\\033[1m''Распределение уникальных \\n пользователей группы В:''\\033[0m')\n",
    "        ratio = df.query('group == \"B\"').groupby(column).agg(users=('user_id', 'nunique')).reset_index()\n",
    "        ratio['ratio'] = ratio['users']/ ratio['users'].sum()\n",
    "        display(ratio.style.format('{:.1%}', subset='ratio').hide(axis='index'))\n",
    "        print('=============================')\n",
    "        print()"
   ]
  },
  {
   "cell_type": "code",
   "execution_count": 28,
   "metadata": {},
   "outputs": [
    {
     "data": {
      "text/html": [
       "<style type=\"text/css\">\n",
       "</style>\n",
       "<table id=\"T_551d1\">\n",
       "  <thead>\n",
       "    <tr>\n",
       "      <th id=\"T_551d1_level0_col0\" class=\"col_heading level0 col0\" >group</th>\n",
       "      <th id=\"T_551d1_level0_col1\" class=\"col_heading level0 col1\" >users</th>\n",
       "      <th id=\"T_551d1_level0_col2\" class=\"col_heading level0 col2\" >ratio</th>\n",
       "    </tr>\n",
       "  </thead>\n",
       "  <tbody>\n",
       "    <tr>\n",
       "      <td id=\"T_551d1_row0_col0\" class=\"data row0 col0\" >A</td>\n",
       "      <td id=\"T_551d1_row0_col1\" class=\"data row0 col1\" >2604</td>\n",
       "      <td id=\"T_551d1_row0_col2\" class=\"data row0 col2\" >74.8%</td>\n",
       "    </tr>\n",
       "    <tr>\n",
       "      <td id=\"T_551d1_row1_col0\" class=\"data row1 col0\" >B</td>\n",
       "      <td id=\"T_551d1_row1_col1\" class=\"data row1 col1\" >877</td>\n",
       "      <td id=\"T_551d1_row1_col2\" class=\"data row1 col2\" >25.2%</td>\n",
       "    </tr>\n",
       "  </tbody>\n",
       "</table>\n"
      ],
      "text/plain": [
       "<pandas.io.formats.style.Styler at 0x254af05fee0>"
      ]
     },
     "metadata": {},
     "output_type": "display_data"
    }
   ],
   "source": [
    "ratio_analysis('group', 0)"
   ]
  },
  {
   "cell_type": "markdown",
   "metadata": {},
   "source": [
    "Группы сформированы крайне неравномерно, в контрольной группе А пользователей в три раза больше. Это безусловно отразится на результатах исследования, поскольку уверенность в оценке меньшей группы будет ниже, т.к. будет более шумной. Но поскольку вернуться к этапу подготовки теста и все исправить невозможно, будем работать с тем, что есть.  \n",
    "Посмотрим, как распределились уникальные пользователи по устройствам и событиям:"
   ]
  },
  {
   "cell_type": "code",
   "execution_count": 29,
   "metadata": {
    "scrolled": false
   },
   "outputs": [
    {
     "name": "stdout",
     "output_type": "stream",
     "text": [
      "\u001b[1mРаспределение уникальных \n",
      " пользователей группы А:\u001b[0m\n"
     ]
    },
    {
     "data": {
      "text/html": [
       "<style type=\"text/css\">\n",
       "</style>\n",
       "<table id=\"T_cb4b2\">\n",
       "  <thead>\n",
       "    <tr>\n",
       "      <th id=\"T_cb4b2_level0_col0\" class=\"col_heading level0 col0\" >device</th>\n",
       "      <th id=\"T_cb4b2_level0_col1\" class=\"col_heading level0 col1\" >users</th>\n",
       "      <th id=\"T_cb4b2_level0_col2\" class=\"col_heading level0 col2\" >ratio</th>\n",
       "    </tr>\n",
       "  </thead>\n",
       "  <tbody>\n",
       "    <tr>\n",
       "      <td id=\"T_cb4b2_row0_col0\" class=\"data row0 col0\" >Android</td>\n",
       "      <td id=\"T_cb4b2_row0_col1\" class=\"data row0 col1\" >1139</td>\n",
       "      <td id=\"T_cb4b2_row0_col2\" class=\"data row0 col2\" >43.7%</td>\n",
       "    </tr>\n",
       "    <tr>\n",
       "      <td id=\"T_cb4b2_row1_col0\" class=\"data row1 col0\" >Mac</td>\n",
       "      <td id=\"T_cb4b2_row1_col1\" class=\"data row1 col1\" >255</td>\n",
       "      <td id=\"T_cb4b2_row1_col2\" class=\"data row1 col2\" >9.8%</td>\n",
       "    </tr>\n",
       "    <tr>\n",
       "      <td id=\"T_cb4b2_row2_col0\" class=\"data row2 col0\" >PC</td>\n",
       "      <td id=\"T_cb4b2_row2_col1\" class=\"data row2 col1\" >689</td>\n",
       "      <td id=\"T_cb4b2_row2_col2\" class=\"data row2 col2\" >26.5%</td>\n",
       "    </tr>\n",
       "    <tr>\n",
       "      <td id=\"T_cb4b2_row3_col0\" class=\"data row3 col0\" >iPhone</td>\n",
       "      <td id=\"T_cb4b2_row3_col1\" class=\"data row3 col1\" >521</td>\n",
       "      <td id=\"T_cb4b2_row3_col2\" class=\"data row3 col2\" >20.0%</td>\n",
       "    </tr>\n",
       "  </tbody>\n",
       "</table>\n"
      ],
      "text/plain": [
       "<pandas.io.formats.style.Styler at 0x254ad067d60>"
      ]
     },
     "metadata": {},
     "output_type": "display_data"
    },
    {
     "name": "stdout",
     "output_type": "stream",
     "text": [
      "\n",
      "\u001b[1mРаспределение уникальных \n",
      " пользователей группы В:\u001b[0m\n"
     ]
    },
    {
     "data": {
      "text/html": [
       "<style type=\"text/css\">\n",
       "</style>\n",
       "<table id=\"T_681d4\">\n",
       "  <thead>\n",
       "    <tr>\n",
       "      <th id=\"T_681d4_level0_col0\" class=\"col_heading level0 col0\" >device</th>\n",
       "      <th id=\"T_681d4_level0_col1\" class=\"col_heading level0 col1\" >users</th>\n",
       "      <th id=\"T_681d4_level0_col2\" class=\"col_heading level0 col2\" >ratio</th>\n",
       "    </tr>\n",
       "  </thead>\n",
       "  <tbody>\n",
       "    <tr>\n",
       "      <td id=\"T_681d4_row0_col0\" class=\"data row0 col0\" >Android</td>\n",
       "      <td id=\"T_681d4_row0_col1\" class=\"data row0 col1\" >405</td>\n",
       "      <td id=\"T_681d4_row0_col2\" class=\"data row0 col2\" >46.2%</td>\n",
       "    </tr>\n",
       "    <tr>\n",
       "      <td id=\"T_681d4_row1_col0\" class=\"data row1 col0\" >Mac</td>\n",
       "      <td id=\"T_681d4_row1_col1\" class=\"data row1 col1\" >74</td>\n",
       "      <td id=\"T_681d4_row1_col2\" class=\"data row1 col2\" >8.4%</td>\n",
       "    </tr>\n",
       "    <tr>\n",
       "      <td id=\"T_681d4_row2_col0\" class=\"data row2 col0\" >PC</td>\n",
       "      <td id=\"T_681d4_row2_col1\" class=\"data row2 col1\" >212</td>\n",
       "      <td id=\"T_681d4_row2_col2\" class=\"data row2 col2\" >24.2%</td>\n",
       "    </tr>\n",
       "    <tr>\n",
       "      <td id=\"T_681d4_row3_col0\" class=\"data row3 col0\" >iPhone</td>\n",
       "      <td id=\"T_681d4_row3_col1\" class=\"data row3 col1\" >186</td>\n",
       "      <td id=\"T_681d4_row3_col2\" class=\"data row3 col2\" >21.2%</td>\n",
       "    </tr>\n",
       "  </tbody>\n",
       "</table>\n"
      ],
      "text/plain": [
       "<pandas.io.formats.style.Styler at 0x254ad0574f0>"
      ]
     },
     "metadata": {},
     "output_type": "display_data"
    },
    {
     "name": "stdout",
     "output_type": "stream",
     "text": [
      "=============================\n",
      "\n",
      "\u001b[1mРаспределение уникальных \n",
      " пользователей группы А:\u001b[0m\n"
     ]
    },
    {
     "data": {
      "text/html": [
       "<style type=\"text/css\">\n",
       "</style>\n",
       "<table id=\"T_6b155\">\n",
       "  <thead>\n",
       "    <tr>\n",
       "      <th id=\"T_6b155_level0_col0\" class=\"col_heading level0 col0\" >event_name</th>\n",
       "      <th id=\"T_6b155_level0_col1\" class=\"col_heading level0 col1\" >users</th>\n",
       "      <th id=\"T_6b155_level0_col2\" class=\"col_heading level0 col2\" >ratio</th>\n",
       "    </tr>\n",
       "  </thead>\n",
       "  <tbody>\n",
       "    <tr>\n",
       "      <td id=\"T_6b155_row0_col0\" class=\"data row0 col0\" >login</td>\n",
       "      <td id=\"T_6b155_row0_col1\" class=\"data row0 col1\" >2604</td>\n",
       "      <td id=\"T_6b155_row0_col2\" class=\"data row0 col2\" >44.1%</td>\n",
       "    </tr>\n",
       "    <tr>\n",
       "      <td id=\"T_6b155_row1_col0\" class=\"data row1 col0\" >product_cart</td>\n",
       "      <td id=\"T_6b155_row1_col1\" class=\"data row1 col1\" >782</td>\n",
       "      <td id=\"T_6b155_row1_col2\" class=\"data row1 col2\" >13.2%</td>\n",
       "    </tr>\n",
       "    <tr>\n",
       "      <td id=\"T_6b155_row2_col0\" class=\"data row2 col0\" >product_page</td>\n",
       "      <td id=\"T_6b155_row2_col1\" class=\"data row2 col1\" >1685</td>\n",
       "      <td id=\"T_6b155_row2_col2\" class=\"data row2 col2\" >28.5%</td>\n",
       "    </tr>\n",
       "    <tr>\n",
       "      <td id=\"T_6b155_row3_col0\" class=\"data row3 col0\" >purchase</td>\n",
       "      <td id=\"T_6b155_row3_col1\" class=\"data row3 col1\" >833</td>\n",
       "      <td id=\"T_6b155_row3_col2\" class=\"data row3 col2\" >14.1%</td>\n",
       "    </tr>\n",
       "  </tbody>\n",
       "</table>\n"
      ],
      "text/plain": [
       "<pandas.io.formats.style.Styler at 0x254ae6649d0>"
      ]
     },
     "metadata": {},
     "output_type": "display_data"
    },
    {
     "name": "stdout",
     "output_type": "stream",
     "text": [
      "\n",
      "\u001b[1mРаспределение уникальных \n",
      " пользователей группы В:\u001b[0m\n"
     ]
    },
    {
     "data": {
      "text/html": [
       "<style type=\"text/css\">\n",
       "</style>\n",
       "<table id=\"T_48084\">\n",
       "  <thead>\n",
       "    <tr>\n",
       "      <th id=\"T_48084_level0_col0\" class=\"col_heading level0 col0\" >event_name</th>\n",
       "      <th id=\"T_48084_level0_col1\" class=\"col_heading level0 col1\" >users</th>\n",
       "      <th id=\"T_48084_level0_col2\" class=\"col_heading level0 col2\" >ratio</th>\n",
       "    </tr>\n",
       "  </thead>\n",
       "  <tbody>\n",
       "    <tr>\n",
       "      <td id=\"T_48084_row0_col0\" class=\"data row0 col0\" >login</td>\n",
       "      <td id=\"T_48084_row0_col1\" class=\"data row0 col1\" >877</td>\n",
       "      <td id=\"T_48084_row0_col2\" class=\"data row0 col2\" >47.1%</td>\n",
       "    </tr>\n",
       "    <tr>\n",
       "      <td id=\"T_48084_row1_col0\" class=\"data row1 col0\" >product_cart</td>\n",
       "      <td id=\"T_48084_row1_col1\" class=\"data row1 col1\" >244</td>\n",
       "      <td id=\"T_48084_row1_col2\" class=\"data row1 col2\" >13.1%</td>\n",
       "    </tr>\n",
       "    <tr>\n",
       "      <td id=\"T_48084_row2_col0\" class=\"data row2 col0\" >product_page</td>\n",
       "      <td id=\"T_48084_row2_col1\" class=\"data row2 col1\" >493</td>\n",
       "      <td id=\"T_48084_row2_col2\" class=\"data row2 col2\" >26.5%</td>\n",
       "    </tr>\n",
       "    <tr>\n",
       "      <td id=\"T_48084_row3_col0\" class=\"data row3 col0\" >purchase</td>\n",
       "      <td id=\"T_48084_row3_col1\" class=\"data row3 col1\" >249</td>\n",
       "      <td id=\"T_48084_row3_col2\" class=\"data row3 col2\" >13.4%</td>\n",
       "    </tr>\n",
       "  </tbody>\n",
       "</table>\n"
      ],
      "text/plain": [
       "<pandas.io.formats.style.Styler at 0x254aec98550>"
      ]
     },
     "metadata": {},
     "output_type": "display_data"
    },
    {
     "name": "stdout",
     "output_type": "stream",
     "text": [
      "=============================\n",
      "\n"
     ]
    }
   ],
   "source": [
    "ratio_analysis('device', 1)\n",
    "ratio_analysis('event_name', 1)"
   ]
  },
  {
   "cell_type": "markdown",
   "metadata": {},
   "source": [
    "Здесь распределение выглядит значительно лучше, по данным параметрам группы выглядят однороднее."
   ]
  },
  {
   "cell_type": "markdown",
   "metadata": {},
   "source": [
    "### 2.4 Вывод"
   ]
  },
  {
   "cell_type": "markdown",
   "metadata": {},
   "source": [
    "**Оценка корректности проведения теста показала следующее:**\n",
    "\n",
    "<br>  1. Установлено соответствие техническому заданию таких параметров, как название теста, наличие групп A и В, дата запуска теста, дата остановки набора новых пользователей и аудитория. Не соответствуют техническому заданию дата остановки теста и количество участников. Самым серьезным нарушением из перечисленного является досрочная остановка теста, поскольку это может повлечь за собой уменьшение необходимого лафтайма (14 дней) для некоторых пользователей. Однако, удаление значительных массивов данных снижает репрезентативность выборок, на основании чего принято решение данные пользователей по этой части не удалять и продолжить изучение. \n",
    "\n",
    "<br> 2. Также были найдены данные, относящихся к другому тесту (interface_eu_test), а также участники теста recommender_system_test из других регионов (N.America, CIS, APAC), участие которых по условиям ТЗ в тесте не требовалось. Все лишние данные удалены.  \n",
    "\n",
    "<br>  3. Установлено, что в период с 25 декабря, одновременно с тестированием, на Европейском пространстве проходила промо-акция Christmas&New Year Promo. На основе изучения графика активности пользователей какого-либо влияния на действия пользователей не замечено, на основании чего принято решение об отсутствии необходимости внесения корректировок по этой части.  \n",
    "\n",
    "<br>  4. Обнаружены 1602 пользователя, участвовавших в двух тестах, в группе А оказалось 921 пользователь, в группе В - 681. Кроме того, зафиксировано перекрестное попадание участников контрольной группы нашего теста в экспериментальную теста interface_eu_test, и наоборот. В группе A оказалось 439 таких пользователей, в группе B - 337. Проверка внутри теста recommender_system_test таких проблем не выявила.   \n",
    "Совпадал ли период тестирования с тестом interface_eu_test, и какие параметры он затрагивал, установить не представляется возможным из-за отсутствия таких данных. Также отмечено, что такие пользователи входят в обе группы, и при наличии влияния, оно будет оказано на обе выборки и не должно сильно искажать результаты нашего теста. По совокупности фактов было принято решение оставить данные, связанные с этими пользователями.  \n",
    "\n",
    "<br>  5. Изучение равномерности распределения по группам показало, что контрольная (А) и экспериментальная (В) группы сформированы неравномерно, в группе А находится значительно больше пользователей, что может снизить уверенность в оценке результатов теста. В то же время, пока отсутствуют критерии, по которым можно выровнять кол-во участников тестирования без увеличения погрешности. При этом, стоит отметить, что распределение уникальных пользователей по типам устройств и типам событий выглядит приемлемым."
   ]
  },
  {
   "cell_type": "markdown",
   "metadata": {},
   "source": [
    "## 3 Исследовательский анализ данных"
   ]
  },
  {
   "cell_type": "markdown",
   "metadata": {},
   "source": [
    "### 3.1 Распределение количества событий на пользователя в выборках"
   ]
  },
  {
   "cell_type": "markdown",
   "metadata": {},
   "source": [
    "Посчитаем, сколько в среднем событий приходится на одного пользователя в каждой группе:"
   ]
  },
  {
   "cell_type": "code",
   "execution_count": 30,
   "metadata": {},
   "outputs": [
    {
     "data": {
      "text/html": [
       "<style type=\"text/css\">\n",
       "</style>\n",
       "<table id=\"T_f6488\">\n",
       "  <thead>\n",
       "    <tr>\n",
       "      <th id=\"T_f6488_level0_col0\" class=\"col_heading level0 col0\" >group</th>\n",
       "      <th id=\"T_f6488_level0_col1\" class=\"col_heading level0 col1\" >event_name</th>\n",
       "      <th id=\"T_f6488_level0_col2\" class=\"col_heading level0 col2\" >user_id</th>\n",
       "      <th id=\"T_f6488_level0_col3\" class=\"col_heading level0 col3\" >avg</th>\n",
       "    </tr>\n",
       "  </thead>\n",
       "  <tbody>\n",
       "    <tr>\n",
       "      <td id=\"T_f6488_row0_col0\" class=\"data row0 col0\" >A</td>\n",
       "      <td id=\"T_f6488_row0_col1\" class=\"data row0 col1\" >18309</td>\n",
       "      <td id=\"T_f6488_row0_col2\" class=\"data row0 col2\" >2604</td>\n",
       "      <td id=\"T_f6488_row0_col3\" class=\"data row0 col3\" >7.03</td>\n",
       "    </tr>\n",
       "    <tr>\n",
       "      <td id=\"T_f6488_row1_col0\" class=\"data row1 col0\" >B</td>\n",
       "      <td id=\"T_f6488_row1_col1\" class=\"data row1 col1\" >5111</td>\n",
       "      <td id=\"T_f6488_row1_col2\" class=\"data row1 col2\" >877</td>\n",
       "      <td id=\"T_f6488_row1_col3\" class=\"data row1 col3\" >5.83</td>\n",
       "    </tr>\n",
       "  </tbody>\n",
       "</table>\n"
      ],
      "text/plain": [
       "<pandas.io.formats.style.Styler at 0x254a6aa7070>"
      ]
     },
     "execution_count": 30,
     "metadata": {},
     "output_type": "execute_result"
    }
   ],
   "source": [
    "events_avg = df.groupby('group')[['event_name', 'user_id']].agg({'event_name':'count', 'user_id':'nunique'}\n",
    "                                                               ).reset_index()\n",
    "\n",
    "events_avg['avg'] = events_avg['event_name'] / events_avg['user_id']\n",
    "events_avg.style.format('{:.2f}', subset='avg').hide(axis='index')"
   ]
  },
  {
   "cell_type": "markdown",
   "metadata": {},
   "source": [
    "Среднее значение в группе А больше. Посмотрим медиану и распределение на графике:"
   ]
  },
  {
   "cell_type": "code",
   "execution_count": 31,
   "metadata": {},
   "outputs": [
    {
     "data": {
      "image/png": "[encoded data removed]",
      "text/plain": [
       "<Figure size 2000x300 with 1 Axes>"
      ]
     },
     "metadata": {},
     "output_type": "display_data"
    }
   ],
   "source": [
    "plt.figure(figsize=(20, 3))\n",
    "events_distr = df.groupby(['user_id','group'])['event_name'].count().reset_index()\n",
    "sns.boxplot(data=events_distr, x='event_name', y='group', color='skyblue') \n",
    "plt.title('Распределение количества событий по группам', size=18)\n",
    "plt.xlabel('количество событий', size=14)\n",
    "plt.xlim([0,30])\n",
    "plt.ylabel(None)\n",
    "plt.show()"
   ]
  },
  {
   "cell_type": "markdown",
   "metadata": {},
   "source": [
    "В группе А на пользователя приходится чуть больше событий как по среднему, так и по медиане. Посмотрим на плотность распределения событий в группах:"
   ]
  },
  {
   "cell_type": "code",
   "execution_count": 32,
   "metadata": {
    "scrolled": false
   },
   "outputs": [
    {
     "data": {
      "image/png": "[encoded data removed]",
      "text/plain": [
       "<Figure size 1000x400 with 1 Axes>"
      ]
     },
     "metadata": {},
     "output_type": "display_data"
    }
   ],
   "source": [
    "plt.figure(figsize=(10,4))\n",
    "plt.hist(events_distr.query('group == \"A\"')['event_name'], label='Группа A', bins=15)\n",
    "plt.hist(events_distr.query('group == \"B\"')['event_name'], label='Группа B', bins=15)\n",
    "plt.xlabel('Кол-во событий', fontsize=12)\n",
    "plt.ylabel('Кол-во пользователей\\n ', fontsize=12)\n",
    "plt.title('Распределение кол-ва событий на пользователя', fontsize=12)\n",
    "plt.legend()\n",
    "plt.grid()\n",
    "plt.show()"
   ]
  },
  {
   "cell_type": "markdown",
   "metadata": {},
   "source": [
    "События распределены по-разному, пользователи контрольной группы вели себя активнее, в группе B распределение плотнее."
   ]
  },
  {
   "cell_type": "markdown",
   "metadata": {},
   "source": [
    "### 3.2 Распределение числа событий в выборках по дням"
   ]
  },
  {
   "cell_type": "markdown",
   "metadata": {},
   "source": [
    "Создадим сводную таблицу и выведем графики для каждой из групп:"
   ]
  },
  {
   "cell_type": "code",
   "execution_count": 33,
   "metadata": {},
   "outputs": [
    {
     "data": {
      "image/png": "[encoded data removed]",
      "text/plain": [
       "<Figure size 2000x2000 with 2 Axes>"
      ]
     },
     "metadata": {},
     "output_type": "display_data"
    }
   ],
   "source": [
    "events_by_days = df.pivot_table(index=['event_name', 'group', 'event_date'], values='user_id', aggfunc='count'\n",
    "                                ).reset_index().sort_values(by='event_date')\n",
    "                  \n",
    "fig, axes = plt.subplots(nrows=2, ncols=1, sharey=True, figsize=(20, 20));  # задаем параметры субплотов\n",
    "fig.suptitle('Сравнение распределения числа событий в выборках по дням', fontsize=16, y=0.92)\n",
    "\n",
    "sns.barplot(ax=axes[0], data=events_by_days.query('group == \"A\"'), y='user_id', x='event_date', hue='event_name')\n",
    "axes[0].set_title('События контрольной группы A')\n",
    "axes[0].tick_params(labelrotation=45)\n",
    "axes[0].set_ylabel('количество событий')\n",
    "\n",
    "sns.barplot(ax=axes[1], data=events_by_days.query('group == \"B\"'), y='user_id', x='event_date', hue='event_name')\n",
    "axes[1].set_title('События экспериментальной группы В')\n",
    "axes[1].tick_params(labelrotation=45)\n",
    "axes[1].set_ylabel('количество событий')\n",
    "\n",
    "plt.show()"
   ]
  },
  {
   "cell_type": "markdown",
   "metadata": {},
   "source": [
    "На обоих графиках выделяется пик - 21 декабря, и затем идет снижение. Похоже, что основная часть пользователей совершает покупки в первые дни после регистрации, а 21 декабря как раз был последним днем для регистрации участников теста. В группе В активность упала раньше, 30 декабря активность присутствует только у контрольной группы."
   ]
  },
  {
   "cell_type": "markdown",
   "metadata": {},
   "source": [
    "### 3.3 Изменение конверсии в воронке в выборках на разных этапах"
   ]
  },
  {
   "cell_type": "code",
   "execution_count": 34,
   "metadata": {},
   "outputs": [
    {
     "data": {
      "application/vnd.plotly.v1+json": {
       "config": {
        "plotlyServerURL": "https://plot.ly"
       },
       "data": [
        {
         "marker": {
          "color": "#0000FF"
         },
         "name": "Группа А",
         "textinfo": "value+percent initial",
         "textposition": "inside",
         "type": "funnel",
         "x": [
          2604,
          1685,
          782,
          833
         ],
         "y": [
          "login",
          "product_page",
          "product_cart",
          "purchase"
         ]
        },
        {
         "marker": {
          "color": "#FF0000"
         },
         "name": "Группа B",
         "textinfo": "value+percent initial",
         "type": "funnel",
         "x": [
          877,
          493,
          244,
          249
         ],
         "y": [
          "login",
          "product_page",
          "product_cart",
          "purchase"
         ]
        }
       ],
       "layout": {
        "template": {
         "data": {
          "bar": [
           {
            "error_x": {
             "color": "#2a3f5f"
            },
            "error_y": {
             "color": "#2a3f5f"
            },
            "marker": {
             "line": {
              "color": "white",
              "width": 0.5
             },
             "pattern": {
              "fillmode": "overlay",
              "size": 10,
              "solidity": 0.2
             }
            },
            "type": "bar"
           }
          ],
          "barpolar": [
           {
            "marker": {
             "line": {
              "color": "white",
              "width": 0.5
             },
             "pattern": {
              "fillmode": "overlay",
              "size": 10,
              "solidity": 0.2
             }
            },
            "type": "barpolar"
           }
          ],
          "carpet": [
           {
            "aaxis": {
             "endlinecolor": "#2a3f5f",
             "gridcolor": "#C8D4E3",
             "linecolor": "#C8D4E3",
             "minorgridcolor": "#C8D4E3",
             "startlinecolor": "#2a3f5f"
            },
            "baxis": {
             "endlinecolor": "#2a3f5f",
             "gridcolor": "#C8D4E3",
             "linecolor": "#C8D4E3",
             "minorgridcolor": "#C8D4E3",
             "startlinecolor": "#2a3f5f"
            },
            "type": "carpet"
           }
          ],
          "choropleth": [
           {
            "colorbar": {
             "outlinewidth": 0,
             "ticks": ""
            },
            "type": "choropleth"
           }
          ],
          "contour": [
           {
            "colorbar": {
             "outlinewidth": 0,
             "ticks": ""
            },
            "colorscale": [
             [
              0,
              "#0d0887"
             ],
             [
              0.1111111111111111,
              "#46039f"
             ],
             [
              0.2222222222222222,
              "#7201a8"
             ],
             [
              0.3333333333333333,
              "#9c179e"
             ],
             [
              0.4444444444444444,
              "#bd3786"
             ],
             [
              0.5555555555555556,
              "#d8576b"
             ],
             [
              0.6666666666666666,
              "#ed7953"
             ],
             [
              0.7777777777777778,
              "#fb9f3a"
             ],
             [
              0.8888888888888888,
              "#fdca26"
             ],
             [
              1,
              "#f0f921"
             ]
            ],
            "type": "contour"
           }
          ],
          "contourcarpet": [
           {
            "colorbar": {
             "outlinewidth": 0,
             "ticks": ""
            },
            "type": "contourcarpet"
           }
          ],
          "heatmap": [
           {
            "colorbar": {
             "outlinewidth": 0,
             "ticks": ""
            },
            "colorscale": [
             [
              0,
              "#0d0887"
             ],
             [
              0.1111111111111111,
              "#46039f"
             ],
             [
              0.2222222222222222,
              "#7201a8"
             ],
             [
              0.3333333333333333,
              "#9c179e"
             ],
             [
              0.4444444444444444,
              "#bd3786"
             ],
             [
              0.5555555555555556,
              "#d8576b"
             ],
             [
              0.6666666666666666,
              "#ed7953"
             ],
             [
              0.7777777777777778,
              "#fb9f3a"
             ],
             [
              0.8888888888888888,
              "#fdca26"
             ],
             [
              1,
              "#f0f921"
             ]
            ],
            "type": "heatmap"
           }
          ],
          "heatmapgl": [
           {
            "colorbar": {
             "outlinewidth": 0,
             "ticks": ""
            },
            "colorscale": [
             [
              0,
              "#0d0887"
             ],
             [
              0.1111111111111111,
              "#46039f"
             ],
             [
              0.2222222222222222,
              "#7201a8"
             ],
             [
              0.3333333333333333,
              "#9c179e"
             ],
             [
              0.4444444444444444,
              "#bd3786"
             ],
             [
              0.5555555555555556,
              "#d8576b"
             ],
             [
              0.6666666666666666,
              "#ed7953"
             ],
             [
              0.7777777777777778,
              "#fb9f3a"
             ],
             [
              0.8888888888888888,
              "#fdca26"
             ],
             [
              1,
              "#f0f921"
             ]
            ],
            "type": "heatmapgl"
           }
          ],
          "histogram": [
           {
            "marker": {
             "pattern": {
              "fillmode": "overlay",
              "size": 10,
              "solidity": 0.2
             }
            },
            "type": "histogram"
           }
          ],
          "histogram2d": [
           {
            "colorbar": {
             "outlinewidth": 0,
             "ticks": ""
            },
            "colorscale": [
             [
              0,
              "#0d0887"
             ],
             [
              0.1111111111111111,
              "#46039f"
             ],
             [
              0.2222222222222222,
              "#7201a8"
             ],
             [
              0.3333333333333333,
              "#9c179e"
             ],
             [
              0.4444444444444444,
              "#bd3786"
             ],
             [
              0.5555555555555556,
              "#d8576b"
             ],
             [
              0.6666666666666666,
              "#ed7953"
             ],
             [
              0.7777777777777778,
              "#fb9f3a"
             ],
             [
              0.8888888888888888,
              "#fdca26"
             ],
             [
              1,
              "#f0f921"
             ]
            ],
            "type": "histogram2d"
           }
          ],
          "histogram2dcontour": [
           {
            "colorbar": {
             "outlinewidth": 0,
             "ticks": ""
            },
            "colorscale": [
             [
              0,
              "#0d0887"
             ],
             [
              0.1111111111111111,
              "#46039f"
             ],
             [
              0.2222222222222222,
              "#7201a8"
             ],
             [
              0.3333333333333333,
              "#9c179e"
             ],
             [
              0.4444444444444444,
              "#bd3786"
             ],
             [
              0.5555555555555556,
              "#d8576b"
             ],
             [
              0.6666666666666666,
              "#ed7953"
             ],
             [
              0.7777777777777778,
              "#fb9f3a"
             ],
             [
              0.8888888888888888,
              "#fdca26"
             ],
             [
              1,
              "#f0f921"
             ]
            ],
            "type": "histogram2dcontour"
           }
          ],
          "mesh3d": [
           {
            "colorbar": {
             "outlinewidth": 0,
             "ticks": ""
            },
            "type": "mesh3d"
           }
          ],
          "parcoords": [
           {
            "line": {
             "colorbar": {
              "outlinewidth": 0,
              "ticks": ""
             }
            },
            "type": "parcoords"
           }
          ],
          "pie": [
           {
            "automargin": true,
            "type": "pie"
           }
          ],
          "scatter": [
           {
            "fillpattern": {
             "fillmode": "overlay",
             "size": 10,
             "solidity": 0.2
            },
            "type": "scatter"
           }
          ],
          "scatter3d": [
           {
            "line": {
             "colorbar": {
              "outlinewidth": 0,
              "ticks": ""
             }
            },
            "marker": {
             "colorbar": {
              "outlinewidth": 0,
              "ticks": ""
             }
            },
            "type": "scatter3d"
           }
          ],
          "scattercarpet": [
           {
            "marker": {
             "colorbar": {
              "outlinewidth": 0,
              "ticks": ""
             }
            },
            "type": "scattercarpet"
           }
          ],
          "scattergeo": [
           {
            "marker": {
             "colorbar": {
              "outlinewidth": 0,
              "ticks": ""
             }
            },
            "type": "scattergeo"
           }
          ],
          "scattergl": [
           {
            "marker": {
             "colorbar": {
              "outlinewidth": 0,
              "ticks": ""
             }
            },
            "type": "scattergl"
           }
          ],
          "scattermapbox": [
           {
            "marker": {
             "colorbar": {
              "outlinewidth": 0,
              "ticks": ""
             }
            },
            "type": "scattermapbox"
           }
          ],
          "scatterpolar": [
           {
            "marker": {
             "colorbar": {
              "outlinewidth": 0,
              "ticks": ""
             }
            },
            "type": "scatterpolar"
           }
          ],
          "scatterpolargl": [
           {
            "marker": {
             "colorbar": {
              "outlinewidth": 0,
              "ticks": ""
             }
            },
            "type": "scatterpolargl"
           }
          ],
          "scatterternary": [
           {
            "marker": {
             "colorbar": {
              "outlinewidth": 0,
              "ticks": ""
             }
            },
            "type": "scatterternary"
           }
          ],
          "surface": [
           {
            "colorbar": {
             "outlinewidth": 0,
             "ticks": ""
            },
            "colorscale": [
             [
              0,
              "#0d0887"
             ],
             [
              0.1111111111111111,
              "#46039f"
             ],
             [
              0.2222222222222222,
              "#7201a8"
             ],
             [
              0.3333333333333333,
              "#9c179e"
             ],
             [
              0.4444444444444444,
              "#bd3786"
             ],
             [
              0.5555555555555556,
              "#d8576b"
             ],
             [
              0.6666666666666666,
              "#ed7953"
             ],
             [
              0.7777777777777778,
              "#fb9f3a"
             ],
             [
              0.8888888888888888,
              "#fdca26"
             ],
             [
              1,
              "#f0f921"
             ]
            ],
            "type": "surface"
           }
          ],
          "table": [
           {
            "cells": {
             "fill": {
              "color": "#EBF0F8"
             },
             "line": {
              "color": "white"
             }
            },
            "header": {
             "fill": {
              "color": "#C8D4E3"
             },
             "line": {
              "color": "white"
             }
            },
            "type": "table"
           }
          ]
         },
         "layout": {
          "annotationdefaults": {
           "arrowcolor": "#2a3f5f",
           "arrowhead": 0,
           "arrowwidth": 1
          },
          "autotypenumbers": "strict",
          "coloraxis": {
           "colorbar": {
            "outlinewidth": 0,
            "ticks": ""
           }
          },
          "colorscale": {
           "diverging": [
            [
             0,
             "#8e0152"
            ],
            [
             0.1,
             "#c51b7d"
            ],
            [
             0.2,
             "#de77ae"
            ],
            [
             0.3,
             "#f1b6da"
            ],
            [
             0.4,
             "#fde0ef"
            ],
            [
             0.5,
             "#f7f7f7"
            ],
            [
             0.6,
             "#e6f5d0"
            ],
            [
             0.7,
             "#b8e186"
            ],
            [
             0.8,
             "#7fbc41"
            ],
            [
             0.9,
             "#4d9221"
            ],
            [
             1,
             "#276419"
            ]
           ],
           "sequential": [
            [
             0,
             "#0d0887"
            ],
            [
             0.1111111111111111,
             "#46039f"
            ],
            [
             0.2222222222222222,
             "#7201a8"
            ],
            [
             0.3333333333333333,
             "#9c179e"
            ],
            [
             0.4444444444444444,
             "#bd3786"
            ],
            [
             0.5555555555555556,
             "#d8576b"
            ],
            [
             0.6666666666666666,
             "#ed7953"
            ],
            [
             0.7777777777777778,
             "#fb9f3a"
            ],
            [
             0.8888888888888888,
             "#fdca26"
            ],
            [
             1,
             "#f0f921"
            ]
           ],
           "sequentialminus": [
            [
             0,
             "#0d0887"
            ],
            [
             0.1111111111111111,
             "#46039f"
            ],
            [
             0.2222222222222222,
             "#7201a8"
            ],
            [
             0.3333333333333333,
             "#9c179e"
            ],
            [
             0.4444444444444444,
             "#bd3786"
            ],
            [
             0.5555555555555556,
             "#d8576b"
            ],
            [
             0.6666666666666666,
             "#ed7953"
            ],
            [
             0.7777777777777778,
             "#fb9f3a"
            ],
            [
             0.8888888888888888,
             "#fdca26"
            ],
            [
             1,
             "#f0f921"
            ]
           ]
          },
          "colorway": [
           "#636efa",
           "#EF553B",
           "#00cc96",
           "#ab63fa",
           "#FFA15A",
           "#19d3f3",
           "#FF6692",
           "#B6E880",
           "#FF97FF",
           "#FECB52"
          ],
          "font": {
           "color": "#2a3f5f"
          },
          "geo": {
           "bgcolor": "white",
           "lakecolor": "white",
           "landcolor": "white",
           "showlakes": true,
           "showland": true,
           "subunitcolor": "#C8D4E3"
          },
          "hoverlabel": {
           "align": "left"
          },
          "hovermode": "closest",
          "mapbox": {
           "style": "light"
          },
          "paper_bgcolor": "white",
          "plot_bgcolor": "white",
          "polar": {
           "angularaxis": {
            "gridcolor": "#EBF0F8",
            "linecolor": "#EBF0F8",
            "ticks": ""
           },
           "bgcolor": "white",
           "radialaxis": {
            "gridcolor": "#EBF0F8",
            "linecolor": "#EBF0F8",
            "ticks": ""
           }
          },
          "scene": {
           "xaxis": {
            "backgroundcolor": "white",
            "gridcolor": "#DFE8F3",
            "gridwidth": 2,
            "linecolor": "#EBF0F8",
            "showbackground": true,
            "ticks": "",
            "zerolinecolor": "#EBF0F8"
           },
           "yaxis": {
            "backgroundcolor": "white",
            "gridcolor": "#DFE8F3",
            "gridwidth": 2,
            "linecolor": "#EBF0F8",
            "showbackground": true,
            "ticks": "",
            "zerolinecolor": "#EBF0F8"
           },
           "zaxis": {
            "backgroundcolor": "white",
            "gridcolor": "#DFE8F3",
            "gridwidth": 2,
            "linecolor": "#EBF0F8",
            "showbackground": true,
            "ticks": "",
            "zerolinecolor": "#EBF0F8"
           }
          },
          "shapedefaults": {
           "line": {
            "color": "#2a3f5f"
           }
          },
          "ternary": {
           "aaxis": {
            "gridcolor": "#DFE8F3",
            "linecolor": "#A2B1C6",
            "ticks": ""
           },
           "baxis": {
            "gridcolor": "#DFE8F3",
            "linecolor": "#A2B1C6",
            "ticks": ""
           },
           "bgcolor": "white",
           "caxis": {
            "gridcolor": "#DFE8F3",
            "linecolor": "#A2B1C6",
            "ticks": ""
           }
          },
          "title": {
           "x": 0.05
          },
          "xaxis": {
           "automargin": true,
           "gridcolor": "#EBF0F8",
           "linecolor": "#EBF0F8",
           "ticks": "",
           "title": {
            "standoff": 15
           },
           "zerolinecolor": "#EBF0F8",
           "zerolinewidth": 2
          },
          "yaxis": {
           "automargin": true,
           "gridcolor": "#EBF0F8",
           "linecolor": "#EBF0F8",
           "ticks": "",
           "title": {
            "standoff": 15
           },
           "zerolinecolor": "#EBF0F8",
           "zerolinewidth": 2
          }
         }
        },
        "title": {
         "text": "Воронка событий"
        }
       }
      }
     },
     "metadata": {},
     "output_type": "display_data"
    }
   ],
   "source": [
    "funnel_a = df.query('group == \"A\"'\n",
    "                   ).groupby('event_name'\n",
    "                            ).agg({'user_id': 'nunique'}\n",
    "                                 ).sort_values('user_id', ascending=False\n",
    "                                              ).reindex(['login', 'product_page', 'product_cart', 'purchase']\n",
    "                                                       ).reset_index(drop=False)\n",
    "\n",
    "\n",
    "funnel_b = df.query('group == \"B\"').groupby('event_name'\n",
    "                            ).agg({'user_id': 'nunique'}\n",
    "                                 ).sort_values('user_id', ascending=False\n",
    "                                              ).reindex(['login', 'product_page', 'product_cart', 'purchase']\n",
    "                                                       ).reset_index(drop=False)\n",
    "\n",
    "fig = go.Figure()\n",
    "\n",
    "fig.add_trace(go.Funnel(y=funnel_a['event_name'],\n",
    "                        x=funnel_a['user_id'],\n",
    "                        textposition= 'inside',\n",
    "                        textinfo= 'value + percent initial',\n",
    "                        name='Группа А',\n",
    "                        marker = {'color': '#0000FF'}))\n",
    "                        \n",
    "fig.add_trace(go.Funnel(y=funnel_b['event_name'],\n",
    "                        x=funnel_b['user_id'],\n",
    "                        textinfo='value + percent initial',\n",
    "                        name='Группа B',\n",
    "                        marker = {'color': '#FF0000'})),\n",
    "\n",
    "fig.update_layout(title='Воронка событий')\n",
    "fig.show()"
   ]
  },
  {
   "attachments": {
    "image.png": {
     "image/png": "[encoded data removed]"
    }
   },
   "cell_type": "markdown",
   "metadata": {},
   "source": [
    "![image.png](attachment:image.png)"
   ]
  },
  {
   "cell_type": "markdown",
   "metadata": {},
   "source": [
    "На воронке событий наглядно отображается несоразмерность групп. Конверсия по шагам сильно отличается на переходе к странице товара - 65% в группе А и 56% в группе В, этапы корзины и покупки выглядят схожим образом. Примечательно, что этап покупки имеет большую конверсию, чем корзина. Похоже, что функционалом такая возмоность заложена, что-то вроде \"быстрой покупки\". Для верного отображения графика пришлось применить переиндексацию. Больше всего пользователей теряется на переходе от авторизации к странице продукта, следует проверить, нет ли технических проблем на этом шаге."
   ]
  },
  {
   "cell_type": "markdown",
   "metadata": {},
   "source": [
    "**Прежде, чем приступать к тестированию, стоит еще раз сделать акцент на некоторых особенностях**: \n",
    "1. Группы имеют серьезный дисбаланс по количеству участников, а также несоответствие по общему количеству.\n",
    "2. Тест завершен ранее запланированного срока - 29 декабря, в результате чего у части пользователей сократился лайфтайм. Данный эффект снивелирован особенностью активности покупателей - они совершают активные покупки только в первые дни после регистрации.\n",
    "3. Фиксируется пик продаж 21 декабря, связанный с влиянием предпраздничного Рождественского ажиотажа.\n",
    "4. Уже до оценки результатов, мы удостоверились, что тест в целом провален, целевой результат в виде улучшения метрик на 10% не получен, а достоверность собранных данных вызывает сомнение."
   ]
  },
  {
   "cell_type": "markdown",
   "metadata": {},
   "source": [
    "## 4 Оценка результатов A/B-тестирования"
   ]
  },
  {
   "cell_type": "markdown",
   "metadata": {},
   "source": [
    "Сформулируем нулевую и альтернативную гипотезы: \n",
    "```\n",
    "H_0: Различий в долях пользователей между группами A и B нет\n",
    "H_1: Различия в долях пользователей между группами A и B есть\n",
    "alpha = 0.05  \n",
    "```\n",
    "Уровень alpha установим стандартным, равным 0.05, но применим поправку Бонферрони, поскольку оценивать будем по 3-м событиям."
   ]
  },
  {
   "cell_type": "markdown",
   "metadata": {},
   "source": [
    "Для оценки результатов теста нам понадобится таблица с конверсией. Сгруппируем данные и посчитаем воронку по шагам:"
   ]
  },
  {
   "cell_type": "code",
   "execution_count": 35,
   "metadata": {},
   "outputs": [
    {
     "data": {
      "text/html": [
       "<div>\n",
       "<style scoped>\n",
       "    .dataframe tbody tr th:only-of-type {\n",
       "        vertical-align: middle;\n",
       "    }\n",
       "\n",
       "    .dataframe tbody tr th {\n",
       "        vertical-align: top;\n",
       "    }\n",
       "\n",
       "    .dataframe thead th {\n",
       "        text-align: right;\n",
       "    }\n",
       "</style>\n",
       "<table border=\"1\" class=\"dataframe\">\n",
       "  <thead>\n",
       "    <tr style=\"text-align: right;\">\n",
       "      <th>group</th>\n",
       "      <th>event_name</th>\n",
       "      <th>A</th>\n",
       "      <th>B</th>\n",
       "      <th>share_A</th>\n",
       "      <th>share_B</th>\n",
       "    </tr>\n",
       "  </thead>\n",
       "  <tbody>\n",
       "    <tr>\n",
       "      <th>0</th>\n",
       "      <td>login</td>\n",
       "      <td>2604</td>\n",
       "      <td>877</td>\n",
       "      <td>100.00</td>\n",
       "      <td>100.00</td>\n",
       "    </tr>\n",
       "    <tr>\n",
       "      <th>1</th>\n",
       "      <td>product_page</td>\n",
       "      <td>1685</td>\n",
       "      <td>493</td>\n",
       "      <td>64.71</td>\n",
       "      <td>56.21</td>\n",
       "    </tr>\n",
       "    <tr>\n",
       "      <th>2</th>\n",
       "      <td>product_cart</td>\n",
       "      <td>782</td>\n",
       "      <td>244</td>\n",
       "      <td>30.03</td>\n",
       "      <td>27.82</td>\n",
       "    </tr>\n",
       "    <tr>\n",
       "      <th>3</th>\n",
       "      <td>purchase</td>\n",
       "      <td>833</td>\n",
       "      <td>249</td>\n",
       "      <td>31.99</td>\n",
       "      <td>28.39</td>\n",
       "    </tr>\n",
       "  </tbody>\n",
       "</table>\n",
       "</div>"
      ],
      "text/plain": [
       "group    event_name     A    B  share_A  share_B\n",
       "0             login  2604  877   100.00   100.00\n",
       "1      product_page  1685  493    64.71    56.21\n",
       "2      product_cart   782  244    30.03    27.82\n",
       "3          purchase   833  249    31.99    28.39"
      ]
     },
     "execution_count": 35,
     "metadata": {},
     "output_type": "execute_result"
    }
   ],
   "source": [
    "df_z_test = df.pivot_table(index='event_name', columns='group', values='user_id', aggfunc='nunique'\n",
    "                          ).sort_values(by='A', ascending=False\n",
    "                                       ).reindex(['login', 'product_page', 'product_cart', 'purchase']).reset_index(drop=False)\n",
    "users_by_group = df.groupby('group')['user_id'].nunique()\n",
    "df_z_test['share_A'] = (df_z_test['A'] / users_by_group['A'] * 100).round(2)\n",
    "df_z_test['share_B'] = (df_z_test['B'] / users_by_group['B'] * 100).round(2)\n",
    "\n",
    "df_z_test"
   ]
  },
  {
   "cell_type": "markdown",
   "metadata": {},
   "source": [
    "Покольку нам предстоит работать с долями, для этих целей подойдет z тест. Создадим соответствующую функцию  - z_testing:"
   ]
  },
  {
   "cell_type": "code",
   "execution_count": 36,
   "metadata": {},
   "outputs": [],
   "source": [
    "def z_testing(group1, group2):\n",
    "    \n",
    "    event_name = df_z_test['event_name']\n",
    "    \n",
    "    for i in range(1, len(df_z_test[group1])):\n",
    "        \n",
    "        successes = np.array([df_z_test[group1][i], df_z_test[group2][i]])\n",
    "        trials = np.array([df_z_test[group1][0], df_z_test[group2][0]])\n",
    "       \n",
    "        p1 = successes[0] / trials[0]   # пропорция в первой группе\n",
    "        \n",
    "        p2 = successes[1] / trials[1]  # пропорция во второй групп\n",
    "        \n",
    "             \n",
    "        p_combined = (successes[0] + successes[1]) / (trials[0] + trials[1]) # пропорция в комбинированном датасете\n",
    "        \n",
    "        difference = p1 - p2  # разница пропорций в датасетах\n",
    "        \n",
    "        # считаем статистику в ст.отклонениях стандартного нормального распределения\n",
    "        z_value = difference / mth.sqrt(p_combined * (1 - p_combined) * (1/trials[0] + 1/trials[1]))\n",
    "        \n",
    "        # задаем стандартное нормальное распределение (среднее 0, ст.отклонение 1)\n",
    "        distr = st.norm(0, 1)  \n",
    "        p_value = (1 - distr.cdf(abs(z_value))) * 2\n",
    "        \n",
    "            \n",
    "        # выводим результат:\n",
    "        print('Для события \"{}\" '.format(event_name[i]), end='')\n",
    "        print('P-value =', p_value.round(3))\n",
    "        if (p_value < alpha):\n",
    "            print('\\033[94m''Отвергаем нулевую гипотезу: между долями есть значимая разница''\\033[0m')\n",
    "        else:\n",
    "            print('Не получилось отвергнуть нулевую гипотезу, нет оснований считать доли разными') \n",
    "            \n",
    "        print('')"
   ]
  },
  {
   "cell_type": "markdown",
   "metadata": {},
   "source": [
    "Уровень alpha, как уже упоминалось выше, установим с поправкой Бонферрони, т.е стандартный уровень alpha разделим на 3:"
   ]
  },
  {
   "cell_type": "code",
   "execution_count": 37,
   "metadata": {},
   "outputs": [],
   "source": [
    "alpha = 0.05/3"
   ]
  },
  {
   "cell_type": "code",
   "execution_count": 38,
   "metadata": {},
   "outputs": [
    {
     "name": "stdout",
     "output_type": "stream",
     "text": [
      "Для события \"product_page\" P-value = 0.0\n",
      "\u001b[94mОтвергаем нулевую гипотезу: между долями есть значимая разница\u001b[0m\n",
      "\n",
      "Для события \"product_cart\" P-value = 0.215\n",
      "Не получилось отвергнуть нулевую гипотезу, нет оснований считать доли разными\n",
      "\n",
      "Для события \"purchase\" P-value = 0.047\n",
      "Не получилось отвергнуть нулевую гипотезу, нет оснований считать доли разными\n",
      "\n"
     ]
    }
   ],
   "source": [
    "z_testing('A', 'B')"
   ]
  },
  {
   "cell_type": "markdown",
   "metadata": {},
   "source": [
    "Результаты теста показали, что по двум событиям (корзина и покупка) P-value оказался выше уровня статистической значимости, и следовательно, причин отвергать нулевую гипотезу, и считать, что в долях пользователей между группами A и B есть статистически значимые различия для этих событий - нет.  \n",
    "Для события \"страница продукта\"(product_page)  P-value = 0, т.е. оказался ниже уровня статистической значимости, значит, нулевую гипотезу о том, что статистически значимых различий в долях пользователей нет - отвергаем."
   ]
  },
  {
   "cell_type": "markdown",
   "metadata": {},
   "source": [
    "## 5 Выводы по исследованию данных и по оценке результатов A/B-тестирования"
   ]
  },
  {
   "attachments": {},
   "cell_type": "markdown",
   "metadata": {},
   "source": [
    "**На этапе исследовательского анализа данных было установлено следующее**:\n",
    "1. Среднее значение количества событий в группе А и B отличаются, в группе А оно составляет 7,03, в группе В - 5,83.\n",
    "2. Анализ событий по дням показал:\n",
    "- события в группах распределены по-разному, пользователи контрольной группы вели себя активнее, а в группе B плотнее распределение событий;\n",
    "- заметно влияние праздника - католичческого Рождества, на обоих графиках групп выделяется пик - 21 декабря, после которого идет заметное снижение;\n",
    "- в группе В активность упала раньше, 30 декабря активность присутствует только у контрольной группы.\n",
    "\n",
    "3. На воронке событий наглядно отображается несоразмерность групп. Конверсия по шагам сильно отличается на переходе к странице товара - 65% в группе А и 56% в группе В, этапы корзины и покупки выглядят схожим образом. Замечена особенность данной  воронки - этап покупки в ней имеет большую конверсию, чем корзина. Выдвинуто предположение о наличии такой возможности функционалом приложения. Больше всего пользователей теряется на переходе от авторизации к странице продукта, следует проверить, нет ли технических проблем на этом шаге.\n",
    "\n",
    "4. Зафиксированы отличительные особенности данного теста:\n",
    "- группы имеют серьезный дисбаланс по количеству участников, а также несоответствие по общему количеству согласно ТЗ;\n",
    "- тест завершен ранее запланированного срока - 29 декабря, в результате чего у части пользователей сократился лайфтайм. Данный эффект отчасти снивелирован особенностью активности покупателей, т.к. они совершали активные покупки только в первые дни после регистрации;\n",
    "- уже до оценки результатов, мы удостоверились, что тест в целом провален, целевой результат в виде улучшения метрик на 10% не получен, а достоверность собранных данных вызывает сомнение.\n",
    "\n",
    "**На этапе оценки результатов теста можно выделить седующее**:\n",
    "\n",
    "1. Сформулированы нулевая и альтернативная гипотезы:\n",
    "```\n",
    "  H_0: Различий в долях пользователей между группами A и B нет  \n",
    "  H_1: Различия в долях пользователей между группами A и B есть\n",
    "``` \n",
    "2. Результаты теста показали, что по двум событиям (корзина и покупка) P-value оказался выше уровня статистической значимости (стандартный уровень 0.05, рассчитан с поправкой Бонферрони для 3-х событий), и следовательно, причин отвергать нулевую гипотезу, и считать, что в долях пользователей между группами A и B есть статистически значимые различия для этих событий - нет.  \n",
    "3. Для события \"страница продукта\"(product_page)  P-value = 0, т.е. оказался ниже уровня статистической значимости, значит, нулевую гипотезу о том, что статистически значимых различий в долях пользователей нет - отвергаем.\n",
    "\n",
    "**На основе изученных материалов можно выдвинуть следующие рекомендации**:\n",
    "1. Состав групп для проведения тестирования должен быть однородным и, желательно, не отличаться по размеру, более чем на 1%\n",
    "2. Во время проведения тестов желательно воздержаться от параллельного тестирования других параметров. Пересечение пользователей, участвующих в тесте с другими группами также недопустимо.\n",
    "3. Сбор информации должен быть корректным, не допускается завершение ранее запланированного срока.\n",
    "4. Результаты данного тестирования не могут считаться корректными, следует провести его еще раз, исправив все недочеты.\n"
   ]
  }
 ],
 "metadata": {
  "ExecuteTimeLog": [
   {
    "duration": 1791,
    "start_time": "2022-12-23T19:53:48.933Z"
   },
   {
    "duration": 960,
    "start_time": "2022-12-23T19:53:50.727Z"
   },
   {
    "duration": 841,
    "start_time": "2022-12-23T19:53:51.689Z"
   },
   {
    "duration": 68,
    "start_time": "2022-12-23T19:53:52.533Z"
   },
   {
    "duration": 5,
    "start_time": "2022-12-23T19:53:52.603Z"
   },
   {
    "duration": 207,
    "start_time": "2022-12-23T19:53:52.610Z"
   },
   {
    "duration": 0,
    "start_time": "2022-12-23T19:53:52.825Z"
   },
   {
    "duration": 0,
    "start_time": "2022-12-23T19:53:52.830Z"
   },
   {
    "duration": 0,
    "start_time": "2022-12-23T19:53:52.835Z"
   },
   {
    "duration": 0,
    "start_time": "2022-12-23T19:53:52.841Z"
   },
   {
    "duration": 0,
    "start_time": "2022-12-23T19:53:52.843Z"
   },
   {
    "duration": 0,
    "start_time": "2022-12-23T19:53:52.845Z"
   },
   {
    "duration": 0,
    "start_time": "2022-12-23T19:53:52.846Z"
   },
   {
    "duration": 0,
    "start_time": "2022-12-23T19:53:52.848Z"
   },
   {
    "duration": 0,
    "start_time": "2022-12-23T19:53:52.849Z"
   },
   {
    "duration": 0,
    "start_time": "2022-12-23T19:53:52.851Z"
   },
   {
    "duration": 0,
    "start_time": "2022-12-23T19:53:52.852Z"
   },
   {
    "duration": 0,
    "start_time": "2022-12-23T19:53:52.854Z"
   },
   {
    "duration": 1,
    "start_time": "2022-12-23T19:53:52.855Z"
   },
   {
    "duration": 0,
    "start_time": "2022-12-23T19:53:52.860Z"
   },
   {
    "duration": 0,
    "start_time": "2022-12-23T19:53:52.889Z"
   },
   {
    "duration": 0,
    "start_time": "2022-12-23T19:53:52.892Z"
   },
   {
    "duration": 0,
    "start_time": "2022-12-23T19:53:52.894Z"
   },
   {
    "duration": 0,
    "start_time": "2022-12-23T19:53:52.898Z"
   },
   {
    "duration": 0,
    "start_time": "2022-12-23T19:53:52.899Z"
   },
   {
    "duration": 0,
    "start_time": "2022-12-23T19:53:52.914Z"
   },
   {
    "duration": 0,
    "start_time": "2022-12-23T19:53:52.921Z"
   },
   {
    "duration": 0,
    "start_time": "2022-12-23T19:53:52.926Z"
   },
   {
    "duration": 0,
    "start_time": "2022-12-23T19:53:52.928Z"
   },
   {
    "duration": 0,
    "start_time": "2022-12-23T19:53:52.929Z"
   },
   {
    "duration": 0,
    "start_time": "2022-12-23T19:53:52.930Z"
   },
   {
    "duration": 0,
    "start_time": "2022-12-23T19:53:52.931Z"
   },
   {
    "duration": 0,
    "start_time": "2022-12-23T19:53:52.933Z"
   },
   {
    "duration": 0,
    "start_time": "2022-12-23T19:53:52.935Z"
   },
   {
    "duration": 0,
    "start_time": "2022-12-23T19:53:52.938Z"
   },
   {
    "duration": 0,
    "start_time": "2022-12-23T19:53:52.940Z"
   },
   {
    "duration": 0,
    "start_time": "2022-12-23T19:53:52.942Z"
   },
   {
    "duration": 0,
    "start_time": "2022-12-23T19:53:52.943Z"
   },
   {
    "duration": 1822,
    "start_time": "2022-12-23T20:21:01.924Z"
   },
   {
    "duration": 3585,
    "start_time": "2022-12-23T20:21:06.559Z"
   },
   {
    "duration": 880,
    "start_time": "2022-12-23T20:21:10.146Z"
   },
   {
    "duration": 74,
    "start_time": "2022-12-23T20:21:11.037Z"
   },
   {
    "duration": 5,
    "start_time": "2022-12-23T20:23:07.722Z"
   },
   {
    "duration": 172,
    "start_time": "2022-12-23T20:23:08.761Z"
   },
   {
    "duration": 7,
    "start_time": "2022-12-23T20:25:17.375Z"
   },
   {
    "duration": 317,
    "start_time": "2022-12-23T20:25:19.265Z"
   },
   {
    "duration": 138,
    "start_time": "2022-12-23T20:27:09.631Z"
   },
   {
    "duration": 6,
    "start_time": "2022-12-23T20:28:31.333Z"
   },
   {
    "duration": 840,
    "start_time": "2022-12-23T20:28:33.062Z"
   },
   {
    "duration": 982,
    "start_time": "2022-12-23T20:28:34.321Z"
   },
   {
    "duration": 51,
    "start_time": "2022-12-23T20:28:39.373Z"
   },
   {
    "duration": 6,
    "start_time": "2022-12-23T20:28:49.173Z"
   },
   {
    "duration": 303,
    "start_time": "2022-12-23T20:28:50.031Z"
   },
   {
    "duration": 242,
    "start_time": "2022-12-23T20:36:50.075Z"
   },
   {
    "duration": 502,
    "start_time": "2022-12-23T20:36:51.402Z"
   },
   {
    "duration": 21,
    "start_time": "2022-12-23T20:39:10.071Z"
   },
   {
    "duration": 58,
    "start_time": "2022-12-23T20:39:13.668Z"
   },
   {
    "duration": 14,
    "start_time": "2022-12-23T20:39:16.643Z"
   },
   {
    "duration": 36,
    "start_time": "2022-12-23T20:39:17.853Z"
   },
   {
    "duration": 29,
    "start_time": "2022-12-23T20:39:18.629Z"
   },
   {
    "duration": 9,
    "start_time": "2022-12-23T20:39:20.664Z"
   },
   {
    "duration": 6,
    "start_time": "2022-12-23T20:39:22.934Z"
   },
   {
    "duration": 6,
    "start_time": "2022-12-23T20:39:25.133Z"
   },
   {
    "duration": 6,
    "start_time": "2022-12-23T20:39:27.059Z"
   },
   {
    "duration": 17,
    "start_time": "2022-12-23T20:39:29.401Z"
   },
   {
    "duration": 73,
    "start_time": "2022-12-23T20:39:31.021Z"
   },
   {
    "duration": 17,
    "start_time": "2022-12-23T20:39:35.123Z"
   },
   {
    "duration": 10,
    "start_time": "2022-12-23T20:41:24.373Z"
   },
   {
    "duration": 264,
    "start_time": "2022-12-23T20:41:25.948Z"
   },
   {
    "duration": 29,
    "start_time": "2022-12-23T20:41:28.721Z"
   },
   {
    "duration": 57,
    "start_time": "2022-12-23T20:41:30.175Z"
   },
   {
    "duration": 45,
    "start_time": "2022-12-23T20:41:31.641Z"
   },
   {
    "duration": 26,
    "start_time": "2022-12-23T20:41:32.941Z"
   },
   {
    "duration": 45,
    "start_time": "2022-12-23T20:41:36.156Z"
   },
   {
    "duration": 50,
    "start_time": "2022-12-23T20:41:37.419Z"
   },
   {
    "duration": 16,
    "start_time": "2022-12-23T20:41:38.772Z"
   },
   {
    "duration": 119,
    "start_time": "2022-12-23T20:41:39.520Z"
   },
   {
    "duration": 101,
    "start_time": "2022-12-23T20:44:55.273Z"
   },
   {
    "duration": 6,
    "start_time": "2022-12-23T20:45:17.057Z"
   },
   {
    "duration": 41,
    "start_time": "2022-12-23T20:45:18.392Z"
   },
   {
    "duration": 7,
    "start_time": "2022-12-23T20:45:52.054Z"
   },
   {
    "duration": 49,
    "start_time": "2022-12-23T20:45:54.158Z"
   },
   {
    "duration": 20,
    "start_time": "2022-12-23T20:46:21.555Z"
   },
   {
    "duration": 8,
    "start_time": "2022-12-23T20:46:55.665Z"
   },
   {
    "duration": 25,
    "start_time": "2022-12-23T20:46:57.347Z"
   },
   {
    "duration": 6,
    "start_time": "2022-12-23T20:47:29.054Z"
   },
   {
    "duration": 28,
    "start_time": "2022-12-23T20:47:30.277Z"
   },
   {
    "duration": 39,
    "start_time": "2022-12-23T20:49:46.868Z"
   },
   {
    "duration": 165,
    "start_time": "2022-12-23T20:49:49.350Z"
   },
   {
    "duration": 38,
    "start_time": "2022-12-23T20:50:10.993Z"
   },
   {
    "duration": 258,
    "start_time": "2022-12-23T20:50:14.585Z"
   },
   {
    "duration": 363,
    "start_time": "2022-12-23T20:50:17.440Z"
   },
   {
    "duration": 1896,
    "start_time": "2022-12-23T20:50:25.004Z"
   },
   {
    "duration": 370,
    "start_time": "2022-12-23T20:50:28.451Z"
   },
   {
    "duration": 62,
    "start_time": "2022-12-23T20:50:34.151Z"
   },
   {
    "duration": 11,
    "start_time": "2022-12-23T20:50:35.780Z"
   },
   {
    "duration": 3,
    "start_time": "2022-12-23T20:50:37.145Z"
   },
   {
    "duration": 11,
    "start_time": "2022-12-23T20:50:37.760Z"
   }
  ],
  "kernelspec": {
   "display_name": "Python 3 (ipykernel)",
   "language": "python",
   "name": "python3"
  },
  "language_info": {
   "codemirror_mode": {
    "name": "ipython",
    "version": 3
   },
   "file_extension": ".py",
   "mimetype": "text/x-python",
   "name": "python",
   "nbconvert_exporter": "python",
   "pygments_lexer": "ipython3",
   "version": "3.9.13"
  },
  "toc": {
   "base_numbering": 1,
   "nav_menu": {},
   "number_sections": true,
   "sideBar": true,
   "skip_h1_title": true,
   "title_cell": "Содержание",
   "title_sidebar": "Contents",
   "toc_cell": false,
   "toc_position": {
    "height": "calc(100% - 180px)",
    "left": "10px",
    "top": "150px",
    "width": "365px"
   },
   "toc_section_display": true,
   "toc_window_display": true
  }
 },
 "nbformat": 4,
 "nbformat_minor": 4
}
